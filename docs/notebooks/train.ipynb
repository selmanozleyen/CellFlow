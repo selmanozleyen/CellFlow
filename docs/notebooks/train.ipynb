{
 "cells": [
  {
   "cell_type": "code",
   "execution_count": 3,
   "metadata": {},
   "outputs": [],
   "source": [
    "%load_ext autoreload\n",
    "%autoreload 2\n",
    "\n",
    "\n",
    "import numpy as np\n",
    "import pandas as pd\n",
    "import anndata as ad\n",
    "import numpy as np\n",
    "import pandas as pd\n",
    "import jax.numpy as jnp\n",
    "import jax\n",
    "jax.config.update(\"jax_default_device\", jax.devices()[0])"
   ]
  },
  {
   "cell_type": "code",
   "execution_count": 4,
   "metadata": {},
   "outputs": [],
   "source": [
    "def create_synthetic_data(\n",
    "    n_genes=50,\n",
    "    n_control_cells=40,\n",
    "    n_drugs=6,\n",
    "    dosages_per_drug=3,\n",
    "    cells_per_condition=50,\n",
    "    n_cell_types=30,\n",
    "    cell_type_embed_dim=50,\n",
    "    drug_embed_dim=50,\n",
    "):\n",
    "    \"\"\"\n",
    "    Creates a synthetic AnnData object with multiple dosages per drug.\n",
    "\n",
    "    Parameters\n",
    "    ----------\n",
    "    n_genes : int\n",
    "        Number of genes to simulate\n",
    "    n_control_cells : int\n",
    "        Number of control cells per cell type\n",
    "    n_drugs : int\n",
    "        Total number of distinct drugs\n",
    "    dosages_per_drug : int\n",
    "        Number of different dosages for each drug\n",
    "    cells_per_condition : int\n",
    "        Number of cells per drug-dosage condition\n",
    "    n_cell_types : int\n",
    "        Number of cell types\n",
    "    cell_type_embed_dim : int\n",
    "        Embedding dimension for cell types\n",
    "    drug_embed_dim : int\n",
    "        Embedding dimension for drugs\n",
    "\n",
    "    Returns\n",
    "    -------\n",
    "    dict\n",
    "        Dictionary containing all DataManager parameters\n",
    "    \"\"\"\n",
    "\n",
    "    # Create cell type names\n",
    "    n_batches = n_cell_types\n",
    "    cell_type_names = [f\"cell_line_{chr(97 + i)}\" for i in range(n_cell_types)]\n",
    "    batch_names = [f\"batch_{i+1}\" for i in range(n_batches)]  # New: create batch names\n",
    "\n",
    "    # Calculate total cells\n",
    "    total_conditions = n_drugs * dosages_per_drug  # Total conditions excluding control\n",
    "    total_cells_per_type = n_control_cells + (total_conditions * cells_per_condition)\n",
    "    n_cells = n_cell_types * total_cells_per_type\n",
    "\n",
    "    # Initialize lists for observation data\n",
    "    cell_type_list = []\n",
    "    control_list = []\n",
    "    drug_list = []\n",
    "    dosage_list = []\n",
    "    batch_list = []\n",
    "\n",
    "    # Generate data for each cell type\n",
    "    # shuffle batch_names\n",
    "    batch_names = np.random.permutation(batch_names)\n",
    "\n",
    "    for i,cell_type in enumerate(cell_type_names):\n",
    "        # Add control cells for this cell type\n",
    "        cell_type_list.extend([cell_type] * total_cells_per_type)\n",
    "        # Controls\n",
    "        control_list.extend([True] * n_control_cells)\n",
    "        drug_list.extend([\"control\"] * n_control_cells)\n",
    "        dosage_list.extend([0.0] * n_control_cells)\n",
    "        # batch_assignments = np.random.choice(batch_names[i], size=total_cells_per_type)\n",
    "        batch_list.extend([batch_names[i]] * total_cells_per_type)\n",
    "        # ensure that at lease one type is present \n",
    "\n",
    "\n",
    "        # Add perturbed cells for each drug-dosage combination\n",
    "        control_list.extend([False] * (total_conditions * cells_per_condition))\n",
    "\n",
    "        # Add drug-dosage combinations\n",
    "        for drug_idx in range(1, n_drugs + 1):\n",
    "            for dosage_idx in range(1, dosages_per_drug + 1):\n",
    "                # Calculate dosage value (e.g., 0.1, 0.5, 1.0)\n",
    "                dosage_value = dosage_idx / dosages_per_drug  # Normalize to [0,1] range\n",
    "\n",
    "                # Add this drug-dosage combination\n",
    "                drug_list.extend([f\"drug{drug_idx}\"] * cells_per_condition)\n",
    "                dosage_list.extend([dosage_value] * cells_per_condition)\n",
    "\n",
    "    # Generate random expression data\n",
    "    X = np.random.normal(size=(n_cells, n_genes))\n",
    "\n",
    "    # Create observation DataFrame\n",
    "    obs = pd.DataFrame(\n",
    "        {\n",
    "            \"control\": control_list,\n",
    "            \"cell_type\": pd.Categorical(cell_type_list),\n",
    "            \"drug\": pd.Categorical(drug_list),\n",
    "            \"dosage\": dosage_list,\n",
    "            # \"batch\": pd.Categorical(batch_list),\n",
    "        }\n",
    "    )\n",
    "\n",
    "\n",
    "\n",
    "    # Create AnnData object\n",
    "    adata = ad.AnnData(X, obs=obs)\n",
    "\n",
    "    # Add representations to uns (for covariate embeddings)\n",
    "    adata.uns[\"drug\"] = {\n",
    "        \"control\": np.zeros(drug_embed_dim),\n",
    "    }\n",
    "\n",
    "    # Add drug embeddings\n",
    "    for i in range(1, n_drugs + 1):\n",
    "        adata.uns[\"drug\"][f\"drug{i}\"] = np.random.normal(size=(drug_embed_dim,))\n",
    "\n",
    "    # Add cell type embeddings\n",
    "    adata.uns[\"cell_type\"] = {}\n",
    "    # adata.uns[\"batch\"] = {}\n",
    "    for cell_type in cell_type_names:\n",
    "        adata.uns[\"cell_type\"][cell_type] = np.random.normal(\n",
    "            size=(cell_type_embed_dim,)\n",
    "        )\n",
    "    # for batch in batch_names:\n",
    "    #     adata.uns[\"batch\"][batch] = np.random.normal(\n",
    "    #         size=(cell_type_embed_dim,)\n",
    "    #     )\n",
    "\n",
    "    # Define parameters for DataManager\n",
    "    sample_rep = \"X\"\n",
    "    control_key = \"control\"\n",
    "    split_covariates = [\"cell_type\",]\n",
    "\n",
    "    # Here we use a simpler structure with just one drug and dosage column\n",
    "    perturbation_covariates = {\"drug\": [\"drug\"], \"dosage\": [\"dosage\"]}\n",
    "    perturbation_covariate_reps = {\"drug\": \"drug\"}\n",
    "    sample_covariates = [\"cell_type\", ]\n",
    "    sample_covariate_reps = {\"cell_type\": \"cell_type\", }\n",
    "\n",
    "\n",
    "\n",
    "    # Return a dictionary with all required parameters\n",
    "    return {\n",
    "        \"adata\": adata,\n",
    "        \"sample_rep\": sample_rep,\n",
    "        \"control_key\": control_key,\n",
    "        \"split_covariates\": split_covariates,\n",
    "        \"perturbation_covariates\": perturbation_covariates,\n",
    "        \"perturbation_covariate_reps\": perturbation_covariate_reps,\n",
    "        \"sample_covariates\": sample_covariates,\n",
    "        \"sample_covariate_reps\": sample_covariate_reps,\n",
    "    }\n"
   ]
  },
  {
   "cell_type": "code",
   "execution_count": 5,
   "metadata": {},
   "outputs": [
    {
     "name": "stderr",
     "output_type": "stream",
     "text": [
      "/Users/selman/miniforge3/envs/cellflow/lib/python3.11/site-packages/anndata/_core/aligned_df.py:68: ImplicitModificationWarning: Transforming to str index.\n",
      "  warnings.warn(\"Transforming to str index.\", ImplicitModificationWarning)\n"
     ]
    }
   ],
   "source": [
    "# Now you can initialize the DataManager\n",
    "from cellflow.data._datamanager import DataManager\n",
    "\n",
    "dm_args = create_synthetic_data()\n",
    "\n",
    "dm = DataManager(\n",
    "    **dm_args    \n",
    ")"
   ]
  },
  {
   "cell_type": "code",
   "execution_count": 6,
   "metadata": {},
   "outputs": [],
   "source": [
    "from cellflow.model._cellflow import CellFlow\n",
    "\n",
    "cf = CellFlow(adata=dm_args[\"adata\"],) "
   ]
  },
  {
   "cell_type": "code",
   "execution_count": 7,
   "metadata": {},
   "outputs": [],
   "source": [
    "import functools\n",
    "\n",
    "import cellflow\n",
    "import scanpy as sc\n",
    "import numpy as np\n",
    "import functools\n",
    "from ott.solvers import utils as solver_utils\n",
    "import optax\n",
    "import anndata as ad"
   ]
  },
  {
   "cell_type": "code",
   "execution_count": 8,
   "metadata": {},
   "outputs": [
    {
     "data": {
      "text/plain": [
       "{'adata': AnnData object with n_obs × n_vars = 28200 × 50\n",
       "     obs: 'control', 'cell_type', 'drug', 'dosage'\n",
       "     uns: 'drug', 'cell_type',\n",
       " 'sample_rep': 'X',\n",
       " 'control_key': 'control',\n",
       " 'split_covariates': ['cell_type'],\n",
       " 'perturbation_covariates': {'drug': ['drug'], 'dosage': ['dosage']},\n",
       " 'perturbation_covariate_reps': {'drug': 'drug'},\n",
       " 'sample_covariates': ['cell_type'],\n",
       " 'sample_covariate_reps': {'cell_type': 'cell_type'}}"
      ]
     },
     "execution_count": 8,
     "metadata": {},
     "output_type": "execute_result"
    }
   ],
   "source": [
    "dm_args"
   ]
  },
  {
   "cell_type": "code",
   "execution_count": 9,
   "metadata": {},
   "outputs": [],
   "source": [
    "perturbation_covariates = dm_args[\"perturbation_covariates\"]\n",
    "perturbation_covariate_reps = dm_args[\"perturbation_covariate_reps\"]\n",
    "sample_covariates = dm_args[\"sample_covariates\"]\n",
    "sample_covariate_reps = dm_args[\"sample_covariate_reps\"]\n"
   ]
  },
  {
   "cell_type": "code",
   "execution_count": 10,
   "metadata": {},
   "outputs": [],
   "source": [
    "adata = dm_args[\"adata\"]"
   ]
  },
  {
   "cell_type": "code",
   "execution_count": 11,
   "metadata": {},
   "outputs": [
    {
     "name": "stdout",
     "output_type": "stream",
     "text": [
      "[########################################] | 100% Completed | 105.83 ms\n",
      "[########################################] | 100% Completed | 105.76 ms\n",
      "[########################################] | 100% Completed | 313.10 ms\n",
      "Finished preparing data\n"
     ]
    }
   ],
   "source": [
    "cf.prepare_data(\n",
    "    sample_rep=\"X\",\n",
    "    control_key=\"control\",\n",
    "    perturbation_covariates=perturbation_covariates,\n",
    "    perturbation_covariate_reps=perturbation_covariate_reps,\n",
    "    sample_covariates=sample_covariates,\n",
    "    sample_covariate_reps=sample_covariate_reps,\n",
    "    split_covariates=dm_args[\"split_covariates\"],\n",
    ")\n",
    "print(\"Finished preparing data\")"
   ]
  },
  {
   "cell_type": "code",
   "execution_count": 12,
   "metadata": {},
   "outputs": [],
   "source": [
    "# condition_embedding_dim: 256\n",
    "# time_encoder_dims: [2048, 2048, 2048]\n",
    "# time_encoder_dropout: 0.0\n",
    "# hidden_dims: [2048, 2048, 2048]\n",
    "# hidden_dropout: 0.0\n",
    "# decoder_dims: [4096, 4096, 4096]\n",
    "# decoder_dropout: 0.2\n",
    "# pooling: \"mean\"\n",
    "# layers_before_pool: \n",
    "#   drugs:\n",
    "#     layer_type: mlp\n",
    "#     dims: [1024, 1024]\n",
    "#     dropout_rate: 0.5\n",
    "#   dose:\n",
    "#     layer_type: mlp\n",
    "#     dims: [256, 256]\n",
    "#     dropout_rate: 0.0\n",
    "#   cell_line:\n",
    "#     layer_type: mlp\n",
    "#     dims: [1024, 1024]\n",
    "#     dropout_rate: 0.2\n",
    "# layers_after_pool:\n",
    "#   layer_type: mlp\n",
    "#   dims: [1024, 1024]\n",
    "#   dropout_rate: 0.2\n",
    "# cond_output_dropout: 0.9\n",
    "# time_freqs: 1024\n",
    "# flow_noise: 1.0\n",
    "# learning_rate: 0.00005\n",
    "# multi_steps: 20\n",
    "# epsilon: 1.0\n",
    "# tau_a: 1.0\n",
    "# tau_b: 1.0\n",
    "# flow_type: \"constant_noise\"\n",
    "# linear_projection_before_concatenation: False\n",
    "# layer_norm_before_concatenation: False"
   ]
  },
  {
   "cell_type": "code",
   "execution_count": 13,
   "metadata": {},
   "outputs": [
    {
     "name": "stdout",
     "output_type": "stream",
     "text": [
      "Preparing model...\n",
      "Begin training\n"
     ]
    }
   ],
   "source": [
    "\n",
    "\n",
    "\n",
    "match_fn = functools.partial(\n",
    "    solver_utils.match_linear,\n",
    "    epsilon=1.0,\n",
    "    scale_cost=\"mean\",\n",
    "    tau_a=1.0,\n",
    "    tau_b=1.0,\n",
    ")\n",
    "optimizer = optax.MultiSteps(optax.adam(0.00005), 20)\n",
    "flow = {\n",
    "        \"constant_noise\": 1.0}\n",
    "layers_before_pool = {\n",
    "    \"drug\": {\n",
    "        \"layer_type\": \"mlp\",\n",
    "        \"dims\": [1024, 1024],\n",
    "        \"dropout_rate\": 0.5,\n",
    "    },\n",
    "    \"dosage\": {\n",
    "        \"layer_type\": \"mlp\",\n",
    "        \"dims\": [256, 256],\n",
    "        \"dropout_rate\": 0.0,\n",
    "    },\n",
    "    \"cell_type\": {\n",
    "        \"layer_type\": \"mlp\",\n",
    "        \"dims\": [1024, 1024],\n",
    "        \"dropout_rate\": 0.2,\n",
    "    },\n",
    "}\n",
    "layers_after_pool = {\n",
    "    \"layer_type\": \"mlp\",\n",
    "    \"dims\": [1024, 1024],\n",
    "    \"dropout_rate\": 0.2,\n",
    "}\n",
    "condition_embedding_dim = 256\n",
    "pooling = \"mean\"\n",
    "time_encoder_dims = [2048, 2048, 2048]\n",
    "time_encoder_dropout = 0.0\n",
    "hidden_dims = [2048, 2048, 2048]\n",
    "hidden_dropout = 0.0\n",
    "decoder_dims = [4096, 4096, 4096]\n",
    "decoder_dropout = 0.2\n",
    "cond_output_dropout = 0.9\n",
    "time_freqs = 1024\n",
    "layer_norm_before_concatenation = False\n",
    "linear_projection_before_concatenation = False\n",
    "# Prepare the model\n",
    "print(\"Preparing model...\")\n",
    "cf.prepare_model(\n",
    "    encode_conditions=True,\n",
    "    condition_embedding_dim=condition_embedding_dim,\n",
    "    pooling=pooling,\n",
    "    time_encoder_dims=time_encoder_dims,\n",
    "    time_encoder_dropout=time_encoder_dropout,\n",
    "    hidden_dims=hidden_dims,\n",
    "    hidden_dropout=hidden_dropout,\n",
    "    decoder_dims=decoder_dims,\n",
    "    decoder_dropout=decoder_dropout,\n",
    "    layers_before_pool=layers_before_pool,\n",
    "    layers_after_pool=layers_after_pool,\n",
    "    cond_output_dropout=cond_output_dropout,\n",
    "    time_freqs=time_freqs,\n",
    "    match_fn=match_fn,\n",
    "    optimizer=optimizer,\n",
    "    flow=flow,\n",
    "    layer_norm_before_concatenation=False,\n",
    "    linear_projection_before_concatenation=False,\n",
    ")\n",
    "print(\"Begin training\")\n"
   ]
  },
  {
   "cell_type": "code",
   "execution_count": 14,
   "metadata": {},
   "outputs": [
    {
     "name": "stdout",
     "output_type": "stream",
     "text": [
      "[########################################] | 100% Completed | 105.86 ms\n",
      "[########################################] | 100% Completed | 310.02 ms\n",
      "[########################################] | 100% Completed | 105.81 ms\n",
      "[########################################] | 100% Completed | 310.15 ms\n"
     ]
    }
   ],
   "source": [
    "\n",
    "cf.prepare_validation_data(\n",
    "    adata,\n",
    "    name=\"train\",\n",
    "    n_conditions_on_log_iteration=10,\n",
    "    n_conditions_on_train_end=10,\n",
    ")\n",
    "\n",
    "cf.prepare_validation_data(\n",
    "    adata,\n",
    "    name=\"test\",\n",
    "    n_conditions_on_log_iteration=None,\n",
    "    n_conditions_on_train_end=None,\n",
    ")"
   ]
  },
  {
   "cell_type": "code",
   "execution_count": 15,
   "metadata": {},
   "outputs": [],
   "source": [
    "import cellflow"
   ]
  },
  {
   "cell_type": "code",
   "execution_count": 16,
   "metadata": {},
   "outputs": [],
   "source": [
    "metrics_callback = cellflow.training.Metrics(metrics=[\"r_squared\", \"mmd\", \"e_distance\"])\n",
    "\n",
    "# we don't pass the wandb_callback as it requires a user-specific account, but recommend setting it up\n",
    "callbacks = [metrics_callback]"
   ]
  },
  {
   "cell_type": "code",
   "execution_count": 17,
   "metadata": {},
   "outputs": [
    {
     "data": {
      "text/plain": [
       "{CpuDevice(id=0)}"
      ]
     },
     "execution_count": 17,
     "metadata": {},
     "output_type": "execute_result"
    }
   ],
   "source": [
    "cf.solver.vf_state.params['condition_encoder']['after_pool_modules_mean_0']['kernel'].devices()"
   ]
  },
  {
   "cell_type": "code",
   "execution_count": 18,
   "metadata": {},
   "outputs": [
    {
     "data": {
      "text/plain": [
       "{0: array([ 0,  1,  2,  3,  4,  5,  6,  7,  8,  9, 10, 11, 12, 13, 14, 15, 16,\n",
       "        17], dtype=int32),\n",
       " 1: array([18, 19, 20, 21, 22, 23, 24, 25, 26, 27, 28, 29, 30, 31, 32, 33, 34,\n",
       "        35], dtype=int32),\n",
       " 2: array([36, 37, 38, 39, 40, 41, 42, 43, 44, 45, 46, 47, 48, 49, 50, 51, 52,\n",
       "        53], dtype=int32),\n",
       " 3: array([54, 55, 56, 57, 58, 59, 60, 61, 62, 63, 64, 65, 66, 67, 68, 69, 70,\n",
       "        71], dtype=int32),\n",
       " 4: array([72, 73, 74, 75, 76, 77, 78, 79, 80, 81, 82, 83, 84, 85, 86, 87, 88,\n",
       "        89], dtype=int32),\n",
       " 5: array([ 90,  91,  92,  93,  94,  95,  96,  97,  98,  99, 100, 101, 102,\n",
       "        103, 104, 105, 106, 107], dtype=int32),\n",
       " 6: array([108, 109, 110, 111, 112, 113, 114, 115, 116, 117, 118, 119, 120,\n",
       "        121, 122, 123, 124, 125], dtype=int32),\n",
       " 7: array([126, 127, 128, 129, 130, 131, 132, 133, 134, 135, 136, 137, 138,\n",
       "        139, 140, 141, 142, 143], dtype=int32),\n",
       " 8: array([144, 145, 146, 147, 148, 149, 150, 151, 152, 153, 154, 155, 156,\n",
       "        157, 158, 159, 160, 161], dtype=int32),\n",
       " 9: array([162, 163, 164, 165, 166, 167, 168, 169, 170, 171, 172, 173, 174,\n",
       "        175, 176, 177, 178, 179], dtype=int32),\n",
       " 10: array([180, 181, 182, 183, 184, 185, 186, 187, 188, 189, 190, 191, 192,\n",
       "        193, 194, 195, 196, 197], dtype=int32),\n",
       " 11: array([198, 199, 200, 201, 202, 203, 204, 205, 206, 207, 208, 209, 210,\n",
       "        211, 212, 213, 214, 215], dtype=int32),\n",
       " 12: array([216, 217, 218, 219, 220, 221, 222, 223, 224, 225, 226, 227, 228,\n",
       "        229, 230, 231, 232, 233], dtype=int32),\n",
       " 13: array([234, 235, 236, 237, 238, 239, 240, 241, 242, 243, 244, 245, 246,\n",
       "        247, 248, 249, 250, 251], dtype=int32),\n",
       " 14: array([252, 253, 254, 255, 256, 257, 258, 259, 260, 261, 262, 263, 264,\n",
       "        265, 266, 267, 268, 269], dtype=int32),\n",
       " 15: array([270, 271, 272, 273, 274, 275, 276, 277, 278, 279, 280, 281, 282,\n",
       "        283, 284, 285, 286, 287], dtype=int32),\n",
       " 16: array([288, 289, 290, 291, 292, 293, 294, 295, 296, 297, 298, 299, 300,\n",
       "        301, 302, 303, 304, 305], dtype=int32),\n",
       " 17: array([306, 307, 308, 309, 310, 311, 312, 313, 314, 315, 316, 317, 318,\n",
       "        319, 320, 321, 322, 323], dtype=int32),\n",
       " 18: array([324, 325, 326, 327, 328, 329, 330, 331, 332, 333, 334, 335, 336,\n",
       "        337, 338, 339, 340, 341], dtype=int32),\n",
       " 19: array([342, 343, 344, 345, 346, 347, 348, 349, 350, 351, 352, 353, 354,\n",
       "        355, 356, 357, 358, 359], dtype=int32),\n",
       " 20: array([360, 361, 362, 363, 364, 365, 366, 367, 368, 369, 370, 371, 372,\n",
       "        373, 374, 375, 376, 377], dtype=int32),\n",
       " 21: array([378, 379, 380, 381, 382, 383, 384, 385, 386, 387, 388, 389, 390,\n",
       "        391, 392, 393, 394, 395], dtype=int32),\n",
       " 22: array([396, 397, 398, 399, 400, 401, 402, 403, 404, 405, 406, 407, 408,\n",
       "        409, 410, 411, 412, 413], dtype=int32),\n",
       " 23: array([414, 415, 416, 417, 418, 419, 420, 421, 422, 423, 424, 425, 426,\n",
       "        427, 428, 429, 430, 431], dtype=int32),\n",
       " 24: array([432, 433, 434, 435, 436, 437, 438, 439, 440, 441, 442, 443, 444,\n",
       "        445, 446, 447, 448, 449], dtype=int32),\n",
       " 25: array([450, 451, 452, 453, 454, 455, 456, 457, 458, 459, 460, 461, 462,\n",
       "        463, 464, 465, 466, 467], dtype=int32),\n",
       " 26: array([468, 469, 470, 471, 472, 473, 474, 475, 476, 477, 478, 479, 480,\n",
       "        481, 482, 483, 484, 485], dtype=int32),\n",
       " 27: array([486, 487, 488, 489, 490, 491, 492, 493, 494, 495, 496, 497, 498,\n",
       "        499, 500, 501, 502, 503], dtype=int32),\n",
       " 28: array([504, 505, 506, 507, 508, 509, 510, 511, 512, 513, 514, 515, 516,\n",
       "        517, 518, 519, 520, 521], dtype=int32),\n",
       " 29: array([522, 523, 524, 525, 526, 527, 528, 529, 530, 531, 532, 533, 534,\n",
       "        535, 536, 537, 538, 539], dtype=int32)}"
      ]
     },
     "execution_count": 18,
     "metadata": {},
     "output_type": "execute_result"
    }
   ],
   "source": [
    "cf.train_data.control_to_perturbation"
   ]
  },
  {
   "cell_type": "code",
   "execution_count": 19,
   "metadata": {},
   "outputs": [
    {
     "data": {
      "text/plain": [
       "{0: (np.str_('cell_line_a'),),\n",
       " 1: (np.str_('cell_line_b'),),\n",
       " 2: (np.str_('cell_line_c'),),\n",
       " 3: (np.str_('cell_line_d'),),\n",
       " 4: (np.str_('cell_line_e'),),\n",
       " 5: (np.str_('cell_line_f'),),\n",
       " 6: (np.str_('cell_line_g'),),\n",
       " 7: (np.str_('cell_line_h'),),\n",
       " 8: (np.str_('cell_line_i'),),\n",
       " 9: (np.str_('cell_line_j'),),\n",
       " 10: (np.str_('cell_line_k'),),\n",
       " 11: (np.str_('cell_line_l'),),\n",
       " 12: (np.str_('cell_line_m'),),\n",
       " 13: (np.str_('cell_line_n'),),\n",
       " 14: (np.str_('cell_line_o'),),\n",
       " 15: (np.str_('cell_line_p'),),\n",
       " 16: (np.str_('cell_line_q'),),\n",
       " 17: (np.str_('cell_line_r'),),\n",
       " 18: (np.str_('cell_line_s'),),\n",
       " 19: (np.str_('cell_line_t'),),\n",
       " 20: (np.str_('cell_line_u'),),\n",
       " 21: (np.str_('cell_line_v'),),\n",
       " 22: (np.str_('cell_line_w'),),\n",
       " 23: (np.str_('cell_line_x'),),\n",
       " 24: (np.str_('cell_line_y'),),\n",
       " 25: (np.str_('cell_line_z'),),\n",
       " 26: (np.str_('cell_line_{'),),\n",
       " 27: (np.str_('cell_line_|'),),\n",
       " 28: (np.str_('cell_line_}'),),\n",
       " 29: (np.str_('cell_line_~'),)}"
      ]
     },
     "execution_count": 19,
     "metadata": {},
     "output_type": "execute_result"
    }
   ],
   "source": [
    "cf.train_data.split_idx_to_covariates"
   ]
  },
  {
   "cell_type": "code",
   "execution_count": 20,
   "metadata": {},
   "outputs": [],
   "source": [
    "from cellflow.data._dataloader import CpuTrainSampler\n",
    "dataloader = CpuTrainSampler(data=cf.train_data, batch_size=100)"
   ]
  },
  {
   "cell_type": "code",
   "execution_count": 21,
   "metadata": {},
   "outputs": [],
   "source": [
    "import queue\n",
    "import threading\n",
    "import time  # Add this import at the top of the file\n",
    "from collections.abc import Sequence\n",
    "from typing import Any, Literal\n",
    "import jax.numpy as jnp\n",
    "import jax\n",
    "import numpy as np\n",
    "from numpy.typing import ArrayLike\n",
    "from tqdm import tqdm\n",
    "\n",
    "from cellflow.data._dataloader import CpuTrainSampler, ValidationSampler\n",
    "from cellflow.solvers import _genot, _otfm\n",
    "from cellflow.training._callbacks import BaseCallback, CallbackRunner\n",
    "\n",
    "\n",
    "def prefetch_to_device(sampler, num_iterations, prefetch_factor=2, num_workers=4):\n",
    "    seed = 42  # Set a fixed seed for reproducibility\n",
    "    seq = np.random.SeedSequence(seed)\n",
    "    random_generators = [np.random.default_rng(s) for s in seq.spawn(num_workers)]\n",
    "\n",
    "    q = queue.Queue(maxsize=prefetch_factor*num_workers)\n",
    "    sem = threading.Semaphore(num_iterations)\n",
    "    stop_event = threading.Event()\n",
    "    def worker(rng):\n",
    "        while not stop_event.is_set() and sem.acquire(blocking=False):\n",
    "            batch = sampler.sample(rng)\n",
    "            batch = jax.device_put(batch, jax.devices()[0], donate=True)\n",
    "            jax.block_until_ready(batch)\n",
    "            while not stop_event.is_set():\n",
    "                try:\n",
    "                    q.put(batch, timeout=1.0)\n",
    "                    break  # Batch successfully put into the queue; break out of retry loop\n",
    "                except queue.Full:\n",
    "                    continue\n",
    "\n",
    "        return\n",
    "\n",
    "    # Start multiple worker threads\n",
    "    ts = []\n",
    "    for i in range(num_workers):\n",
    "        t = threading.Thread(target=worker, daemon=True, name=f\"worker-{i}\", args=(random_generators[i], ))\n",
    "        t.start()\n",
    "        ts.append(t)\n",
    "\n",
    "    try:\n",
    "        for _ in range(num_iterations):\n",
    "            # Yield batches from the queue; will block waiting for available batch\n",
    "            yield q.get()\n",
    "    finally:\n",
    "        # When the generator is closed or garbage collected, clean up the worker threads\n",
    "        stop_event.set()  # Signal all workers to exit\n",
    "        for t in ts:\n",
    "            t.join()  # Wait for all worker threads to finish\n",
    "\n",
    "\n"
   ]
  },
  {
   "cell_type": "code",
   "execution_count": 22,
   "metadata": {},
   "outputs": [
    {
     "data": {
      "text/plain": [
       "{'drug': array([[[ 0.92979765, -0.80951226,  1.6539406 , ...,  1.7871232 ,\n",
       "          -0.8401395 , -1.0057048 ]],\n",
       " \n",
       "        [[ 0.92979765, -0.80951226,  1.6539406 , ...,  1.7871232 ,\n",
       "          -0.8401395 , -1.0057048 ]],\n",
       " \n",
       "        [[ 0.92979765, -0.80951226,  1.6539406 , ...,  1.7871232 ,\n",
       "          -0.8401395 , -1.0057048 ]],\n",
       " \n",
       "        ...,\n",
       " \n",
       "        [[-0.808961  , -0.11472495, -1.0744399 , ...,  1.3312039 ,\n",
       "           0.9897936 , -0.89862764]],\n",
       " \n",
       "        [[-0.808961  , -0.11472495, -1.0744399 , ...,  1.3312039 ,\n",
       "           0.9897936 , -0.89862764]],\n",
       " \n",
       "        [[-0.808961  , -0.11472495, -1.0744399 , ...,  1.3312039 ,\n",
       "           0.9897936 , -0.89862764]]], shape=(540, 1, 50), dtype=float32),\n",
       " 'dosage': array([[[0.33333334]],\n",
       " \n",
       "        [[0.6666667 ]],\n",
       " \n",
       "        [[1.        ]],\n",
       " \n",
       "        [[0.33333334]],\n",
       " \n",
       "        [[0.6666667 ]],\n",
       " \n",
       "        [[1.        ]],\n",
       " \n",
       "        [[0.33333334]],\n",
       " \n",
       "        [[0.6666667 ]],\n",
       " \n",
       "        [[1.        ]],\n",
       " \n",
       "        [[0.33333334]],\n",
       " \n",
       "        [[0.6666667 ]],\n",
       " \n",
       "        [[1.        ]],\n",
       " \n",
       "        [[0.33333334]],\n",
       " \n",
       "        [[0.6666667 ]],\n",
       " \n",
       "        [[1.        ]],\n",
       " \n",
       "        [[0.33333334]],\n",
       " \n",
       "        [[0.6666667 ]],\n",
       " \n",
       "        [[1.        ]],\n",
       " \n",
       "        [[0.33333334]],\n",
       " \n",
       "        [[0.6666667 ]],\n",
       " \n",
       "        [[1.        ]],\n",
       " \n",
       "        [[0.33333334]],\n",
       " \n",
       "        [[0.6666667 ]],\n",
       " \n",
       "        [[1.        ]],\n",
       " \n",
       "        [[0.33333334]],\n",
       " \n",
       "        [[0.6666667 ]],\n",
       " \n",
       "        [[1.        ]],\n",
       " \n",
       "        [[0.33333334]],\n",
       " \n",
       "        [[0.6666667 ]],\n",
       " \n",
       "        [[1.        ]],\n",
       " \n",
       "        [[0.33333334]],\n",
       " \n",
       "        [[0.6666667 ]],\n",
       " \n",
       "        [[1.        ]],\n",
       " \n",
       "        [[0.33333334]],\n",
       " \n",
       "        [[0.6666667 ]],\n",
       " \n",
       "        [[1.        ]],\n",
       " \n",
       "        [[0.33333334]],\n",
       " \n",
       "        [[0.6666667 ]],\n",
       " \n",
       "        [[1.        ]],\n",
       " \n",
       "        [[0.33333334]],\n",
       " \n",
       "        [[0.6666667 ]],\n",
       " \n",
       "        [[1.        ]],\n",
       " \n",
       "        [[0.33333334]],\n",
       " \n",
       "        [[0.6666667 ]],\n",
       " \n",
       "        [[1.        ]],\n",
       " \n",
       "        [[0.33333334]],\n",
       " \n",
       "        [[0.6666667 ]],\n",
       " \n",
       "        [[1.        ]],\n",
       " \n",
       "        [[0.33333334]],\n",
       " \n",
       "        [[0.6666667 ]],\n",
       " \n",
       "        [[1.        ]],\n",
       " \n",
       "        [[0.33333334]],\n",
       " \n",
       "        [[0.6666667 ]],\n",
       " \n",
       "        [[1.        ]],\n",
       " \n",
       "        [[0.33333334]],\n",
       " \n",
       "        [[0.6666667 ]],\n",
       " \n",
       "        [[1.        ]],\n",
       " \n",
       "        [[0.33333334]],\n",
       " \n",
       "        [[0.6666667 ]],\n",
       " \n",
       "        [[1.        ]],\n",
       " \n",
       "        [[0.33333334]],\n",
       " \n",
       "        [[0.6666667 ]],\n",
       " \n",
       "        [[1.        ]],\n",
       " \n",
       "        [[0.33333334]],\n",
       " \n",
       "        [[0.6666667 ]],\n",
       " \n",
       "        [[1.        ]],\n",
       " \n",
       "        [[0.33333334]],\n",
       " \n",
       "        [[0.6666667 ]],\n",
       " \n",
       "        [[1.        ]],\n",
       " \n",
       "        [[0.33333334]],\n",
       " \n",
       "        [[0.6666667 ]],\n",
       " \n",
       "        [[1.        ]],\n",
       " \n",
       "        [[0.33333334]],\n",
       " \n",
       "        [[0.6666667 ]],\n",
       " \n",
       "        [[1.        ]],\n",
       " \n",
       "        [[0.33333334]],\n",
       " \n",
       "        [[0.6666667 ]],\n",
       " \n",
       "        [[1.        ]],\n",
       " \n",
       "        [[0.33333334]],\n",
       " \n",
       "        [[0.6666667 ]],\n",
       " \n",
       "        [[1.        ]],\n",
       " \n",
       "        [[0.33333334]],\n",
       " \n",
       "        [[0.6666667 ]],\n",
       " \n",
       "        [[1.        ]],\n",
       " \n",
       "        [[0.33333334]],\n",
       " \n",
       "        [[0.6666667 ]],\n",
       " \n",
       "        [[1.        ]],\n",
       " \n",
       "        [[0.33333334]],\n",
       " \n",
       "        [[0.6666667 ]],\n",
       " \n",
       "        [[1.        ]],\n",
       " \n",
       "        [[0.33333334]],\n",
       " \n",
       "        [[0.6666667 ]],\n",
       " \n",
       "        [[1.        ]],\n",
       " \n",
       "        [[0.33333334]],\n",
       " \n",
       "        [[0.6666667 ]],\n",
       " \n",
       "        [[1.        ]],\n",
       " \n",
       "        [[0.33333334]],\n",
       " \n",
       "        [[0.6666667 ]],\n",
       " \n",
       "        [[1.        ]],\n",
       " \n",
       "        [[0.33333334]],\n",
       " \n",
       "        [[0.6666667 ]],\n",
       " \n",
       "        [[1.        ]],\n",
       " \n",
       "        [[0.33333334]],\n",
       " \n",
       "        [[0.6666667 ]],\n",
       " \n",
       "        [[1.        ]],\n",
       " \n",
       "        [[0.33333334]],\n",
       " \n",
       "        [[0.6666667 ]],\n",
       " \n",
       "        [[1.        ]],\n",
       " \n",
       "        [[0.33333334]],\n",
       " \n",
       "        [[0.6666667 ]],\n",
       " \n",
       "        [[1.        ]],\n",
       " \n",
       "        [[0.33333334]],\n",
       " \n",
       "        [[0.6666667 ]],\n",
       " \n",
       "        [[1.        ]],\n",
       " \n",
       "        [[0.33333334]],\n",
       " \n",
       "        [[0.6666667 ]],\n",
       " \n",
       "        [[1.        ]],\n",
       " \n",
       "        [[0.33333334]],\n",
       " \n",
       "        [[0.6666667 ]],\n",
       " \n",
       "        [[1.        ]],\n",
       " \n",
       "        [[0.33333334]],\n",
       " \n",
       "        [[0.6666667 ]],\n",
       " \n",
       "        [[1.        ]],\n",
       " \n",
       "        [[0.33333334]],\n",
       " \n",
       "        [[0.6666667 ]],\n",
       " \n",
       "        [[1.        ]],\n",
       " \n",
       "        [[0.33333334]],\n",
       " \n",
       "        [[0.6666667 ]],\n",
       " \n",
       "        [[1.        ]],\n",
       " \n",
       "        [[0.33333334]],\n",
       " \n",
       "        [[0.6666667 ]],\n",
       " \n",
       "        [[1.        ]],\n",
       " \n",
       "        [[0.33333334]],\n",
       " \n",
       "        [[0.6666667 ]],\n",
       " \n",
       "        [[1.        ]],\n",
       " \n",
       "        [[0.33333334]],\n",
       " \n",
       "        [[0.6666667 ]],\n",
       " \n",
       "        [[1.        ]],\n",
       " \n",
       "        [[0.33333334]],\n",
       " \n",
       "        [[0.6666667 ]],\n",
       " \n",
       "        [[1.        ]],\n",
       " \n",
       "        [[0.33333334]],\n",
       " \n",
       "        [[0.6666667 ]],\n",
       " \n",
       "        [[1.        ]],\n",
       " \n",
       "        [[0.33333334]],\n",
       " \n",
       "        [[0.6666667 ]],\n",
       " \n",
       "        [[1.        ]],\n",
       " \n",
       "        [[0.33333334]],\n",
       " \n",
       "        [[0.6666667 ]],\n",
       " \n",
       "        [[1.        ]],\n",
       " \n",
       "        [[0.33333334]],\n",
       " \n",
       "        [[0.6666667 ]],\n",
       " \n",
       "        [[1.        ]],\n",
       " \n",
       "        [[0.33333334]],\n",
       " \n",
       "        [[0.6666667 ]],\n",
       " \n",
       "        [[1.        ]],\n",
       " \n",
       "        [[0.33333334]],\n",
       " \n",
       "        [[0.6666667 ]],\n",
       " \n",
       "        [[1.        ]],\n",
       " \n",
       "        [[0.33333334]],\n",
       " \n",
       "        [[0.6666667 ]],\n",
       " \n",
       "        [[1.        ]],\n",
       " \n",
       "        [[0.33333334]],\n",
       " \n",
       "        [[0.6666667 ]],\n",
       " \n",
       "        [[1.        ]],\n",
       " \n",
       "        [[0.33333334]],\n",
       " \n",
       "        [[0.6666667 ]],\n",
       " \n",
       "        [[1.        ]],\n",
       " \n",
       "        [[0.33333334]],\n",
       " \n",
       "        [[0.6666667 ]],\n",
       " \n",
       "        [[1.        ]],\n",
       " \n",
       "        [[0.33333334]],\n",
       " \n",
       "        [[0.6666667 ]],\n",
       " \n",
       "        [[1.        ]],\n",
       " \n",
       "        [[0.33333334]],\n",
       " \n",
       "        [[0.6666667 ]],\n",
       " \n",
       "        [[1.        ]],\n",
       " \n",
       "        [[0.33333334]],\n",
       " \n",
       "        [[0.6666667 ]],\n",
       " \n",
       "        [[1.        ]],\n",
       " \n",
       "        [[0.33333334]],\n",
       " \n",
       "        [[0.6666667 ]],\n",
       " \n",
       "        [[1.        ]],\n",
       " \n",
       "        [[0.33333334]],\n",
       " \n",
       "        [[0.6666667 ]],\n",
       " \n",
       "        [[1.        ]],\n",
       " \n",
       "        [[0.33333334]],\n",
       " \n",
       "        [[0.6666667 ]],\n",
       " \n",
       "        [[1.        ]],\n",
       " \n",
       "        [[0.33333334]],\n",
       " \n",
       "        [[0.6666667 ]],\n",
       " \n",
       "        [[1.        ]],\n",
       " \n",
       "        [[0.33333334]],\n",
       " \n",
       "        [[0.6666667 ]],\n",
       " \n",
       "        [[1.        ]],\n",
       " \n",
       "        [[0.33333334]],\n",
       " \n",
       "        [[0.6666667 ]],\n",
       " \n",
       "        [[1.        ]],\n",
       " \n",
       "        [[0.33333334]],\n",
       " \n",
       "        [[0.6666667 ]],\n",
       " \n",
       "        [[1.        ]],\n",
       " \n",
       "        [[0.33333334]],\n",
       " \n",
       "        [[0.6666667 ]],\n",
       " \n",
       "        [[1.        ]],\n",
       " \n",
       "        [[0.33333334]],\n",
       " \n",
       "        [[0.6666667 ]],\n",
       " \n",
       "        [[1.        ]],\n",
       " \n",
       "        [[0.33333334]],\n",
       " \n",
       "        [[0.6666667 ]],\n",
       " \n",
       "        [[1.        ]],\n",
       " \n",
       "        [[0.33333334]],\n",
       " \n",
       "        [[0.6666667 ]],\n",
       " \n",
       "        [[1.        ]],\n",
       " \n",
       "        [[0.33333334]],\n",
       " \n",
       "        [[0.6666667 ]],\n",
       " \n",
       "        [[1.        ]],\n",
       " \n",
       "        [[0.33333334]],\n",
       " \n",
       "        [[0.6666667 ]],\n",
       " \n",
       "        [[1.        ]],\n",
       " \n",
       "        [[0.33333334]],\n",
       " \n",
       "        [[0.6666667 ]],\n",
       " \n",
       "        [[1.        ]],\n",
       " \n",
       "        [[0.33333334]],\n",
       " \n",
       "        [[0.6666667 ]],\n",
       " \n",
       "        [[1.        ]],\n",
       " \n",
       "        [[0.33333334]],\n",
       " \n",
       "        [[0.6666667 ]],\n",
       " \n",
       "        [[1.        ]],\n",
       " \n",
       "        [[0.33333334]],\n",
       " \n",
       "        [[0.6666667 ]],\n",
       " \n",
       "        [[1.        ]],\n",
       " \n",
       "        [[0.33333334]],\n",
       " \n",
       "        [[0.6666667 ]],\n",
       " \n",
       "        [[1.        ]],\n",
       " \n",
       "        [[0.33333334]],\n",
       " \n",
       "        [[0.6666667 ]],\n",
       " \n",
       "        [[1.        ]],\n",
       " \n",
       "        [[0.33333334]],\n",
       " \n",
       "        [[0.6666667 ]],\n",
       " \n",
       "        [[1.        ]],\n",
       " \n",
       "        [[0.33333334]],\n",
       " \n",
       "        [[0.6666667 ]],\n",
       " \n",
       "        [[1.        ]],\n",
       " \n",
       "        [[0.33333334]],\n",
       " \n",
       "        [[0.6666667 ]],\n",
       " \n",
       "        [[1.        ]],\n",
       " \n",
       "        [[0.33333334]],\n",
       " \n",
       "        [[0.6666667 ]],\n",
       " \n",
       "        [[1.        ]],\n",
       " \n",
       "        [[0.33333334]],\n",
       " \n",
       "        [[0.6666667 ]],\n",
       " \n",
       "        [[1.        ]],\n",
       " \n",
       "        [[0.33333334]],\n",
       " \n",
       "        [[0.6666667 ]],\n",
       " \n",
       "        [[1.        ]],\n",
       " \n",
       "        [[0.33333334]],\n",
       " \n",
       "        [[0.6666667 ]],\n",
       " \n",
       "        [[1.        ]],\n",
       " \n",
       "        [[0.33333334]],\n",
       " \n",
       "        [[0.6666667 ]],\n",
       " \n",
       "        [[1.        ]],\n",
       " \n",
       "        [[0.33333334]],\n",
       " \n",
       "        [[0.6666667 ]],\n",
       " \n",
       "        [[1.        ]],\n",
       " \n",
       "        [[0.33333334]],\n",
       " \n",
       "        [[0.6666667 ]],\n",
       " \n",
       "        [[1.        ]],\n",
       " \n",
       "        [[0.33333334]],\n",
       " \n",
       "        [[0.6666667 ]],\n",
       " \n",
       "        [[1.        ]],\n",
       " \n",
       "        [[0.33333334]],\n",
       " \n",
       "        [[0.6666667 ]],\n",
       " \n",
       "        [[1.        ]],\n",
       " \n",
       "        [[0.33333334]],\n",
       " \n",
       "        [[0.6666667 ]],\n",
       " \n",
       "        [[1.        ]],\n",
       " \n",
       "        [[0.33333334]],\n",
       " \n",
       "        [[0.6666667 ]],\n",
       " \n",
       "        [[1.        ]],\n",
       " \n",
       "        [[0.33333334]],\n",
       " \n",
       "        [[0.6666667 ]],\n",
       " \n",
       "        [[1.        ]],\n",
       " \n",
       "        [[0.33333334]],\n",
       " \n",
       "        [[0.6666667 ]],\n",
       " \n",
       "        [[1.        ]],\n",
       " \n",
       "        [[0.33333334]],\n",
       " \n",
       "        [[0.6666667 ]],\n",
       " \n",
       "        [[1.        ]],\n",
       " \n",
       "        [[0.33333334]],\n",
       " \n",
       "        [[0.6666667 ]],\n",
       " \n",
       "        [[1.        ]],\n",
       " \n",
       "        [[0.33333334]],\n",
       " \n",
       "        [[0.6666667 ]],\n",
       " \n",
       "        [[1.        ]],\n",
       " \n",
       "        [[0.33333334]],\n",
       " \n",
       "        [[0.6666667 ]],\n",
       " \n",
       "        [[1.        ]],\n",
       " \n",
       "        [[0.33333334]],\n",
       " \n",
       "        [[0.6666667 ]],\n",
       " \n",
       "        [[1.        ]],\n",
       " \n",
       "        [[0.33333334]],\n",
       " \n",
       "        [[0.6666667 ]],\n",
       " \n",
       "        [[1.        ]],\n",
       " \n",
       "        [[0.33333334]],\n",
       " \n",
       "        [[0.6666667 ]],\n",
       " \n",
       "        [[1.        ]],\n",
       " \n",
       "        [[0.33333334]],\n",
       " \n",
       "        [[0.6666667 ]],\n",
       " \n",
       "        [[1.        ]],\n",
       " \n",
       "        [[0.33333334]],\n",
       " \n",
       "        [[0.6666667 ]],\n",
       " \n",
       "        [[1.        ]],\n",
       " \n",
       "        [[0.33333334]],\n",
       " \n",
       "        [[0.6666667 ]],\n",
       " \n",
       "        [[1.        ]],\n",
       " \n",
       "        [[0.33333334]],\n",
       " \n",
       "        [[0.6666667 ]],\n",
       " \n",
       "        [[1.        ]],\n",
       " \n",
       "        [[0.33333334]],\n",
       " \n",
       "        [[0.6666667 ]],\n",
       " \n",
       "        [[1.        ]],\n",
       " \n",
       "        [[0.33333334]],\n",
       " \n",
       "        [[0.6666667 ]],\n",
       " \n",
       "        [[1.        ]],\n",
       " \n",
       "        [[0.33333334]],\n",
       " \n",
       "        [[0.6666667 ]],\n",
       " \n",
       "        [[1.        ]],\n",
       " \n",
       "        [[0.33333334]],\n",
       " \n",
       "        [[0.6666667 ]],\n",
       " \n",
       "        [[1.        ]],\n",
       " \n",
       "        [[0.33333334]],\n",
       " \n",
       "        [[0.6666667 ]],\n",
       " \n",
       "        [[1.        ]],\n",
       " \n",
       "        [[0.33333334]],\n",
       " \n",
       "        [[0.6666667 ]],\n",
       " \n",
       "        [[1.        ]],\n",
       " \n",
       "        [[0.33333334]],\n",
       " \n",
       "        [[0.6666667 ]],\n",
       " \n",
       "        [[1.        ]],\n",
       " \n",
       "        [[0.33333334]],\n",
       " \n",
       "        [[0.6666667 ]],\n",
       " \n",
       "        [[1.        ]],\n",
       " \n",
       "        [[0.33333334]],\n",
       " \n",
       "        [[0.6666667 ]],\n",
       " \n",
       "        [[1.        ]],\n",
       " \n",
       "        [[0.33333334]],\n",
       " \n",
       "        [[0.6666667 ]],\n",
       " \n",
       "        [[1.        ]],\n",
       " \n",
       "        [[0.33333334]],\n",
       " \n",
       "        [[0.6666667 ]],\n",
       " \n",
       "        [[1.        ]],\n",
       " \n",
       "        [[0.33333334]],\n",
       " \n",
       "        [[0.6666667 ]],\n",
       " \n",
       "        [[1.        ]],\n",
       " \n",
       "        [[0.33333334]],\n",
       " \n",
       "        [[0.6666667 ]],\n",
       " \n",
       "        [[1.        ]],\n",
       " \n",
       "        [[0.33333334]],\n",
       " \n",
       "        [[0.6666667 ]],\n",
       " \n",
       "        [[1.        ]],\n",
       " \n",
       "        [[0.33333334]],\n",
       " \n",
       "        [[0.6666667 ]],\n",
       " \n",
       "        [[1.        ]],\n",
       " \n",
       "        [[0.33333334]],\n",
       " \n",
       "        [[0.6666667 ]],\n",
       " \n",
       "        [[1.        ]],\n",
       " \n",
       "        [[0.33333334]],\n",
       " \n",
       "        [[0.6666667 ]],\n",
       " \n",
       "        [[1.        ]],\n",
       " \n",
       "        [[0.33333334]],\n",
       " \n",
       "        [[0.6666667 ]],\n",
       " \n",
       "        [[1.        ]],\n",
       " \n",
       "        [[0.33333334]],\n",
       " \n",
       "        [[0.6666667 ]],\n",
       " \n",
       "        [[1.        ]],\n",
       " \n",
       "        [[0.33333334]],\n",
       " \n",
       "        [[0.6666667 ]],\n",
       " \n",
       "        [[1.        ]],\n",
       " \n",
       "        [[0.33333334]],\n",
       " \n",
       "        [[0.6666667 ]],\n",
       " \n",
       "        [[1.        ]],\n",
       " \n",
       "        [[0.33333334]],\n",
       " \n",
       "        [[0.6666667 ]],\n",
       " \n",
       "        [[1.        ]],\n",
       " \n",
       "        [[0.33333334]],\n",
       " \n",
       "        [[0.6666667 ]],\n",
       " \n",
       "        [[1.        ]],\n",
       " \n",
       "        [[0.33333334]],\n",
       " \n",
       "        [[0.6666667 ]],\n",
       " \n",
       "        [[1.        ]],\n",
       " \n",
       "        [[0.33333334]],\n",
       " \n",
       "        [[0.6666667 ]],\n",
       " \n",
       "        [[1.        ]],\n",
       " \n",
       "        [[0.33333334]],\n",
       " \n",
       "        [[0.6666667 ]],\n",
       " \n",
       "        [[1.        ]],\n",
       " \n",
       "        [[0.33333334]],\n",
       " \n",
       "        [[0.6666667 ]],\n",
       " \n",
       "        [[1.        ]],\n",
       " \n",
       "        [[0.33333334]],\n",
       " \n",
       "        [[0.6666667 ]],\n",
       " \n",
       "        [[1.        ]],\n",
       " \n",
       "        [[0.33333334]],\n",
       " \n",
       "        [[0.6666667 ]],\n",
       " \n",
       "        [[1.        ]],\n",
       " \n",
       "        [[0.33333334]],\n",
       " \n",
       "        [[0.6666667 ]],\n",
       " \n",
       "        [[1.        ]],\n",
       " \n",
       "        [[0.33333334]],\n",
       " \n",
       "        [[0.6666667 ]],\n",
       " \n",
       "        [[1.        ]],\n",
       " \n",
       "        [[0.33333334]],\n",
       " \n",
       "        [[0.6666667 ]],\n",
       " \n",
       "        [[1.        ]],\n",
       " \n",
       "        [[0.33333334]],\n",
       " \n",
       "        [[0.6666667 ]],\n",
       " \n",
       "        [[1.        ]],\n",
       " \n",
       "        [[0.33333334]],\n",
       " \n",
       "        [[0.6666667 ]],\n",
       " \n",
       "        [[1.        ]],\n",
       " \n",
       "        [[0.33333334]],\n",
       " \n",
       "        [[0.6666667 ]],\n",
       " \n",
       "        [[1.        ]],\n",
       " \n",
       "        [[0.33333334]],\n",
       " \n",
       "        [[0.6666667 ]],\n",
       " \n",
       "        [[1.        ]],\n",
       " \n",
       "        [[0.33333334]],\n",
       " \n",
       "        [[0.6666667 ]],\n",
       " \n",
       "        [[1.        ]],\n",
       " \n",
       "        [[0.33333334]],\n",
       " \n",
       "        [[0.6666667 ]],\n",
       " \n",
       "        [[1.        ]],\n",
       " \n",
       "        [[0.33333334]],\n",
       " \n",
       "        [[0.6666667 ]],\n",
       " \n",
       "        [[1.        ]],\n",
       " \n",
       "        [[0.33333334]],\n",
       " \n",
       "        [[0.6666667 ]],\n",
       " \n",
       "        [[1.        ]],\n",
       " \n",
       "        [[0.33333334]],\n",
       " \n",
       "        [[0.6666667 ]],\n",
       " \n",
       "        [[1.        ]],\n",
       " \n",
       "        [[0.33333334]],\n",
       " \n",
       "        [[0.6666667 ]],\n",
       " \n",
       "        [[1.        ]],\n",
       " \n",
       "        [[0.33333334]],\n",
       " \n",
       "        [[0.6666667 ]],\n",
       " \n",
       "        [[1.        ]],\n",
       " \n",
       "        [[0.33333334]],\n",
       " \n",
       "        [[0.6666667 ]],\n",
       " \n",
       "        [[1.        ]],\n",
       " \n",
       "        [[0.33333334]],\n",
       " \n",
       "        [[0.6666667 ]],\n",
       " \n",
       "        [[1.        ]],\n",
       " \n",
       "        [[0.33333334]],\n",
       " \n",
       "        [[0.6666667 ]],\n",
       " \n",
       "        [[1.        ]],\n",
       " \n",
       "        [[0.33333334]],\n",
       " \n",
       "        [[0.6666667 ]],\n",
       " \n",
       "        [[1.        ]],\n",
       " \n",
       "        [[0.33333334]],\n",
       " \n",
       "        [[0.6666667 ]],\n",
       " \n",
       "        [[1.        ]],\n",
       " \n",
       "        [[0.33333334]],\n",
       " \n",
       "        [[0.6666667 ]],\n",
       " \n",
       "        [[1.        ]],\n",
       " \n",
       "        [[0.33333334]],\n",
       " \n",
       "        [[0.6666667 ]],\n",
       " \n",
       "        [[1.        ]],\n",
       " \n",
       "        [[0.33333334]],\n",
       " \n",
       "        [[0.6666667 ]],\n",
       " \n",
       "        [[1.        ]],\n",
       " \n",
       "        [[0.33333334]],\n",
       " \n",
       "        [[0.6666667 ]],\n",
       " \n",
       "        [[1.        ]],\n",
       " \n",
       "        [[0.33333334]],\n",
       " \n",
       "        [[0.6666667 ]],\n",
       " \n",
       "        [[1.        ]],\n",
       " \n",
       "        [[0.33333334]],\n",
       " \n",
       "        [[0.6666667 ]],\n",
       " \n",
       "        [[1.        ]],\n",
       " \n",
       "        [[0.33333334]],\n",
       " \n",
       "        [[0.6666667 ]],\n",
       " \n",
       "        [[1.        ]],\n",
       " \n",
       "        [[0.33333334]],\n",
       " \n",
       "        [[0.6666667 ]],\n",
       " \n",
       "        [[1.        ]],\n",
       " \n",
       "        [[0.33333334]],\n",
       " \n",
       "        [[0.6666667 ]],\n",
       " \n",
       "        [[1.        ]],\n",
       " \n",
       "        [[0.33333334]],\n",
       " \n",
       "        [[0.6666667 ]],\n",
       " \n",
       "        [[1.        ]],\n",
       " \n",
       "        [[0.33333334]],\n",
       " \n",
       "        [[0.6666667 ]],\n",
       " \n",
       "        [[1.        ]],\n",
       " \n",
       "        [[0.33333334]],\n",
       " \n",
       "        [[0.6666667 ]],\n",
       " \n",
       "        [[1.        ]],\n",
       " \n",
       "        [[0.33333334]],\n",
       " \n",
       "        [[0.6666667 ]],\n",
       " \n",
       "        [[1.        ]],\n",
       " \n",
       "        [[0.33333334]],\n",
       " \n",
       "        [[0.6666667 ]],\n",
       " \n",
       "        [[1.        ]],\n",
       " \n",
       "        [[0.33333334]],\n",
       " \n",
       "        [[0.6666667 ]],\n",
       " \n",
       "        [[1.        ]],\n",
       " \n",
       "        [[0.33333334]],\n",
       " \n",
       "        [[0.6666667 ]],\n",
       " \n",
       "        [[1.        ]],\n",
       " \n",
       "        [[0.33333334]],\n",
       " \n",
       "        [[0.6666667 ]],\n",
       " \n",
       "        [[1.        ]],\n",
       " \n",
       "        [[0.33333334]],\n",
       " \n",
       "        [[0.6666667 ]],\n",
       " \n",
       "        [[1.        ]],\n",
       " \n",
       "        [[0.33333334]],\n",
       " \n",
       "        [[0.6666667 ]],\n",
       " \n",
       "        [[1.        ]],\n",
       " \n",
       "        [[0.33333334]],\n",
       " \n",
       "        [[0.6666667 ]],\n",
       " \n",
       "        [[1.        ]],\n",
       " \n",
       "        [[0.33333334]],\n",
       " \n",
       "        [[0.6666667 ]],\n",
       " \n",
       "        [[1.        ]],\n",
       " \n",
       "        [[0.33333334]],\n",
       " \n",
       "        [[0.6666667 ]],\n",
       " \n",
       "        [[1.        ]],\n",
       " \n",
       "        [[0.33333334]],\n",
       " \n",
       "        [[0.6666667 ]],\n",
       " \n",
       "        [[1.        ]],\n",
       " \n",
       "        [[0.33333334]],\n",
       " \n",
       "        [[0.6666667 ]],\n",
       " \n",
       "        [[1.        ]],\n",
       " \n",
       "        [[0.33333334]],\n",
       " \n",
       "        [[0.6666667 ]],\n",
       " \n",
       "        [[1.        ]],\n",
       " \n",
       "        [[0.33333334]],\n",
       " \n",
       "        [[0.6666667 ]],\n",
       " \n",
       "        [[1.        ]]], dtype=float32),\n",
       " 'cell_type': array([[[-2.178226  ,  0.17486146, -0.0067224 , ..., -0.8384506 ,\n",
       "           1.8661755 ,  1.6547151 ]],\n",
       " \n",
       "        [[-2.178226  ,  0.17486146, -0.0067224 , ..., -0.8384506 ,\n",
       "           1.8661755 ,  1.6547151 ]],\n",
       " \n",
       "        [[-2.178226  ,  0.17486146, -0.0067224 , ..., -0.8384506 ,\n",
       "           1.8661755 ,  1.6547151 ]],\n",
       " \n",
       "        ...,\n",
       " \n",
       "        [[ 0.63629603, -2.7402139 , -0.6337919 , ..., -0.12105248,\n",
       "          -0.6960038 ,  0.5706899 ]],\n",
       " \n",
       "        [[ 0.63629603, -2.7402139 , -0.6337919 , ..., -0.12105248,\n",
       "          -0.6960038 ,  0.5706899 ]],\n",
       " \n",
       "        [[ 0.63629603, -2.7402139 , -0.6337919 , ..., -0.12105248,\n",
       "          -0.6960038 ,  0.5706899 ]]], shape=(540, 1, 50), dtype=float32)}"
      ]
     },
     "execution_count": 22,
     "metadata": {},
     "output_type": "execute_result"
    }
   ],
   "source": [
    "cf.train_data.condition_data"
   ]
  },
  {
   "cell_type": "code",
   "execution_count": 23,
   "metadata": {},
   "outputs": [],
   "source": [
    "# dl = prefetch_to_device(dataloader, num_iterations=100, prefetch_factor=2, num_workers=32)"
   ]
  },
  {
   "cell_type": "code",
   "execution_count": 24,
   "metadata": {},
   "outputs": [],
   "source": [
    "# batch = next(dl)"
   ]
  },
  {
   "cell_type": "code",
   "execution_count": 25,
   "metadata": {},
   "outputs": [],
   "source": [
    "rng = np.random.default_rng(42)"
   ]
  },
  {
   "cell_type": "code",
   "execution_count": 26,
   "metadata": {},
   "outputs": [
    {
     "name": "stdout",
     "output_type": "stream",
     "text": [
      "Source: 2 out of 30, Target: 39 out of 540\n"
     ]
    },
    {
     "data": {
      "text/plain": [
       "array([[ 1.3571423 , -0.7638487 ,  1.6204927 , ...,  0.02975455,\n",
       "         1.6972175 ,  2.96692   ],\n",
       "       [ 0.26846367,  0.43569034, -0.44510853, ..., -0.65811443,\n",
       "        -0.5340969 , -0.03285657],\n",
       "       [-0.2044165 ,  0.02244166, -0.27570003, ...,  1.9536748 ,\n",
       "         0.73222953,  0.6051152 ],\n",
       "       ...,\n",
       "       [-0.2769228 , -1.4887941 ,  2.01487   , ..., -0.14210315,\n",
       "         0.49233574, -0.47111952],\n",
       "       [ 0.9451178 ,  0.62461495,  1.345472  , ..., -0.54375166,\n",
       "         0.3643677 , -0.35084444],\n",
       "       [ 0.6104594 , -0.6219473 , -0.07622625, ...,  0.6528209 ,\n",
       "         1.6353574 , -0.5036002 ]], shape=(100, 50), dtype=float32)"
      ]
     },
     "execution_count": 26,
     "metadata": {},
     "output_type": "execute_result"
    }
   ],
   "source": [
    "dataloader.sample(rng)['src_cell_data']"
   ]
  },
  {
   "cell_type": "code",
   "execution_count": 27,
   "metadata": {},
   "outputs": [
    {
     "ename": "NameError",
     "evalue": "name 'dl' is not defined",
     "output_type": "error",
     "traceback": [
      "\u001b[31m---------------------------------------------------------------------------\u001b[39m",
      "\u001b[31mNameError\u001b[39m                                 Traceback (most recent call last)",
      "\u001b[36mCell\u001b[39m\u001b[36m \u001b[39m\u001b[32mIn[27]\u001b[39m\u001b[32m, line 1\u001b[39m\n\u001b[32m----> \u001b[39m\u001b[32m1\u001b[39m \u001b[38;5;28mnext\u001b[39m(\u001b[43mdl\u001b[49m)[\u001b[33m'\u001b[39m\u001b[33msrc_cell_data\u001b[39m\u001b[33m'\u001b[39m]\n",
      "\u001b[31mNameError\u001b[39m: name 'dl' is not defined"
     ]
    }
   ],
   "source": [
    "next(dl)['src_cell_data']"
   ]
  },
  {
   "cell_type": "code",
   "execution_count": null,
   "metadata": {},
   "outputs": [],
   "source": [
    "seed = 1\n",
    "rng = np.random.default_rng(np.random.SeedSequence(seed + 10000))"
   ]
  },
  {
   "cell_type": "code",
   "execution_count": null,
   "metadata": {},
   "outputs": [
    {
     "name": "stdout",
     "output_type": "stream",
     "text": [
      "Source: 13 out of 30, Target: 235 out of 540\n"
     ]
    },
    {
     "data": {
      "text/plain": [
       "{'src_cell_data': array([[ 0.18927507,  0.9769641 , -1.0818534 , ...,  0.21130458,\n",
       "         -0.89402765,  0.9413086 ],\n",
       "        [ 0.991466  , -0.90771914, -0.3253671 , ...,  1.8505851 ,\n",
       "          0.9478476 ,  2.402185  ],\n",
       "        [ 0.30937192,  0.6687417 , -0.4018558 , ..., -1.9595044 ,\n",
       "         -0.51756215,  0.2516776 ],\n",
       "        ...,\n",
       "        [ 0.47926587,  0.5996488 , -0.65116936, ..., -0.40527347,\n",
       "         -0.23594505,  0.66677547],\n",
       "        [-0.06974106, -0.8401346 , -0.9127295 , ...,  0.5225384 ,\n",
       "         -1.5457108 ,  1.3589613 ],\n",
       "        [ 0.18927507,  0.9769641 , -1.0818534 , ...,  0.21130458,\n",
       "         -0.89402765,  0.9413086 ]], shape=(100, 50), dtype=float32),\n",
       " 'tgt_cell_data': array([[-2.0382755e+00,  3.0630982e-01,  1.5062246e+00, ...,\n",
       "          9.5881987e-01,  3.7822732e-01, -8.7607884e-01],\n",
       "        [ 2.2199468e-01, -8.5328233e-01, -5.3705686e-01, ...,\n",
       "         -4.7658074e-01, -3.7956384e-01,  3.5889629e-02],\n",
       "        [ 9.5031381e-01, -8.6416805e-01,  1.1294960e+00, ...,\n",
       "         -6.4942485e-01,  1.8286169e-01,  7.6772416e-01],\n",
       "        ...,\n",
       "        [ 6.7622416e-02,  1.6661556e-01, -3.0895776e-01, ...,\n",
       "          3.4149542e-01, -5.9067953e-01,  1.0888661e+00],\n",
       "        [-8.6707897e-02,  2.5267539e+00,  5.1799285e-01, ...,\n",
       "         -3.0218920e-01, -9.3798048e-04,  5.7705468e-01],\n",
       "        [-2.0464399e-01, -8.6141862e-02,  1.9928540e-01, ...,\n",
       "          2.2683897e+00,  7.9335165e-01, -1.0651772e+00]],\n",
       "       shape=(100, 50), dtype=float32),\n",
       " 'condition': {'drug': array([[[ 0.1708532 ,  0.35799098, -0.06130845, -0.9961246 ,\n",
       "            0.49434814, -0.85926884,  1.9245822 , -1.8781976 ,\n",
       "           -0.8727894 ,  0.08432153, -1.1247243 , -1.6895832 ,\n",
       "           -0.15756255,  1.2452724 ,  1.1080371 , -2.0540528 ,\n",
       "            0.27023834, -0.5645435 , -1.013356  , -0.65744203,\n",
       "           -1.3906796 , -0.290487  ,  1.1845958 ,  0.33635518,\n",
       "           -2.715833  , -1.3263081 , -0.9463955 , -0.3279211 ,\n",
       "            1.1830021 ,  0.7459079 ,  1.6742382 ,  2.8718843 ,\n",
       "            0.73243636,  0.00429629, -1.5342063 , -0.04720787,\n",
       "            0.44039333,  1.6748772 ,  0.32849538,  0.36208537,\n",
       "            0.38050655, -0.34436637, -1.5820369 , -1.4059634 ,\n",
       "           -0.522179  ,  0.9186656 , -0.59107834,  0.25814924,\n",
       "           -0.53380305, -1.9292263 ]]], dtype=float32),\n",
       "  'dosage': array([[[0.6666667]]], dtype=float32),\n",
       "  'cell_type': array([[[-0.08169305, -0.29135424,  1.4114424 , -1.1031432 ,\n",
       "            0.37043312,  0.76799357,  0.11116084,  1.3289168 ,\n",
       "            0.3570194 , -0.77089363, -1.1574247 , -1.1276014 ,\n",
       "            0.23211552,  0.7674767 ,  0.81196094,  0.16718945,\n",
       "           -0.03777224,  0.59677553, -0.6813454 , -0.7382095 ,\n",
       "            0.1472009 ,  0.00455033,  1.2539648 , -2.0178852 ,\n",
       "           -1.1286756 ,  1.5532341 , -0.23699155,  1.0177708 ,\n",
       "           -0.7658653 , -1.0513089 ,  1.1387165 , -0.55492365,\n",
       "           -0.13319704, -0.1669454 , -0.6924591 ,  0.8503042 ,\n",
       "           -1.038106  , -2.0781102 ,  0.09768721, -0.1935234 ,\n",
       "           -2.0709755 , -0.9540996 ,  0.71517754, -0.7578827 ,\n",
       "           -0.70994943,  1.280048  , -1.4640802 , -0.6304906 ,\n",
       "           -1.2017032 ,  0.44788948]]], dtype=float32)}}"
      ]
     },
     "execution_count": 27,
     "metadata": {},
     "output_type": "execute_result"
    }
   ],
   "source": [
    "dataloader.sample(rng)"
   ]
  },
  {
   "cell_type": "code",
   "execution_count": null,
   "metadata": {},
   "outputs": [],
   "source": [
    "from cellflow.data._dataloader import ValidationSampler\n",
    "validation_loaders = {k: ValidationSampler(v) for k, v in cf.validation_data.items()}"
   ]
  },
  {
   "cell_type": "code",
   "execution_count": null,
   "metadata": {},
   "outputs": [
    {
     "data": {
      "text/plain": [
       "<cellflow.data._dataloader.ValidationSampler at 0x34f0d9150>"
      ]
     },
     "execution_count": 29,
     "metadata": {},
     "output_type": "execute_result"
    }
   ],
   "source": [
    "validation_loaders['train']"
   ]
  },
  {
   "cell_type": "code",
   "execution_count": 28,
   "metadata": {},
   "outputs": [
    {
     "name": "stderr",
     "output_type": "stream",
     "text": [
      "  0%|          | 0/1000 [00:00<?, ?it/s]"
     ]
    },
    {
     "name": "stdout",
     "output_type": "stream",
     "text": [
      "Source: 2 out of 30, Target: 46 out of 540Source: 14 out of 30, Target: 262 out of 540\n",
      "\n",
      "Source: 21 out of 30, Target: 385 out of 540\n",
      "Source: 28 out of 30, Target: 510 out of 540\n",
      "Source: 26 out of 30, Target: 484 out of 540\n",
      "Source: 20 out of 30, Target: 364 out of 540\n",
      "Source: 19 out of 30, Target: 353 out of 540\n",
      "Source: 16 out of 30, Target: 292 out of 540\n",
      "Source: 27 out of 30, Target: 492 out of 540\n",
      "Source: 23 out of 30, Target: 418 out of 540\n",
      "Source: 13 out of 30, Target: 240 out of 540\n",
      "Source: 18 out of 30, Target: 327 out of 540\n",
      "Source: 29 out of 30, Target: 522 out of 540\n",
      "Source: 22 out of 30, Target: 413 out of 540\n",
      "Source: 1 out of 30, Target: 19 out of 540\n",
      "Source: 11 out of 30, Target: 208 out of 540\n",
      "Source: 27 out of 30, Target: 494 out of 540\n",
      "Source: 19 out of 30, Target: 344 out of 540\n",
      "Source: 18 out of 30, Target: 341 out of 540\n",
      "Source: 2 out of 30, Target: 51 out of 540\n",
      "Source: 20 out of 30, Target: 370 out of 540\n",
      "Source: 20 out of 30, Target: 366 out of 540\n",
      "Source: 14 out of 30, Target: 256 out of 540\n",
      "Source: 11 out of 30, Target: 200 out of 540\n",
      "Source: 13 out of 30, Target: 250 out of 540\n",
      "Source: 19 out of 30, Target: 359 out of 540\n",
      "Source: 0 out of 30, Target: 16 out of 540\n",
      "Source: 14 out of 30, Target: 260 out of 540\n",
      "Source: 10 out of 30, Target: 180 out of 540\n",
      "Source: 4 out of 30, Target: 85 out of 540\n",
      "Source: 18 out of 30, Target: 332 out of 540\n",
      "Source: 14 out of 30, Target: 264 out of 540\n",
      "Source: 3 out of 30, Target: 71 out of 540\n"
     ]
    },
    {
     "name": "stderr",
     "output_type": "stream",
     "text": [
      "  0%|          | 1/1000 [00:02<38:55,  2.34s/it]"
     ]
    },
    {
     "name": "stdout",
     "output_type": "stream",
     "text": [
      "Source: 7 out of 30, Target: 134 out of 540\n"
     ]
    },
    {
     "name": "stderr",
     "output_type": "stream",
     "text": [
      "  0%|          | 2/1000 [00:03<26:07,  1.57s/it]"
     ]
    },
    {
     "name": "stdout",
     "output_type": "stream",
     "text": [
      "Source: 3 out of 30, Target: 62 out of 540\n"
     ]
    },
    {
     "name": "stderr",
     "output_type": "stream",
     "text": [
      "  0%|          | 3/1000 [00:04<22:02,  1.33s/it]"
     ]
    },
    {
     "name": "stdout",
     "output_type": "stream",
     "text": [
      "Source: 2 out of 30, Target: 47 out of 540\n"
     ]
    },
    {
     "name": "stderr",
     "output_type": "stream",
     "text": [
      "  0%|          | 4/1000 [00:05<20:09,  1.21s/it]"
     ]
    },
    {
     "name": "stdout",
     "output_type": "stream",
     "text": [
      "Source: 15 out of 30, Target: 282 out of 540\n"
     ]
    },
    {
     "name": "stderr",
     "output_type": "stream",
     "text": [
      "  0%|          | 5/1000 [00:06<19:16,  1.16s/it]"
     ]
    },
    {
     "name": "stdout",
     "output_type": "stream",
     "text": [
      "Source: 23 out of 30, Target: 419 out of 540\n"
     ]
    },
    {
     "name": "stderr",
     "output_type": "stream",
     "text": [
      "  1%|          | 6/1000 [00:07<18:53,  1.14s/it]"
     ]
    },
    {
     "name": "stdout",
     "output_type": "stream",
     "text": [
      "Source: 2 out of 30, Target: 49 out of 540\n"
     ]
    },
    {
     "name": "stderr",
     "output_type": "stream",
     "text": [
      "  1%|          | 7/1000 [00:08<18:23,  1.11s/it]"
     ]
    },
    {
     "name": "stdout",
     "output_type": "stream",
     "text": [
      "Source: 20 out of 30, Target: 376 out of 540\n"
     ]
    },
    {
     "name": "stderr",
     "output_type": "stream",
     "text": [
      "  1%|          | 8/1000 [00:09<18:13,  1.10s/it]"
     ]
    },
    {
     "name": "stdout",
     "output_type": "stream",
     "text": [
      "Source: 3 out of 30, Target: 70 out of 540\n"
     ]
    },
    {
     "name": "stderr",
     "output_type": "stream",
     "text": [
      "  1%|          | 9/1000 [00:10<18:01,  1.09s/it]"
     ]
    },
    {
     "name": "stdout",
     "output_type": "stream",
     "text": [
      "Source: 7 out of 30, Target: 131 out of 540\n"
     ]
    },
    {
     "name": "stderr",
     "output_type": "stream",
     "text": [
      "  1%|          | 10/1000 [00:11<18:03,  1.09s/it]"
     ]
    },
    {
     "name": "stdout",
     "output_type": "stream",
     "text": [
      "Source: 12 out of 30, Target: 224 out of 540\n"
     ]
    },
    {
     "name": "stderr",
     "output_type": "stream",
     "text": [
      "  1%|          | 11/1000 [00:13<18:08,  1.10s/it]"
     ]
    },
    {
     "name": "stdout",
     "output_type": "stream",
     "text": [
      "Source: 12 out of 30, Target: 226 out of 540\n"
     ]
    },
    {
     "name": "stderr",
     "output_type": "stream",
     "text": [
      "  1%|          | 12/1000 [00:14<18:31,  1.12s/it]"
     ]
    },
    {
     "name": "stdout",
     "output_type": "stream",
     "text": [
      "Source: 5 out of 30, Target: 93 out of 540\n"
     ]
    },
    {
     "name": "stderr",
     "output_type": "stream",
     "text": [
      "  1%|▏         | 13/1000 [00:15<18:23,  1.12s/it]"
     ]
    },
    {
     "name": "stdout",
     "output_type": "stream",
     "text": [
      "Source: 1 out of 30, Target: 21 out of 540\n"
     ]
    },
    {
     "name": "stderr",
     "output_type": "stream",
     "text": [
      "  1%|▏         | 14/1000 [00:16<18:13,  1.11s/it]"
     ]
    },
    {
     "name": "stdout",
     "output_type": "stream",
     "text": [
      "Source: 7 out of 30, Target: 130 out of 540\n"
     ]
    },
    {
     "name": "stderr",
     "output_type": "stream",
     "text": [
      "  2%|▏         | 15/1000 [00:17<18:16,  1.11s/it]"
     ]
    },
    {
     "name": "stdout",
     "output_type": "stream",
     "text": [
      "Source: 4 out of 30, Target: 81 out of 540\n"
     ]
    },
    {
     "name": "stderr",
     "output_type": "stream",
     "text": [
      "  2%|▏         | 16/1000 [00:18<18:14,  1.11s/it]"
     ]
    },
    {
     "name": "stdout",
     "output_type": "stream",
     "text": [
      "Source: 0 out of 30, Target: 8 out of 540\n"
     ]
    },
    {
     "name": "stderr",
     "output_type": "stream",
     "text": [
      "  2%|▏         | 17/1000 [00:19<18:24,  1.12s/it]"
     ]
    },
    {
     "name": "stdout",
     "output_type": "stream",
     "text": [
      "Source: 14 out of 30, Target: 257 out of 540\n"
     ]
    },
    {
     "name": "stderr",
     "output_type": "stream",
     "text": [
      "  2%|▏         | 18/1000 [00:20<18:14,  1.11s/it]"
     ]
    },
    {
     "name": "stdout",
     "output_type": "stream",
     "text": [
      "Source: 7 out of 30, Target: 139 out of 540\n"
     ]
    },
    {
     "name": "stderr",
     "output_type": "stream",
     "text": [
      "  2%|▏         | 19/1000 [00:22<18:16,  1.12s/it]"
     ]
    },
    {
     "name": "stdout",
     "output_type": "stream",
     "text": [
      "Source: 6 out of 30, Target: 117 out of 540\n"
     ]
    },
    {
     "name": "stderr",
     "output_type": "stream",
     "text": [
      "  2%|▏         | 20/1000 [00:23<18:17,  1.12s/it]"
     ]
    },
    {
     "name": "stdout",
     "output_type": "stream",
     "text": [
      "Source: 20 out of 30, Target: 368 out of 540\n"
     ]
    },
    {
     "name": "stderr",
     "output_type": "stream",
     "text": [
      "  2%|▏         | 21/1000 [00:24<18:22,  1.13s/it]"
     ]
    },
    {
     "name": "stdout",
     "output_type": "stream",
     "text": [
      "Source: 9 out of 30, Target: 175 out of 540\n"
     ]
    },
    {
     "name": "stderr",
     "output_type": "stream",
     "text": [
      "  2%|▏         | 22/1000 [00:25<18:24,  1.13s/it]"
     ]
    },
    {
     "name": "stdout",
     "output_type": "stream",
     "text": [
      "Source: 14 out of 30, Target: 258 out of 540\n"
     ]
    },
    {
     "name": "stderr",
     "output_type": "stream",
     "text": [
      "  2%|▏         | 23/1000 [00:26<18:17,  1.12s/it]"
     ]
    },
    {
     "name": "stdout",
     "output_type": "stream",
     "text": [
      "Source: 25 out of 30, Target: 464 out of 540\n"
     ]
    },
    {
     "name": "stderr",
     "output_type": "stream",
     "text": [
      "  2%|▏         | 24/1000 [00:27<18:19,  1.13s/it]"
     ]
    },
    {
     "name": "stdout",
     "output_type": "stream",
     "text": [
      "Source: 20 out of 30, Target: 366 out of 540\n"
     ]
    },
    {
     "name": "stderr",
     "output_type": "stream",
     "text": [
      "  2%|▎         | 25/1000 [00:28<18:26,  1.13s/it]"
     ]
    },
    {
     "name": "stdout",
     "output_type": "stream",
     "text": [
      "Source: 14 out of 30, Target: 258 out of 540\n"
     ]
    },
    {
     "name": "stderr",
     "output_type": "stream",
     "text": [
      "  3%|▎         | 26/1000 [00:29<18:23,  1.13s/it]"
     ]
    },
    {
     "name": "stdout",
     "output_type": "stream",
     "text": [
      "Source: 9 out of 30, Target: 173 out of 540\n"
     ]
    },
    {
     "name": "stderr",
     "output_type": "stream",
     "text": [
      "  3%|▎         | 27/1000 [00:31<18:23,  1.13s/it]"
     ]
    },
    {
     "name": "stdout",
     "output_type": "stream",
     "text": [
      "Source: 26 out of 30, Target: 484 out of 540\n"
     ]
    },
    {
     "name": "stderr",
     "output_type": "stream",
     "text": [
      "  3%|▎         | 28/1000 [00:32<18:15,  1.13s/it]"
     ]
    },
    {
     "name": "stdout",
     "output_type": "stream",
     "text": [
      "Source: 21 out of 30, Target: 380 out of 540\n"
     ]
    },
    {
     "name": "stderr",
     "output_type": "stream",
     "text": [
      "  3%|▎         | 29/1000 [00:33<18:12,  1.13s/it]"
     ]
    },
    {
     "name": "stdout",
     "output_type": "stream",
     "text": [
      "Source: 25 out of 30, Target: 458 out of 540\n"
     ]
    },
    {
     "name": "stderr",
     "output_type": "stream",
     "text": [
      "  3%|▎         | 30/1000 [00:34<18:16,  1.13s/it]"
     ]
    },
    {
     "name": "stdout",
     "output_type": "stream",
     "text": [
      "Source: 10 out of 30, Target: 196 out of 540\n"
     ]
    },
    {
     "name": "stderr",
     "output_type": "stream",
     "text": [
      "  3%|▎         | 31/1000 [00:35<18:10,  1.12s/it]"
     ]
    },
    {
     "name": "stdout",
     "output_type": "stream",
     "text": [
      "Source: 29 out of 30, Target: 532 out of 540\n"
     ]
    },
    {
     "name": "stderr",
     "output_type": "stream",
     "text": [
      "  3%|▎         | 32/1000 [00:36<18:05,  1.12s/it]"
     ]
    },
    {
     "name": "stdout",
     "output_type": "stream",
     "text": [
      "Source: 19 out of 30, Target: 355 out of 540\n"
     ]
    },
    {
     "name": "stderr",
     "output_type": "stream",
     "text": [
      "  3%|▎         | 33/1000 [00:37<18:02,  1.12s/it]"
     ]
    },
    {
     "name": "stdout",
     "output_type": "stream",
     "text": [
      "Source: 17 out of 30, Target: 318 out of 540\n"
     ]
    },
    {
     "name": "stderr",
     "output_type": "stream",
     "text": [
      "  3%|▎         | 34/1000 [00:38<18:00,  1.12s/it]"
     ]
    },
    {
     "name": "stdout",
     "output_type": "stream",
     "text": [
      "Source: 27 out of 30, Target: 489 out of 540\n"
     ]
    },
    {
     "name": "stderr",
     "output_type": "stream",
     "text": [
      "  4%|▎         | 35/1000 [00:40<18:10,  1.13s/it]"
     ]
    },
    {
     "name": "stdout",
     "output_type": "stream",
     "text": [
      "Source: 21 out of 30, Target: 391 out of 540\n"
     ]
    },
    {
     "name": "stderr",
     "output_type": "stream",
     "text": [
      "  4%|▎         | 36/1000 [00:41<18:15,  1.14s/it]"
     ]
    },
    {
     "name": "stdout",
     "output_type": "stream",
     "text": [
      "Source: 1 out of 30, Target: 28 out of 540\n"
     ]
    },
    {
     "name": "stderr",
     "output_type": "stream",
     "text": [
      "  4%|▎         | 37/1000 [00:42<18:16,  1.14s/it]"
     ]
    },
    {
     "name": "stdout",
     "output_type": "stream",
     "text": [
      "Source: 20 out of 30, Target: 371 out of 540\n"
     ]
    },
    {
     "name": "stderr",
     "output_type": "stream",
     "text": [
      "  4%|▍         | 38/1000 [00:43<19:36,  1.22s/it]"
     ]
    },
    {
     "name": "stdout",
     "output_type": "stream",
     "text": [
      "Source: 3 out of 30, Target: 71 out of 540\n"
     ]
    },
    {
     "name": "stderr",
     "output_type": "stream",
     "text": [
      "  4%|▍         | 38/1000 [00:45<19:00,  1.19s/it]\n"
     ]
    },
    {
     "ename": "KeyboardInterrupt",
     "evalue": "",
     "output_type": "error",
     "traceback": [
      "\u001b[31m---------------------------------------------------------------------------\u001b[39m",
      "\u001b[31mKeyboardInterrupt\u001b[39m                         Traceback (most recent call last)",
      "\u001b[36mCell\u001b[39m\u001b[36m \u001b[39m\u001b[32mIn[28]\u001b[39m\u001b[32m, line 1\u001b[39m\n\u001b[32m----> \u001b[39m\u001b[32m1\u001b[39m \u001b[43mcf\u001b[49m\u001b[43m.\u001b[49m\u001b[43mtrain\u001b[49m\u001b[43m(\u001b[49m\n\u001b[32m      2\u001b[39m \u001b[43m    \u001b[49m\u001b[43mnum_iterations\u001b[49m\u001b[43m=\u001b[49m\u001b[32;43m1000\u001b[39;49m\u001b[43m,\u001b[49m\n\u001b[32m      3\u001b[39m \u001b[43m    \u001b[49m\u001b[43mbatch_size\u001b[49m\u001b[43m=\u001b[49m\u001b[32;43m1024\u001b[39;49m\u001b[43m,\u001b[49m\n\u001b[32m      4\u001b[39m \u001b[43m    \u001b[49m\u001b[43mcallbacks\u001b[49m\u001b[43m=\u001b[49m\u001b[43mcallbacks\u001b[49m\u001b[43m,\u001b[49m\n\u001b[32m      5\u001b[39m \u001b[43m    \u001b[49m\u001b[43mvalid_freq\u001b[49m\u001b[43m=\u001b[49m\u001b[32;43m100\u001b[39;49m\u001b[43m,\u001b[49m\n\u001b[32m      6\u001b[39m \u001b[43m    \u001b[49m\u001b[43mprefetch_factor\u001b[49m\u001b[43m=\u001b[49m\u001b[32;43m3\u001b[39;49m\u001b[43m,\u001b[49m\n\u001b[32m      7\u001b[39m \u001b[43m    \u001b[49m\u001b[43mnum_workers\u001b[49m\u001b[43m=\u001b[49m\u001b[32;43m8\u001b[39;49m\u001b[43m,\u001b[49m\n\u001b[32m      8\u001b[39m \u001b[43m)\u001b[49m\n",
      "\u001b[36mFile \u001b[39m\u001b[32m~/projects/cellflow/src/cellflow/model/_cellflow.py:538\u001b[39m, in \u001b[36mCellFlow.train\u001b[39m\u001b[34m(self, num_iterations, batch_size, valid_freq, callbacks, monitor_metrics, prefetch_factor, num_workers)\u001b[39m\n\u001b[32m    535\u001b[39m child_seeds = seq.spawn(\u001b[38;5;28mlen\u001b[39m(\u001b[38;5;28mself\u001b[39m._validation_data))\n\u001b[32m    536\u001b[39m validation_loaders = {k: ValidationSampler(v, seed=child_seeds[i]) \u001b[38;5;28;01mfor\u001b[39;00m i, (k, v) \u001b[38;5;129;01min\u001b[39;00m \u001b[38;5;28menumerate\u001b[39m(\u001b[38;5;28mself\u001b[39m.validation_data.items())}\n\u001b[32m--> \u001b[39m\u001b[32m538\u001b[39m \u001b[38;5;28mself\u001b[39m._solver = \u001b[38;5;28;43mself\u001b[39;49m\u001b[43m.\u001b[49m\u001b[43mtrainer\u001b[49m\u001b[43m.\u001b[49m\u001b[43mtrain\u001b[49m\u001b[43m(\u001b[49m\n\u001b[32m    539\u001b[39m \u001b[43m    \u001b[49m\u001b[43mdataloader\u001b[49m\u001b[43m=\u001b[49m\u001b[38;5;28;43mself\u001b[39;49m\u001b[43m.\u001b[49m\u001b[43m_dataloader\u001b[49m\u001b[43m,\u001b[49m\n\u001b[32m    540\u001b[39m \u001b[43m    \u001b[49m\u001b[43mnum_iterations\u001b[49m\u001b[43m=\u001b[49m\u001b[43mnum_iterations\u001b[49m\u001b[43m,\u001b[49m\n\u001b[32m    541\u001b[39m \u001b[43m    \u001b[49m\u001b[43mvalid_freq\u001b[49m\u001b[43m=\u001b[49m\u001b[43mvalid_freq\u001b[49m\u001b[43m,\u001b[49m\n\u001b[32m    542\u001b[39m \u001b[43m    \u001b[49m\u001b[43mvalid_loaders\u001b[49m\u001b[43m=\u001b[49m\u001b[43mvalidation_loaders\u001b[49m\u001b[43m,\u001b[49m\n\u001b[32m    543\u001b[39m \u001b[43m    \u001b[49m\u001b[43mcallbacks\u001b[49m\u001b[43m=\u001b[49m\u001b[43mcallbacks\u001b[49m\u001b[43m,\u001b[49m\n\u001b[32m    544\u001b[39m \u001b[43m    \u001b[49m\u001b[43mmonitor_metrics\u001b[49m\u001b[43m=\u001b[49m\u001b[43mmonitor_metrics\u001b[49m\u001b[43m,\u001b[49m\n\u001b[32m    545\u001b[39m \u001b[43m    \u001b[49m\u001b[43mprefetch_factor\u001b[49m\u001b[43m=\u001b[49m\u001b[43mprefetch_factor\u001b[49m\u001b[43m,\u001b[49m\n\u001b[32m    546\u001b[39m \u001b[43m    \u001b[49m\u001b[43mnum_workers\u001b[49m\u001b[43m=\u001b[49m\u001b[43mnum_workers\u001b[49m\n\u001b[32m    547\u001b[39m \u001b[43m\u001b[49m\u001b[43m)\u001b[49m\n",
      "\u001b[36mFile \u001b[39m\u001b[32m~/projects/cellflow/src/cellflow/training/_trainer.py:205\u001b[39m, in \u001b[36mCellFlowTrainer.train\u001b[39m\u001b[34m(self, dataloader, num_iterations, valid_freq, valid_loaders, monitor_metrics, callbacks, num_workers, prefetch_factor)\u001b[39m\n\u001b[32m    203\u001b[39m t0 = time.time()\n\u001b[32m    204\u001b[39m loss = \u001b[38;5;28mself\u001b[39m.solver.step_fn(rng_step_fn, batch)\n\u001b[32m--> \u001b[39m\u001b[32m205\u001b[39m \u001b[38;5;28mself\u001b[39m.training_logs[\u001b[33m\"\u001b[39m\u001b[33mloss\u001b[39m\u001b[33m\"\u001b[39m].append(\u001b[38;5;28mfloat\u001b[39m(loss))\n\u001b[32m    207\u001b[39m \u001b[38;5;28;01mif\u001b[39;00m ((it - \u001b[32m1\u001b[39m) % valid_freq == \u001b[32m0\u001b[39m) \u001b[38;5;129;01mand\u001b[39;00m (it > \u001b[32m1\u001b[39m):\n\u001b[32m    208\u001b[39m     \u001b[38;5;66;03m# Get predictions from validation data\u001b[39;00m\n\u001b[32m    209\u001b[39m     valid_true_data, valid_pred_data = \u001b[38;5;28mself\u001b[39m._validation_step(valid_loaders, mode=\u001b[33m\"\u001b[39m\u001b[33mon_log_iteration\u001b[39m\u001b[33m\"\u001b[39m)\n",
      "\u001b[36mFile \u001b[39m\u001b[32m~/miniforge3/envs/cellflow/lib/python3.11/site-packages/jax/_src/array.py:311\u001b[39m, in \u001b[36mArrayImpl.__float__\u001b[39m\u001b[34m(self)\u001b[39m\n\u001b[32m    309\u001b[39m \u001b[38;5;28;01mdef\u001b[39;00m\u001b[38;5;250m \u001b[39m\u001b[34m__float__\u001b[39m(\u001b[38;5;28mself\u001b[39m):\n\u001b[32m    310\u001b[39m   core.check_scalar_conversion(\u001b[38;5;28mself\u001b[39m)\n\u001b[32m--> \u001b[39m\u001b[32m311\u001b[39m   \u001b[38;5;28;01mreturn\u001b[39;00m \u001b[38;5;28;43mself\u001b[39;49m\u001b[43m.\u001b[49m\u001b[43m_value\u001b[49m.\u001b[34m__float__\u001b[39m()\n",
      "\u001b[36mFile \u001b[39m\u001b[32m~/miniforge3/envs/cellflow/lib/python3.11/site-packages/jax/_src/profiler.py:334\u001b[39m, in \u001b[36mannotate_function.<locals>.wrapper\u001b[39m\u001b[34m(*args, **kwargs)\u001b[39m\n\u001b[32m    331\u001b[39m \u001b[38;5;129m@wraps\u001b[39m(func)\n\u001b[32m    332\u001b[39m \u001b[38;5;28;01mdef\u001b[39;00m\u001b[38;5;250m \u001b[39m\u001b[34mwrapper\u001b[39m(*args, **kwargs):\n\u001b[32m    333\u001b[39m   \u001b[38;5;28;01mwith\u001b[39;00m TraceAnnotation(name, **decorator_kwargs):\n\u001b[32m--> \u001b[39m\u001b[32m334\u001b[39m     \u001b[38;5;28;01mreturn\u001b[39;00m \u001b[43mfunc\u001b[49m\u001b[43m(\u001b[49m\u001b[43m*\u001b[49m\u001b[43margs\u001b[49m\u001b[43m,\u001b[49m\u001b[43m \u001b[49m\u001b[43m*\u001b[49m\u001b[43m*\u001b[49m\u001b[43mkwargs\u001b[49m\u001b[43m)\u001b[49m\n",
      "\u001b[36mFile \u001b[39m\u001b[32m~/miniforge3/envs/cellflow/lib/python3.11/site-packages/jax/_src/array.py:641\u001b[39m, in \u001b[36mArrayImpl._value\u001b[39m\u001b[34m(self)\u001b[39m\n\u001b[32m    639\u001b[39m \u001b[38;5;28;01mif\u001b[39;00m \u001b[38;5;28mself\u001b[39m._npy_value \u001b[38;5;129;01mis\u001b[39;00m \u001b[38;5;28;01mNone\u001b[39;00m:\n\u001b[32m    640\u001b[39m   \u001b[38;5;28;01mif\u001b[39;00m \u001b[38;5;28mself\u001b[39m.is_fully_replicated:\n\u001b[32m--> \u001b[39m\u001b[32m641\u001b[39m     npy_value, did_copy = \u001b[38;5;28;43mself\u001b[39;49m\u001b[43m.\u001b[49m\u001b[43m_single_device_array_to_np_array_did_copy\u001b[49m\u001b[43m(\u001b[49m\u001b[43m)\u001b[49m\n\u001b[32m    642\u001b[39m     npy_value.flags.writeable = \u001b[38;5;28;01mFalse\u001b[39;00m\n\u001b[32m    643\u001b[39m     \u001b[38;5;28;01mif\u001b[39;00m did_copy:\n",
      "\u001b[31mKeyboardInterrupt\u001b[39m: "
     ]
    }
   ],
   "source": [
    "cf.train(\n",
    "    num_iterations=1000,\n",
    "    batch_size=1024,\n",
    "    callbacks=callbacks,\n",
    "    valid_freq=100,\n",
    "    prefetch_factor=3,\n",
    "    num_workers=8,\n",
    ")"
   ]
  },
  {
   "cell_type": "code",
   "execution_count": null,
   "metadata": {},
   "outputs": [],
   "source": []
  },
  {
   "cell_type": "code",
   "execution_count": null,
   "metadata": {},
   "outputs": [],
   "source": []
  }
 ],
 "metadata": {
  "kernelspec": {
   "display_name": "cellflow",
   "language": "python",
   "name": "python3"
  },
  "language_info": {
   "codemirror_mode": {
    "name": "ipython",
    "version": 3
   },
   "file_extension": ".py",
   "mimetype": "text/x-python",
   "name": "python",
   "nbconvert_exporter": "python",
   "pygments_lexer": "ipython3",
   "version": "3.11.11"
  }
 },
 "nbformat": 4,
 "nbformat_minor": 2
}
