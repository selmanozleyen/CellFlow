{
 "cells": [
  {
   "cell_type": "code",
   "execution_count": 1,
   "metadata": {},
   "outputs": [],
   "source": [
    "%load_ext autoreload\n",
    "%autoreload 2\n",
    "\n",
    "\n",
    "import numpy as np\n",
    "import pandas as pd\n",
    "import anndata as ad\n",
    "import numpy as np\n",
    "import pandas as pd\n",
    "import jax.numpy as jnp\n",
    "import jax\n",
    "jax.config.update(\"jax_default_device\", jax.devices()[0])"
   ]
  },
  {
   "cell_type": "code",
   "execution_count": 2,
   "metadata": {},
   "outputs": [],
   "source": [
    "def create_synthetic_data(\n",
    "    n_genes=50,\n",
    "    n_control_cells=40,\n",
    "    n_drugs=6,\n",
    "    dosages_per_drug=3,\n",
    "    cells_per_condition=50,\n",
    "    n_cell_types=30,\n",
    "    cell_type_embed_dim=50,\n",
    "    drug_embed_dim=50,\n",
    "):\n",
    "    \"\"\"\n",
    "    Creates a synthetic AnnData object with multiple dosages per drug.\n",
    "\n",
    "    Parameters\n",
    "    ----------\n",
    "    n_genes : int\n",
    "        Number of genes to simulate\n",
    "    n_control_cells : int\n",
    "        Number of control cells per cell type\n",
    "    n_drugs : int\n",
    "        Total number of distinct drugs\n",
    "    dosages_per_drug : int\n",
    "        Number of different dosages for each drug\n",
    "    cells_per_condition : int\n",
    "        Number of cells per drug-dosage condition\n",
    "    n_cell_types : int\n",
    "        Number of cell types\n",
    "    cell_type_embed_dim : int\n",
    "        Embedding dimension for cell types\n",
    "    drug_embed_dim : int\n",
    "        Embedding dimension for drugs\n",
    "\n",
    "    Returns\n",
    "    -------\n",
    "    dict\n",
    "        Dictionary containing all DataManager parameters\n",
    "    \"\"\"\n",
    "\n",
    "    # Create cell type names\n",
    "    n_batches = n_cell_types\n",
    "    cell_type_names = [f\"cell_line_{chr(97 + i)}\" for i in range(n_cell_types)]\n",
    "    batch_names = [f\"batch_{i+1}\" for i in range(n_batches)]  # New: create batch names\n",
    "\n",
    "    # Calculate total cells\n",
    "    total_conditions = n_drugs * dosages_per_drug  # Total conditions excluding control\n",
    "    total_cells_per_type = n_control_cells + (total_conditions * cells_per_condition)\n",
    "    n_cells = n_cell_types * total_cells_per_type\n",
    "\n",
    "    # Initialize lists for observation data\n",
    "    cell_type_list = []\n",
    "    control_list = []\n",
    "    drug_list = []\n",
    "    dosage_list = []\n",
    "    batch_list = []\n",
    "\n",
    "    # Generate data for each cell type\n",
    "    # shuffle batch_names\n",
    "    batch_names = np.random.permutation(batch_names)\n",
    "\n",
    "    for i,cell_type in enumerate(cell_type_names):\n",
    "        # Add control cells for this cell type\n",
    "        cell_type_list.extend([cell_type] * total_cells_per_type)\n",
    "        # Controls\n",
    "        control_list.extend([True] * n_control_cells)\n",
    "        drug_list.extend([\"control\"] * n_control_cells)\n",
    "        dosage_list.extend([0.0] * n_control_cells)\n",
    "        # batch_assignments = np.random.choice(batch_names[i], size=total_cells_per_type)\n",
    "        batch_list.extend([batch_names[i]] * total_cells_per_type)\n",
    "        # ensure that at lease one type is present \n",
    "\n",
    "\n",
    "        # Add perturbed cells for each drug-dosage combination\n",
    "        control_list.extend([False] * (total_conditions * cells_per_condition))\n",
    "\n",
    "        # Add drug-dosage combinations\n",
    "        for drug_idx in range(1, n_drugs + 1):\n",
    "            for dosage_idx in range(1, dosages_per_drug + 1):\n",
    "                # Calculate dosage value (e.g., 0.1, 0.5, 1.0)\n",
    "                dosage_value = dosage_idx / dosages_per_drug  # Normalize to [0,1] range\n",
    "\n",
    "                # Add this drug-dosage combination\n",
    "                drug_list.extend([f\"drug{drug_idx}\"] * cells_per_condition)\n",
    "                dosage_list.extend([dosage_value] * cells_per_condition)\n",
    "\n",
    "    # Generate random expression data\n",
    "    X = np.random.normal(size=(n_cells, n_genes))\n",
    "\n",
    "    # Create observation DataFrame\n",
    "    obs = pd.DataFrame(\n",
    "        {\n",
    "            \"control\": control_list,\n",
    "            \"cell_type\": pd.Categorical(cell_type_list),\n",
    "            \"drug\": pd.Categorical(drug_list),\n",
    "            \"dosage\": dosage_list,\n",
    "            # \"batch\": pd.Categorical(batch_list),\n",
    "        }\n",
    "    )\n",
    "\n",
    "\n",
    "\n",
    "    # Create AnnData object\n",
    "    adata = ad.AnnData(X, obs=obs)\n",
    "\n",
    "    # Add representations to uns (for covariate embeddings)\n",
    "    adata.uns[\"drug\"] = {\n",
    "        \"control\": np.zeros(drug_embed_dim),\n",
    "    }\n",
    "\n",
    "    # Add drug embeddings\n",
    "    for i in range(1, n_drugs + 1):\n",
    "        adata.uns[\"drug\"][f\"drug{i}\"] = np.random.normal(size=(drug_embed_dim,))\n",
    "\n",
    "    # Add cell type embeddings\n",
    "    adata.uns[\"cell_type\"] = {}\n",
    "    # adata.uns[\"batch\"] = {}\n",
    "    for cell_type in cell_type_names:\n",
    "        adata.uns[\"cell_type\"][cell_type] = np.random.normal(\n",
    "            size=(cell_type_embed_dim,)\n",
    "        )\n",
    "    # for batch in batch_names:\n",
    "    #     adata.uns[\"batch\"][batch] = np.random.normal(\n",
    "    #         size=(cell_type_embed_dim,)\n",
    "    #     )\n",
    "\n",
    "    # Define parameters for DataManager\n",
    "    sample_rep = \"X\"\n",
    "    control_key = \"control\"\n",
    "    split_covariates = [\"cell_type\",]\n",
    "\n",
    "    # Here we use a simpler structure with just one drug and dosage column\n",
    "    perturbation_covariates = {\"drug\": [\"drug\"], \"dosage\": [\"dosage\"]}\n",
    "    perturbation_covariate_reps = {\"drug\": \"drug\"}\n",
    "    sample_covariates = [\"cell_type\", ]\n",
    "    sample_covariate_reps = {\"cell_type\": \"cell_type\", }\n",
    "\n",
    "\n",
    "\n",
    "    # Return a dictionary with all required parameters\n",
    "    return {\n",
    "        \"adata\": adata,\n",
    "        \"sample_rep\": sample_rep,\n",
    "        \"control_key\": control_key,\n",
    "        \"split_covariates\": split_covariates,\n",
    "        \"perturbation_covariates\": perturbation_covariates,\n",
    "        \"perturbation_covariate_reps\": perturbation_covariate_reps,\n",
    "        \"sample_covariates\": sample_covariates,\n",
    "        \"sample_covariate_reps\": sample_covariate_reps,\n",
    "    }\n"
   ]
  },
  {
   "cell_type": "code",
   "execution_count": 3,
   "metadata": {},
   "outputs": [
    {
     "name": "stderr",
     "output_type": "stream",
     "text": [
      "/Users/selman/miniforge3/envs/cellflow/lib/python3.11/site-packages/anndata/_core/aligned_df.py:68: ImplicitModificationWarning: Transforming to str index.\n",
      "  warnings.warn(\"Transforming to str index.\", ImplicitModificationWarning)\n"
     ]
    }
   ],
   "source": [
    "# Now you can initialize the DataManager\n",
    "from cellflow.data._datamanager import DataManager\n",
    "\n",
    "dm_args = create_synthetic_data()\n",
    "\n",
    "dm = DataManager(\n",
    "    **dm_args    \n",
    ")"
   ]
  },
  {
   "cell_type": "code",
   "execution_count": 4,
   "metadata": {},
   "outputs": [],
   "source": [
    "from cellflow.model._cellflow import CellFlow\n",
    "\n",
    "cf = CellFlow(adata=dm_args[\"adata\"],) "
   ]
  },
  {
   "cell_type": "code",
   "execution_count": 6,
   "metadata": {},
   "outputs": [],
   "source": [
    "import functools\n",
    "\n",
    "import cellflow\n",
    "import scanpy as sc\n",
    "import numpy as np\n",
    "import functools\n",
    "from ott.solvers import utils as solver_utils\n",
    "import optax\n",
    "import anndata as ad"
   ]
  },
  {
   "cell_type": "code",
   "execution_count": 7,
   "metadata": {},
   "outputs": [
    {
     "data": {
      "text/plain": [
       "{'adata': AnnData object with n_obs × n_vars = 28200 × 50\n",
       "     obs: 'control', 'cell_type', 'drug', 'dosage'\n",
       "     uns: 'drug', 'cell_type',\n",
       " 'sample_rep': 'X',\n",
       " 'control_key': 'control',\n",
       " 'split_covariates': ['cell_type'],\n",
       " 'perturbation_covariates': {'drug': ['drug'], 'dosage': ['dosage']},\n",
       " 'perturbation_covariate_reps': {'drug': 'drug'},\n",
       " 'sample_covariates': ['cell_type'],\n",
       " 'sample_covariate_reps': {'cell_type': 'cell_type'}}"
      ]
     },
     "execution_count": 7,
     "metadata": {},
     "output_type": "execute_result"
    }
   ],
   "source": [
    "dm_args"
   ]
  },
  {
   "cell_type": "code",
   "execution_count": 8,
   "metadata": {},
   "outputs": [],
   "source": [
    "perturbation_covariates = dm_args[\"perturbation_covariates\"]\n",
    "perturbation_covariate_reps = dm_args[\"perturbation_covariate_reps\"]\n",
    "sample_covariates = dm_args[\"sample_covariates\"]\n",
    "sample_covariate_reps = dm_args[\"sample_covariate_reps\"]\n"
   ]
  },
  {
   "cell_type": "code",
   "execution_count": 9,
   "metadata": {},
   "outputs": [],
   "source": [
    "adata = dm_args[\"adata\"]"
   ]
  },
  {
   "cell_type": "code",
   "execution_count": 10,
   "metadata": {},
   "outputs": [
    {
     "name": "stdout",
     "output_type": "stream",
     "text": [
      "[########################################] | 100% Completed | 105.84 ms\n",
      "[########################################] | 100% Completed | 105.85 ms\n",
      "[########################################] | 100% Completed | 412.98 ms\n",
      "Finished preparing data\n"
     ]
    }
   ],
   "source": [
    "cf.prepare_data(\n",
    "    sample_rep=\"X\",\n",
    "    control_key=\"control\",\n",
    "    perturbation_covariates=perturbation_covariates,\n",
    "    perturbation_covariate_reps=perturbation_covariate_reps,\n",
    "    sample_covariates=sample_covariates,\n",
    "    sample_covariate_reps=sample_covariate_reps,\n",
    "    split_covariates=dm_args[\"split_covariates\"],\n",
    ")\n",
    "print(\"Finished preparing data\")"
   ]
  },
  {
   "cell_type": "code",
   "execution_count": 11,
   "metadata": {},
   "outputs": [],
   "source": [
    "# condition_embedding_dim: 256\n",
    "# time_encoder_dims: [2048, 2048, 2048]\n",
    "# time_encoder_dropout: 0.0\n",
    "# hidden_dims: [2048, 2048, 2048]\n",
    "# hidden_dropout: 0.0\n",
    "# decoder_dims: [4096, 4096, 4096]\n",
    "# decoder_dropout: 0.2\n",
    "# pooling: \"mean\"\n",
    "# layers_before_pool: \n",
    "#   drugs:\n",
    "#     layer_type: mlp\n",
    "#     dims: [1024, 1024]\n",
    "#     dropout_rate: 0.5\n",
    "#   dose:\n",
    "#     layer_type: mlp\n",
    "#     dims: [256, 256]\n",
    "#     dropout_rate: 0.0\n",
    "#   cell_line:\n",
    "#     layer_type: mlp\n",
    "#     dims: [1024, 1024]\n",
    "#     dropout_rate: 0.2\n",
    "# layers_after_pool:\n",
    "#   layer_type: mlp\n",
    "#   dims: [1024, 1024]\n",
    "#   dropout_rate: 0.2\n",
    "# cond_output_dropout: 0.9\n",
    "# time_freqs: 1024\n",
    "# flow_noise: 1.0\n",
    "# learning_rate: 0.00005\n",
    "# multi_steps: 20\n",
    "# epsilon: 1.0\n",
    "# tau_a: 1.0\n",
    "# tau_b: 1.0\n",
    "# flow_type: \"constant_noise\"\n",
    "# linear_projection_before_concatenation: False\n",
    "# layer_norm_before_concatenation: False"
   ]
  },
  {
   "cell_type": "code",
   "execution_count": 12,
   "metadata": {},
   "outputs": [
    {
     "name": "stdout",
     "output_type": "stream",
     "text": [
      "Preparing model...\n",
      "Begin training\n"
     ]
    }
   ],
   "source": [
    "\n",
    "\n",
    "\n",
    "match_fn = functools.partial(\n",
    "    solver_utils.match_linear,\n",
    "    epsilon=1.0,\n",
    "    scale_cost=\"mean\",\n",
    "    tau_a=1.0,\n",
    "    tau_b=1.0,\n",
    ")\n",
    "optimizer = optax.MultiSteps(optax.adam(0.00005), 20)\n",
    "flow = {\n",
    "        \"constant_noise\": 1.0}\n",
    "layers_before_pool = {\n",
    "    \"drug\": {\n",
    "        \"layer_type\": \"mlp\",\n",
    "        \"dims\": [1024, 1024],\n",
    "        \"dropout_rate\": 0.5,\n",
    "    },\n",
    "    \"dosage\": {\n",
    "        \"layer_type\": \"mlp\",\n",
    "        \"dims\": [256, 256],\n",
    "        \"dropout_rate\": 0.0,\n",
    "    },\n",
    "    \"cell_type\": {\n",
    "        \"layer_type\": \"mlp\",\n",
    "        \"dims\": [1024, 1024],\n",
    "        \"dropout_rate\": 0.2,\n",
    "    },\n",
    "}\n",
    "layers_after_pool = {\n",
    "    \"layer_type\": \"mlp\",\n",
    "    \"dims\": [1024, 1024],\n",
    "    \"dropout_rate\": 0.2,\n",
    "}\n",
    "condition_embedding_dim = 256\n",
    "pooling = \"mean\"\n",
    "time_encoder_dims = [2048, 2048, 2048]\n",
    "time_encoder_dropout = 0.0\n",
    "hidden_dims = [2048, 2048, 2048]\n",
    "hidden_dropout = 0.0\n",
    "decoder_dims = [4096, 4096, 4096]\n",
    "decoder_dropout = 0.2\n",
    "cond_output_dropout = 0.9\n",
    "time_freqs = 1024\n",
    "layer_norm_before_concatenation = False\n",
    "linear_projection_before_concatenation = False\n",
    "# Prepare the model\n",
    "print(\"Preparing model...\")\n",
    "cf.prepare_model(\n",
    "    encode_conditions=True,\n",
    "    condition_embedding_dim=condition_embedding_dim,\n",
    "    pooling=pooling,\n",
    "    time_encoder_dims=time_encoder_dims,\n",
    "    time_encoder_dropout=time_encoder_dropout,\n",
    "    hidden_dims=hidden_dims,\n",
    "    hidden_dropout=hidden_dropout,\n",
    "    decoder_dims=decoder_dims,\n",
    "    decoder_dropout=decoder_dropout,\n",
    "    layers_before_pool=layers_before_pool,\n",
    "    layers_after_pool=layers_after_pool,\n",
    "    cond_output_dropout=cond_output_dropout,\n",
    "    time_freqs=time_freqs,\n",
    "    match_fn=match_fn,\n",
    "    optimizer=optimizer,\n",
    "    flow=flow,\n",
    "    layer_norm_before_concatenation=False,\n",
    "    linear_projection_before_concatenation=False,\n",
    ")\n",
    "print(\"Begin training\")\n"
   ]
  },
  {
   "cell_type": "code",
   "execution_count": 13,
   "metadata": {},
   "outputs": [
    {
     "name": "stdout",
     "output_type": "stream",
     "text": [
      "[########################################] | 100% Completed | 105.77 ms\n",
      "[########################################] | 100% Completed | 309.39 ms\n",
      "[########################################] | 100% Completed | 104.98 ms\n",
      "[########################################] | 100% Completed | 399.56 ms\n"
     ]
    }
   ],
   "source": [
    "\n",
    "cf.prepare_validation_data(\n",
    "    adata,\n",
    "    name=\"train\",\n",
    "    n_conditions_on_log_iteration=10,\n",
    "    n_conditions_on_train_end=10,\n",
    ")\n",
    "\n",
    "cf.prepare_validation_data(\n",
    "    adata,\n",
    "    name=\"test\",\n",
    "    n_conditions_on_log_iteration=None,\n",
    "    n_conditions_on_train_end=None,\n",
    ")"
   ]
  },
  {
   "cell_type": "code",
   "execution_count": 14,
   "metadata": {},
   "outputs": [
    {
     "data": {
      "text/plain": [
       "540"
      ]
     },
     "execution_count": 14,
     "metadata": {},
     "output_type": "execute_result"
    }
   ],
   "source": [
    "len(cf._validation_data[\"test\"].perturbation_idx_to_covariates)"
   ]
  },
  {
   "cell_type": "code",
   "execution_count": 15,
   "metadata": {},
   "outputs": [],
   "source": [
    "import cellflow"
   ]
  },
  {
   "cell_type": "code",
   "execution_count": 16,
   "metadata": {},
   "outputs": [],
   "source": [
    "metrics_callback = cellflow.training.Metrics(metrics=[\"r_squared\", \"mmd\", \"e_distance\"])\n",
    "\n",
    "# we don't pass the wandb_callback as it requires a user-specific account, but recommend setting it up\n",
    "callbacks = [metrics_callback]"
   ]
  },
  {
   "cell_type": "code",
   "execution_count": 17,
   "metadata": {},
   "outputs": [
    {
     "data": {
      "text/plain": [
       "{CpuDevice(id=0)}"
      ]
     },
     "execution_count": 17,
     "metadata": {},
     "output_type": "execute_result"
    }
   ],
   "source": [
    "cf.solver.vf_state.params['condition_encoder']['after_pool_modules_mean_0']['kernel'].devices()"
   ]
  },
  {
   "cell_type": "code",
   "execution_count": 23,
   "metadata": {},
   "outputs": [],
   "source": [
    "from cellflow.data._dataloader import CpuTrainSampler\n",
    "dataloader = CpuTrainSampler(data=cf.train_data, batch_size=100)"
   ]
  },
  {
   "cell_type": "code",
   "execution_count": 65,
   "metadata": {},
   "outputs": [],
   "source": [
    "import queue\n",
    "import threading\n",
    "import time  # Add this import at the top of the file\n",
    "from collections.abc import Sequence\n",
    "from typing import Any, Literal\n",
    "import jax.numpy as jnp\n",
    "import jax\n",
    "import numpy as np\n",
    "from numpy.typing import ArrayLike\n",
    "from tqdm import tqdm\n",
    "\n",
    "from cellflow.data._dataloader import CpuTrainSampler, ValidationSampler\n",
    "from cellflow.solvers import _genot, _otfm\n",
    "from cellflow.training._callbacks import BaseCallback, CallbackRunner\n",
    "\n",
    "\n",
    "def prefetch_to_device(sampler, num_iterations, prefetch_factor=2, num_workers=4):\n",
    "    seed = 42  # Set a fixed seed for reproducibility\n",
    "    seq = np.random.SeedSequence(seed)\n",
    "    random_generators = [np.random.default_rng(s) for s in seq.spawn(num_workers)]\n",
    "\n",
    "    q = queue.Queue(maxsize=prefetch_factor*num_workers)\n",
    "    sem = threading.Semaphore(num_iterations)\n",
    "    stop_event = threading.Event()\n",
    "    def worker(rng):\n",
    "        while not stop_event.is_set() and sem.acquire(blocking=False):\n",
    "            batch = sampler.sample(rng)\n",
    "            batch = jax.device_put(batch, jax.devices()[0], donate=True)\n",
    "            jax.block_until_ready(batch)\n",
    "            while not stop_event.is_set():\n",
    "                try:\n",
    "                    q.put(batch, timeout=1.0)\n",
    "                    break  # Batch successfully put into the queue; break out of retry loop\n",
    "                except queue.Full:\n",
    "                    continue\n",
    "\n",
    "        return\n",
    "\n",
    "    # Start multiple worker threads\n",
    "    ts = []\n",
    "    for i in range(num_workers):\n",
    "        t = threading.Thread(target=worker, daemon=True, name=f\"worker-{i}\", args=(random_generators[i], ))\n",
    "        t.start()\n",
    "        ts.append(t)\n",
    "\n",
    "    try:\n",
    "        for _ in range(num_iterations):\n",
    "            # Yield batches from the queue; will block waiting for available batch\n",
    "            yield q.get()\n",
    "    finally:\n",
    "        # When the generator is closed or garbage collected, clean up the worker threads\n",
    "        stop_event.set()  # Signal all workers to exit\n",
    "        for t in ts:\n",
    "            t.join()  # Wait for all worker threads to finish\n",
    "\n",
    "\n"
   ]
  },
  {
   "cell_type": "code",
   "execution_count": null,
   "metadata": {},
   "outputs": [],
   "source": [
    "prefetch_to_device(dataloader, num_iterations=100, prefetch_factor=2, num_workers=32)"
   ]
  },
  {
   "cell_type": "code",
   "execution_count": 38,
   "metadata": {},
   "outputs": [],
   "source": [
    "seed = 1\n",
    "rng = np.random.default_rng(np.random.SeedSequence(seed + 10000))"
   ]
  },
  {
   "cell_type": "code",
   "execution_count": 64,
   "metadata": {},
   "outputs": [
    {
     "data": {
      "text/plain": [
       "{'src_cell_data': array([[ 2.1629744 ,  0.2553238 , -0.37207523, ..., -0.5949909 ,\n",
       "          1.7239684 ,  0.58037424],\n",
       "        [-0.21306144,  1.1288933 , -0.28751445, ..., -0.435637  ,\n",
       "         -1.5042096 ,  1.4034455 ],\n",
       "        [-0.21306144,  1.1288933 , -0.28751445, ..., -0.435637  ,\n",
       "         -1.5042096 ,  1.4034455 ],\n",
       "        ...,\n",
       "        [-0.41723475, -0.1516465 , -1.0242379 , ..., -0.55732745,\n",
       "          0.2977195 ,  0.6932218 ],\n",
       "        [-0.2725472 ,  0.29985598,  0.515528  , ..., -0.830595  ,\n",
       "         -0.44936737, -0.1041475 ],\n",
       "        [-0.6362564 , -0.7889936 ,  0.09297998, ..., -0.0373694 ,\n",
       "         -0.7823192 , -0.21801941]], shape=(100, 50), dtype=float32),\n",
       " 'tgt_cell_data': array([[ 0.25597256, -0.09510171, -0.51105815, ...,  0.09576876,\n",
       "          1.027608  , -1.3337334 ],\n",
       "        [ 0.70467055, -0.7783663 ,  1.755893  , ...,  0.26792753,\n",
       "          2.07906   ,  0.3890477 ],\n",
       "        [ 1.0986998 , -1.2486377 , -0.17665577, ...,  0.3352405 ,\n",
       "          0.36951387, -0.71817696],\n",
       "        ...,\n",
       "        [ 0.70467055, -0.7783663 ,  1.755893  , ...,  0.26792753,\n",
       "          2.07906   ,  0.3890477 ],\n",
       "        [-1.5018262 , -0.9668191 , -0.15721981, ...,  0.80121136,\n",
       "          0.2341282 , -0.83257794],\n",
       "        [ 2.4003417 , -0.6242071 , -0.8327849 , ...,  1.8484626 ,\n",
       "          0.18822062, -0.4021228 ]], shape=(100, 50), dtype=float32),\n",
       " 'condition': {'drug': array([[[-0.2541561 ,  2.2106197 , -0.82706386, -0.22049908,\n",
       "           -0.12273113, -1.0091046 ,  0.5748448 ,  2.5326421 ,\n",
       "            1.0067246 ,  1.038992  , -0.89786917,  0.17470409,\n",
       "            0.10541671, -0.5240346 , -1.5660199 ,  0.8725769 ,\n",
       "           -0.09613394,  0.15063444,  0.15727663, -0.615813  ,\n",
       "           -0.1560608 , -0.03195943,  1.0908016 , -1.123057  ,\n",
       "           -2.727824  ,  1.0850918 , -0.01527916,  0.21948372,\n",
       "           -0.95144355,  0.6780232 , -1.1791915 ,  0.68472266,\n",
       "           -0.37261483,  0.303525  ,  0.8031508 ,  0.45072466,\n",
       "           -0.44717348, -1.244991  ,  0.20851901, -1.1813669 ,\n",
       "           -0.8724793 ,  0.05082311, -0.69795954,  1.8407763 ,\n",
       "            1.1710031 , -0.423717  , -1.7050401 ,  0.9281201 ,\n",
       "            0.31100273, -1.1931003 ]]], dtype=float32),\n",
       "  'dosage': array([[[0.33333334]]], dtype=float32),\n",
       "  'cell_type': array([[[ 1.3486809 , -0.26745635,  1.2449985 , -1.4333522 ,\n",
       "            0.71716475, -0.6468537 ,  0.3267433 ,  0.83050764,\n",
       "            1.1210519 ,  0.03322478, -1.1958992 , -3.0883207 ,\n",
       "           -1.7139783 , -0.9416811 , -1.1808523 ,  0.4081893 ,\n",
       "           -0.371872  ,  0.43134633,  0.21576661, -0.06993908,\n",
       "            0.76168805, -0.6122574 , -2.1508474 ,  1.5402564 ,\n",
       "            1.5908545 ,  0.06697301,  1.0347923 , -1.3523953 ,\n",
       "            0.3215682 , -0.6779416 ,  1.3035187 , -0.38984597,\n",
       "            1.4859567 ,  1.403263  ,  0.8250093 ,  0.4685306 ,\n",
       "            2.0270176 ,  2.0076158 , -1.0676092 ,  0.19814034,\n",
       "           -2.5514934 ,  1.0441794 ,  1.4747387 , -1.6624237 ,\n",
       "            0.1374664 ,  0.21607313,  0.5728537 , -0.79795617,\n",
       "            1.664906  , -0.8398032 ]]], dtype=float32)}}"
      ]
     },
     "execution_count": 64,
     "metadata": {},
     "output_type": "execute_result"
    }
   ],
   "source": [
    "dataloader.sample(rng)"
   ]
  },
  {
   "cell_type": "code",
   "execution_count": 20,
   "metadata": {},
   "outputs": [],
   "source": [
    "from cellflow.data._dataloader import ValidationSampler\n",
    "validation_loaders = {k: ValidationSampler(v) for k, v in cf.validation_data.items()}"
   ]
  },
  {
   "cell_type": "code",
   "execution_count": 22,
   "metadata": {},
   "outputs": [
    {
     "data": {
      "text/plain": [
       "<cellflow.data._dataloader.ValidationSampler at 0x33f4254d0>"
      ]
     },
     "execution_count": 22,
     "metadata": {},
     "output_type": "execute_result"
    }
   ],
   "source": [
    "validation_loaders['train']"
   ]
  },
  {
   "cell_type": "code",
   "execution_count": 49,
   "metadata": {},
   "outputs": [
    {
     "name": "stderr",
     "output_type": "stream",
     "text": [
      "100%|██████████| 10/10 [00:01<00:00,  5.57it/s]\n"
     ]
    },
    {
     "name": "stdout",
     "output_type": "stream",
     "text": [
      "HERE IT IS DONE\n",
      "dict_keys([('drug1', 0.3333333333333333, 'cell_line_i'), ('drug1', 0.6666666666666666, 'cell_line_z'), ('drug1', 1.0, 'cell_line_j'), ('drug1', 1.0, 'cell_line_p'), ('drug2', 0.3333333333333333, 'cell_line_b'), ('drug2', 0.6666666666666666, 'cell_line_c'), ('drug2', 0.6666666666666666, 'cell_line_f'), ('drug3', 0.6666666666666666, 'cell_line_y'), ('drug3', 1.0, 'cell_line_a'), ('drug5', 1.0, 'cell_line_s')])\n",
      "dict_keys([('drug1', 0.3333333333333333, 'cell_line_i'), ('drug1', 0.6666666666666666, 'cell_line_z'), ('drug1', 1.0, 'cell_line_j'), ('drug1', 1.0, 'cell_line_p'), ('drug2', 0.3333333333333333, 'cell_line_b'), ('drug2', 0.6666666666666666, 'cell_line_c'), ('drug2', 0.6666666666666666, 'cell_line_f'), ('drug3', 0.6666666666666666, 'cell_line_y'), ('drug3', 1.0, 'cell_line_a'), ('drug5', 1.0, 'cell_line_s')])\n",
      "(400, 50)\n",
      "(1, 1010)\n",
      "dict_keys([('drug1', 0.3333333333333333, 'cell_line_a'), ('drug1', 0.3333333333333333, 'cell_line_b'), ('drug1', 0.3333333333333333, 'cell_line_c'), ('drug1', 0.3333333333333333, 'cell_line_d'), ('drug1', 0.3333333333333333, 'cell_line_e'), ('drug1', 0.3333333333333333, 'cell_line_f'), ('drug1', 0.3333333333333333, 'cell_line_g'), ('drug1', 0.3333333333333333, 'cell_line_h'), ('drug1', 0.3333333333333333, 'cell_line_i'), ('drug1', 0.3333333333333333, 'cell_line_j'), ('drug1', 0.3333333333333333, 'cell_line_k'), ('drug1', 0.3333333333333333, 'cell_line_l'), ('drug1', 0.3333333333333333, 'cell_line_m'), ('drug1', 0.3333333333333333, 'cell_line_n'), ('drug1', 0.3333333333333333, 'cell_line_o'), ('drug1', 0.3333333333333333, 'cell_line_p'), ('drug1', 0.3333333333333333, 'cell_line_q'), ('drug1', 0.3333333333333333, 'cell_line_r'), ('drug1', 0.3333333333333333, 'cell_line_s'), ('drug1', 0.3333333333333333, 'cell_line_t'), ('drug1', 0.3333333333333333, 'cell_line_u'), ('drug1', 0.3333333333333333, 'cell_line_v'), ('drug1', 0.3333333333333333, 'cell_line_w'), ('drug1', 0.3333333333333333, 'cell_line_x'), ('drug1', 0.3333333333333333, 'cell_line_y'), ('drug1', 0.3333333333333333, 'cell_line_z'), ('drug1', 0.3333333333333333, 'cell_line_{'), ('drug1', 0.3333333333333333, 'cell_line_|'), ('drug1', 0.3333333333333333, 'cell_line_}'), ('drug1', 0.3333333333333333, 'cell_line_~'), ('drug1', 0.6666666666666666, 'cell_line_a'), ('drug1', 0.6666666666666666, 'cell_line_b'), ('drug1', 0.6666666666666666, 'cell_line_c'), ('drug1', 0.6666666666666666, 'cell_line_d'), ('drug1', 0.6666666666666666, 'cell_line_e'), ('drug1', 0.6666666666666666, 'cell_line_f'), ('drug1', 0.6666666666666666, 'cell_line_g'), ('drug1', 0.6666666666666666, 'cell_line_h'), ('drug1', 0.6666666666666666, 'cell_line_i'), ('drug1', 0.6666666666666666, 'cell_line_j'), ('drug1', 0.6666666666666666, 'cell_line_k'), ('drug1', 0.6666666666666666, 'cell_line_l'), ('drug1', 0.6666666666666666, 'cell_line_m'), ('drug1', 0.6666666666666666, 'cell_line_n'), ('drug1', 0.6666666666666666, 'cell_line_o'), ('drug1', 0.6666666666666666, 'cell_line_p'), ('drug1', 0.6666666666666666, 'cell_line_q'), ('drug1', 0.6666666666666666, 'cell_line_r'), ('drug1', 0.6666666666666666, 'cell_line_s'), ('drug1', 0.6666666666666666, 'cell_line_t'), ('drug1', 0.6666666666666666, 'cell_line_u'), ('drug1', 0.6666666666666666, 'cell_line_v'), ('drug1', 0.6666666666666666, 'cell_line_w'), ('drug1', 0.6666666666666666, 'cell_line_x'), ('drug1', 0.6666666666666666, 'cell_line_y'), ('drug1', 0.6666666666666666, 'cell_line_z'), ('drug1', 0.6666666666666666, 'cell_line_{'), ('drug1', 0.6666666666666666, 'cell_line_|'), ('drug1', 0.6666666666666666, 'cell_line_}'), ('drug1', 0.6666666666666666, 'cell_line_~'), ('drug1', 1.0, 'cell_line_a'), ('drug1', 1.0, 'cell_line_b'), ('drug1', 1.0, 'cell_line_c'), ('drug1', 1.0, 'cell_line_d'), ('drug1', 1.0, 'cell_line_e'), ('drug1', 1.0, 'cell_line_f'), ('drug1', 1.0, 'cell_line_g'), ('drug1', 1.0, 'cell_line_h'), ('drug1', 1.0, 'cell_line_i'), ('drug1', 1.0, 'cell_line_j'), ('drug1', 1.0, 'cell_line_k'), ('drug1', 1.0, 'cell_line_l'), ('drug1', 1.0, 'cell_line_m'), ('drug1', 1.0, 'cell_line_n'), ('drug1', 1.0, 'cell_line_o'), ('drug1', 1.0, 'cell_line_p'), ('drug1', 1.0, 'cell_line_q'), ('drug1', 1.0, 'cell_line_r'), ('drug1', 1.0, 'cell_line_s'), ('drug1', 1.0, 'cell_line_t'), ('drug1', 1.0, 'cell_line_u'), ('drug1', 1.0, 'cell_line_v'), ('drug1', 1.0, 'cell_line_w'), ('drug1', 1.0, 'cell_line_x'), ('drug1', 1.0, 'cell_line_y'), ('drug1', 1.0, 'cell_line_z'), ('drug1', 1.0, 'cell_line_{'), ('drug1', 1.0, 'cell_line_|'), ('drug1', 1.0, 'cell_line_}'), ('drug1', 1.0, 'cell_line_~'), ('drug2', 0.3333333333333333, 'cell_line_a'), ('drug2', 0.3333333333333333, 'cell_line_b'), ('drug2', 0.3333333333333333, 'cell_line_c'), ('drug2', 0.3333333333333333, 'cell_line_d'), ('drug2', 0.3333333333333333, 'cell_line_e'), ('drug2', 0.3333333333333333, 'cell_line_f'), ('drug2', 0.3333333333333333, 'cell_line_g'), ('drug2', 0.3333333333333333, 'cell_line_h'), ('drug2', 0.3333333333333333, 'cell_line_i'), ('drug2', 0.3333333333333333, 'cell_line_j'), ('drug2', 0.3333333333333333, 'cell_line_k'), ('drug2', 0.3333333333333333, 'cell_line_l'), ('drug2', 0.3333333333333333, 'cell_line_m'), ('drug2', 0.3333333333333333, 'cell_line_n'), ('drug2', 0.3333333333333333, 'cell_line_o'), ('drug2', 0.3333333333333333, 'cell_line_p'), ('drug2', 0.3333333333333333, 'cell_line_q'), ('drug2', 0.3333333333333333, 'cell_line_r'), ('drug2', 0.3333333333333333, 'cell_line_s'), ('drug2', 0.3333333333333333, 'cell_line_t'), ('drug2', 0.3333333333333333, 'cell_line_u'), ('drug2', 0.3333333333333333, 'cell_line_v'), ('drug2', 0.3333333333333333, 'cell_line_w'), ('drug2', 0.3333333333333333, 'cell_line_x'), ('drug2', 0.3333333333333333, 'cell_line_y'), ('drug2', 0.3333333333333333, 'cell_line_z'), ('drug2', 0.3333333333333333, 'cell_line_{'), ('drug2', 0.3333333333333333, 'cell_line_|'), ('drug2', 0.3333333333333333, 'cell_line_}'), ('drug2', 0.3333333333333333, 'cell_line_~'), ('drug2', 0.6666666666666666, 'cell_line_a'), ('drug2', 0.6666666666666666, 'cell_line_b'), ('drug2', 0.6666666666666666, 'cell_line_c'), ('drug2', 0.6666666666666666, 'cell_line_d'), ('drug2', 0.6666666666666666, 'cell_line_e'), ('drug2', 0.6666666666666666, 'cell_line_f'), ('drug2', 0.6666666666666666, 'cell_line_g'), ('drug2', 0.6666666666666666, 'cell_line_h'), ('drug2', 0.6666666666666666, 'cell_line_i'), ('drug2', 0.6666666666666666, 'cell_line_j'), ('drug2', 0.6666666666666666, 'cell_line_k'), ('drug2', 0.6666666666666666, 'cell_line_l'), ('drug2', 0.6666666666666666, 'cell_line_m'), ('drug2', 0.6666666666666666, 'cell_line_n'), ('drug2', 0.6666666666666666, 'cell_line_o'), ('drug2', 0.6666666666666666, 'cell_line_p'), ('drug2', 0.6666666666666666, 'cell_line_q'), ('drug2', 0.6666666666666666, 'cell_line_r'), ('drug2', 0.6666666666666666, 'cell_line_s'), ('drug2', 0.6666666666666666, 'cell_line_t'), ('drug2', 0.6666666666666666, 'cell_line_u'), ('drug2', 0.6666666666666666, 'cell_line_v'), ('drug2', 0.6666666666666666, 'cell_line_w'), ('drug2', 0.6666666666666666, 'cell_line_x'), ('drug2', 0.6666666666666666, 'cell_line_y'), ('drug2', 0.6666666666666666, 'cell_line_z'), ('drug2', 0.6666666666666666, 'cell_line_{'), ('drug2', 0.6666666666666666, 'cell_line_|'), ('drug2', 0.6666666666666666, 'cell_line_}'), ('drug2', 0.6666666666666666, 'cell_line_~'), ('drug2', 1.0, 'cell_line_a'), ('drug2', 1.0, 'cell_line_b'), ('drug2', 1.0, 'cell_line_c'), ('drug2', 1.0, 'cell_line_d'), ('drug2', 1.0, 'cell_line_e'), ('drug2', 1.0, 'cell_line_f'), ('drug2', 1.0, 'cell_line_g'), ('drug2', 1.0, 'cell_line_h'), ('drug2', 1.0, 'cell_line_i'), ('drug2', 1.0, 'cell_line_j'), ('drug2', 1.0, 'cell_line_k'), ('drug2', 1.0, 'cell_line_l'), ('drug2', 1.0, 'cell_line_m'), ('drug2', 1.0, 'cell_line_n'), ('drug2', 1.0, 'cell_line_o'), ('drug2', 1.0, 'cell_line_p'), ('drug2', 1.0, 'cell_line_q'), ('drug2', 1.0, 'cell_line_r'), ('drug2', 1.0, 'cell_line_s'), ('drug2', 1.0, 'cell_line_t'), ('drug2', 1.0, 'cell_line_u'), ('drug2', 1.0, 'cell_line_v'), ('drug2', 1.0, 'cell_line_w'), ('drug2', 1.0, 'cell_line_x'), ('drug2', 1.0, 'cell_line_y'), ('drug2', 1.0, 'cell_line_z'), ('drug2', 1.0, 'cell_line_{'), ('drug2', 1.0, 'cell_line_|'), ('drug2', 1.0, 'cell_line_}'), ('drug2', 1.0, 'cell_line_~'), ('drug3', 0.3333333333333333, 'cell_line_a'), ('drug3', 0.3333333333333333, 'cell_line_b'), ('drug3', 0.3333333333333333, 'cell_line_c'), ('drug3', 0.3333333333333333, 'cell_line_d'), ('drug3', 0.3333333333333333, 'cell_line_e'), ('drug3', 0.3333333333333333, 'cell_line_f'), ('drug3', 0.3333333333333333, 'cell_line_g'), ('drug3', 0.3333333333333333, 'cell_line_h'), ('drug3', 0.3333333333333333, 'cell_line_i'), ('drug3', 0.3333333333333333, 'cell_line_j'), ('drug3', 0.3333333333333333, 'cell_line_k'), ('drug3', 0.3333333333333333, 'cell_line_l'), ('drug3', 0.3333333333333333, 'cell_line_m'), ('drug3', 0.3333333333333333, 'cell_line_n'), ('drug3', 0.3333333333333333, 'cell_line_o'), ('drug3', 0.3333333333333333, 'cell_line_p'), ('drug3', 0.3333333333333333, 'cell_line_q'), ('drug3', 0.3333333333333333, 'cell_line_r'), ('drug3', 0.3333333333333333, 'cell_line_s'), ('drug3', 0.3333333333333333, 'cell_line_t'), ('drug3', 0.3333333333333333, 'cell_line_u'), ('drug3', 0.3333333333333333, 'cell_line_v'), ('drug3', 0.3333333333333333, 'cell_line_w'), ('drug3', 0.3333333333333333, 'cell_line_x'), ('drug3', 0.3333333333333333, 'cell_line_y'), ('drug3', 0.3333333333333333, 'cell_line_z'), ('drug3', 0.3333333333333333, 'cell_line_{'), ('drug3', 0.3333333333333333, 'cell_line_|'), ('drug3', 0.3333333333333333, 'cell_line_}'), ('drug3', 0.3333333333333333, 'cell_line_~'), ('drug3', 0.6666666666666666, 'cell_line_a'), ('drug3', 0.6666666666666666, 'cell_line_b'), ('drug3', 0.6666666666666666, 'cell_line_c'), ('drug3', 0.6666666666666666, 'cell_line_d'), ('drug3', 0.6666666666666666, 'cell_line_e'), ('drug3', 0.6666666666666666, 'cell_line_f'), ('drug3', 0.6666666666666666, 'cell_line_g'), ('drug3', 0.6666666666666666, 'cell_line_h'), ('drug3', 0.6666666666666666, 'cell_line_i'), ('drug3', 0.6666666666666666, 'cell_line_j'), ('drug3', 0.6666666666666666, 'cell_line_k'), ('drug3', 0.6666666666666666, 'cell_line_l'), ('drug3', 0.6666666666666666, 'cell_line_m'), ('drug3', 0.6666666666666666, 'cell_line_n'), ('drug3', 0.6666666666666666, 'cell_line_o'), ('drug3', 0.6666666666666666, 'cell_line_p'), ('drug3', 0.6666666666666666, 'cell_line_q'), ('drug3', 0.6666666666666666, 'cell_line_r'), ('drug3', 0.6666666666666666, 'cell_line_s'), ('drug3', 0.6666666666666666, 'cell_line_t'), ('drug3', 0.6666666666666666, 'cell_line_u'), ('drug3', 0.6666666666666666, 'cell_line_v'), ('drug3', 0.6666666666666666, 'cell_line_w'), ('drug3', 0.6666666666666666, 'cell_line_x'), ('drug3', 0.6666666666666666, 'cell_line_y'), ('drug3', 0.6666666666666666, 'cell_line_z'), ('drug3', 0.6666666666666666, 'cell_line_{'), ('drug3', 0.6666666666666666, 'cell_line_|'), ('drug3', 0.6666666666666666, 'cell_line_}'), ('drug3', 0.6666666666666666, 'cell_line_~'), ('drug3', 1.0, 'cell_line_a'), ('drug3', 1.0, 'cell_line_b'), ('drug3', 1.0, 'cell_line_c'), ('drug3', 1.0, 'cell_line_d'), ('drug3', 1.0, 'cell_line_e'), ('drug3', 1.0, 'cell_line_f'), ('drug3', 1.0, 'cell_line_g'), ('drug3', 1.0, 'cell_line_h'), ('drug3', 1.0, 'cell_line_i'), ('drug3', 1.0, 'cell_line_j'), ('drug3', 1.0, 'cell_line_k'), ('drug3', 1.0, 'cell_line_l'), ('drug3', 1.0, 'cell_line_m'), ('drug3', 1.0, 'cell_line_n'), ('drug3', 1.0, 'cell_line_o'), ('drug3', 1.0, 'cell_line_p'), ('drug3', 1.0, 'cell_line_q'), ('drug3', 1.0, 'cell_line_r'), ('drug3', 1.0, 'cell_line_s'), ('drug3', 1.0, 'cell_line_t'), ('drug3', 1.0, 'cell_line_u'), ('drug3', 1.0, 'cell_line_v'), ('drug3', 1.0, 'cell_line_w'), ('drug3', 1.0, 'cell_line_x'), ('drug3', 1.0, 'cell_line_y'), ('drug3', 1.0, 'cell_line_z'), ('drug3', 1.0, 'cell_line_{'), ('drug3', 1.0, 'cell_line_|'), ('drug3', 1.0, 'cell_line_}'), ('drug3', 1.0, 'cell_line_~'), ('drug4', 0.3333333333333333, 'cell_line_a'), ('drug4', 0.3333333333333333, 'cell_line_b'), ('drug4', 0.3333333333333333, 'cell_line_c'), ('drug4', 0.3333333333333333, 'cell_line_d'), ('drug4', 0.3333333333333333, 'cell_line_e'), ('drug4', 0.3333333333333333, 'cell_line_f'), ('drug4', 0.3333333333333333, 'cell_line_g'), ('drug4', 0.3333333333333333, 'cell_line_h'), ('drug4', 0.3333333333333333, 'cell_line_i'), ('drug4', 0.3333333333333333, 'cell_line_j'), ('drug4', 0.3333333333333333, 'cell_line_k'), ('drug4', 0.3333333333333333, 'cell_line_l'), ('drug4', 0.3333333333333333, 'cell_line_m'), ('drug4', 0.3333333333333333, 'cell_line_n'), ('drug4', 0.3333333333333333, 'cell_line_o'), ('drug4', 0.3333333333333333, 'cell_line_p'), ('drug4', 0.3333333333333333, 'cell_line_q'), ('drug4', 0.3333333333333333, 'cell_line_r'), ('drug4', 0.3333333333333333, 'cell_line_s'), ('drug4', 0.3333333333333333, 'cell_line_t'), ('drug4', 0.3333333333333333, 'cell_line_u'), ('drug4', 0.3333333333333333, 'cell_line_v'), ('drug4', 0.3333333333333333, 'cell_line_w'), ('drug4', 0.3333333333333333, 'cell_line_x'), ('drug4', 0.3333333333333333, 'cell_line_y'), ('drug4', 0.3333333333333333, 'cell_line_z'), ('drug4', 0.3333333333333333, 'cell_line_{'), ('drug4', 0.3333333333333333, 'cell_line_|'), ('drug4', 0.3333333333333333, 'cell_line_}'), ('drug4', 0.3333333333333333, 'cell_line_~'), ('drug4', 0.6666666666666666, 'cell_line_a'), ('drug4', 0.6666666666666666, 'cell_line_b'), ('drug4', 0.6666666666666666, 'cell_line_c'), ('drug4', 0.6666666666666666, 'cell_line_d'), ('drug4', 0.6666666666666666, 'cell_line_e'), ('drug4', 0.6666666666666666, 'cell_line_f'), ('drug4', 0.6666666666666666, 'cell_line_g'), ('drug4', 0.6666666666666666, 'cell_line_h'), ('drug4', 0.6666666666666666, 'cell_line_i'), ('drug4', 0.6666666666666666, 'cell_line_j'), ('drug4', 0.6666666666666666, 'cell_line_k'), ('drug4', 0.6666666666666666, 'cell_line_l'), ('drug4', 0.6666666666666666, 'cell_line_m'), ('drug4', 0.6666666666666666, 'cell_line_n'), ('drug4', 0.6666666666666666, 'cell_line_o'), ('drug4', 0.6666666666666666, 'cell_line_p'), ('drug4', 0.6666666666666666, 'cell_line_q'), ('drug4', 0.6666666666666666, 'cell_line_r'), ('drug4', 0.6666666666666666, 'cell_line_s'), ('drug4', 0.6666666666666666, 'cell_line_t'), ('drug4', 0.6666666666666666, 'cell_line_u'), ('drug4', 0.6666666666666666, 'cell_line_v'), ('drug4', 0.6666666666666666, 'cell_line_w'), ('drug4', 0.6666666666666666, 'cell_line_x'), ('drug4', 0.6666666666666666, 'cell_line_y'), ('drug4', 0.6666666666666666, 'cell_line_z'), ('drug4', 0.6666666666666666, 'cell_line_{'), ('drug4', 0.6666666666666666, 'cell_line_|'), ('drug4', 0.6666666666666666, 'cell_line_}'), ('drug4', 0.6666666666666666, 'cell_line_~'), ('drug4', 1.0, 'cell_line_a'), ('drug4', 1.0, 'cell_line_b'), ('drug4', 1.0, 'cell_line_c'), ('drug4', 1.0, 'cell_line_d'), ('drug4', 1.0, 'cell_line_e'), ('drug4', 1.0, 'cell_line_f'), ('drug4', 1.0, 'cell_line_g'), ('drug4', 1.0, 'cell_line_h'), ('drug4', 1.0, 'cell_line_i'), ('drug4', 1.0, 'cell_line_j'), ('drug4', 1.0, 'cell_line_k'), ('drug4', 1.0, 'cell_line_l'), ('drug4', 1.0, 'cell_line_m'), ('drug4', 1.0, 'cell_line_n'), ('drug4', 1.0, 'cell_line_o'), ('drug4', 1.0, 'cell_line_p'), ('drug4', 1.0, 'cell_line_q'), ('drug4', 1.0, 'cell_line_r'), ('drug4', 1.0, 'cell_line_s'), ('drug4', 1.0, 'cell_line_t'), ('drug4', 1.0, 'cell_line_u'), ('drug4', 1.0, 'cell_line_v'), ('drug4', 1.0, 'cell_line_w'), ('drug4', 1.0, 'cell_line_x'), ('drug4', 1.0, 'cell_line_y'), ('drug4', 1.0, 'cell_line_z'), ('drug4', 1.0, 'cell_line_{'), ('drug4', 1.0, 'cell_line_|'), ('drug4', 1.0, 'cell_line_}'), ('drug4', 1.0, 'cell_line_~'), ('drug5', 0.3333333333333333, 'cell_line_a'), ('drug5', 0.3333333333333333, 'cell_line_b'), ('drug5', 0.3333333333333333, 'cell_line_c'), ('drug5', 0.3333333333333333, 'cell_line_d'), ('drug5', 0.3333333333333333, 'cell_line_e'), ('drug5', 0.3333333333333333, 'cell_line_f'), ('drug5', 0.3333333333333333, 'cell_line_g'), ('drug5', 0.3333333333333333, 'cell_line_h'), ('drug5', 0.3333333333333333, 'cell_line_i'), ('drug5', 0.3333333333333333, 'cell_line_j'), ('drug5', 0.3333333333333333, 'cell_line_k'), ('drug5', 0.3333333333333333, 'cell_line_l'), ('drug5', 0.3333333333333333, 'cell_line_m'), ('drug5', 0.3333333333333333, 'cell_line_n'), ('drug5', 0.3333333333333333, 'cell_line_o'), ('drug5', 0.3333333333333333, 'cell_line_p'), ('drug5', 0.3333333333333333, 'cell_line_q'), ('drug5', 0.3333333333333333, 'cell_line_r'), ('drug5', 0.3333333333333333, 'cell_line_s'), ('drug5', 0.3333333333333333, 'cell_line_t'), ('drug5', 0.3333333333333333, 'cell_line_u'), ('drug5', 0.3333333333333333, 'cell_line_v'), ('drug5', 0.3333333333333333, 'cell_line_w'), ('drug5', 0.3333333333333333, 'cell_line_x'), ('drug5', 0.3333333333333333, 'cell_line_y'), ('drug5', 0.3333333333333333, 'cell_line_z'), ('drug5', 0.3333333333333333, 'cell_line_{'), ('drug5', 0.3333333333333333, 'cell_line_|'), ('drug5', 0.3333333333333333, 'cell_line_}'), ('drug5', 0.3333333333333333, 'cell_line_~'), ('drug5', 0.6666666666666666, 'cell_line_a'), ('drug5', 0.6666666666666666, 'cell_line_b'), ('drug5', 0.6666666666666666, 'cell_line_c'), ('drug5', 0.6666666666666666, 'cell_line_d'), ('drug5', 0.6666666666666666, 'cell_line_e'), ('drug5', 0.6666666666666666, 'cell_line_f'), ('drug5', 0.6666666666666666, 'cell_line_g'), ('drug5', 0.6666666666666666, 'cell_line_h'), ('drug5', 0.6666666666666666, 'cell_line_i'), ('drug5', 0.6666666666666666, 'cell_line_j'), ('drug5', 0.6666666666666666, 'cell_line_k'), ('drug5', 0.6666666666666666, 'cell_line_l'), ('drug5', 0.6666666666666666, 'cell_line_m'), ('drug5', 0.6666666666666666, 'cell_line_n'), ('drug5', 0.6666666666666666, 'cell_line_o'), ('drug5', 0.6666666666666666, 'cell_line_p'), ('drug5', 0.6666666666666666, 'cell_line_q'), ('drug5', 0.6666666666666666, 'cell_line_r'), ('drug5', 0.6666666666666666, 'cell_line_s'), ('drug5', 0.6666666666666666, 'cell_line_t'), ('drug5', 0.6666666666666666, 'cell_line_u'), ('drug5', 0.6666666666666666, 'cell_line_v'), ('drug5', 0.6666666666666666, 'cell_line_w'), ('drug5', 0.6666666666666666, 'cell_line_x'), ('drug5', 0.6666666666666666, 'cell_line_y'), ('drug5', 0.6666666666666666, 'cell_line_z'), ('drug5', 0.6666666666666666, 'cell_line_{'), ('drug5', 0.6666666666666666, 'cell_line_|'), ('drug5', 0.6666666666666666, 'cell_line_}'), ('drug5', 0.6666666666666666, 'cell_line_~'), ('drug5', 1.0, 'cell_line_a'), ('drug5', 1.0, 'cell_line_b'), ('drug5', 1.0, 'cell_line_c'), ('drug5', 1.0, 'cell_line_d'), ('drug5', 1.0, 'cell_line_e'), ('drug5', 1.0, 'cell_line_f'), ('drug5', 1.0, 'cell_line_g'), ('drug5', 1.0, 'cell_line_h'), ('drug5', 1.0, 'cell_line_i'), ('drug5', 1.0, 'cell_line_j'), ('drug5', 1.0, 'cell_line_k'), ('drug5', 1.0, 'cell_line_l'), ('drug5', 1.0, 'cell_line_m'), ('drug5', 1.0, 'cell_line_n'), ('drug5', 1.0, 'cell_line_o'), ('drug5', 1.0, 'cell_line_p'), ('drug5', 1.0, 'cell_line_q'), ('drug5', 1.0, 'cell_line_r'), ('drug5', 1.0, 'cell_line_s'), ('drug5', 1.0, 'cell_line_t'), ('drug5', 1.0, 'cell_line_u'), ('drug5', 1.0, 'cell_line_v'), ('drug5', 1.0, 'cell_line_w'), ('drug5', 1.0, 'cell_line_x'), ('drug5', 1.0, 'cell_line_y'), ('drug5', 1.0, 'cell_line_z'), ('drug5', 1.0, 'cell_line_{'), ('drug5', 1.0, 'cell_line_|'), ('drug5', 1.0, 'cell_line_}'), ('drug5', 1.0, 'cell_line_~'), ('drug6', 0.3333333333333333, 'cell_line_a'), ('drug6', 0.3333333333333333, 'cell_line_b'), ('drug6', 0.3333333333333333, 'cell_line_c'), ('drug6', 0.3333333333333333, 'cell_line_d'), ('drug6', 0.3333333333333333, 'cell_line_e'), ('drug6', 0.3333333333333333, 'cell_line_f'), ('drug6', 0.3333333333333333, 'cell_line_g'), ('drug6', 0.3333333333333333, 'cell_line_h'), ('drug6', 0.3333333333333333, 'cell_line_i'), ('drug6', 0.3333333333333333, 'cell_line_j'), ('drug6', 0.3333333333333333, 'cell_line_k'), ('drug6', 0.3333333333333333, 'cell_line_l'), ('drug6', 0.3333333333333333, 'cell_line_m'), ('drug6', 0.3333333333333333, 'cell_line_n'), ('drug6', 0.3333333333333333, 'cell_line_o'), ('drug6', 0.3333333333333333, 'cell_line_p'), ('drug6', 0.3333333333333333, 'cell_line_q'), ('drug6', 0.3333333333333333, 'cell_line_r'), ('drug6', 0.3333333333333333, 'cell_line_s'), ('drug6', 0.3333333333333333, 'cell_line_t'), ('drug6', 0.3333333333333333, 'cell_line_u'), ('drug6', 0.3333333333333333, 'cell_line_v'), ('drug6', 0.3333333333333333, 'cell_line_w'), ('drug6', 0.3333333333333333, 'cell_line_x'), ('drug6', 0.3333333333333333, 'cell_line_y'), ('drug6', 0.3333333333333333, 'cell_line_z'), ('drug6', 0.3333333333333333, 'cell_line_{'), ('drug6', 0.3333333333333333, 'cell_line_|'), ('drug6', 0.3333333333333333, 'cell_line_}'), ('drug6', 0.3333333333333333, 'cell_line_~'), ('drug6', 0.6666666666666666, 'cell_line_a'), ('drug6', 0.6666666666666666, 'cell_line_b'), ('drug6', 0.6666666666666666, 'cell_line_c'), ('drug6', 0.6666666666666666, 'cell_line_d'), ('drug6', 0.6666666666666666, 'cell_line_e'), ('drug6', 0.6666666666666666, 'cell_line_f'), ('drug6', 0.6666666666666666, 'cell_line_g'), ('drug6', 0.6666666666666666, 'cell_line_h'), ('drug6', 0.6666666666666666, 'cell_line_i'), ('drug6', 0.6666666666666666, 'cell_line_j'), ('drug6', 0.6666666666666666, 'cell_line_k'), ('drug6', 0.6666666666666666, 'cell_line_l'), ('drug6', 0.6666666666666666, 'cell_line_m'), ('drug6', 0.6666666666666666, 'cell_line_n'), ('drug6', 0.6666666666666666, 'cell_line_o'), ('drug6', 0.6666666666666666, 'cell_line_p'), ('drug6', 0.6666666666666666, 'cell_line_q'), ('drug6', 0.6666666666666666, 'cell_line_r'), ('drug6', 0.6666666666666666, 'cell_line_s'), ('drug6', 0.6666666666666666, 'cell_line_t'), ('drug6', 0.6666666666666666, 'cell_line_u'), ('drug6', 0.6666666666666666, 'cell_line_v'), ('drug6', 0.6666666666666666, 'cell_line_w'), ('drug6', 0.6666666666666666, 'cell_line_x'), ('drug6', 0.6666666666666666, 'cell_line_y'), ('drug6', 0.6666666666666666, 'cell_line_z'), ('drug6', 0.6666666666666666, 'cell_line_{'), ('drug6', 0.6666666666666666, 'cell_line_|'), ('drug6', 0.6666666666666666, 'cell_line_}'), ('drug6', 0.6666666666666666, 'cell_line_~'), ('drug6', 1.0, 'cell_line_a'), ('drug6', 1.0, 'cell_line_b'), ('drug6', 1.0, 'cell_line_c'), ('drug6', 1.0, 'cell_line_d'), ('drug6', 1.0, 'cell_line_e'), ('drug6', 1.0, 'cell_line_f'), ('drug6', 1.0, 'cell_line_g'), ('drug6', 1.0, 'cell_line_h'), ('drug6', 1.0, 'cell_line_i'), ('drug6', 1.0, 'cell_line_j'), ('drug6', 1.0, 'cell_line_k'), ('drug6', 1.0, 'cell_line_l'), ('drug6', 1.0, 'cell_line_m'), ('drug6', 1.0, 'cell_line_n'), ('drug6', 1.0, 'cell_line_o'), ('drug6', 1.0, 'cell_line_p'), ('drug6', 1.0, 'cell_line_q'), ('drug6', 1.0, 'cell_line_r'), ('drug6', 1.0, 'cell_line_s'), ('drug6', 1.0, 'cell_line_t'), ('drug6', 1.0, 'cell_line_u'), ('drug6', 1.0, 'cell_line_v'), ('drug6', 1.0, 'cell_line_w'), ('drug6', 1.0, 'cell_line_x'), ('drug6', 1.0, 'cell_line_y'), ('drug6', 1.0, 'cell_line_z'), ('drug6', 1.0, 'cell_line_{'), ('drug6', 1.0, 'cell_line_|'), ('drug6', 1.0, 'cell_line_}'), ('drug6', 1.0, 'cell_line_~')])\n",
      "dict_keys([('drug1', 0.3333333333333333, 'cell_line_a'), ('drug1', 0.3333333333333333, 'cell_line_b'), ('drug1', 0.3333333333333333, 'cell_line_c'), ('drug1', 0.3333333333333333, 'cell_line_d'), ('drug1', 0.3333333333333333, 'cell_line_e'), ('drug1', 0.3333333333333333, 'cell_line_f'), ('drug1', 0.3333333333333333, 'cell_line_g'), ('drug1', 0.3333333333333333, 'cell_line_h'), ('drug1', 0.3333333333333333, 'cell_line_i'), ('drug1', 0.3333333333333333, 'cell_line_j'), ('drug1', 0.3333333333333333, 'cell_line_k'), ('drug1', 0.3333333333333333, 'cell_line_l'), ('drug1', 0.3333333333333333, 'cell_line_m'), ('drug1', 0.3333333333333333, 'cell_line_n'), ('drug1', 0.3333333333333333, 'cell_line_o'), ('drug1', 0.3333333333333333, 'cell_line_p'), ('drug1', 0.3333333333333333, 'cell_line_q'), ('drug1', 0.3333333333333333, 'cell_line_r'), ('drug1', 0.3333333333333333, 'cell_line_s'), ('drug1', 0.3333333333333333, 'cell_line_t'), ('drug1', 0.3333333333333333, 'cell_line_u'), ('drug1', 0.3333333333333333, 'cell_line_v'), ('drug1', 0.3333333333333333, 'cell_line_w'), ('drug1', 0.3333333333333333, 'cell_line_x'), ('drug1', 0.3333333333333333, 'cell_line_y'), ('drug1', 0.3333333333333333, 'cell_line_z'), ('drug1', 0.3333333333333333, 'cell_line_{'), ('drug1', 0.3333333333333333, 'cell_line_|'), ('drug1', 0.3333333333333333, 'cell_line_}'), ('drug1', 0.3333333333333333, 'cell_line_~'), ('drug1', 0.6666666666666666, 'cell_line_a'), ('drug1', 0.6666666666666666, 'cell_line_b'), ('drug1', 0.6666666666666666, 'cell_line_c'), ('drug1', 0.6666666666666666, 'cell_line_d'), ('drug1', 0.6666666666666666, 'cell_line_e'), ('drug1', 0.6666666666666666, 'cell_line_f'), ('drug1', 0.6666666666666666, 'cell_line_g'), ('drug1', 0.6666666666666666, 'cell_line_h'), ('drug1', 0.6666666666666666, 'cell_line_i'), ('drug1', 0.6666666666666666, 'cell_line_j'), ('drug1', 0.6666666666666666, 'cell_line_k'), ('drug1', 0.6666666666666666, 'cell_line_l'), ('drug1', 0.6666666666666666, 'cell_line_m'), ('drug1', 0.6666666666666666, 'cell_line_n'), ('drug1', 0.6666666666666666, 'cell_line_o'), ('drug1', 0.6666666666666666, 'cell_line_p'), ('drug1', 0.6666666666666666, 'cell_line_q'), ('drug1', 0.6666666666666666, 'cell_line_r'), ('drug1', 0.6666666666666666, 'cell_line_s'), ('drug1', 0.6666666666666666, 'cell_line_t'), ('drug1', 0.6666666666666666, 'cell_line_u'), ('drug1', 0.6666666666666666, 'cell_line_v'), ('drug1', 0.6666666666666666, 'cell_line_w'), ('drug1', 0.6666666666666666, 'cell_line_x'), ('drug1', 0.6666666666666666, 'cell_line_y'), ('drug1', 0.6666666666666666, 'cell_line_z'), ('drug1', 0.6666666666666666, 'cell_line_{'), ('drug1', 0.6666666666666666, 'cell_line_|'), ('drug1', 0.6666666666666666, 'cell_line_}'), ('drug1', 0.6666666666666666, 'cell_line_~'), ('drug1', 1.0, 'cell_line_a'), ('drug1', 1.0, 'cell_line_b'), ('drug1', 1.0, 'cell_line_c'), ('drug1', 1.0, 'cell_line_d'), ('drug1', 1.0, 'cell_line_e'), ('drug1', 1.0, 'cell_line_f'), ('drug1', 1.0, 'cell_line_g'), ('drug1', 1.0, 'cell_line_h'), ('drug1', 1.0, 'cell_line_i'), ('drug1', 1.0, 'cell_line_j'), ('drug1', 1.0, 'cell_line_k'), ('drug1', 1.0, 'cell_line_l'), ('drug1', 1.0, 'cell_line_m'), ('drug1', 1.0, 'cell_line_n'), ('drug1', 1.0, 'cell_line_o'), ('drug1', 1.0, 'cell_line_p'), ('drug1', 1.0, 'cell_line_q'), ('drug1', 1.0, 'cell_line_r'), ('drug1', 1.0, 'cell_line_s'), ('drug1', 1.0, 'cell_line_t'), ('drug1', 1.0, 'cell_line_u'), ('drug1', 1.0, 'cell_line_v'), ('drug1', 1.0, 'cell_line_w'), ('drug1', 1.0, 'cell_line_x'), ('drug1', 1.0, 'cell_line_y'), ('drug1', 1.0, 'cell_line_z'), ('drug1', 1.0, 'cell_line_{'), ('drug1', 1.0, 'cell_line_|'), ('drug1', 1.0, 'cell_line_}'), ('drug1', 1.0, 'cell_line_~'), ('drug2', 0.3333333333333333, 'cell_line_a'), ('drug2', 0.3333333333333333, 'cell_line_b'), ('drug2', 0.3333333333333333, 'cell_line_c'), ('drug2', 0.3333333333333333, 'cell_line_d'), ('drug2', 0.3333333333333333, 'cell_line_e'), ('drug2', 0.3333333333333333, 'cell_line_f'), ('drug2', 0.3333333333333333, 'cell_line_g'), ('drug2', 0.3333333333333333, 'cell_line_h'), ('drug2', 0.3333333333333333, 'cell_line_i'), ('drug2', 0.3333333333333333, 'cell_line_j'), ('drug2', 0.3333333333333333, 'cell_line_k'), ('drug2', 0.3333333333333333, 'cell_line_l'), ('drug2', 0.3333333333333333, 'cell_line_m'), ('drug2', 0.3333333333333333, 'cell_line_n'), ('drug2', 0.3333333333333333, 'cell_line_o'), ('drug2', 0.3333333333333333, 'cell_line_p'), ('drug2', 0.3333333333333333, 'cell_line_q'), ('drug2', 0.3333333333333333, 'cell_line_r'), ('drug2', 0.3333333333333333, 'cell_line_s'), ('drug2', 0.3333333333333333, 'cell_line_t'), ('drug2', 0.3333333333333333, 'cell_line_u'), ('drug2', 0.3333333333333333, 'cell_line_v'), ('drug2', 0.3333333333333333, 'cell_line_w'), ('drug2', 0.3333333333333333, 'cell_line_x'), ('drug2', 0.3333333333333333, 'cell_line_y'), ('drug2', 0.3333333333333333, 'cell_line_z'), ('drug2', 0.3333333333333333, 'cell_line_{'), ('drug2', 0.3333333333333333, 'cell_line_|'), ('drug2', 0.3333333333333333, 'cell_line_}'), ('drug2', 0.3333333333333333, 'cell_line_~'), ('drug2', 0.6666666666666666, 'cell_line_a'), ('drug2', 0.6666666666666666, 'cell_line_b'), ('drug2', 0.6666666666666666, 'cell_line_c'), ('drug2', 0.6666666666666666, 'cell_line_d'), ('drug2', 0.6666666666666666, 'cell_line_e'), ('drug2', 0.6666666666666666, 'cell_line_f'), ('drug2', 0.6666666666666666, 'cell_line_g'), ('drug2', 0.6666666666666666, 'cell_line_h'), ('drug2', 0.6666666666666666, 'cell_line_i'), ('drug2', 0.6666666666666666, 'cell_line_j'), ('drug2', 0.6666666666666666, 'cell_line_k'), ('drug2', 0.6666666666666666, 'cell_line_l'), ('drug2', 0.6666666666666666, 'cell_line_m'), ('drug2', 0.6666666666666666, 'cell_line_n'), ('drug2', 0.6666666666666666, 'cell_line_o'), ('drug2', 0.6666666666666666, 'cell_line_p'), ('drug2', 0.6666666666666666, 'cell_line_q'), ('drug2', 0.6666666666666666, 'cell_line_r'), ('drug2', 0.6666666666666666, 'cell_line_s'), ('drug2', 0.6666666666666666, 'cell_line_t'), ('drug2', 0.6666666666666666, 'cell_line_u'), ('drug2', 0.6666666666666666, 'cell_line_v'), ('drug2', 0.6666666666666666, 'cell_line_w'), ('drug2', 0.6666666666666666, 'cell_line_x'), ('drug2', 0.6666666666666666, 'cell_line_y'), ('drug2', 0.6666666666666666, 'cell_line_z'), ('drug2', 0.6666666666666666, 'cell_line_{'), ('drug2', 0.6666666666666666, 'cell_line_|'), ('drug2', 0.6666666666666666, 'cell_line_}'), ('drug2', 0.6666666666666666, 'cell_line_~'), ('drug2', 1.0, 'cell_line_a'), ('drug2', 1.0, 'cell_line_b'), ('drug2', 1.0, 'cell_line_c'), ('drug2', 1.0, 'cell_line_d'), ('drug2', 1.0, 'cell_line_e'), ('drug2', 1.0, 'cell_line_f'), ('drug2', 1.0, 'cell_line_g'), ('drug2', 1.0, 'cell_line_h'), ('drug2', 1.0, 'cell_line_i'), ('drug2', 1.0, 'cell_line_j'), ('drug2', 1.0, 'cell_line_k'), ('drug2', 1.0, 'cell_line_l'), ('drug2', 1.0, 'cell_line_m'), ('drug2', 1.0, 'cell_line_n'), ('drug2', 1.0, 'cell_line_o'), ('drug2', 1.0, 'cell_line_p'), ('drug2', 1.0, 'cell_line_q'), ('drug2', 1.0, 'cell_line_r'), ('drug2', 1.0, 'cell_line_s'), ('drug2', 1.0, 'cell_line_t'), ('drug2', 1.0, 'cell_line_u'), ('drug2', 1.0, 'cell_line_v'), ('drug2', 1.0, 'cell_line_w'), ('drug2', 1.0, 'cell_line_x'), ('drug2', 1.0, 'cell_line_y'), ('drug2', 1.0, 'cell_line_z'), ('drug2', 1.0, 'cell_line_{'), ('drug2', 1.0, 'cell_line_|'), ('drug2', 1.0, 'cell_line_}'), ('drug2', 1.0, 'cell_line_~'), ('drug3', 0.3333333333333333, 'cell_line_a'), ('drug3', 0.3333333333333333, 'cell_line_b'), ('drug3', 0.3333333333333333, 'cell_line_c'), ('drug3', 0.3333333333333333, 'cell_line_d'), ('drug3', 0.3333333333333333, 'cell_line_e'), ('drug3', 0.3333333333333333, 'cell_line_f'), ('drug3', 0.3333333333333333, 'cell_line_g'), ('drug3', 0.3333333333333333, 'cell_line_h'), ('drug3', 0.3333333333333333, 'cell_line_i'), ('drug3', 0.3333333333333333, 'cell_line_j'), ('drug3', 0.3333333333333333, 'cell_line_k'), ('drug3', 0.3333333333333333, 'cell_line_l'), ('drug3', 0.3333333333333333, 'cell_line_m'), ('drug3', 0.3333333333333333, 'cell_line_n'), ('drug3', 0.3333333333333333, 'cell_line_o'), ('drug3', 0.3333333333333333, 'cell_line_p'), ('drug3', 0.3333333333333333, 'cell_line_q'), ('drug3', 0.3333333333333333, 'cell_line_r'), ('drug3', 0.3333333333333333, 'cell_line_s'), ('drug3', 0.3333333333333333, 'cell_line_t'), ('drug3', 0.3333333333333333, 'cell_line_u'), ('drug3', 0.3333333333333333, 'cell_line_v'), ('drug3', 0.3333333333333333, 'cell_line_w'), ('drug3', 0.3333333333333333, 'cell_line_x'), ('drug3', 0.3333333333333333, 'cell_line_y'), ('drug3', 0.3333333333333333, 'cell_line_z'), ('drug3', 0.3333333333333333, 'cell_line_{'), ('drug3', 0.3333333333333333, 'cell_line_|'), ('drug3', 0.3333333333333333, 'cell_line_}'), ('drug3', 0.3333333333333333, 'cell_line_~'), ('drug3', 0.6666666666666666, 'cell_line_a'), ('drug3', 0.6666666666666666, 'cell_line_b'), ('drug3', 0.6666666666666666, 'cell_line_c'), ('drug3', 0.6666666666666666, 'cell_line_d'), ('drug3', 0.6666666666666666, 'cell_line_e'), ('drug3', 0.6666666666666666, 'cell_line_f'), ('drug3', 0.6666666666666666, 'cell_line_g'), ('drug3', 0.6666666666666666, 'cell_line_h'), ('drug3', 0.6666666666666666, 'cell_line_i'), ('drug3', 0.6666666666666666, 'cell_line_j'), ('drug3', 0.6666666666666666, 'cell_line_k'), ('drug3', 0.6666666666666666, 'cell_line_l'), ('drug3', 0.6666666666666666, 'cell_line_m'), ('drug3', 0.6666666666666666, 'cell_line_n'), ('drug3', 0.6666666666666666, 'cell_line_o'), ('drug3', 0.6666666666666666, 'cell_line_p'), ('drug3', 0.6666666666666666, 'cell_line_q'), ('drug3', 0.6666666666666666, 'cell_line_r'), ('drug3', 0.6666666666666666, 'cell_line_s'), ('drug3', 0.6666666666666666, 'cell_line_t'), ('drug3', 0.6666666666666666, 'cell_line_u'), ('drug3', 0.6666666666666666, 'cell_line_v'), ('drug3', 0.6666666666666666, 'cell_line_w'), ('drug3', 0.6666666666666666, 'cell_line_x'), ('drug3', 0.6666666666666666, 'cell_line_y'), ('drug3', 0.6666666666666666, 'cell_line_z'), ('drug3', 0.6666666666666666, 'cell_line_{'), ('drug3', 0.6666666666666666, 'cell_line_|'), ('drug3', 0.6666666666666666, 'cell_line_}'), ('drug3', 0.6666666666666666, 'cell_line_~'), ('drug3', 1.0, 'cell_line_a'), ('drug3', 1.0, 'cell_line_b'), ('drug3', 1.0, 'cell_line_c'), ('drug3', 1.0, 'cell_line_d'), ('drug3', 1.0, 'cell_line_e'), ('drug3', 1.0, 'cell_line_f'), ('drug3', 1.0, 'cell_line_g'), ('drug3', 1.0, 'cell_line_h'), ('drug3', 1.0, 'cell_line_i'), ('drug3', 1.0, 'cell_line_j'), ('drug3', 1.0, 'cell_line_k'), ('drug3', 1.0, 'cell_line_l'), ('drug3', 1.0, 'cell_line_m'), ('drug3', 1.0, 'cell_line_n'), ('drug3', 1.0, 'cell_line_o'), ('drug3', 1.0, 'cell_line_p'), ('drug3', 1.0, 'cell_line_q'), ('drug3', 1.0, 'cell_line_r'), ('drug3', 1.0, 'cell_line_s'), ('drug3', 1.0, 'cell_line_t'), ('drug3', 1.0, 'cell_line_u'), ('drug3', 1.0, 'cell_line_v'), ('drug3', 1.0, 'cell_line_w'), ('drug3', 1.0, 'cell_line_x'), ('drug3', 1.0, 'cell_line_y'), ('drug3', 1.0, 'cell_line_z'), ('drug3', 1.0, 'cell_line_{'), ('drug3', 1.0, 'cell_line_|'), ('drug3', 1.0, 'cell_line_}'), ('drug3', 1.0, 'cell_line_~'), ('drug4', 0.3333333333333333, 'cell_line_a'), ('drug4', 0.3333333333333333, 'cell_line_b'), ('drug4', 0.3333333333333333, 'cell_line_c'), ('drug4', 0.3333333333333333, 'cell_line_d'), ('drug4', 0.3333333333333333, 'cell_line_e'), ('drug4', 0.3333333333333333, 'cell_line_f'), ('drug4', 0.3333333333333333, 'cell_line_g'), ('drug4', 0.3333333333333333, 'cell_line_h'), ('drug4', 0.3333333333333333, 'cell_line_i'), ('drug4', 0.3333333333333333, 'cell_line_j'), ('drug4', 0.3333333333333333, 'cell_line_k'), ('drug4', 0.3333333333333333, 'cell_line_l'), ('drug4', 0.3333333333333333, 'cell_line_m'), ('drug4', 0.3333333333333333, 'cell_line_n'), ('drug4', 0.3333333333333333, 'cell_line_o'), ('drug4', 0.3333333333333333, 'cell_line_p'), ('drug4', 0.3333333333333333, 'cell_line_q'), ('drug4', 0.3333333333333333, 'cell_line_r'), ('drug4', 0.3333333333333333, 'cell_line_s'), ('drug4', 0.3333333333333333, 'cell_line_t'), ('drug4', 0.3333333333333333, 'cell_line_u'), ('drug4', 0.3333333333333333, 'cell_line_v'), ('drug4', 0.3333333333333333, 'cell_line_w'), ('drug4', 0.3333333333333333, 'cell_line_x'), ('drug4', 0.3333333333333333, 'cell_line_y'), ('drug4', 0.3333333333333333, 'cell_line_z'), ('drug4', 0.3333333333333333, 'cell_line_{'), ('drug4', 0.3333333333333333, 'cell_line_|'), ('drug4', 0.3333333333333333, 'cell_line_}'), ('drug4', 0.3333333333333333, 'cell_line_~'), ('drug4', 0.6666666666666666, 'cell_line_a'), ('drug4', 0.6666666666666666, 'cell_line_b'), ('drug4', 0.6666666666666666, 'cell_line_c'), ('drug4', 0.6666666666666666, 'cell_line_d'), ('drug4', 0.6666666666666666, 'cell_line_e'), ('drug4', 0.6666666666666666, 'cell_line_f'), ('drug4', 0.6666666666666666, 'cell_line_g'), ('drug4', 0.6666666666666666, 'cell_line_h'), ('drug4', 0.6666666666666666, 'cell_line_i'), ('drug4', 0.6666666666666666, 'cell_line_j'), ('drug4', 0.6666666666666666, 'cell_line_k'), ('drug4', 0.6666666666666666, 'cell_line_l'), ('drug4', 0.6666666666666666, 'cell_line_m'), ('drug4', 0.6666666666666666, 'cell_line_n'), ('drug4', 0.6666666666666666, 'cell_line_o'), ('drug4', 0.6666666666666666, 'cell_line_p'), ('drug4', 0.6666666666666666, 'cell_line_q'), ('drug4', 0.6666666666666666, 'cell_line_r'), ('drug4', 0.6666666666666666, 'cell_line_s'), ('drug4', 0.6666666666666666, 'cell_line_t'), ('drug4', 0.6666666666666666, 'cell_line_u'), ('drug4', 0.6666666666666666, 'cell_line_v'), ('drug4', 0.6666666666666666, 'cell_line_w'), ('drug4', 0.6666666666666666, 'cell_line_x'), ('drug4', 0.6666666666666666, 'cell_line_y'), ('drug4', 0.6666666666666666, 'cell_line_z'), ('drug4', 0.6666666666666666, 'cell_line_{'), ('drug4', 0.6666666666666666, 'cell_line_|'), ('drug4', 0.6666666666666666, 'cell_line_}'), ('drug4', 0.6666666666666666, 'cell_line_~'), ('drug4', 1.0, 'cell_line_a'), ('drug4', 1.0, 'cell_line_b'), ('drug4', 1.0, 'cell_line_c'), ('drug4', 1.0, 'cell_line_d'), ('drug4', 1.0, 'cell_line_e'), ('drug4', 1.0, 'cell_line_f'), ('drug4', 1.0, 'cell_line_g'), ('drug4', 1.0, 'cell_line_h'), ('drug4', 1.0, 'cell_line_i'), ('drug4', 1.0, 'cell_line_j'), ('drug4', 1.0, 'cell_line_k'), ('drug4', 1.0, 'cell_line_l'), ('drug4', 1.0, 'cell_line_m'), ('drug4', 1.0, 'cell_line_n'), ('drug4', 1.0, 'cell_line_o'), ('drug4', 1.0, 'cell_line_p'), ('drug4', 1.0, 'cell_line_q'), ('drug4', 1.0, 'cell_line_r'), ('drug4', 1.0, 'cell_line_s'), ('drug4', 1.0, 'cell_line_t'), ('drug4', 1.0, 'cell_line_u'), ('drug4', 1.0, 'cell_line_v'), ('drug4', 1.0, 'cell_line_w'), ('drug4', 1.0, 'cell_line_x'), ('drug4', 1.0, 'cell_line_y'), ('drug4', 1.0, 'cell_line_z'), ('drug4', 1.0, 'cell_line_{'), ('drug4', 1.0, 'cell_line_|'), ('drug4', 1.0, 'cell_line_}'), ('drug4', 1.0, 'cell_line_~'), ('drug5', 0.3333333333333333, 'cell_line_a'), ('drug5', 0.3333333333333333, 'cell_line_b'), ('drug5', 0.3333333333333333, 'cell_line_c'), ('drug5', 0.3333333333333333, 'cell_line_d'), ('drug5', 0.3333333333333333, 'cell_line_e'), ('drug5', 0.3333333333333333, 'cell_line_f'), ('drug5', 0.3333333333333333, 'cell_line_g'), ('drug5', 0.3333333333333333, 'cell_line_h'), ('drug5', 0.3333333333333333, 'cell_line_i'), ('drug5', 0.3333333333333333, 'cell_line_j'), ('drug5', 0.3333333333333333, 'cell_line_k'), ('drug5', 0.3333333333333333, 'cell_line_l'), ('drug5', 0.3333333333333333, 'cell_line_m'), ('drug5', 0.3333333333333333, 'cell_line_n'), ('drug5', 0.3333333333333333, 'cell_line_o'), ('drug5', 0.3333333333333333, 'cell_line_p'), ('drug5', 0.3333333333333333, 'cell_line_q'), ('drug5', 0.3333333333333333, 'cell_line_r'), ('drug5', 0.3333333333333333, 'cell_line_s'), ('drug5', 0.3333333333333333, 'cell_line_t'), ('drug5', 0.3333333333333333, 'cell_line_u'), ('drug5', 0.3333333333333333, 'cell_line_v'), ('drug5', 0.3333333333333333, 'cell_line_w'), ('drug5', 0.3333333333333333, 'cell_line_x'), ('drug5', 0.3333333333333333, 'cell_line_y'), ('drug5', 0.3333333333333333, 'cell_line_z'), ('drug5', 0.3333333333333333, 'cell_line_{'), ('drug5', 0.3333333333333333, 'cell_line_|'), ('drug5', 0.3333333333333333, 'cell_line_}'), ('drug5', 0.3333333333333333, 'cell_line_~'), ('drug5', 0.6666666666666666, 'cell_line_a'), ('drug5', 0.6666666666666666, 'cell_line_b'), ('drug5', 0.6666666666666666, 'cell_line_c'), ('drug5', 0.6666666666666666, 'cell_line_d'), ('drug5', 0.6666666666666666, 'cell_line_e'), ('drug5', 0.6666666666666666, 'cell_line_f'), ('drug5', 0.6666666666666666, 'cell_line_g'), ('drug5', 0.6666666666666666, 'cell_line_h'), ('drug5', 0.6666666666666666, 'cell_line_i'), ('drug5', 0.6666666666666666, 'cell_line_j'), ('drug5', 0.6666666666666666, 'cell_line_k'), ('drug5', 0.6666666666666666, 'cell_line_l'), ('drug5', 0.6666666666666666, 'cell_line_m'), ('drug5', 0.6666666666666666, 'cell_line_n'), ('drug5', 0.6666666666666666, 'cell_line_o'), ('drug5', 0.6666666666666666, 'cell_line_p'), ('drug5', 0.6666666666666666, 'cell_line_q'), ('drug5', 0.6666666666666666, 'cell_line_r'), ('drug5', 0.6666666666666666, 'cell_line_s'), ('drug5', 0.6666666666666666, 'cell_line_t'), ('drug5', 0.6666666666666666, 'cell_line_u'), ('drug5', 0.6666666666666666, 'cell_line_v'), ('drug5', 0.6666666666666666, 'cell_line_w'), ('drug5', 0.6666666666666666, 'cell_line_x'), ('drug5', 0.6666666666666666, 'cell_line_y'), ('drug5', 0.6666666666666666, 'cell_line_z'), ('drug5', 0.6666666666666666, 'cell_line_{'), ('drug5', 0.6666666666666666, 'cell_line_|'), ('drug5', 0.6666666666666666, 'cell_line_}'), ('drug5', 0.6666666666666666, 'cell_line_~'), ('drug5', 1.0, 'cell_line_a'), ('drug5', 1.0, 'cell_line_b'), ('drug5', 1.0, 'cell_line_c'), ('drug5', 1.0, 'cell_line_d'), ('drug5', 1.0, 'cell_line_e'), ('drug5', 1.0, 'cell_line_f'), ('drug5', 1.0, 'cell_line_g'), ('drug5', 1.0, 'cell_line_h'), ('drug5', 1.0, 'cell_line_i'), ('drug5', 1.0, 'cell_line_j'), ('drug5', 1.0, 'cell_line_k'), ('drug5', 1.0, 'cell_line_l'), ('drug5', 1.0, 'cell_line_m'), ('drug5', 1.0, 'cell_line_n'), ('drug5', 1.0, 'cell_line_o'), ('drug5', 1.0, 'cell_line_p'), ('drug5', 1.0, 'cell_line_q'), ('drug5', 1.0, 'cell_line_r'), ('drug5', 1.0, 'cell_line_s'), ('drug5', 1.0, 'cell_line_t'), ('drug5', 1.0, 'cell_line_u'), ('drug5', 1.0, 'cell_line_v'), ('drug5', 1.0, 'cell_line_w'), ('drug5', 1.0, 'cell_line_x'), ('drug5', 1.0, 'cell_line_y'), ('drug5', 1.0, 'cell_line_z'), ('drug5', 1.0, 'cell_line_{'), ('drug5', 1.0, 'cell_line_|'), ('drug5', 1.0, 'cell_line_}'), ('drug5', 1.0, 'cell_line_~'), ('drug6', 0.3333333333333333, 'cell_line_a'), ('drug6', 0.3333333333333333, 'cell_line_b'), ('drug6', 0.3333333333333333, 'cell_line_c'), ('drug6', 0.3333333333333333, 'cell_line_d'), ('drug6', 0.3333333333333333, 'cell_line_e'), ('drug6', 0.3333333333333333, 'cell_line_f'), ('drug6', 0.3333333333333333, 'cell_line_g'), ('drug6', 0.3333333333333333, 'cell_line_h'), ('drug6', 0.3333333333333333, 'cell_line_i'), ('drug6', 0.3333333333333333, 'cell_line_j'), ('drug6', 0.3333333333333333, 'cell_line_k'), ('drug6', 0.3333333333333333, 'cell_line_l'), ('drug6', 0.3333333333333333, 'cell_line_m'), ('drug6', 0.3333333333333333, 'cell_line_n'), ('drug6', 0.3333333333333333, 'cell_line_o'), ('drug6', 0.3333333333333333, 'cell_line_p'), ('drug6', 0.3333333333333333, 'cell_line_q'), ('drug6', 0.3333333333333333, 'cell_line_r'), ('drug6', 0.3333333333333333, 'cell_line_s'), ('drug6', 0.3333333333333333, 'cell_line_t'), ('drug6', 0.3333333333333333, 'cell_line_u'), ('drug6', 0.3333333333333333, 'cell_line_v'), ('drug6', 0.3333333333333333, 'cell_line_w'), ('drug6', 0.3333333333333333, 'cell_line_x'), ('drug6', 0.3333333333333333, 'cell_line_y'), ('drug6', 0.3333333333333333, 'cell_line_z'), ('drug6', 0.3333333333333333, 'cell_line_{'), ('drug6', 0.3333333333333333, 'cell_line_|'), ('drug6', 0.3333333333333333, 'cell_line_}'), ('drug6', 0.3333333333333333, 'cell_line_~'), ('drug6', 0.6666666666666666, 'cell_line_a'), ('drug6', 0.6666666666666666, 'cell_line_b'), ('drug6', 0.6666666666666666, 'cell_line_c'), ('drug6', 0.6666666666666666, 'cell_line_d'), ('drug6', 0.6666666666666666, 'cell_line_e'), ('drug6', 0.6666666666666666, 'cell_line_f'), ('drug6', 0.6666666666666666, 'cell_line_g'), ('drug6', 0.6666666666666666, 'cell_line_h'), ('drug6', 0.6666666666666666, 'cell_line_i'), ('drug6', 0.6666666666666666, 'cell_line_j'), ('drug6', 0.6666666666666666, 'cell_line_k'), ('drug6', 0.6666666666666666, 'cell_line_l'), ('drug6', 0.6666666666666666, 'cell_line_m'), ('drug6', 0.6666666666666666, 'cell_line_n'), ('drug6', 0.6666666666666666, 'cell_line_o'), ('drug6', 0.6666666666666666, 'cell_line_p'), ('drug6', 0.6666666666666666, 'cell_line_q'), ('drug6', 0.6666666666666666, 'cell_line_r'), ('drug6', 0.6666666666666666, 'cell_line_s'), ('drug6', 0.6666666666666666, 'cell_line_t'), ('drug6', 0.6666666666666666, 'cell_line_u'), ('drug6', 0.6666666666666666, 'cell_line_v'), ('drug6', 0.6666666666666666, 'cell_line_w'), ('drug6', 0.6666666666666666, 'cell_line_x'), ('drug6', 0.6666666666666666, 'cell_line_y'), ('drug6', 0.6666666666666666, 'cell_line_z'), ('drug6', 0.6666666666666666, 'cell_line_{'), ('drug6', 0.6666666666666666, 'cell_line_|'), ('drug6', 0.6666666666666666, 'cell_line_}'), ('drug6', 0.6666666666666666, 'cell_line_~'), ('drug6', 1.0, 'cell_line_a'), ('drug6', 1.0, 'cell_line_b'), ('drug6', 1.0, 'cell_line_c'), ('drug6', 1.0, 'cell_line_d'), ('drug6', 1.0, 'cell_line_e'), ('drug6', 1.0, 'cell_line_f'), ('drug6', 1.0, 'cell_line_g'), ('drug6', 1.0, 'cell_line_h'), ('drug6', 1.0, 'cell_line_i'), ('drug6', 1.0, 'cell_line_j'), ('drug6', 1.0, 'cell_line_k'), ('drug6', 1.0, 'cell_line_l'), ('drug6', 1.0, 'cell_line_m'), ('drug6', 1.0, 'cell_line_n'), ('drug6', 1.0, 'cell_line_o'), ('drug6', 1.0, 'cell_line_p'), ('drug6', 1.0, 'cell_line_q'), ('drug6', 1.0, 'cell_line_r'), ('drug6', 1.0, 'cell_line_s'), ('drug6', 1.0, 'cell_line_t'), ('drug6', 1.0, 'cell_line_u'), ('drug6', 1.0, 'cell_line_v'), ('drug6', 1.0, 'cell_line_w'), ('drug6', 1.0, 'cell_line_x'), ('drug6', 1.0, 'cell_line_y'), ('drug6', 1.0, 'cell_line_z'), ('drug6', 1.0, 'cell_line_{'), ('drug6', 1.0, 'cell_line_|'), ('drug6', 1.0, 'cell_line_}'), ('drug6', 1.0, 'cell_line_~')])\n",
      "(21600, 50)\n",
      "(1, 54540)\n",
      "HERE IT IS DONE 2\n"
     ]
    }
   ],
   "source": [
    "cf.train(\n",
    "    num_iterations=10,\n",
    "    batch_size=1024,\n",
    "    callbacks=callbacks,\n",
    "    valid_freq=100,\n",
    "    prefetch_factor=3,\n",
    "    num_workers=8,\n",
    ")"
   ]
  },
  {
   "cell_type": "code",
   "execution_count": null,
   "metadata": {},
   "outputs": [],
   "source": []
  },
  {
   "cell_type": "code",
   "execution_count": null,
   "metadata": {},
   "outputs": [],
   "source": []
  }
 ],
 "metadata": {
  "kernelspec": {
   "display_name": "cellflow",
   "language": "python",
   "name": "python3"
  },
  "language_info": {
   "codemirror_mode": {
    "name": "ipython",
    "version": 3
   },
   "file_extension": ".py",
   "mimetype": "text/x-python",
   "name": "python",
   "nbconvert_exporter": "python",
   "pygments_lexer": "ipython3",
   "version": "3.11.11"
  }
 },
 "nbformat": 4,
 "nbformat_minor": 2
}
