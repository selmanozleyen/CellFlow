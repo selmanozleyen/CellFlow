{
 "cells": [
  {
   "cell_type": "code",
   "execution_count": 1,
   "metadata": {},
   "outputs": [],
   "source": [
    "%load_ext autoreload\n",
    "%autoreload 2\n",
    "\n",
    "\n",
    "import numpy as np\n",
    "import pandas as pd\n",
    "import anndata as ad\n",
    "import numpy as np\n",
    "import pandas as pd\n",
    "import jax.numpy as jnp\n",
    "import jax\n",
    "jax.config.update(\"jax_default_device\", jax.devices()[0])"
   ]
  },
  {
   "cell_type": "code",
   "execution_count": null,
   "metadata": {},
   "outputs": [],
   "source": [
    "def create_synthetic_data(\n",
    "    n_genes=50,\n",
    "    n_control_cells=40,\n",
    "    n_drugs=6,\n",
    "    dosages_per_drug=3,\n",
    "    cells_per_condition=50,\n",
    "    n_cell_types=30,\n",
    "    cell_type_embed_dim=50,\n",
    "    drug_embed_dim=50,\n",
    "):\n",
    "    \"\"\"\n",
    "    Creates a synthetic AnnData object with multiple dosages per drug.\n",
    "\n",
    "    Parameters\n",
    "    ----------\n",
    "    n_genes : int\n",
    "        Number of genes to simulate\n",
    "    n_control_cells : int\n",
    "        Number of control cells per cell type\n",
    "    n_drugs : int\n",
    "        Total number of distinct drugs\n",
    "    dosages_per_drug : int\n",
    "        Number of different dosages for each drug\n",
    "    cells_per_condition : int\n",
    "        Number of cells per drug-dosage condition\n",
    "    n_cell_types : int\n",
    "        Number of cell types\n",
    "    cell_type_embed_dim : int\n",
    "        Embedding dimension for cell types\n",
    "    drug_embed_dim : int\n",
    "        Embedding dimension for drugs\n",
    "\n",
    "    Returns\n",
    "    -------\n",
    "    dict\n",
    "        Dictionary containing all DataManager parameters\n",
    "    \"\"\"\n",
    "\n",
    "    # Create cell type names\n",
    "    n_batches = n_cell_types\n",
    "    cell_type_names = [f\"cell_line_{chr(97 + i)}\" for i in range(n_cell_types)]\n",
    "    batch_names = [f\"batch_{i+1}\" for i in range(n_batches)]  # New: create batch names\n",
    "\n",
    "    # Calculate total cells\n",
    "    total_conditions = n_drugs * dosages_per_drug  # Total conditions excluding control\n",
    "    total_cells_per_type = n_control_cells + (total_conditions * cells_per_condition)\n",
    "    n_cells = n_cell_types * total_cells_per_type\n",
    "\n",
    "    # Initialize lists for observation data\n",
    "    cell_type_list = []\n",
    "    control_list = []\n",
    "    drug_list = []\n",
    "    dosage_list = []\n",
    "    batch_list = []\n",
    "\n",
    "    # Generate data for each cell type\n",
    "    # shuffle batch_names\n",
    "    batch_names = np.random.permutation(batch_names)\n",
    "\n",
    "    for i,cell_type in enumerate(cell_type_names):\n",
    "        # Add control cells for this cell type\n",
    "        cell_type_list.extend([cell_type] * total_cells_per_type)\n",
    "        # Controls\n",
    "        control_list.extend([True] * n_control_cells)\n",
    "        drug_list.extend([\"control\"] * n_control_cells)\n",
    "        dosage_list.extend([0.0] * n_control_cells)\n",
    "        # batch_assignments = np.random.choice(batch_names[i], size=total_cells_per_type)\n",
    "        batch_list.extend([batch_names[i]] * total_cells_per_type)\n",
    "        # ensure that at lease one type is present \n",
    "\n",
    "\n",
    "        # Add perturbed cells for each drug-dosage combination\n",
    "        control_list.extend([False] * (total_conditions * cells_per_condition))\n",
    "\n",
    "        # Add drug-dosage combinations\n",
    "        for drug_idx in range(1, n_drugs + 1):\n",
    "            for dosage_idx in range(1, dosages_per_drug + 1):\n",
    "                # Calculate dosage value (e.g., 0.1, 0.5, 1.0)\n",
    "                dosage_value = dosage_idx / dosages_per_drug  # Normalize to [0,1] range\n",
    "\n",
    "                # Add this drug-dosage combination\n",
    "                drug_list.extend([f\"drug{drug_idx}\"] * cells_per_condition)\n",
    "                dosage_list.extend([dosage_value] * cells_per_condition)\n",
    "\n",
    "    # Generate random expression data\n",
    "    X = np.random.normal(size=(n_cells, n_genes))\n",
    "\n",
    "    # Create observation DataFrame\n",
    "    obs = pd.DataFrame(\n",
    "        {\n",
    "            \"control\": control_list,\n",
    "            \"cell_type\": pd.Categorical(cell_type_list),\n",
    "            \"drug\": pd.Categorical(drug_list),\n",
    "            \"dosage\": dosage_list,\n",
    "            \"batch\": pd.Categorical(batch_list),\n",
    "        }\n",
    "    )\n",
    "\n",
    "\n",
    "\n",
    "    # Create AnnData object\n",
    "    adata = ad.AnnData(X, obs=obs)\n",
    "\n",
    "    # Add representations to uns (for covariate embeddings)\n",
    "    adata.uns[\"drug\"] = {\n",
    "        \"control\": np.zeros(drug_embed_dim),\n",
    "    }\n",
    "\n",
    "    # Add drug embeddings\n",
    "    for i in range(1, n_drugs + 1):\n",
    "        adata.uns[\"drug\"][f\"drug{i}\"] = np.random.normal(size=(drug_embed_dim,))\n",
    "\n",
    "    # Add cell type embeddings\n",
    "    adata.uns[\"cell_type\"] = {}\n",
    "    adata.uns[\"batch\"] = {}\n",
    "    for cell_type in cell_type_names:\n",
    "        adata.uns[\"cell_type\"][cell_type] = np.random.normal(\n",
    "            size=(cell_type_embed_dim,)\n",
    "        )\n",
    "    for batch in batch_names:\n",
    "        adata.uns[\"batch\"][batch] = np.random.normal(\n",
    "            size=(cell_type_embed_dim,)\n",
    "        )\n",
    "\n",
    "    # Define parameters for DataManager\n",
    "    sample_rep = \"X\"\n",
    "    control_key = \"control\"\n",
    "    split_covariates = [\"cell_type\",\"batch\"]\n",
    "\n",
    "    # Here we use a simpler structure with just one drug and dosage column\n",
    "    # perturbation_covariates = {\"drug\": [\"drug\"], \"dosage\": [\"dosage\"]}\n",
    "    # perturbation_covariate_reps = {\"drug\": \"drug\"}\n",
    "    # sample_covariates = [\"cell_type\", \"batch\"]\n",
    "    # sample_covariate_reps = {\"cell_type\": \"cell_type\", \"batch\": \"batch\"}\n",
    "    perturbation_covariates = {\"drug\": [\"drug\"], \"treatment\": [\"treatment\"]}\n",
    "    \n",
    "\n",
    "\n",
    "    # Return a dictionary with all required parameters\n",
    "    return {\n",
    "        \"adata\": adata,\n",
    "        \"sample_rep\": sample_rep,\n",
    "        \"control_key\": control_key,\n",
    "        \"split_covariates\": split_covariates,\n",
    "        \"perturbation_covariates\": perturbation_covariates,\n",
    "        \"perturbation_covariate_reps\": perturbation_covariate_reps,\n",
    "        \"sample_covariates\": sample_covariates,\n",
    "        \"sample_covariate_reps\": sample_covariate_reps,\n",
    "    }\n"
   ]
  },
  {
   "cell_type": "code",
   "execution_count": 3,
   "metadata": {},
   "outputs": [
    {
     "name": "stderr",
     "output_type": "stream",
     "text": [
      "/Users/selman/miniforge3/envs/cellflow/lib/python3.11/site-packages/anndata/_core/aligned_df.py:68: ImplicitModificationWarning: Transforming to str index.\n",
      "  warnings.warn(\"Transforming to str index.\", ImplicitModificationWarning)\n"
     ]
    }
   ],
   "source": [
    "# Now you can initialize the DataManager\n",
    "from cellflow.data._datamanager import DataManager\n",
    "\n",
    "dm_args = create_synthetic_data()\n",
    "\n",
    "dm = DataManager(\n",
    "    **dm_args    \n",
    ")"
   ]
  },
  {
   "cell_type": "code",
   "execution_count": 4,
   "metadata": {},
   "outputs": [],
   "source": [
    "from cellflow.model._cellflow import CellFlow\n",
    "\n",
    "cf = CellFlow(adata=dm_args[\"adata\"],) "
   ]
  },
  {
   "cell_type": "code",
   "execution_count": 5,
   "metadata": {},
   "outputs": [],
   "source": [
    "import functools\n",
    "\n",
    "import cellflow\n",
    "import scanpy as sc\n",
    "import numpy as np\n",
    "import functools\n",
    "from ott.solvers import utils as solver_utils\n",
    "import optax\n",
    "import anndata as ad"
   ]
  },
  {
   "cell_type": "code",
   "execution_count": 6,
   "metadata": {},
   "outputs": [
    {
     "data": {
      "text/plain": [
       "{'adata': AnnData object with n_obs × n_vars = 28200 × 50\n",
       "     obs: 'control', 'cell_type', 'drug', 'dosage', 'batch'\n",
       "     uns: 'drug', 'cell_type', 'batch',\n",
       " 'sample_rep': 'X',\n",
       " 'control_key': 'control',\n",
       " 'split_covariates': ['cell_type', 'batch'],\n",
       " 'perturbation_covariates': {'drug': ['drug'], 'dosage': ['dosage']},\n",
       " 'perturbation_covariate_reps': {'drug': 'drug'},\n",
       " 'sample_covariates': ['cell_type', 'batch'],\n",
       " 'sample_covariate_reps': {'cell_type': 'cell_type', 'batch': 'batch'}}"
      ]
     },
     "execution_count": 6,
     "metadata": {},
     "output_type": "execute_result"
    }
   ],
   "source": [
    "dm_args"
   ]
  },
  {
   "cell_type": "code",
   "execution_count": 7,
   "metadata": {},
   "outputs": [],
   "source": [
    "perturbation_covariates = dm_args[\"perturbation_covariates\"]\n",
    "perturbation_covariate_reps = dm_args[\"perturbation_covariate_reps\"]\n",
    "sample_covariates = dm_args[\"sample_covariates\"]\n",
    "sample_covariate_reps = dm_args[\"sample_covariate_reps\"]\n"
   ]
  },
  {
   "cell_type": "code",
   "execution_count": 8,
   "metadata": {},
   "outputs": [],
   "source": [
    "adata = dm_args[\"adata\"]"
   ]
  },
  {
   "cell_type": "code",
   "execution_count": 9,
   "metadata": {},
   "outputs": [
    {
     "name": "stdout",
     "output_type": "stream",
     "text": [
      "[########################################] | 100% Completed | 108.06 ms\n",
      "[########################################] | 100% Completed | 104.61 ms\n",
      "[########################################] | 100% Completed | 1.37 sms\n",
      "Finished preparing data\n"
     ]
    }
   ],
   "source": [
    "cf.prepare_data(\n",
    "    sample_rep=\"X\",\n",
    "    control_key=\"control\",\n",
    "    perturbation_covariates=perturbation_covariates,\n",
    "    perturbation_covariate_reps=perturbation_covariate_reps,\n",
    "    sample_covariates=sample_covariates,\n",
    "    sample_covariate_reps=sample_covariate_reps,\n",
    "    split_covariates=dm_args[\"split_covariates\"],\n",
    ")\n",
    "print(\"Finished preparing data\")"
   ]
  },
  {
   "cell_type": "code",
   "execution_count": 10,
   "metadata": {},
   "outputs": [],
   "source": [
    "# condition_embedding_dim: 256\n",
    "# time_encoder_dims: [2048, 2048, 2048]\n",
    "# time_encoder_dropout: 0.0\n",
    "# hidden_dims: [2048, 2048, 2048]\n",
    "# hidden_dropout: 0.0\n",
    "# decoder_dims: [4096, 4096, 4096]\n",
    "# decoder_dropout: 0.2\n",
    "# pooling: \"mean\"\n",
    "# layers_before_pool: \n",
    "#   drugs:\n",
    "#     layer_type: mlp\n",
    "#     dims: [1024, 1024]\n",
    "#     dropout_rate: 0.5\n",
    "#   dose:\n",
    "#     layer_type: mlp\n",
    "#     dims: [256, 256]\n",
    "#     dropout_rate: 0.0\n",
    "#   cell_line:\n",
    "#     layer_type: mlp\n",
    "#     dims: [1024, 1024]\n",
    "#     dropout_rate: 0.2\n",
    "# layers_after_pool:\n",
    "#   layer_type: mlp\n",
    "#   dims: [1024, 1024]\n",
    "#   dropout_rate: 0.2\n",
    "# cond_output_dropout: 0.9\n",
    "# time_freqs: 1024\n",
    "# flow_noise: 1.0\n",
    "# learning_rate: 0.00005\n",
    "# multi_steps: 20\n",
    "# epsilon: 1.0\n",
    "# tau_a: 1.0\n",
    "# tau_b: 1.0\n",
    "# flow_type: \"constant_noise\"\n",
    "# linear_projection_before_concatenation: False\n",
    "# layer_norm_before_concatenation: False"
   ]
  },
  {
   "cell_type": "code",
   "execution_count": 11,
   "metadata": {},
   "outputs": [
    {
     "name": "stdout",
     "output_type": "stream",
     "text": [
      "Preparing model...\n",
      "Begin training\n"
     ]
    }
   ],
   "source": [
    "\n",
    "\n",
    "\n",
    "match_fn = functools.partial(\n",
    "    solver_utils.match_linear,\n",
    "    epsilon=1.0,\n",
    "    scale_cost=\"mean\",\n",
    "    tau_a=1.0,\n",
    "    tau_b=1.0,\n",
    ")\n",
    "optimizer = optax.MultiSteps(optax.adam(0.00005), 20)\n",
    "flow = {\n",
    "        \"constant_noise\": 1.0}\n",
    "layers_before_pool = {\n",
    "    \"drug\": {\n",
    "        \"layer_type\": \"mlp\",\n",
    "        \"dims\": [1024, 1024],\n",
    "        \"dropout_rate\": 0.5,\n",
    "    },\n",
    "    \"dosage\": {\n",
    "        \"layer_type\": \"mlp\",\n",
    "        \"dims\": [256, 256],\n",
    "        \"dropout_rate\": 0.0,\n",
    "    },\n",
    "    \"cell_type\": {\n",
    "        \"layer_type\": \"mlp\",\n",
    "        \"dims\": [1024, 1024],\n",
    "        \"dropout_rate\": 0.2,\n",
    "    },\n",
    "    \"batch\": {\n",
    "        \"layer_type\": \"mlp\",\n",
    "        \"dims\": [1024, 1024],\n",
    "        \"dropout_rate\": 0.2,\n",
    "    },\n",
    "}\n",
    "layers_after_pool = {\n",
    "    \"layer_type\": \"mlp\",\n",
    "    \"dims\": [1024, 1024],\n",
    "    \"dropout_rate\": 0.2,\n",
    "}\n",
    "condition_embedding_dim = 256\n",
    "pooling = \"mean\"\n",
    "time_encoder_dims = [2048, 2048, 2048]\n",
    "time_encoder_dropout = 0.0\n",
    "hidden_dims = [2048, 2048, 2048]\n",
    "hidden_dropout = 0.0\n",
    "decoder_dims = [4096, 4096, 4096]\n",
    "decoder_dropout = 0.2\n",
    "cond_output_dropout = 0.9\n",
    "time_freqs = 1024\n",
    "layer_norm_before_concatenation = False\n",
    "linear_projection_before_concatenation = False\n",
    "# Prepare the model\n",
    "print(\"Preparing model...\")\n",
    "cf.prepare_model(\n",
    "    encode_conditions=True,\n",
    "    condition_embedding_dim=condition_embedding_dim,\n",
    "    pooling=pooling,\n",
    "    time_encoder_dims=time_encoder_dims,\n",
    "    time_encoder_dropout=time_encoder_dropout,\n",
    "    hidden_dims=hidden_dims,\n",
    "    hidden_dropout=hidden_dropout,\n",
    "    decoder_dims=decoder_dims,\n",
    "    decoder_dropout=decoder_dropout,\n",
    "    layers_before_pool=layers_before_pool,\n",
    "    layers_after_pool=layers_after_pool,\n",
    "    cond_output_dropout=cond_output_dropout,\n",
    "    time_freqs=time_freqs,\n",
    "    match_fn=match_fn,\n",
    "    optimizer=optimizer,\n",
    "    flow=flow,\n",
    "    layer_norm_before_concatenation=False,\n",
    "    linear_projection_before_concatenation=False,\n",
    ")\n",
    "print(\"Begin training\")\n"
   ]
  },
  {
   "cell_type": "code",
   "execution_count": 12,
   "metadata": {},
   "outputs": [
    {
     "name": "stdout",
     "output_type": "stream",
     "text": [
      "[########################################] | 100% Completed | 110.13 ms\n",
      "[########################################] | 100% Completed | 1.27 sms\n",
      "[########################################] | 100% Completed | 103.69 ms\n",
      "[########################################] | 100% Completed | 1.16 sms\n"
     ]
    }
   ],
   "source": [
    "\n",
    "cf.prepare_validation_data(\n",
    "    adata,\n",
    "    name=\"train\",\n",
    "    n_conditions_on_log_iteration=10,\n",
    "    n_conditions_on_train_end=10,\n",
    ")\n",
    "\n",
    "cf.prepare_validation_data(\n",
    "    adata,\n",
    "    name=\"test\",\n",
    "    n_conditions_on_log_iteration=None,\n",
    "    n_conditions_on_train_end=None,\n",
    ")"
   ]
  },
  {
   "cell_type": "code",
   "execution_count": 13,
   "metadata": {},
   "outputs": [],
   "source": [
    "import cellflow"
   ]
  },
  {
   "cell_type": "code",
   "execution_count": 14,
   "metadata": {},
   "outputs": [],
   "source": [
    "metrics_callback = cellflow.training.Metrics(metrics=[\"r_squared\", \"mmd\", \"e_distance\"])\n",
    "\n",
    "# we don't pass the wandb_callback as it requires a user-specific account, but recommend setting it up\n",
    "callbacks = [metrics_callback]"
   ]
  },
  {
   "cell_type": "code",
   "execution_count": null,
   "metadata": {},
   "outputs": [
    {
     "name": "stderr",
     "output_type": "stream",
     "text": [
      "100%|██████████| 1/1 [00:03<00:00,  3.45s/it]\n"
     ]
    }
   ],
   "source": [
    "cf.train(\n",
    "    num_iterations=1,\n",
    "    batch_size=100,\n",
    "    callbacks=callbacks,\n",
    "    valid_freq=100,\n",
    "    prefetch_factor=3,\n",
    "    num_workers=8,\n",
    ")"
   ]
  },
  {
   "cell_type": "code",
   "execution_count": null,
   "metadata": {},
   "outputs": [],
   "source": [
    "self = cf.train_data.data_manager"
   ]
  },
  {
   "cell_type": "code",
   "execution_count": null,
   "metadata": {},
   "outputs": [
    {
     "data": {
      "text/plain": [
       "['batch', 'cell_type', 'dosage', 'drug']"
      ]
     },
     "execution_count": 22,
     "metadata": {},
     "output_type": "execute_result"
    }
   ],
   "source": [
    "sorted(set(self._split_covariates + self._perturb_covar_keys))"
   ]
  },
  {
   "cell_type": "code",
   "execution_count": null,
   "metadata": {},
   "outputs": [],
   "source": []
  }
 ],
 "metadata": {
  "kernelspec": {
   "display_name": "cellflow",
   "language": "python",
   "name": "python3"
  },
  "language_info": {
   "codemirror_mode": {
    "name": "ipython",
    "version": 3
   },
   "file_extension": ".py",
   "mimetype": "text/x-python",
   "name": "python",
   "nbconvert_exporter": "python",
   "pygments_lexer": "ipython3",
   "version": "3.11.11"
  }
 },
 "nbformat": 4,
 "nbformat_minor": 2
}
