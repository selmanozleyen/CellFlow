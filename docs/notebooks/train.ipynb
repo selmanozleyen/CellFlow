{
 "cells": [
  {
   "cell_type": "code",
   "execution_count": 26,
   "metadata": {},
   "outputs": [
    {
     "name": "stdout",
     "output_type": "stream",
     "text": [
      "The autoreload extension is already loaded. To reload it, use:\n",
      "  %reload_ext autoreload\n"
     ]
    }
   ],
   "source": [
    "%load_ext autoreload\n",
    "%autoreload 2\n",
    "\n",
    "\n",
    "import numpy as np\n",
    "import pandas as pd\n",
    "import anndata as ad\n",
    "import numpy as np\n",
    "import pandas as pd\n",
    "import jax.numpy as jnp\n",
    "import jax\n",
    "jax.config.update(\"jax_default_device\", jax.devices()[0])"
   ]
  },
  {
   "cell_type": "code",
   "execution_count": 27,
   "metadata": {},
   "outputs": [],
   "source": [
    "def create_synthetic_data(\n",
    "    n_genes=50,\n",
    "    n_control_cells=40,\n",
    "    n_drugs=6,\n",
    "    dosages_per_drug=3,\n",
    "    cells_per_condition=50,\n",
    "    n_cell_types=30,\n",
    "    cell_type_embed_dim=50,\n",
    "    drug_embed_dim=50,\n",
    "):\n",
    "    \"\"\"\n",
    "    Creates a synthetic AnnData object with multiple dosages per drug.\n",
    "\n",
    "    Parameters\n",
    "    ----------\n",
    "    n_genes : int\n",
    "        Number of genes to simulate\n",
    "    n_control_cells : int\n",
    "        Number of control cells per cell type\n",
    "    n_drugs : int\n",
    "        Total number of distinct drugs\n",
    "    dosages_per_drug : int\n",
    "        Number of different dosages for each drug\n",
    "    cells_per_condition : int\n",
    "        Number of cells per drug-dosage condition\n",
    "    n_cell_types : int\n",
    "        Number of cell types\n",
    "    cell_type_embed_dim : int\n",
    "        Embedding dimension for cell types\n",
    "    drug_embed_dim : int\n",
    "        Embedding dimension for drugs\n",
    "\n",
    "    Returns\n",
    "    -------\n",
    "    dict\n",
    "        Dictionary containing all DataManager parameters\n",
    "    \"\"\"\n",
    "\n",
    "    # Create cell type names\n",
    "    n_batches = n_cell_types\n",
    "    cell_type_names = [f\"cell_line_{chr(97 + i)}\" for i in range(n_cell_types)]\n",
    "    batch_names = [f\"batch_{i+1}\" for i in range(n_batches)]  # New: create batch names\n",
    "\n",
    "    # Calculate total cells\n",
    "    total_conditions = n_drugs * dosages_per_drug  # Total conditions excluding control\n",
    "    total_cells_per_type = n_control_cells + (total_conditions * cells_per_condition)\n",
    "    n_cells = n_cell_types * total_cells_per_type\n",
    "\n",
    "    # Initialize lists for observation data\n",
    "    cell_type_list = []\n",
    "    control_list = []\n",
    "    drug_list = []\n",
    "    dosage_list = []\n",
    "    batch_list = []\n",
    "\n",
    "    # Generate data for each cell type\n",
    "    # shuffle batch_names\n",
    "    batch_names = np.random.permutation(batch_names)\n",
    "\n",
    "    for i,cell_type in enumerate(cell_type_names):\n",
    "        # Add control cells for this cell type\n",
    "        cell_type_list.extend([cell_type] * total_cells_per_type)\n",
    "        # Controls\n",
    "        control_list.extend([True] * n_control_cells)\n",
    "        drug_list.extend([\"control\"] * n_control_cells)\n",
    "        dosage_list.extend([0.0] * n_control_cells)\n",
    "        # batch_assignments = np.random.choice(batch_names[i], size=total_cells_per_type)\n",
    "        batch_list.extend([batch_names[i]] * total_cells_per_type)\n",
    "        # ensure that at lease one type is present \n",
    "\n",
    "\n",
    "        # Add perturbed cells for each drug-dosage combination\n",
    "        control_list.extend([False] * (total_conditions * cells_per_condition))\n",
    "\n",
    "        # Add drug-dosage combinations\n",
    "        for drug_idx in range(1, n_drugs + 1):\n",
    "            for dosage_idx in range(1, dosages_per_drug + 1):\n",
    "                # Calculate dosage value (e.g., 0.1, 0.5, 1.0)\n",
    "                dosage_value = dosage_idx / dosages_per_drug  # Normalize to [0,1] range\n",
    "\n",
    "                # Add this drug-dosage combination\n",
    "                drug_list.extend([f\"drug{drug_idx}\"] * cells_per_condition)\n",
    "                dosage_list.extend([dosage_value] * cells_per_condition)\n",
    "\n",
    "    # Generate random expression data\n",
    "    X = np.random.normal(size=(n_cells, n_genes))\n",
    "\n",
    "    # Create observation DataFrame\n",
    "    obs = pd.DataFrame(\n",
    "        {\n",
    "            \"control\": control_list,\n",
    "            \"cell_type\": pd.Categorical(cell_type_list),\n",
    "            \"drug\": pd.Categorical(drug_list),\n",
    "            \"dosage\": dosage_list,\n",
    "            # \"batch\": pd.Categorical(batch_list),\n",
    "        }\n",
    "    )\n",
    "\n",
    "\n",
    "\n",
    "    # Create AnnData object\n",
    "    adata = ad.AnnData(X, obs=obs)\n",
    "\n",
    "    # Add representations to uns (for covariate embeddings)\n",
    "    adata.uns[\"drug\"] = {\n",
    "        \"control\": np.zeros(drug_embed_dim),\n",
    "    }\n",
    "\n",
    "    # Add drug embeddings\n",
    "    for i in range(1, n_drugs + 1):\n",
    "        adata.uns[\"drug\"][f\"drug{i}\"] = np.random.normal(size=(drug_embed_dim,))\n",
    "\n",
    "    # Add cell type embeddings\n",
    "    adata.uns[\"cell_type\"] = {}\n",
    "    # adata.uns[\"batch\"] = {}\n",
    "    for cell_type in cell_type_names:\n",
    "        adata.uns[\"cell_type\"][cell_type] = np.random.normal(\n",
    "            size=(cell_type_embed_dim,)\n",
    "        )\n",
    "    # for batch in batch_names:\n",
    "    #     adata.uns[\"batch\"][batch] = np.random.normal(\n",
    "    #         size=(cell_type_embed_dim,)\n",
    "    #     )\n",
    "\n",
    "    # Define parameters for DataManager\n",
    "    sample_rep = \"X\"\n",
    "    control_key = \"control\"\n",
    "    split_covariates = [\"cell_type\",]\n",
    "\n",
    "    # Here we use a simpler structure with just one drug and dosage column\n",
    "    perturbation_covariates = {\"drug\": [\"drug\"], \"dosage\": [\"dosage\"]}\n",
    "    perturbation_covariate_reps = {\"drug\": \"drug\"}\n",
    "    sample_covariates = [\"cell_type\", ]\n",
    "    sample_covariate_reps = {\"cell_type\": \"cell_type\", }\n",
    "\n",
    "\n",
    "\n",
    "    # Return a dictionary with all required parameters\n",
    "    return {\n",
    "        \"adata\": adata,\n",
    "        \"sample_rep\": sample_rep,\n",
    "        \"control_key\": control_key,\n",
    "        \"split_covariates\": split_covariates,\n",
    "        \"perturbation_covariates\": perturbation_covariates,\n",
    "        \"perturbation_covariate_reps\": perturbation_covariate_reps,\n",
    "        \"sample_covariates\": sample_covariates,\n",
    "        \"sample_covariate_reps\": sample_covariate_reps,\n",
    "    }\n"
   ]
  },
  {
   "cell_type": "code",
   "execution_count": 28,
   "metadata": {},
   "outputs": [
    {
     "name": "stderr",
     "output_type": "stream",
     "text": [
      "/home/selman/miniforge3/envs/cellflow/lib/python3.11/site-packages/anndata/_core/aligned_df.py:68: ImplicitModificationWarning: Transforming to str index.\n",
      "  warnings.warn(\"Transforming to str index.\", ImplicitModificationWarning)\n"
     ]
    }
   ],
   "source": [
    "# Now you can initialize the DataManager\n",
    "from cellflow.data._datamanager import DataManager\n",
    "\n",
    "dm_args = create_synthetic_data()\n",
    "\n",
    "dm = DataManager(\n",
    "    **dm_args    \n",
    ")"
   ]
  },
  {
   "cell_type": "code",
   "execution_count": 29,
   "metadata": {},
   "outputs": [],
   "source": [
    "from cellflow.model._cellflow import CellFlow\n",
    "\n",
    "cf = CellFlow(adata=dm_args[\"adata\"],) "
   ]
  },
  {
   "cell_type": "code",
   "execution_count": 30,
   "metadata": {},
   "outputs": [],
   "source": [
    "import functools\n",
    "\n",
    "import cfp\n",
    "import scanpy as sc\n",
    "import numpy as np\n",
    "import functools\n",
    "from ott.solvers import utils as solver_utils\n",
    "import optax\n",
    "import anndata as ad"
   ]
  },
  {
   "cell_type": "code",
   "execution_count": 31,
   "metadata": {},
   "outputs": [
    {
     "data": {
      "text/plain": [
       "{'adata': AnnData object with n_obs × n_vars = 28200 × 50\n",
       "     obs: 'control', 'cell_type', 'drug', 'dosage'\n",
       "     uns: 'drug', 'cell_type',\n",
       " 'sample_rep': 'X',\n",
       " 'control_key': 'control',\n",
       " 'split_covariates': ['cell_type'],\n",
       " 'perturbation_covariates': {'drug': ['drug'], 'dosage': ['dosage']},\n",
       " 'perturbation_covariate_reps': {'drug': 'drug'},\n",
       " 'sample_covariates': ['cell_type'],\n",
       " 'sample_covariate_reps': {'cell_type': 'cell_type'}}"
      ]
     },
     "execution_count": 31,
     "metadata": {},
     "output_type": "execute_result"
    }
   ],
   "source": [
    "dm_args"
   ]
  },
  {
   "cell_type": "code",
   "execution_count": 32,
   "metadata": {},
   "outputs": [],
   "source": [
    "perturbation_covariates = dm_args[\"perturbation_covariates\"]\n",
    "perturbation_covariate_reps = dm_args[\"perturbation_covariate_reps\"]\n",
    "sample_covariates = dm_args[\"sample_covariates\"]\n",
    "sample_covariate_reps = dm_args[\"sample_covariate_reps\"]\n"
   ]
  },
  {
   "cell_type": "code",
   "execution_count": 33,
   "metadata": {},
   "outputs": [],
   "source": [
    "adata = dm_args[\"adata\"]"
   ]
  },
  {
   "cell_type": "code",
   "execution_count": 34,
   "metadata": {},
   "outputs": [
    {
     "name": "stdout",
     "output_type": "stream",
     "text": [
      "[########################################] | 100% Completed | 101.64 ms\n",
      "[########################################] | 100% Completed | 1.25 sms\n",
      "Finished preparing data\n"
     ]
    }
   ],
   "source": [
    "cf.prepare_data(\n",
    "    sample_rep=\"X\",\n",
    "    control_key=\"control\",\n",
    "    perturbation_covariates=perturbation_covariates,\n",
    "    perturbation_covariate_reps=perturbation_covariate_reps,\n",
    "    sample_covariates=sample_covariates,\n",
    "    sample_covariate_reps=sample_covariate_reps,\n",
    "    split_covariates=dm_args[\"split_covariates\"],\n",
    ")\n",
    "print(\"Finished preparing data\")"
   ]
  },
  {
   "cell_type": "code",
   "execution_count": 35,
   "metadata": {},
   "outputs": [],
   "source": [
    "# condition_embedding_dim: 256\n",
    "# time_encoder_dims: [2048, 2048, 2048]\n",
    "# time_encoder_dropout: 0.0\n",
    "# hidden_dims: [2048, 2048, 2048]\n",
    "# hidden_dropout: 0.0\n",
    "# decoder_dims: [4096, 4096, 4096]\n",
    "# decoder_dropout: 0.2\n",
    "# pooling: \"mean\"\n",
    "# layers_before_pool: \n",
    "#   drugs:\n",
    "#     layer_type: mlp\n",
    "#     dims: [1024, 1024]\n",
    "#     dropout_rate: 0.5\n",
    "#   dose:\n",
    "#     layer_type: mlp\n",
    "#     dims: [256, 256]\n",
    "#     dropout_rate: 0.0\n",
    "#   cell_line:\n",
    "#     layer_type: mlp\n",
    "#     dims: [1024, 1024]\n",
    "#     dropout_rate: 0.2\n",
    "# layers_after_pool:\n",
    "#   layer_type: mlp\n",
    "#   dims: [1024, 1024]\n",
    "#   dropout_rate: 0.2\n",
    "# cond_output_dropout: 0.9\n",
    "# time_freqs: 1024\n",
    "# flow_noise: 1.0\n",
    "# learning_rate: 0.00005\n",
    "# multi_steps: 20\n",
    "# epsilon: 1.0\n",
    "# tau_a: 1.0\n",
    "# tau_b: 1.0\n",
    "# flow_type: \"constant_noise\"\n",
    "# linear_projection_before_concatenation: False\n",
    "# layer_norm_before_concatenation: False"
   ]
  },
  {
   "cell_type": "code",
   "execution_count": 36,
   "metadata": {},
   "outputs": [
    {
     "name": "stdout",
     "output_type": "stream",
     "text": [
      "Preparing model...\n",
      "Begin training\n"
     ]
    }
   ],
   "source": [
    "\n",
    "\n",
    "\n",
    "match_fn = functools.partial(\n",
    "    solver_utils.match_linear,\n",
    "    epsilon=1.0,\n",
    "    scale_cost=\"mean\",\n",
    "    tau_a=1.0,\n",
    "    tau_b=1.0,\n",
    ")\n",
    "optimizer = optax.MultiSteps(optax.adam(0.00005), 20)\n",
    "flow = {\n",
    "        \"constant_noise\": 1.0}\n",
    "layers_before_pool = {\n",
    "    \"drug\": {\n",
    "        \"layer_type\": \"mlp\",\n",
    "        \"dims\": [1024, 1024],\n",
    "        \"dropout_rate\": 0.5,\n",
    "    },\n",
    "    \"dosage\": {\n",
    "        \"layer_type\": \"mlp\",\n",
    "        \"dims\": [256, 256],\n",
    "        \"dropout_rate\": 0.0,\n",
    "    },\n",
    "    \"cell_type\": {\n",
    "        \"layer_type\": \"mlp\",\n",
    "        \"dims\": [1024, 1024],\n",
    "        \"dropout_rate\": 0.2,\n",
    "    },\n",
    "}\n",
    "layers_after_pool = {\n",
    "    \"layer_type\": \"mlp\",\n",
    "    \"dims\": [1024, 1024],\n",
    "    \"dropout_rate\": 0.2,\n",
    "}\n",
    "condition_embedding_dim = 256\n",
    "pooling = \"mean\"\n",
    "time_encoder_dims = [2048, 2048, 2048]\n",
    "time_encoder_dropout = 0.0\n",
    "hidden_dims = [2048, 2048, 2048]\n",
    "hidden_dropout = 0.0\n",
    "decoder_dims = [4096, 4096, 4096]\n",
    "decoder_dropout = 0.2\n",
    "cond_output_dropout = 0.9\n",
    "time_freqs = 1024\n",
    "layer_norm_before_concatenation = False\n",
    "linear_projection_before_concatenation = False\n",
    "# Prepare the model\n",
    "print(\"Preparing model...\")\n",
    "cf.prepare_model(\n",
    "    encode_conditions=True,\n",
    "    condition_embedding_dim=condition_embedding_dim,\n",
    "    pooling=pooling,\n",
    "    time_encoder_dims=time_encoder_dims,\n",
    "    time_encoder_dropout=time_encoder_dropout,\n",
    "    hidden_dims=hidden_dims,\n",
    "    hidden_dropout=hidden_dropout,\n",
    "    decoder_dims=decoder_dims,\n",
    "    decoder_dropout=decoder_dropout,\n",
    "    layers_before_pool=layers_before_pool,\n",
    "    layers_after_pool=layers_after_pool,\n",
    "    cond_output_dropout=cond_output_dropout,\n",
    "    time_freqs=time_freqs,\n",
    "    match_fn=match_fn,\n",
    "    optimizer=optimizer,\n",
    "    flow=flow,\n",
    "    layer_norm_before_concatenation=False,\n",
    "    linear_projection_before_concatenation=False,\n",
    ")\n",
    "print(\"Begin training\")\n"
   ]
  },
  {
   "cell_type": "code",
   "execution_count": 37,
   "metadata": {},
   "outputs": [
    {
     "name": "stdout",
     "output_type": "stream",
     "text": [
      "[########################################] | 100% Completed | 101.59 ms\n",
      "[########################################] | 100% Completed | 1.25 sms\n",
      "[########################################] | 100% Completed | 101.88 ms\n",
      "[########################################] | 100% Completed | 1.25 sms\n"
     ]
    }
   ],
   "source": [
    "\n",
    "cf.prepare_validation_data(\n",
    "    adata,\n",
    "    name=\"train\",\n",
    "    n_conditions_on_log_iteration=10,\n",
    "    n_conditions_on_train_end=10,\n",
    ")\n",
    "\n",
    "cf.prepare_validation_data(\n",
    "    adata,\n",
    "    name=\"test\",\n",
    "    n_conditions_on_log_iteration=None,\n",
    "    n_conditions_on_train_end=None,\n",
    ")"
   ]
  },
  {
   "cell_type": "code",
   "execution_count": 38,
   "metadata": {},
   "outputs": [
    {
     "data": {
      "text/plain": [
       "540"
      ]
     },
     "execution_count": 38,
     "metadata": {},
     "output_type": "execute_result"
    }
   ],
   "source": [
    "len(cf._validation_data[\"test\"].perturbation_idx_to_covariates)"
   ]
  },
  {
   "cell_type": "code",
   "execution_count": 39,
   "metadata": {},
   "outputs": [],
   "source": [
    "import cellflow"
   ]
  },
  {
   "cell_type": "code",
   "execution_count": 40,
   "metadata": {},
   "outputs": [],
   "source": [
    "metrics_callback = cellflow.training.Metrics(metrics=[\"r_squared\", \"mmd\", \"e_distance\"])\n",
    "\n",
    "# we don't pass the wandb_callback as it requires a user-specific account, but recommend setting it up\n",
    "callbacks = [metrics_callback]"
   ]
  },
  {
   "cell_type": "code",
   "execution_count": 41,
   "metadata": {},
   "outputs": [
    {
     "data": {
      "text/plain": [
       "{CudaDevice(id=0)}"
      ]
     },
     "execution_count": 41,
     "metadata": {},
     "output_type": "execute_result"
    }
   ],
   "source": [
    "cf.solver.vf_state.params['condition_encoder']['after_pool_modules_mean_0']['kernel'].devices()"
   ]
  },
  {
   "cell_type": "code",
   "execution_count": 49,
   "metadata": {},
   "outputs": [
    {
     "name": "stderr",
     "output_type": "stream",
     "text": [
      "100%|██████████| 10/10 [00:01<00:00,  5.57it/s]\n"
     ]
    },
    {
     "name": "stdout",
     "output_type": "stream",
     "text": [
      "HERE IT IS DONE\n",
      "dict_keys([('drug1', 0.3333333333333333, 'cell_line_i'), ('drug1', 0.6666666666666666, 'cell_line_z'), ('drug1', 1.0, 'cell_line_j'), ('drug1', 1.0, 'cell_line_p'), ('drug2', 0.3333333333333333, 'cell_line_b'), ('drug2', 0.6666666666666666, 'cell_line_c'), ('drug2', 0.6666666666666666, 'cell_line_f'), ('drug3', 0.6666666666666666, 'cell_line_y'), ('drug3', 1.0, 'cell_line_a'), ('drug5', 1.0, 'cell_line_s')])\n",
      "dict_keys([('drug1', 0.3333333333333333, 'cell_line_i'), ('drug1', 0.6666666666666666, 'cell_line_z'), ('drug1', 1.0, 'cell_line_j'), ('drug1', 1.0, 'cell_line_p'), ('drug2', 0.3333333333333333, 'cell_line_b'), ('drug2', 0.6666666666666666, 'cell_line_c'), ('drug2', 0.6666666666666666, 'cell_line_f'), ('drug3', 0.6666666666666666, 'cell_line_y'), ('drug3', 1.0, 'cell_line_a'), ('drug5', 1.0, 'cell_line_s')])\n",
      "(400, 50)\n",
      "(1, 1010)\n",
      "dict_keys([('drug1', 0.3333333333333333, 'cell_line_a'), ('drug1', 0.3333333333333333, 'cell_line_b'), ('drug1', 0.3333333333333333, 'cell_line_c'), ('drug1', 0.3333333333333333, 'cell_line_d'), ('drug1', 0.3333333333333333, 'cell_line_e'), ('drug1', 0.3333333333333333, 'cell_line_f'), ('drug1', 0.3333333333333333, 'cell_line_g'), ('drug1', 0.3333333333333333, 'cell_line_h'), ('drug1', 0.3333333333333333, 'cell_line_i'), ('drug1', 0.3333333333333333, 'cell_line_j'), ('drug1', 0.3333333333333333, 'cell_line_k'), ('drug1', 0.3333333333333333, 'cell_line_l'), ('drug1', 0.3333333333333333, 'cell_line_m'), ('drug1', 0.3333333333333333, 'cell_line_n'), ('drug1', 0.3333333333333333, 'cell_line_o'), ('drug1', 0.3333333333333333, 'cell_line_p'), ('drug1', 0.3333333333333333, 'cell_line_q'), ('drug1', 0.3333333333333333, 'cell_line_r'), ('drug1', 0.3333333333333333, 'cell_line_s'), ('drug1', 0.3333333333333333, 'cell_line_t'), ('drug1', 0.3333333333333333, 'cell_line_u'), ('drug1', 0.3333333333333333, 'cell_line_v'), ('drug1', 0.3333333333333333, 'cell_line_w'), ('drug1', 0.3333333333333333, 'cell_line_x'), ('drug1', 0.3333333333333333, 'cell_line_y'), ('drug1', 0.3333333333333333, 'cell_line_z'), ('drug1', 0.3333333333333333, 'cell_line_{'), ('drug1', 0.3333333333333333, 'cell_line_|'), ('drug1', 0.3333333333333333, 'cell_line_}'), ('drug1', 0.3333333333333333, 'cell_line_~'), ('drug1', 0.6666666666666666, 'cell_line_a'), ('drug1', 0.6666666666666666, 'cell_line_b'), ('drug1', 0.6666666666666666, 'cell_line_c'), ('drug1', 0.6666666666666666, 'cell_line_d'), ('drug1', 0.6666666666666666, 'cell_line_e'), ('drug1', 0.6666666666666666, 'cell_line_f'), ('drug1', 0.6666666666666666, 'cell_line_g'), ('drug1', 0.6666666666666666, 'cell_line_h'), ('drug1', 0.6666666666666666, 'cell_line_i'), ('drug1', 0.6666666666666666, 'cell_line_j'), ('drug1', 0.6666666666666666, 'cell_line_k'), ('drug1', 0.6666666666666666, 'cell_line_l'), ('drug1', 0.6666666666666666, 'cell_line_m'), ('drug1', 0.6666666666666666, 'cell_line_n'), ('drug1', 0.6666666666666666, 'cell_line_o'), ('drug1', 0.6666666666666666, 'cell_line_p'), ('drug1', 0.6666666666666666, 'cell_line_q'), ('drug1', 0.6666666666666666, 'cell_line_r'), ('drug1', 0.6666666666666666, 'cell_line_s'), ('drug1', 0.6666666666666666, 'cell_line_t'), ('drug1', 0.6666666666666666, 'cell_line_u'), ('drug1', 0.6666666666666666, 'cell_line_v'), ('drug1', 0.6666666666666666, 'cell_line_w'), ('drug1', 0.6666666666666666, 'cell_line_x'), ('drug1', 0.6666666666666666, 'cell_line_y'), ('drug1', 0.6666666666666666, 'cell_line_z'), ('drug1', 0.6666666666666666, 'cell_line_{'), ('drug1', 0.6666666666666666, 'cell_line_|'), ('drug1', 0.6666666666666666, 'cell_line_}'), ('drug1', 0.6666666666666666, 'cell_line_~'), ('drug1', 1.0, 'cell_line_a'), ('drug1', 1.0, 'cell_line_b'), ('drug1', 1.0, 'cell_line_c'), ('drug1', 1.0, 'cell_line_d'), ('drug1', 1.0, 'cell_line_e'), ('drug1', 1.0, 'cell_line_f'), ('drug1', 1.0, 'cell_line_g'), ('drug1', 1.0, 'cell_line_h'), ('drug1', 1.0, 'cell_line_i'), ('drug1', 1.0, 'cell_line_j'), ('drug1', 1.0, 'cell_line_k'), ('drug1', 1.0, 'cell_line_l'), ('drug1', 1.0, 'cell_line_m'), ('drug1', 1.0, 'cell_line_n'), ('drug1', 1.0, 'cell_line_o'), ('drug1', 1.0, 'cell_line_p'), ('drug1', 1.0, 'cell_line_q'), ('drug1', 1.0, 'cell_line_r'), ('drug1', 1.0, 'cell_line_s'), ('drug1', 1.0, 'cell_line_t'), ('drug1', 1.0, 'cell_line_u'), ('drug1', 1.0, 'cell_line_v'), ('drug1', 1.0, 'cell_line_w'), ('drug1', 1.0, 'cell_line_x'), ('drug1', 1.0, 'cell_line_y'), ('drug1', 1.0, 'cell_line_z'), ('drug1', 1.0, 'cell_line_{'), ('drug1', 1.0, 'cell_line_|'), ('drug1', 1.0, 'cell_line_}'), ('drug1', 1.0, 'cell_line_~'), ('drug2', 0.3333333333333333, 'cell_line_a'), ('drug2', 0.3333333333333333, 'cell_line_b'), ('drug2', 0.3333333333333333, 'cell_line_c'), ('drug2', 0.3333333333333333, 'cell_line_d'), ('drug2', 0.3333333333333333, 'cell_line_e'), ('drug2', 0.3333333333333333, 'cell_line_f'), ('drug2', 0.3333333333333333, 'cell_line_g'), ('drug2', 0.3333333333333333, 'cell_line_h'), ('drug2', 0.3333333333333333, 'cell_line_i'), ('drug2', 0.3333333333333333, 'cell_line_j'), ('drug2', 0.3333333333333333, 'cell_line_k'), ('drug2', 0.3333333333333333, 'cell_line_l'), ('drug2', 0.3333333333333333, 'cell_line_m'), ('drug2', 0.3333333333333333, 'cell_line_n'), ('drug2', 0.3333333333333333, 'cell_line_o'), ('drug2', 0.3333333333333333, 'cell_line_p'), ('drug2', 0.3333333333333333, 'cell_line_q'), ('drug2', 0.3333333333333333, 'cell_line_r'), ('drug2', 0.3333333333333333, 'cell_line_s'), ('drug2', 0.3333333333333333, 'cell_line_t'), ('drug2', 0.3333333333333333, 'cell_line_u'), ('drug2', 0.3333333333333333, 'cell_line_v'), ('drug2', 0.3333333333333333, 'cell_line_w'), ('drug2', 0.3333333333333333, 'cell_line_x'), ('drug2', 0.3333333333333333, 'cell_line_y'), ('drug2', 0.3333333333333333, 'cell_line_z'), ('drug2', 0.3333333333333333, 'cell_line_{'), ('drug2', 0.3333333333333333, 'cell_line_|'), ('drug2', 0.3333333333333333, 'cell_line_}'), ('drug2', 0.3333333333333333, 'cell_line_~'), ('drug2', 0.6666666666666666, 'cell_line_a'), ('drug2', 0.6666666666666666, 'cell_line_b'), ('drug2', 0.6666666666666666, 'cell_line_c'), ('drug2', 0.6666666666666666, 'cell_line_d'), ('drug2', 0.6666666666666666, 'cell_line_e'), ('drug2', 0.6666666666666666, 'cell_line_f'), ('drug2', 0.6666666666666666, 'cell_line_g'), ('drug2', 0.6666666666666666, 'cell_line_h'), ('drug2', 0.6666666666666666, 'cell_line_i'), ('drug2', 0.6666666666666666, 'cell_line_j'), ('drug2', 0.6666666666666666, 'cell_line_k'), ('drug2', 0.6666666666666666, 'cell_line_l'), ('drug2', 0.6666666666666666, 'cell_line_m'), ('drug2', 0.6666666666666666, 'cell_line_n'), ('drug2', 0.6666666666666666, 'cell_line_o'), ('drug2', 0.6666666666666666, 'cell_line_p'), ('drug2', 0.6666666666666666, 'cell_line_q'), ('drug2', 0.6666666666666666, 'cell_line_r'), ('drug2', 0.6666666666666666, 'cell_line_s'), ('drug2', 0.6666666666666666, 'cell_line_t'), ('drug2', 0.6666666666666666, 'cell_line_u'), ('drug2', 0.6666666666666666, 'cell_line_v'), ('drug2', 0.6666666666666666, 'cell_line_w'), ('drug2', 0.6666666666666666, 'cell_line_x'), ('drug2', 0.6666666666666666, 'cell_line_y'), ('drug2', 0.6666666666666666, 'cell_line_z'), ('drug2', 0.6666666666666666, 'cell_line_{'), ('drug2', 0.6666666666666666, 'cell_line_|'), ('drug2', 0.6666666666666666, 'cell_line_}'), ('drug2', 0.6666666666666666, 'cell_line_~'), ('drug2', 1.0, 'cell_line_a'), ('drug2', 1.0, 'cell_line_b'), ('drug2', 1.0, 'cell_line_c'), ('drug2', 1.0, 'cell_line_d'), ('drug2', 1.0, 'cell_line_e'), ('drug2', 1.0, 'cell_line_f'), ('drug2', 1.0, 'cell_line_g'), ('drug2', 1.0, 'cell_line_h'), ('drug2', 1.0, 'cell_line_i'), ('drug2', 1.0, 'cell_line_j'), ('drug2', 1.0, 'cell_line_k'), ('drug2', 1.0, 'cell_line_l'), ('drug2', 1.0, 'cell_line_m'), ('drug2', 1.0, 'cell_line_n'), ('drug2', 1.0, 'cell_line_o'), ('drug2', 1.0, 'cell_line_p'), ('drug2', 1.0, 'cell_line_q'), ('drug2', 1.0, 'cell_line_r'), ('drug2', 1.0, 'cell_line_s'), ('drug2', 1.0, 'cell_line_t'), ('drug2', 1.0, 'cell_line_u'), ('drug2', 1.0, 'cell_line_v'), ('drug2', 1.0, 'cell_line_w'), ('drug2', 1.0, 'cell_line_x'), ('drug2', 1.0, 'cell_line_y'), ('drug2', 1.0, 'cell_line_z'), ('drug2', 1.0, 'cell_line_{'), ('drug2', 1.0, 'cell_line_|'), ('drug2', 1.0, 'cell_line_}'), ('drug2', 1.0, 'cell_line_~'), ('drug3', 0.3333333333333333, 'cell_line_a'), ('drug3', 0.3333333333333333, 'cell_line_b'), ('drug3', 0.3333333333333333, 'cell_line_c'), ('drug3', 0.3333333333333333, 'cell_line_d'), ('drug3', 0.3333333333333333, 'cell_line_e'), ('drug3', 0.3333333333333333, 'cell_line_f'), ('drug3', 0.3333333333333333, 'cell_line_g'), ('drug3', 0.3333333333333333, 'cell_line_h'), ('drug3', 0.3333333333333333, 'cell_line_i'), ('drug3', 0.3333333333333333, 'cell_line_j'), ('drug3', 0.3333333333333333, 'cell_line_k'), ('drug3', 0.3333333333333333, 'cell_line_l'), ('drug3', 0.3333333333333333, 'cell_line_m'), ('drug3', 0.3333333333333333, 'cell_line_n'), ('drug3', 0.3333333333333333, 'cell_line_o'), ('drug3', 0.3333333333333333, 'cell_line_p'), ('drug3', 0.3333333333333333, 'cell_line_q'), ('drug3', 0.3333333333333333, 'cell_line_r'), ('drug3', 0.3333333333333333, 'cell_line_s'), ('drug3', 0.3333333333333333, 'cell_line_t'), ('drug3', 0.3333333333333333, 'cell_line_u'), ('drug3', 0.3333333333333333, 'cell_line_v'), ('drug3', 0.3333333333333333, 'cell_line_w'), ('drug3', 0.3333333333333333, 'cell_line_x'), ('drug3', 0.3333333333333333, 'cell_line_y'), ('drug3', 0.3333333333333333, 'cell_line_z'), ('drug3', 0.3333333333333333, 'cell_line_{'), ('drug3', 0.3333333333333333, 'cell_line_|'), ('drug3', 0.3333333333333333, 'cell_line_}'), ('drug3', 0.3333333333333333, 'cell_line_~'), ('drug3', 0.6666666666666666, 'cell_line_a'), ('drug3', 0.6666666666666666, 'cell_line_b'), ('drug3', 0.6666666666666666, 'cell_line_c'), ('drug3', 0.6666666666666666, 'cell_line_d'), ('drug3', 0.6666666666666666, 'cell_line_e'), ('drug3', 0.6666666666666666, 'cell_line_f'), ('drug3', 0.6666666666666666, 'cell_line_g'), ('drug3', 0.6666666666666666, 'cell_line_h'), ('drug3', 0.6666666666666666, 'cell_line_i'), ('drug3', 0.6666666666666666, 'cell_line_j'), ('drug3', 0.6666666666666666, 'cell_line_k'), ('drug3', 0.6666666666666666, 'cell_line_l'), ('drug3', 0.6666666666666666, 'cell_line_m'), ('drug3', 0.6666666666666666, 'cell_line_n'), ('drug3', 0.6666666666666666, 'cell_line_o'), ('drug3', 0.6666666666666666, 'cell_line_p'), ('drug3', 0.6666666666666666, 'cell_line_q'), ('drug3', 0.6666666666666666, 'cell_line_r'), ('drug3', 0.6666666666666666, 'cell_line_s'), ('drug3', 0.6666666666666666, 'cell_line_t'), ('drug3', 0.6666666666666666, 'cell_line_u'), ('drug3', 0.6666666666666666, 'cell_line_v'), ('drug3', 0.6666666666666666, 'cell_line_w'), ('drug3', 0.6666666666666666, 'cell_line_x'), ('drug3', 0.6666666666666666, 'cell_line_y'), ('drug3', 0.6666666666666666, 'cell_line_z'), ('drug3', 0.6666666666666666, 'cell_line_{'), ('drug3', 0.6666666666666666, 'cell_line_|'), ('drug3', 0.6666666666666666, 'cell_line_}'), ('drug3', 0.6666666666666666, 'cell_line_~'), ('drug3', 1.0, 'cell_line_a'), ('drug3', 1.0, 'cell_line_b'), ('drug3', 1.0, 'cell_line_c'), ('drug3', 1.0, 'cell_line_d'), ('drug3', 1.0, 'cell_line_e'), ('drug3', 1.0, 'cell_line_f'), ('drug3', 1.0, 'cell_line_g'), ('drug3', 1.0, 'cell_line_h'), ('drug3', 1.0, 'cell_line_i'), ('drug3', 1.0, 'cell_line_j'), ('drug3', 1.0, 'cell_line_k'), ('drug3', 1.0, 'cell_line_l'), ('drug3', 1.0, 'cell_line_m'), ('drug3', 1.0, 'cell_line_n'), ('drug3', 1.0, 'cell_line_o'), ('drug3', 1.0, 'cell_line_p'), ('drug3', 1.0, 'cell_line_q'), ('drug3', 1.0, 'cell_line_r'), ('drug3', 1.0, 'cell_line_s'), ('drug3', 1.0, 'cell_line_t'), ('drug3', 1.0, 'cell_line_u'), ('drug3', 1.0, 'cell_line_v'), ('drug3', 1.0, 'cell_line_w'), ('drug3', 1.0, 'cell_line_x'), ('drug3', 1.0, 'cell_line_y'), ('drug3', 1.0, 'cell_line_z'), ('drug3', 1.0, 'cell_line_{'), ('drug3', 1.0, 'cell_line_|'), ('drug3', 1.0, 'cell_line_}'), ('drug3', 1.0, 'cell_line_~'), ('drug4', 0.3333333333333333, 'cell_line_a'), ('drug4', 0.3333333333333333, 'cell_line_b'), ('drug4', 0.3333333333333333, 'cell_line_c'), ('drug4', 0.3333333333333333, 'cell_line_d'), ('drug4', 0.3333333333333333, 'cell_line_e'), ('drug4', 0.3333333333333333, 'cell_line_f'), ('drug4', 0.3333333333333333, 'cell_line_g'), ('drug4', 0.3333333333333333, 'cell_line_h'), ('drug4', 0.3333333333333333, 'cell_line_i'), ('drug4', 0.3333333333333333, 'cell_line_j'), ('drug4', 0.3333333333333333, 'cell_line_k'), ('drug4', 0.3333333333333333, 'cell_line_l'), ('drug4', 0.3333333333333333, 'cell_line_m'), ('drug4', 0.3333333333333333, 'cell_line_n'), ('drug4', 0.3333333333333333, 'cell_line_o'), ('drug4', 0.3333333333333333, 'cell_line_p'), ('drug4', 0.3333333333333333, 'cell_line_q'), ('drug4', 0.3333333333333333, 'cell_line_r'), ('drug4', 0.3333333333333333, 'cell_line_s'), ('drug4', 0.3333333333333333, 'cell_line_t'), ('drug4', 0.3333333333333333, 'cell_line_u'), ('drug4', 0.3333333333333333, 'cell_line_v'), ('drug4', 0.3333333333333333, 'cell_line_w'), ('drug4', 0.3333333333333333, 'cell_line_x'), ('drug4', 0.3333333333333333, 'cell_line_y'), ('drug4', 0.3333333333333333, 'cell_line_z'), ('drug4', 0.3333333333333333, 'cell_line_{'), ('drug4', 0.3333333333333333, 'cell_line_|'), ('drug4', 0.3333333333333333, 'cell_line_}'), ('drug4', 0.3333333333333333, 'cell_line_~'), ('drug4', 0.6666666666666666, 'cell_line_a'), ('drug4', 0.6666666666666666, 'cell_line_b'), ('drug4', 0.6666666666666666, 'cell_line_c'), ('drug4', 0.6666666666666666, 'cell_line_d'), ('drug4', 0.6666666666666666, 'cell_line_e'), ('drug4', 0.6666666666666666, 'cell_line_f'), ('drug4', 0.6666666666666666, 'cell_line_g'), ('drug4', 0.6666666666666666, 'cell_line_h'), ('drug4', 0.6666666666666666, 'cell_line_i'), ('drug4', 0.6666666666666666, 'cell_line_j'), ('drug4', 0.6666666666666666, 'cell_line_k'), ('drug4', 0.6666666666666666, 'cell_line_l'), ('drug4', 0.6666666666666666, 'cell_line_m'), ('drug4', 0.6666666666666666, 'cell_line_n'), ('drug4', 0.6666666666666666, 'cell_line_o'), ('drug4', 0.6666666666666666, 'cell_line_p'), ('drug4', 0.6666666666666666, 'cell_line_q'), ('drug4', 0.6666666666666666, 'cell_line_r'), ('drug4', 0.6666666666666666, 'cell_line_s'), ('drug4', 0.6666666666666666, 'cell_line_t'), ('drug4', 0.6666666666666666, 'cell_line_u'), ('drug4', 0.6666666666666666, 'cell_line_v'), ('drug4', 0.6666666666666666, 'cell_line_w'), ('drug4', 0.6666666666666666, 'cell_line_x'), ('drug4', 0.6666666666666666, 'cell_line_y'), ('drug4', 0.6666666666666666, 'cell_line_z'), ('drug4', 0.6666666666666666, 'cell_line_{'), ('drug4', 0.6666666666666666, 'cell_line_|'), ('drug4', 0.6666666666666666, 'cell_line_}'), ('drug4', 0.6666666666666666, 'cell_line_~'), ('drug4', 1.0, 'cell_line_a'), ('drug4', 1.0, 'cell_line_b'), ('drug4', 1.0, 'cell_line_c'), ('drug4', 1.0, 'cell_line_d'), ('drug4', 1.0, 'cell_line_e'), ('drug4', 1.0, 'cell_line_f'), ('drug4', 1.0, 'cell_line_g'), ('drug4', 1.0, 'cell_line_h'), ('drug4', 1.0, 'cell_line_i'), ('drug4', 1.0, 'cell_line_j'), ('drug4', 1.0, 'cell_line_k'), ('drug4', 1.0, 'cell_line_l'), ('drug4', 1.0, 'cell_line_m'), ('drug4', 1.0, 'cell_line_n'), ('drug4', 1.0, 'cell_line_o'), ('drug4', 1.0, 'cell_line_p'), ('drug4', 1.0, 'cell_line_q'), ('drug4', 1.0, 'cell_line_r'), ('drug4', 1.0, 'cell_line_s'), ('drug4', 1.0, 'cell_line_t'), ('drug4', 1.0, 'cell_line_u'), ('drug4', 1.0, 'cell_line_v'), ('drug4', 1.0, 'cell_line_w'), ('drug4', 1.0, 'cell_line_x'), ('drug4', 1.0, 'cell_line_y'), ('drug4', 1.0, 'cell_line_z'), ('drug4', 1.0, 'cell_line_{'), ('drug4', 1.0, 'cell_line_|'), ('drug4', 1.0, 'cell_line_}'), ('drug4', 1.0, 'cell_line_~'), ('drug5', 0.3333333333333333, 'cell_line_a'), ('drug5', 0.3333333333333333, 'cell_line_b'), ('drug5', 0.3333333333333333, 'cell_line_c'), ('drug5', 0.3333333333333333, 'cell_line_d'), ('drug5', 0.3333333333333333, 'cell_line_e'), ('drug5', 0.3333333333333333, 'cell_line_f'), ('drug5', 0.3333333333333333, 'cell_line_g'), ('drug5', 0.3333333333333333, 'cell_line_h'), ('drug5', 0.3333333333333333, 'cell_line_i'), ('drug5', 0.3333333333333333, 'cell_line_j'), ('drug5', 0.3333333333333333, 'cell_line_k'), ('drug5', 0.3333333333333333, 'cell_line_l'), ('drug5', 0.3333333333333333, 'cell_line_m'), ('drug5', 0.3333333333333333, 'cell_line_n'), ('drug5', 0.3333333333333333, 'cell_line_o'), ('drug5', 0.3333333333333333, 'cell_line_p'), ('drug5', 0.3333333333333333, 'cell_line_q'), ('drug5', 0.3333333333333333, 'cell_line_r'), ('drug5', 0.3333333333333333, 'cell_line_s'), ('drug5', 0.3333333333333333, 'cell_line_t'), ('drug5', 0.3333333333333333, 'cell_line_u'), ('drug5', 0.3333333333333333, 'cell_line_v'), ('drug5', 0.3333333333333333, 'cell_line_w'), ('drug5', 0.3333333333333333, 'cell_line_x'), ('drug5', 0.3333333333333333, 'cell_line_y'), ('drug5', 0.3333333333333333, 'cell_line_z'), ('drug5', 0.3333333333333333, 'cell_line_{'), ('drug5', 0.3333333333333333, 'cell_line_|'), ('drug5', 0.3333333333333333, 'cell_line_}'), ('drug5', 0.3333333333333333, 'cell_line_~'), ('drug5', 0.6666666666666666, 'cell_line_a'), ('drug5', 0.6666666666666666, 'cell_line_b'), ('drug5', 0.6666666666666666, 'cell_line_c'), ('drug5', 0.6666666666666666, 'cell_line_d'), ('drug5', 0.6666666666666666, 'cell_line_e'), ('drug5', 0.6666666666666666, 'cell_line_f'), ('drug5', 0.6666666666666666, 'cell_line_g'), ('drug5', 0.6666666666666666, 'cell_line_h'), ('drug5', 0.6666666666666666, 'cell_line_i'), ('drug5', 0.6666666666666666, 'cell_line_j'), ('drug5', 0.6666666666666666, 'cell_line_k'), ('drug5', 0.6666666666666666, 'cell_line_l'), ('drug5', 0.6666666666666666, 'cell_line_m'), ('drug5', 0.6666666666666666, 'cell_line_n'), ('drug5', 0.6666666666666666, 'cell_line_o'), ('drug5', 0.6666666666666666, 'cell_line_p'), ('drug5', 0.6666666666666666, 'cell_line_q'), ('drug5', 0.6666666666666666, 'cell_line_r'), ('drug5', 0.6666666666666666, 'cell_line_s'), ('drug5', 0.6666666666666666, 'cell_line_t'), ('drug5', 0.6666666666666666, 'cell_line_u'), ('drug5', 0.6666666666666666, 'cell_line_v'), ('drug5', 0.6666666666666666, 'cell_line_w'), ('drug5', 0.6666666666666666, 'cell_line_x'), ('drug5', 0.6666666666666666, 'cell_line_y'), ('drug5', 0.6666666666666666, 'cell_line_z'), ('drug5', 0.6666666666666666, 'cell_line_{'), ('drug5', 0.6666666666666666, 'cell_line_|'), ('drug5', 0.6666666666666666, 'cell_line_}'), ('drug5', 0.6666666666666666, 'cell_line_~'), ('drug5', 1.0, 'cell_line_a'), ('drug5', 1.0, 'cell_line_b'), ('drug5', 1.0, 'cell_line_c'), ('drug5', 1.0, 'cell_line_d'), ('drug5', 1.0, 'cell_line_e'), ('drug5', 1.0, 'cell_line_f'), ('drug5', 1.0, 'cell_line_g'), ('drug5', 1.0, 'cell_line_h'), ('drug5', 1.0, 'cell_line_i'), ('drug5', 1.0, 'cell_line_j'), ('drug5', 1.0, 'cell_line_k'), ('drug5', 1.0, 'cell_line_l'), ('drug5', 1.0, 'cell_line_m'), ('drug5', 1.0, 'cell_line_n'), ('drug5', 1.0, 'cell_line_o'), ('drug5', 1.0, 'cell_line_p'), ('drug5', 1.0, 'cell_line_q'), ('drug5', 1.0, 'cell_line_r'), ('drug5', 1.0, 'cell_line_s'), ('drug5', 1.0, 'cell_line_t'), ('drug5', 1.0, 'cell_line_u'), ('drug5', 1.0, 'cell_line_v'), ('drug5', 1.0, 'cell_line_w'), ('drug5', 1.0, 'cell_line_x'), ('drug5', 1.0, 'cell_line_y'), ('drug5', 1.0, 'cell_line_z'), ('drug5', 1.0, 'cell_line_{'), ('drug5', 1.0, 'cell_line_|'), ('drug5', 1.0, 'cell_line_}'), ('drug5', 1.0, 'cell_line_~'), ('drug6', 0.3333333333333333, 'cell_line_a'), ('drug6', 0.3333333333333333, 'cell_line_b'), ('drug6', 0.3333333333333333, 'cell_line_c'), ('drug6', 0.3333333333333333, 'cell_line_d'), ('drug6', 0.3333333333333333, 'cell_line_e'), ('drug6', 0.3333333333333333, 'cell_line_f'), ('drug6', 0.3333333333333333, 'cell_line_g'), ('drug6', 0.3333333333333333, 'cell_line_h'), ('drug6', 0.3333333333333333, 'cell_line_i'), ('drug6', 0.3333333333333333, 'cell_line_j'), ('drug6', 0.3333333333333333, 'cell_line_k'), ('drug6', 0.3333333333333333, 'cell_line_l'), ('drug6', 0.3333333333333333, 'cell_line_m'), ('drug6', 0.3333333333333333, 'cell_line_n'), ('drug6', 0.3333333333333333, 'cell_line_o'), ('drug6', 0.3333333333333333, 'cell_line_p'), ('drug6', 0.3333333333333333, 'cell_line_q'), ('drug6', 0.3333333333333333, 'cell_line_r'), ('drug6', 0.3333333333333333, 'cell_line_s'), ('drug6', 0.3333333333333333, 'cell_line_t'), ('drug6', 0.3333333333333333, 'cell_line_u'), ('drug6', 0.3333333333333333, 'cell_line_v'), ('drug6', 0.3333333333333333, 'cell_line_w'), ('drug6', 0.3333333333333333, 'cell_line_x'), ('drug6', 0.3333333333333333, 'cell_line_y'), ('drug6', 0.3333333333333333, 'cell_line_z'), ('drug6', 0.3333333333333333, 'cell_line_{'), ('drug6', 0.3333333333333333, 'cell_line_|'), ('drug6', 0.3333333333333333, 'cell_line_}'), ('drug6', 0.3333333333333333, 'cell_line_~'), ('drug6', 0.6666666666666666, 'cell_line_a'), ('drug6', 0.6666666666666666, 'cell_line_b'), ('drug6', 0.6666666666666666, 'cell_line_c'), ('drug6', 0.6666666666666666, 'cell_line_d'), ('drug6', 0.6666666666666666, 'cell_line_e'), ('drug6', 0.6666666666666666, 'cell_line_f'), ('drug6', 0.6666666666666666, 'cell_line_g'), ('drug6', 0.6666666666666666, 'cell_line_h'), ('drug6', 0.6666666666666666, 'cell_line_i'), ('drug6', 0.6666666666666666, 'cell_line_j'), ('drug6', 0.6666666666666666, 'cell_line_k'), ('drug6', 0.6666666666666666, 'cell_line_l'), ('drug6', 0.6666666666666666, 'cell_line_m'), ('drug6', 0.6666666666666666, 'cell_line_n'), ('drug6', 0.6666666666666666, 'cell_line_o'), ('drug6', 0.6666666666666666, 'cell_line_p'), ('drug6', 0.6666666666666666, 'cell_line_q'), ('drug6', 0.6666666666666666, 'cell_line_r'), ('drug6', 0.6666666666666666, 'cell_line_s'), ('drug6', 0.6666666666666666, 'cell_line_t'), ('drug6', 0.6666666666666666, 'cell_line_u'), ('drug6', 0.6666666666666666, 'cell_line_v'), ('drug6', 0.6666666666666666, 'cell_line_w'), ('drug6', 0.6666666666666666, 'cell_line_x'), ('drug6', 0.6666666666666666, 'cell_line_y'), ('drug6', 0.6666666666666666, 'cell_line_z'), ('drug6', 0.6666666666666666, 'cell_line_{'), ('drug6', 0.6666666666666666, 'cell_line_|'), ('drug6', 0.6666666666666666, 'cell_line_}'), ('drug6', 0.6666666666666666, 'cell_line_~'), ('drug6', 1.0, 'cell_line_a'), ('drug6', 1.0, 'cell_line_b'), ('drug6', 1.0, 'cell_line_c'), ('drug6', 1.0, 'cell_line_d'), ('drug6', 1.0, 'cell_line_e'), ('drug6', 1.0, 'cell_line_f'), ('drug6', 1.0, 'cell_line_g'), ('drug6', 1.0, 'cell_line_h'), ('drug6', 1.0, 'cell_line_i'), ('drug6', 1.0, 'cell_line_j'), ('drug6', 1.0, 'cell_line_k'), ('drug6', 1.0, 'cell_line_l'), ('drug6', 1.0, 'cell_line_m'), ('drug6', 1.0, 'cell_line_n'), ('drug6', 1.0, 'cell_line_o'), ('drug6', 1.0, 'cell_line_p'), ('drug6', 1.0, 'cell_line_q'), ('drug6', 1.0, 'cell_line_r'), ('drug6', 1.0, 'cell_line_s'), ('drug6', 1.0, 'cell_line_t'), ('drug6', 1.0, 'cell_line_u'), ('drug6', 1.0, 'cell_line_v'), ('drug6', 1.0, 'cell_line_w'), ('drug6', 1.0, 'cell_line_x'), ('drug6', 1.0, 'cell_line_y'), ('drug6', 1.0, 'cell_line_z'), ('drug6', 1.0, 'cell_line_{'), ('drug6', 1.0, 'cell_line_|'), ('drug6', 1.0, 'cell_line_}'), ('drug6', 1.0, 'cell_line_~')])\n",
      "dict_keys([('drug1', 0.3333333333333333, 'cell_line_a'), ('drug1', 0.3333333333333333, 'cell_line_b'), ('drug1', 0.3333333333333333, 'cell_line_c'), ('drug1', 0.3333333333333333, 'cell_line_d'), ('drug1', 0.3333333333333333, 'cell_line_e'), ('drug1', 0.3333333333333333, 'cell_line_f'), ('drug1', 0.3333333333333333, 'cell_line_g'), ('drug1', 0.3333333333333333, 'cell_line_h'), ('drug1', 0.3333333333333333, 'cell_line_i'), ('drug1', 0.3333333333333333, 'cell_line_j'), ('drug1', 0.3333333333333333, 'cell_line_k'), ('drug1', 0.3333333333333333, 'cell_line_l'), ('drug1', 0.3333333333333333, 'cell_line_m'), ('drug1', 0.3333333333333333, 'cell_line_n'), ('drug1', 0.3333333333333333, 'cell_line_o'), ('drug1', 0.3333333333333333, 'cell_line_p'), ('drug1', 0.3333333333333333, 'cell_line_q'), ('drug1', 0.3333333333333333, 'cell_line_r'), ('drug1', 0.3333333333333333, 'cell_line_s'), ('drug1', 0.3333333333333333, 'cell_line_t'), ('drug1', 0.3333333333333333, 'cell_line_u'), ('drug1', 0.3333333333333333, 'cell_line_v'), ('drug1', 0.3333333333333333, 'cell_line_w'), ('drug1', 0.3333333333333333, 'cell_line_x'), ('drug1', 0.3333333333333333, 'cell_line_y'), ('drug1', 0.3333333333333333, 'cell_line_z'), ('drug1', 0.3333333333333333, 'cell_line_{'), ('drug1', 0.3333333333333333, 'cell_line_|'), ('drug1', 0.3333333333333333, 'cell_line_}'), ('drug1', 0.3333333333333333, 'cell_line_~'), ('drug1', 0.6666666666666666, 'cell_line_a'), ('drug1', 0.6666666666666666, 'cell_line_b'), ('drug1', 0.6666666666666666, 'cell_line_c'), ('drug1', 0.6666666666666666, 'cell_line_d'), ('drug1', 0.6666666666666666, 'cell_line_e'), ('drug1', 0.6666666666666666, 'cell_line_f'), ('drug1', 0.6666666666666666, 'cell_line_g'), ('drug1', 0.6666666666666666, 'cell_line_h'), ('drug1', 0.6666666666666666, 'cell_line_i'), ('drug1', 0.6666666666666666, 'cell_line_j'), ('drug1', 0.6666666666666666, 'cell_line_k'), ('drug1', 0.6666666666666666, 'cell_line_l'), ('drug1', 0.6666666666666666, 'cell_line_m'), ('drug1', 0.6666666666666666, 'cell_line_n'), ('drug1', 0.6666666666666666, 'cell_line_o'), ('drug1', 0.6666666666666666, 'cell_line_p'), ('drug1', 0.6666666666666666, 'cell_line_q'), ('drug1', 0.6666666666666666, 'cell_line_r'), ('drug1', 0.6666666666666666, 'cell_line_s'), ('drug1', 0.6666666666666666, 'cell_line_t'), ('drug1', 0.6666666666666666, 'cell_line_u'), ('drug1', 0.6666666666666666, 'cell_line_v'), ('drug1', 0.6666666666666666, 'cell_line_w'), ('drug1', 0.6666666666666666, 'cell_line_x'), ('drug1', 0.6666666666666666, 'cell_line_y'), ('drug1', 0.6666666666666666, 'cell_line_z'), ('drug1', 0.6666666666666666, 'cell_line_{'), ('drug1', 0.6666666666666666, 'cell_line_|'), ('drug1', 0.6666666666666666, 'cell_line_}'), ('drug1', 0.6666666666666666, 'cell_line_~'), ('drug1', 1.0, 'cell_line_a'), ('drug1', 1.0, 'cell_line_b'), ('drug1', 1.0, 'cell_line_c'), ('drug1', 1.0, 'cell_line_d'), ('drug1', 1.0, 'cell_line_e'), ('drug1', 1.0, 'cell_line_f'), ('drug1', 1.0, 'cell_line_g'), ('drug1', 1.0, 'cell_line_h'), ('drug1', 1.0, 'cell_line_i'), ('drug1', 1.0, 'cell_line_j'), ('drug1', 1.0, 'cell_line_k'), ('drug1', 1.0, 'cell_line_l'), ('drug1', 1.0, 'cell_line_m'), ('drug1', 1.0, 'cell_line_n'), ('drug1', 1.0, 'cell_line_o'), ('drug1', 1.0, 'cell_line_p'), ('drug1', 1.0, 'cell_line_q'), ('drug1', 1.0, 'cell_line_r'), ('drug1', 1.0, 'cell_line_s'), ('drug1', 1.0, 'cell_line_t'), ('drug1', 1.0, 'cell_line_u'), ('drug1', 1.0, 'cell_line_v'), ('drug1', 1.0, 'cell_line_w'), ('drug1', 1.0, 'cell_line_x'), ('drug1', 1.0, 'cell_line_y'), ('drug1', 1.0, 'cell_line_z'), ('drug1', 1.0, 'cell_line_{'), ('drug1', 1.0, 'cell_line_|'), ('drug1', 1.0, 'cell_line_}'), ('drug1', 1.0, 'cell_line_~'), ('drug2', 0.3333333333333333, 'cell_line_a'), ('drug2', 0.3333333333333333, 'cell_line_b'), ('drug2', 0.3333333333333333, 'cell_line_c'), ('drug2', 0.3333333333333333, 'cell_line_d'), ('drug2', 0.3333333333333333, 'cell_line_e'), ('drug2', 0.3333333333333333, 'cell_line_f'), ('drug2', 0.3333333333333333, 'cell_line_g'), ('drug2', 0.3333333333333333, 'cell_line_h'), ('drug2', 0.3333333333333333, 'cell_line_i'), ('drug2', 0.3333333333333333, 'cell_line_j'), ('drug2', 0.3333333333333333, 'cell_line_k'), ('drug2', 0.3333333333333333, 'cell_line_l'), ('drug2', 0.3333333333333333, 'cell_line_m'), ('drug2', 0.3333333333333333, 'cell_line_n'), ('drug2', 0.3333333333333333, 'cell_line_o'), ('drug2', 0.3333333333333333, 'cell_line_p'), ('drug2', 0.3333333333333333, 'cell_line_q'), ('drug2', 0.3333333333333333, 'cell_line_r'), ('drug2', 0.3333333333333333, 'cell_line_s'), ('drug2', 0.3333333333333333, 'cell_line_t'), ('drug2', 0.3333333333333333, 'cell_line_u'), ('drug2', 0.3333333333333333, 'cell_line_v'), ('drug2', 0.3333333333333333, 'cell_line_w'), ('drug2', 0.3333333333333333, 'cell_line_x'), ('drug2', 0.3333333333333333, 'cell_line_y'), ('drug2', 0.3333333333333333, 'cell_line_z'), ('drug2', 0.3333333333333333, 'cell_line_{'), ('drug2', 0.3333333333333333, 'cell_line_|'), ('drug2', 0.3333333333333333, 'cell_line_}'), ('drug2', 0.3333333333333333, 'cell_line_~'), ('drug2', 0.6666666666666666, 'cell_line_a'), ('drug2', 0.6666666666666666, 'cell_line_b'), ('drug2', 0.6666666666666666, 'cell_line_c'), ('drug2', 0.6666666666666666, 'cell_line_d'), ('drug2', 0.6666666666666666, 'cell_line_e'), ('drug2', 0.6666666666666666, 'cell_line_f'), ('drug2', 0.6666666666666666, 'cell_line_g'), ('drug2', 0.6666666666666666, 'cell_line_h'), ('drug2', 0.6666666666666666, 'cell_line_i'), ('drug2', 0.6666666666666666, 'cell_line_j'), ('drug2', 0.6666666666666666, 'cell_line_k'), ('drug2', 0.6666666666666666, 'cell_line_l'), ('drug2', 0.6666666666666666, 'cell_line_m'), ('drug2', 0.6666666666666666, 'cell_line_n'), ('drug2', 0.6666666666666666, 'cell_line_o'), ('drug2', 0.6666666666666666, 'cell_line_p'), ('drug2', 0.6666666666666666, 'cell_line_q'), ('drug2', 0.6666666666666666, 'cell_line_r'), ('drug2', 0.6666666666666666, 'cell_line_s'), ('drug2', 0.6666666666666666, 'cell_line_t'), ('drug2', 0.6666666666666666, 'cell_line_u'), ('drug2', 0.6666666666666666, 'cell_line_v'), ('drug2', 0.6666666666666666, 'cell_line_w'), ('drug2', 0.6666666666666666, 'cell_line_x'), ('drug2', 0.6666666666666666, 'cell_line_y'), ('drug2', 0.6666666666666666, 'cell_line_z'), ('drug2', 0.6666666666666666, 'cell_line_{'), ('drug2', 0.6666666666666666, 'cell_line_|'), ('drug2', 0.6666666666666666, 'cell_line_}'), ('drug2', 0.6666666666666666, 'cell_line_~'), ('drug2', 1.0, 'cell_line_a'), ('drug2', 1.0, 'cell_line_b'), ('drug2', 1.0, 'cell_line_c'), ('drug2', 1.0, 'cell_line_d'), ('drug2', 1.0, 'cell_line_e'), ('drug2', 1.0, 'cell_line_f'), ('drug2', 1.0, 'cell_line_g'), ('drug2', 1.0, 'cell_line_h'), ('drug2', 1.0, 'cell_line_i'), ('drug2', 1.0, 'cell_line_j'), ('drug2', 1.0, 'cell_line_k'), ('drug2', 1.0, 'cell_line_l'), ('drug2', 1.0, 'cell_line_m'), ('drug2', 1.0, 'cell_line_n'), ('drug2', 1.0, 'cell_line_o'), ('drug2', 1.0, 'cell_line_p'), ('drug2', 1.0, 'cell_line_q'), ('drug2', 1.0, 'cell_line_r'), ('drug2', 1.0, 'cell_line_s'), ('drug2', 1.0, 'cell_line_t'), ('drug2', 1.0, 'cell_line_u'), ('drug2', 1.0, 'cell_line_v'), ('drug2', 1.0, 'cell_line_w'), ('drug2', 1.0, 'cell_line_x'), ('drug2', 1.0, 'cell_line_y'), ('drug2', 1.0, 'cell_line_z'), ('drug2', 1.0, 'cell_line_{'), ('drug2', 1.0, 'cell_line_|'), ('drug2', 1.0, 'cell_line_}'), ('drug2', 1.0, 'cell_line_~'), ('drug3', 0.3333333333333333, 'cell_line_a'), ('drug3', 0.3333333333333333, 'cell_line_b'), ('drug3', 0.3333333333333333, 'cell_line_c'), ('drug3', 0.3333333333333333, 'cell_line_d'), ('drug3', 0.3333333333333333, 'cell_line_e'), ('drug3', 0.3333333333333333, 'cell_line_f'), ('drug3', 0.3333333333333333, 'cell_line_g'), ('drug3', 0.3333333333333333, 'cell_line_h'), ('drug3', 0.3333333333333333, 'cell_line_i'), ('drug3', 0.3333333333333333, 'cell_line_j'), ('drug3', 0.3333333333333333, 'cell_line_k'), ('drug3', 0.3333333333333333, 'cell_line_l'), ('drug3', 0.3333333333333333, 'cell_line_m'), ('drug3', 0.3333333333333333, 'cell_line_n'), ('drug3', 0.3333333333333333, 'cell_line_o'), ('drug3', 0.3333333333333333, 'cell_line_p'), ('drug3', 0.3333333333333333, 'cell_line_q'), ('drug3', 0.3333333333333333, 'cell_line_r'), ('drug3', 0.3333333333333333, 'cell_line_s'), ('drug3', 0.3333333333333333, 'cell_line_t'), ('drug3', 0.3333333333333333, 'cell_line_u'), ('drug3', 0.3333333333333333, 'cell_line_v'), ('drug3', 0.3333333333333333, 'cell_line_w'), ('drug3', 0.3333333333333333, 'cell_line_x'), ('drug3', 0.3333333333333333, 'cell_line_y'), ('drug3', 0.3333333333333333, 'cell_line_z'), ('drug3', 0.3333333333333333, 'cell_line_{'), ('drug3', 0.3333333333333333, 'cell_line_|'), ('drug3', 0.3333333333333333, 'cell_line_}'), ('drug3', 0.3333333333333333, 'cell_line_~'), ('drug3', 0.6666666666666666, 'cell_line_a'), ('drug3', 0.6666666666666666, 'cell_line_b'), ('drug3', 0.6666666666666666, 'cell_line_c'), ('drug3', 0.6666666666666666, 'cell_line_d'), ('drug3', 0.6666666666666666, 'cell_line_e'), ('drug3', 0.6666666666666666, 'cell_line_f'), ('drug3', 0.6666666666666666, 'cell_line_g'), ('drug3', 0.6666666666666666, 'cell_line_h'), ('drug3', 0.6666666666666666, 'cell_line_i'), ('drug3', 0.6666666666666666, 'cell_line_j'), ('drug3', 0.6666666666666666, 'cell_line_k'), ('drug3', 0.6666666666666666, 'cell_line_l'), ('drug3', 0.6666666666666666, 'cell_line_m'), ('drug3', 0.6666666666666666, 'cell_line_n'), ('drug3', 0.6666666666666666, 'cell_line_o'), ('drug3', 0.6666666666666666, 'cell_line_p'), ('drug3', 0.6666666666666666, 'cell_line_q'), ('drug3', 0.6666666666666666, 'cell_line_r'), ('drug3', 0.6666666666666666, 'cell_line_s'), ('drug3', 0.6666666666666666, 'cell_line_t'), ('drug3', 0.6666666666666666, 'cell_line_u'), ('drug3', 0.6666666666666666, 'cell_line_v'), ('drug3', 0.6666666666666666, 'cell_line_w'), ('drug3', 0.6666666666666666, 'cell_line_x'), ('drug3', 0.6666666666666666, 'cell_line_y'), ('drug3', 0.6666666666666666, 'cell_line_z'), ('drug3', 0.6666666666666666, 'cell_line_{'), ('drug3', 0.6666666666666666, 'cell_line_|'), ('drug3', 0.6666666666666666, 'cell_line_}'), ('drug3', 0.6666666666666666, 'cell_line_~'), ('drug3', 1.0, 'cell_line_a'), ('drug3', 1.0, 'cell_line_b'), ('drug3', 1.0, 'cell_line_c'), ('drug3', 1.0, 'cell_line_d'), ('drug3', 1.0, 'cell_line_e'), ('drug3', 1.0, 'cell_line_f'), ('drug3', 1.0, 'cell_line_g'), ('drug3', 1.0, 'cell_line_h'), ('drug3', 1.0, 'cell_line_i'), ('drug3', 1.0, 'cell_line_j'), ('drug3', 1.0, 'cell_line_k'), ('drug3', 1.0, 'cell_line_l'), ('drug3', 1.0, 'cell_line_m'), ('drug3', 1.0, 'cell_line_n'), ('drug3', 1.0, 'cell_line_o'), ('drug3', 1.0, 'cell_line_p'), ('drug3', 1.0, 'cell_line_q'), ('drug3', 1.0, 'cell_line_r'), ('drug3', 1.0, 'cell_line_s'), ('drug3', 1.0, 'cell_line_t'), ('drug3', 1.0, 'cell_line_u'), ('drug3', 1.0, 'cell_line_v'), ('drug3', 1.0, 'cell_line_w'), ('drug3', 1.0, 'cell_line_x'), ('drug3', 1.0, 'cell_line_y'), ('drug3', 1.0, 'cell_line_z'), ('drug3', 1.0, 'cell_line_{'), ('drug3', 1.0, 'cell_line_|'), ('drug3', 1.0, 'cell_line_}'), ('drug3', 1.0, 'cell_line_~'), ('drug4', 0.3333333333333333, 'cell_line_a'), ('drug4', 0.3333333333333333, 'cell_line_b'), ('drug4', 0.3333333333333333, 'cell_line_c'), ('drug4', 0.3333333333333333, 'cell_line_d'), ('drug4', 0.3333333333333333, 'cell_line_e'), ('drug4', 0.3333333333333333, 'cell_line_f'), ('drug4', 0.3333333333333333, 'cell_line_g'), ('drug4', 0.3333333333333333, 'cell_line_h'), ('drug4', 0.3333333333333333, 'cell_line_i'), ('drug4', 0.3333333333333333, 'cell_line_j'), ('drug4', 0.3333333333333333, 'cell_line_k'), ('drug4', 0.3333333333333333, 'cell_line_l'), ('drug4', 0.3333333333333333, 'cell_line_m'), ('drug4', 0.3333333333333333, 'cell_line_n'), ('drug4', 0.3333333333333333, 'cell_line_o'), ('drug4', 0.3333333333333333, 'cell_line_p'), ('drug4', 0.3333333333333333, 'cell_line_q'), ('drug4', 0.3333333333333333, 'cell_line_r'), ('drug4', 0.3333333333333333, 'cell_line_s'), ('drug4', 0.3333333333333333, 'cell_line_t'), ('drug4', 0.3333333333333333, 'cell_line_u'), ('drug4', 0.3333333333333333, 'cell_line_v'), ('drug4', 0.3333333333333333, 'cell_line_w'), ('drug4', 0.3333333333333333, 'cell_line_x'), ('drug4', 0.3333333333333333, 'cell_line_y'), ('drug4', 0.3333333333333333, 'cell_line_z'), ('drug4', 0.3333333333333333, 'cell_line_{'), ('drug4', 0.3333333333333333, 'cell_line_|'), ('drug4', 0.3333333333333333, 'cell_line_}'), ('drug4', 0.3333333333333333, 'cell_line_~'), ('drug4', 0.6666666666666666, 'cell_line_a'), ('drug4', 0.6666666666666666, 'cell_line_b'), ('drug4', 0.6666666666666666, 'cell_line_c'), ('drug4', 0.6666666666666666, 'cell_line_d'), ('drug4', 0.6666666666666666, 'cell_line_e'), ('drug4', 0.6666666666666666, 'cell_line_f'), ('drug4', 0.6666666666666666, 'cell_line_g'), ('drug4', 0.6666666666666666, 'cell_line_h'), ('drug4', 0.6666666666666666, 'cell_line_i'), ('drug4', 0.6666666666666666, 'cell_line_j'), ('drug4', 0.6666666666666666, 'cell_line_k'), ('drug4', 0.6666666666666666, 'cell_line_l'), ('drug4', 0.6666666666666666, 'cell_line_m'), ('drug4', 0.6666666666666666, 'cell_line_n'), ('drug4', 0.6666666666666666, 'cell_line_o'), ('drug4', 0.6666666666666666, 'cell_line_p'), ('drug4', 0.6666666666666666, 'cell_line_q'), ('drug4', 0.6666666666666666, 'cell_line_r'), ('drug4', 0.6666666666666666, 'cell_line_s'), ('drug4', 0.6666666666666666, 'cell_line_t'), ('drug4', 0.6666666666666666, 'cell_line_u'), ('drug4', 0.6666666666666666, 'cell_line_v'), ('drug4', 0.6666666666666666, 'cell_line_w'), ('drug4', 0.6666666666666666, 'cell_line_x'), ('drug4', 0.6666666666666666, 'cell_line_y'), ('drug4', 0.6666666666666666, 'cell_line_z'), ('drug4', 0.6666666666666666, 'cell_line_{'), ('drug4', 0.6666666666666666, 'cell_line_|'), ('drug4', 0.6666666666666666, 'cell_line_}'), ('drug4', 0.6666666666666666, 'cell_line_~'), ('drug4', 1.0, 'cell_line_a'), ('drug4', 1.0, 'cell_line_b'), ('drug4', 1.0, 'cell_line_c'), ('drug4', 1.0, 'cell_line_d'), ('drug4', 1.0, 'cell_line_e'), ('drug4', 1.0, 'cell_line_f'), ('drug4', 1.0, 'cell_line_g'), ('drug4', 1.0, 'cell_line_h'), ('drug4', 1.0, 'cell_line_i'), ('drug4', 1.0, 'cell_line_j'), ('drug4', 1.0, 'cell_line_k'), ('drug4', 1.0, 'cell_line_l'), ('drug4', 1.0, 'cell_line_m'), ('drug4', 1.0, 'cell_line_n'), ('drug4', 1.0, 'cell_line_o'), ('drug4', 1.0, 'cell_line_p'), ('drug4', 1.0, 'cell_line_q'), ('drug4', 1.0, 'cell_line_r'), ('drug4', 1.0, 'cell_line_s'), ('drug4', 1.0, 'cell_line_t'), ('drug4', 1.0, 'cell_line_u'), ('drug4', 1.0, 'cell_line_v'), ('drug4', 1.0, 'cell_line_w'), ('drug4', 1.0, 'cell_line_x'), ('drug4', 1.0, 'cell_line_y'), ('drug4', 1.0, 'cell_line_z'), ('drug4', 1.0, 'cell_line_{'), ('drug4', 1.0, 'cell_line_|'), ('drug4', 1.0, 'cell_line_}'), ('drug4', 1.0, 'cell_line_~'), ('drug5', 0.3333333333333333, 'cell_line_a'), ('drug5', 0.3333333333333333, 'cell_line_b'), ('drug5', 0.3333333333333333, 'cell_line_c'), ('drug5', 0.3333333333333333, 'cell_line_d'), ('drug5', 0.3333333333333333, 'cell_line_e'), ('drug5', 0.3333333333333333, 'cell_line_f'), ('drug5', 0.3333333333333333, 'cell_line_g'), ('drug5', 0.3333333333333333, 'cell_line_h'), ('drug5', 0.3333333333333333, 'cell_line_i'), ('drug5', 0.3333333333333333, 'cell_line_j'), ('drug5', 0.3333333333333333, 'cell_line_k'), ('drug5', 0.3333333333333333, 'cell_line_l'), ('drug5', 0.3333333333333333, 'cell_line_m'), ('drug5', 0.3333333333333333, 'cell_line_n'), ('drug5', 0.3333333333333333, 'cell_line_o'), ('drug5', 0.3333333333333333, 'cell_line_p'), ('drug5', 0.3333333333333333, 'cell_line_q'), ('drug5', 0.3333333333333333, 'cell_line_r'), ('drug5', 0.3333333333333333, 'cell_line_s'), ('drug5', 0.3333333333333333, 'cell_line_t'), ('drug5', 0.3333333333333333, 'cell_line_u'), ('drug5', 0.3333333333333333, 'cell_line_v'), ('drug5', 0.3333333333333333, 'cell_line_w'), ('drug5', 0.3333333333333333, 'cell_line_x'), ('drug5', 0.3333333333333333, 'cell_line_y'), ('drug5', 0.3333333333333333, 'cell_line_z'), ('drug5', 0.3333333333333333, 'cell_line_{'), ('drug5', 0.3333333333333333, 'cell_line_|'), ('drug5', 0.3333333333333333, 'cell_line_}'), ('drug5', 0.3333333333333333, 'cell_line_~'), ('drug5', 0.6666666666666666, 'cell_line_a'), ('drug5', 0.6666666666666666, 'cell_line_b'), ('drug5', 0.6666666666666666, 'cell_line_c'), ('drug5', 0.6666666666666666, 'cell_line_d'), ('drug5', 0.6666666666666666, 'cell_line_e'), ('drug5', 0.6666666666666666, 'cell_line_f'), ('drug5', 0.6666666666666666, 'cell_line_g'), ('drug5', 0.6666666666666666, 'cell_line_h'), ('drug5', 0.6666666666666666, 'cell_line_i'), ('drug5', 0.6666666666666666, 'cell_line_j'), ('drug5', 0.6666666666666666, 'cell_line_k'), ('drug5', 0.6666666666666666, 'cell_line_l'), ('drug5', 0.6666666666666666, 'cell_line_m'), ('drug5', 0.6666666666666666, 'cell_line_n'), ('drug5', 0.6666666666666666, 'cell_line_o'), ('drug5', 0.6666666666666666, 'cell_line_p'), ('drug5', 0.6666666666666666, 'cell_line_q'), ('drug5', 0.6666666666666666, 'cell_line_r'), ('drug5', 0.6666666666666666, 'cell_line_s'), ('drug5', 0.6666666666666666, 'cell_line_t'), ('drug5', 0.6666666666666666, 'cell_line_u'), ('drug5', 0.6666666666666666, 'cell_line_v'), ('drug5', 0.6666666666666666, 'cell_line_w'), ('drug5', 0.6666666666666666, 'cell_line_x'), ('drug5', 0.6666666666666666, 'cell_line_y'), ('drug5', 0.6666666666666666, 'cell_line_z'), ('drug5', 0.6666666666666666, 'cell_line_{'), ('drug5', 0.6666666666666666, 'cell_line_|'), ('drug5', 0.6666666666666666, 'cell_line_}'), ('drug5', 0.6666666666666666, 'cell_line_~'), ('drug5', 1.0, 'cell_line_a'), ('drug5', 1.0, 'cell_line_b'), ('drug5', 1.0, 'cell_line_c'), ('drug5', 1.0, 'cell_line_d'), ('drug5', 1.0, 'cell_line_e'), ('drug5', 1.0, 'cell_line_f'), ('drug5', 1.0, 'cell_line_g'), ('drug5', 1.0, 'cell_line_h'), ('drug5', 1.0, 'cell_line_i'), ('drug5', 1.0, 'cell_line_j'), ('drug5', 1.0, 'cell_line_k'), ('drug5', 1.0, 'cell_line_l'), ('drug5', 1.0, 'cell_line_m'), ('drug5', 1.0, 'cell_line_n'), ('drug5', 1.0, 'cell_line_o'), ('drug5', 1.0, 'cell_line_p'), ('drug5', 1.0, 'cell_line_q'), ('drug5', 1.0, 'cell_line_r'), ('drug5', 1.0, 'cell_line_s'), ('drug5', 1.0, 'cell_line_t'), ('drug5', 1.0, 'cell_line_u'), ('drug5', 1.0, 'cell_line_v'), ('drug5', 1.0, 'cell_line_w'), ('drug5', 1.0, 'cell_line_x'), ('drug5', 1.0, 'cell_line_y'), ('drug5', 1.0, 'cell_line_z'), ('drug5', 1.0, 'cell_line_{'), ('drug5', 1.0, 'cell_line_|'), ('drug5', 1.0, 'cell_line_}'), ('drug5', 1.0, 'cell_line_~'), ('drug6', 0.3333333333333333, 'cell_line_a'), ('drug6', 0.3333333333333333, 'cell_line_b'), ('drug6', 0.3333333333333333, 'cell_line_c'), ('drug6', 0.3333333333333333, 'cell_line_d'), ('drug6', 0.3333333333333333, 'cell_line_e'), ('drug6', 0.3333333333333333, 'cell_line_f'), ('drug6', 0.3333333333333333, 'cell_line_g'), ('drug6', 0.3333333333333333, 'cell_line_h'), ('drug6', 0.3333333333333333, 'cell_line_i'), ('drug6', 0.3333333333333333, 'cell_line_j'), ('drug6', 0.3333333333333333, 'cell_line_k'), ('drug6', 0.3333333333333333, 'cell_line_l'), ('drug6', 0.3333333333333333, 'cell_line_m'), ('drug6', 0.3333333333333333, 'cell_line_n'), ('drug6', 0.3333333333333333, 'cell_line_o'), ('drug6', 0.3333333333333333, 'cell_line_p'), ('drug6', 0.3333333333333333, 'cell_line_q'), ('drug6', 0.3333333333333333, 'cell_line_r'), ('drug6', 0.3333333333333333, 'cell_line_s'), ('drug6', 0.3333333333333333, 'cell_line_t'), ('drug6', 0.3333333333333333, 'cell_line_u'), ('drug6', 0.3333333333333333, 'cell_line_v'), ('drug6', 0.3333333333333333, 'cell_line_w'), ('drug6', 0.3333333333333333, 'cell_line_x'), ('drug6', 0.3333333333333333, 'cell_line_y'), ('drug6', 0.3333333333333333, 'cell_line_z'), ('drug6', 0.3333333333333333, 'cell_line_{'), ('drug6', 0.3333333333333333, 'cell_line_|'), ('drug6', 0.3333333333333333, 'cell_line_}'), ('drug6', 0.3333333333333333, 'cell_line_~'), ('drug6', 0.6666666666666666, 'cell_line_a'), ('drug6', 0.6666666666666666, 'cell_line_b'), ('drug6', 0.6666666666666666, 'cell_line_c'), ('drug6', 0.6666666666666666, 'cell_line_d'), ('drug6', 0.6666666666666666, 'cell_line_e'), ('drug6', 0.6666666666666666, 'cell_line_f'), ('drug6', 0.6666666666666666, 'cell_line_g'), ('drug6', 0.6666666666666666, 'cell_line_h'), ('drug6', 0.6666666666666666, 'cell_line_i'), ('drug6', 0.6666666666666666, 'cell_line_j'), ('drug6', 0.6666666666666666, 'cell_line_k'), ('drug6', 0.6666666666666666, 'cell_line_l'), ('drug6', 0.6666666666666666, 'cell_line_m'), ('drug6', 0.6666666666666666, 'cell_line_n'), ('drug6', 0.6666666666666666, 'cell_line_o'), ('drug6', 0.6666666666666666, 'cell_line_p'), ('drug6', 0.6666666666666666, 'cell_line_q'), ('drug6', 0.6666666666666666, 'cell_line_r'), ('drug6', 0.6666666666666666, 'cell_line_s'), ('drug6', 0.6666666666666666, 'cell_line_t'), ('drug6', 0.6666666666666666, 'cell_line_u'), ('drug6', 0.6666666666666666, 'cell_line_v'), ('drug6', 0.6666666666666666, 'cell_line_w'), ('drug6', 0.6666666666666666, 'cell_line_x'), ('drug6', 0.6666666666666666, 'cell_line_y'), ('drug6', 0.6666666666666666, 'cell_line_z'), ('drug6', 0.6666666666666666, 'cell_line_{'), ('drug6', 0.6666666666666666, 'cell_line_|'), ('drug6', 0.6666666666666666, 'cell_line_}'), ('drug6', 0.6666666666666666, 'cell_line_~'), ('drug6', 1.0, 'cell_line_a'), ('drug6', 1.0, 'cell_line_b'), ('drug6', 1.0, 'cell_line_c'), ('drug6', 1.0, 'cell_line_d'), ('drug6', 1.0, 'cell_line_e'), ('drug6', 1.0, 'cell_line_f'), ('drug6', 1.0, 'cell_line_g'), ('drug6', 1.0, 'cell_line_h'), ('drug6', 1.0, 'cell_line_i'), ('drug6', 1.0, 'cell_line_j'), ('drug6', 1.0, 'cell_line_k'), ('drug6', 1.0, 'cell_line_l'), ('drug6', 1.0, 'cell_line_m'), ('drug6', 1.0, 'cell_line_n'), ('drug6', 1.0, 'cell_line_o'), ('drug6', 1.0, 'cell_line_p'), ('drug6', 1.0, 'cell_line_q'), ('drug6', 1.0, 'cell_line_r'), ('drug6', 1.0, 'cell_line_s'), ('drug6', 1.0, 'cell_line_t'), ('drug6', 1.0, 'cell_line_u'), ('drug6', 1.0, 'cell_line_v'), ('drug6', 1.0, 'cell_line_w'), ('drug6', 1.0, 'cell_line_x'), ('drug6', 1.0, 'cell_line_y'), ('drug6', 1.0, 'cell_line_z'), ('drug6', 1.0, 'cell_line_{'), ('drug6', 1.0, 'cell_line_|'), ('drug6', 1.0, 'cell_line_}'), ('drug6', 1.0, 'cell_line_~')])\n",
      "(21600, 50)\n",
      "(1, 54540)\n",
      "HERE IT IS DONE 2\n"
     ]
    }
   ],
   "source": [
    "cf.train(\n",
    "    num_iterations=10,\n",
    "    batch_size=1024,\n",
    "    callbacks=callbacks,\n",
    "    valid_freq=100,\n",
    "    prefetch_factor=3,\n",
    "    num_workers=8,\n",
    ")"
   ]
  },
  {
   "cell_type": "code",
   "execution_count": null,
   "metadata": {},
   "outputs": [],
   "source": []
  },
  {
   "cell_type": "code",
   "execution_count": null,
   "metadata": {},
   "outputs": [],
   "source": []
  }
 ],
 "metadata": {
  "kernelspec": {
   "display_name": "cellflow",
   "language": "python",
   "name": "python3"
  },
  "language_info": {
   "codemirror_mode": {
    "name": "ipython",
    "version": 3
   },
   "file_extension": ".py",
   "mimetype": "text/x-python",
   "name": "python",
   "nbconvert_exporter": "python",
   "pygments_lexer": "ipython3",
   "version": "3.11.11"
  }
 },
 "nbformat": 4,
 "nbformat_minor": 2
}
