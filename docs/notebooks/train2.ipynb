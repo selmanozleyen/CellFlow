{
 "cells": [
  {
   "cell_type": "code",
   "execution_count": 6,
   "metadata": {},
   "outputs": [
    {
     "name": "stdout",
     "output_type": "stream",
     "text": [
      "The autoreload extension is already loaded. To reload it, use:\n",
      "  %reload_ext autoreload\n"
     ]
    }
   ],
   "source": [
    "%load_ext autoreload\n",
    "%autoreload 2\n",
    "\n",
    "\n",
    "import numpy as np\n",
    "import pandas as pd\n",
    "import anndata as ad\n",
    "import numpy as np\n",
    "import pandas as pd\n",
    "import jax.numpy as jnp\n",
    "import jax\n",
    "import cellflow\n",
    "jax.config.update(\"jax_default_device\", jax.devices()[0])"
   ]
  },
  {
   "cell_type": "code",
   "execution_count": 7,
   "metadata": {},
   "outputs": [],
   "source": [
    "adata  = ad.read_h5ad('pbmc_cytokines_train.h5ad')"
   ]
  },
  {
   "cell_type": "code",
   "execution_count": 8,
   "metadata": {},
   "outputs": [
    {
     "data": {
      "text/plain": [
       "AnnData object with n_obs × n_vars = 9593880 × 2000\n",
       "    obs: 'sample', 'species', 'gene_count', 'tscp_count', 'mread_count', 'bc1_wind', 'bc2_wind', 'bc3_wind', 'bc1_well', 'bc2_well', 'bc3_well', 'log1p_n_genes_by_counts', 'log1p_total_counts', 'total_counts_MT', 'pct_counts_MT', 'log1p_total_counts_MT', 'donor', 'cytokine', 'treatment', 'cell_type', 'cytokine_family', 'condition', 'is_control'\n",
       "    var: 'n_cells', 'highly_variable', 'means', 'dispersions', 'dispersions_norm'\n",
       "    uns: 'donor_embeddings', 'esm2_embeddings', 'hvg', 'log1p', 'pca'\n",
       "    obsm: 'X_pca'\n",
       "    varm: 'PCs', 'X_mean'"
      ]
     },
     "execution_count": 8,
     "metadata": {},
     "output_type": "execute_result"
    }
   ],
   "source": [
    "adata"
   ]
  },
  {
   "cell_type": "code",
   "execution_count": 9,
   "metadata": {},
   "outputs": [],
   "source": [
    "cf = cellflow.model.CellFlow(\n",
    "    adata=adata,\n",
    "    solver='otfm'\n",
    ")"
   ]
  },
  {
   "cell_type": "code",
   "execution_count": 10,
   "metadata": {},
   "outputs": [
    {
     "name": "stdout",
     "output_type": "stream",
     "text": [
      "[########################################] | 100% Completed | 2.32 sms\n"
     ]
    },
    {
     "name": "stderr",
     "output_type": "stream",
     "text": [
      "/home/icb/selman.ozleyen/miniforge3/envs/cellflow/lib/python3.11/site-packages/jax/_src/numpy/lax_numpy.py:5540: RuntimeWarning: invalid value encountered in cast\n",
      "  out = np.asarray(object, dtype=dtype)\n"
     ]
    },
    {
     "name": "stdout",
     "output_type": "stream",
     "text": [
      "[########################################] | 100% Completed | 933.38 ms\n"
     ]
    }
   ],
   "source": [
    "cf.prepare_data(\n",
    "    sample_rep = \"X_pca\",\n",
    "    control_key = \"is_control\",\n",
    "    perturbation_covariates = {\"cytokine_treatment\": (\"cytokine\",)},\n",
    "    perturbation_covariate_reps = {\"cytokine_treatment\": \"esm2_embeddings\"},\n",
    "    sample_covariates = [\"donor\"],\n",
    "    sample_covariate_reps = {\"donor\": \"donor_embeddings\"},\n",
    "    split_covariates = [\"donor\"],\n",
    "    max_combination_length = 1,\n",
    "    null_value = 0.0,\n",
    ")"
   ]
  },
  {
   "cell_type": "code",
   "execution_count": 11,
   "metadata": {},
   "outputs": [
    {
     "name": "stderr",
     "output_type": "stream",
     "text": [
      "/ictstr01/home/icb/selman.ozleyen/projects/cell_flow_perturbation/src/cellflow/data/_datamanager.py:344: SettingWithCopyWarning: \n",
      "A value is trying to be set on a copy of a slice from a DataFrame.\n",
      "Try using .loc[row_indexer,col_indexer] = value instead\n",
      "\n",
      "See the caveats in the documentation: https://pandas.pydata.org/pandas-docs/stable/user_guide/indexing.html#returning-a-view-versus-a-copy\n",
      "  _covariate_data[\"cell_index\"] = _covariate_data.index\n",
      "100%|██████████| 90/90 [00:42<00:00,  2.11it/s]\n",
      "100%|██████████| 90/90 [00:43<00:00,  2.09it/s]\n",
      "100%|██████████| 90/90 [00:43<00:00,  2.08it/s]\n",
      " 86%|████████▌ | 77/90 [00:42<00:05,  2.19it/s]"
     ]
    }
   ],
   "source": [
    "split_cov_combs = cf.data_manager._get_split_cov_combs(covariate_data=cf.data_manager.adata.obs)\n",
    "o = cf.data_manager._get_condition_data_old(\n",
    "    adata=cf.data_manager.adata,\n",
    "    split_cov_combs=split_cov_combs,\n",
    ")"
   ]
  },
  {
   "cell_type": "code",
   "execution_count": null,
   "metadata": {},
   "outputs": [
    {
     "name": "stdout",
     "output_type": "stream",
     "text": [
      "[########################################] | 100% Completed | 212.68 ms\n",
      "[########################################] | 100% Completed | 311.17 ms\n"
     ]
    }
   ],
   "source": [
    "n = cf.data_manager._get_condition_data(\n",
    "    adata=cf.data_manager.adata,\n",
    "    split_cov_combs=split_cov_combs,\n",
    ")"
   ]
  },
  {
   "cell_type": "code",
   "execution_count": null,
   "metadata": {},
   "outputs": [
    {
     "name": "stdout",
     "output_type": "stream",
     "text": [
      "Passed split_idx_to_covariates check\n",
      "Passed perturbation_idx_to_covariates check\n",
      "Passed perturbation_idx_to_id check\n",
      "Passed condition_data check\n",
      "Passed control_to_perturbation check\n",
      "[-1 -1 -1 ... -1 -1 -1] [-1 -1 -1 ... -1 -1 -1]\n",
      "Passed split_covariates_mask check\n",
      "[766 699 394 ...  79 508 489] [766 699 394 ...  79 508 489]\n",
      "Passed perturbation_covariates_mask check\n"
     ]
    }
   ],
   "source": [
    "attrs=[\n",
    "    \"split_idx_to_covariates\",\n",
    "    \"perturbation_idx_to_covariates\",\n",
    "    \"perturbation_idx_to_id\",\n",
    "    \"condition_data\",  # type: ignore[arg-type]\n",
    "    \"control_to_perturbation\",\n",
    "    \"split_covariates_mask\",\n",
    "    \"perturbation_covariates_mask\",\n",
    "]\n",
    "for attr in attrs:\n",
    "    old_attr = getattr(o, attr)\n",
    "    new_attr = getattr(n, attr)\n",
    "    if attr  in {\"split_idx_to_covariates\"}:\n",
    "        assert set(old_attr.keys()) == set(new_attr.keys()), f\"Mismatch in {attr} keys, len old: {len(old_attr)}, len new: {len(new_attr)}, old: {old_attr.keys()}, new: {new_attr.keys()}\"\n",
    "        for key in old_attr.keys():\n",
    "            assert new_attr[key] == old_attr[key], f\"Mismatch in {attr} for key {key}, old: {old_attr[key]}, new: {new_attr[key]}\"\n",
    "\n",
    "    elif isinstance(old_attr, dict):\n",
    "        assert set(old_attr.keys()) == set(new_attr.keys()), f\"Mismatch in {attr} keys\"\n",
    "        for key in old_attr.keys():\n",
    "            old_ = np.array(old_attr[key])\n",
    "            new_ = np.array(new_attr[key])\n",
    "            assert np.array_equal(old_, new_), f\"Mismatch in {attr} for key {key}, old: {old_}, new: {new_}\"\n",
    "    else:\n",
    "        np_old = np.array(old_attr)\n",
    "        np_new = np.array(new_attr)\n",
    "        print(np_old, np_new)\n",
    "        assert np.array_equal(np_old, np_new), f\"Mismatch in {attr} values\"\n",
    "\n",
    "    print(f\"Passed {attr} check\")"
   ]
  },
  {
   "cell_type": "code",
   "execution_count": 9,
   "metadata": {},
   "outputs": [
    {
     "data": {
      "text/plain": [
       "{0: ('Donor1',),\n",
       " 1: ('Donor2',),\n",
       " 2: ('Donor3',),\n",
       " 3: ('Donor4',),\n",
       " 4: ('Donor5',),\n",
       " 5: ('Donor6',),\n",
       " 6: ('Donor7',),\n",
       " 7: ('Donor8',),\n",
       " 8: ('Donor9',),\n",
       " 9: ('Donor10',),\n",
       " 10: ('Donor11',),\n",
       " 11: ('Donor12',)}"
      ]
     },
     "execution_count": 9,
     "metadata": {},
     "output_type": "execute_result"
    }
   ],
   "source": [
    "o.split_idx_to_covariates"
   ]
  },
  {
   "cell_type": "code",
   "execution_count": 10,
   "metadata": {},
   "outputs": [
    {
     "name": "stdout",
     "output_type": "stream",
     "text": [
      "Mapping between indices: {0: 0, 1: 1, 2: 2, 3: 3, 4: 4, 5: 5, 6: 6, 7: 7, 8: 8, 9: 9, 10: 10, 11: 11}\n",
      "Masks match after transformation: True\n"
     ]
    }
   ],
   "source": [
    "# Create a mapping between old indices and new indices based on their values\n",
    "old_to_new_map = {}\n",
    "for old_idx, cov_value in o.split_idx_to_covariates.items():\n",
    "    for new_idx, new_cov_value in n.split_idx_to_covariates.items():\n",
    "        if cov_value == new_cov_value:\n",
    "            old_to_new_map[old_idx] = new_idx\n",
    "            break\n",
    "\n",
    "print(\"Mapping between indices:\", old_to_new_map)\n",
    "\n",
    "# Transform the old mask to match the new indexing\n",
    "transformed_mask = np.copy(o.split_covariates_mask)\n",
    "for i in range(len(transformed_mask)):\n",
    "    if transformed_mask[i] != -1:  # Only transform valid indices\n",
    "        transformed_mask[i] = old_to_new_map[transformed_mask[i]]\n",
    "\n",
    "# Check if they match after transformation\n",
    "match = np.array_equal(transformed_mask, n.split_covariates_mask)\n",
    "print(f\"Masks match after transformation: {match}\")\n",
    "\n",
    "# Count differences\n",
    "if not match:\n",
    "    diff_indices = np.where(transformed_mask != n.split_covariates_mask)[0]\n",
    "    print(f\"Number of differences: {len(diff_indices)} out of {len(transformed_mask)}\")\n",
    "    # Show a few examples\n",
    "    if len(diff_indices) < 10:\n",
    "        for i in diff_indices[:5]:\n",
    "            print(f\"Index {i}: Old={transformed_mask[i]}, New={n.split_covariates_mask[i]}\")"
   ]
  },
  {
   "cell_type": "code",
   "execution_count": 11,
   "metadata": {},
   "outputs": [
    {
     "name": "stdout",
     "output_type": "stream",
     "text": [
      "Cells with -1 in old mask among differences: 0\n",
      "Cells with -1 in new mask among differences: 0\n",
      "Distribution in old mask:\n",
      "Distribution in new mask:\n",
      "\n",
      "Sample differences:\n"
     ]
    }
   ],
   "source": [
    "# Analyze what types of differences we're seeing\n",
    "diff_indices = np.where(transformed_mask != n.split_covariates_mask)[0]\n",
    "\n",
    "# Check if the differences involve -1 values\n",
    "neg_one_in_old = np.sum(transformed_mask[diff_indices] == -1)\n",
    "neg_one_in_new = np.sum(n.split_covariates_mask[diff_indices] == -1)\n",
    "\n",
    "print(f\"Cells with -1 in old mask among differences: {neg_one_in_old}\")\n",
    "print(f\"Cells with -1 in new mask among differences: {neg_one_in_new}\")\n",
    "\n",
    "# Distribution of values in the differences\n",
    "old_values, old_counts = np.unique(transformed_mask[diff_indices], return_counts=True)\n",
    "new_values, new_counts = np.unique(n.split_covariates_mask[diff_indices], return_counts=True)\n",
    "\n",
    "print(\"Distribution in old mask:\")\n",
    "for val, count in zip(old_values, old_counts):\n",
    "    print(f\"  Value {val}: {count} cells\")\n",
    "\n",
    "print(\"Distribution in new mask:\")\n",
    "for val, count in zip(new_values, new_counts):\n",
    "    print(f\"  Value {val}: {count} cells\")\n",
    "\n",
    "# Sample some specific examples\n",
    "sample_indices = diff_indices[:5]\n",
    "print(\"\\nSample differences:\")\n",
    "for idx in sample_indices:\n",
    "    print(f\"Cell {idx}: Old={transformed_mask[idx]}, New={n.split_covariates_mask[idx]}\")\n",
    "    # Optional: If you have donor info, print it\n",
    "    # donor = cf.data_manager.adata.obs.iloc[idx][\"donor\"]\n",
    "    # is_control = cf.data_manager.adata.obs.iloc[idx][\"is_control\"]\n",
    "    # print(f\"  Donor: {donor}, Is Control: {is_control}\")"
   ]
  },
  {
   "cell_type": "code",
   "execution_count": 12,
   "metadata": {},
   "outputs": [
    {
     "name": "stdout",
     "output_type": "stream",
     "text": [
      "Number of control cells in old implementation: 31485\n",
      "Number of control cells in new implementation: 31485\n",
      "Total control cells in dataset: 31485\n"
     ]
    }
   ],
   "source": [
    "# Add this debugging code\n",
    "print(\"Number of control cells in old implementation:\", np.sum(o.split_covariates_mask != -1))\n",
    "print(\"Number of control cells in new implementation:\", np.sum(n.split_covariates_mask != -1))\n",
    "\n",
    "# Check if the control identification is the source\n",
    "adata_controls = cf.data_manager.adata.obs[cf.data_manager._control_key]\n",
    "print(\"Total control cells in dataset:\", adata_controls.sum())"
   ]
  },
  {
   "cell_type": "code",
   "execution_count": 13,
   "metadata": {},
   "outputs": [
    {
     "data": {
      "text/plain": [
       "Array([False, False, False, ..., False, False, False], dtype=bool)"
      ]
     },
     "execution_count": 13,
     "metadata": {},
     "output_type": "execute_result"
    }
   ],
   "source": [
    "(o.split_covariates_mask == -1) & (n.split_covariates_mask != -1)"
   ]
  },
  {
   "cell_type": "code",
   "execution_count": 14,
   "metadata": {},
   "outputs": [
    {
     "name": "stdout",
     "output_type": "stream",
     "text": [
      "Control cells with different assignments: 0\n"
     ]
    }
   ],
   "source": [
    "# Add code to see which control cells are being assigned differently\n",
    "control_cells = cf.data_manager.adata.obs[cf.data_manager._control_key]\n",
    "control_indices = np.where(control_cells)[0]\n",
    "\n",
    "# Check differences among control cells only\n",
    "control_diffs = control_indices[transformed_mask[control_indices] != n.split_covariates_mask[control_indices]]\n",
    "print(f\"Control cells with different assignments: {len(control_diffs)}\")\n",
    "\n",
    "# Check a few examples\n",
    "for idx in control_diffs[:5]:\n",
    "    donor = cf.data_manager.adata.obs.iloc[idx][\"donor\"]\n",
    "    print(f\"Cell {idx}: Donor={donor}, Old={transformed_mask[idx]}, New={n.split_covariates_mask[idx]}\")"
   ]
  },
  {
   "cell_type": "code",
   "execution_count": 15,
   "metadata": {},
   "outputs": [
    {
     "data": {
      "text/plain": [
       "(479694, 479694)"
      ]
     },
     "execution_count": 15,
     "metadata": {},
     "output_type": "execute_result"
    }
   ],
   "source": [
    "len(o.split_covariates_mask), len(n.split_covariates_mask)"
   ]
  },
  {
   "cell_type": "code",
   "execution_count": 16,
   "metadata": {},
   "outputs": [
    {
     "name": "stdout",
     "output_type": "stream",
     "text": [
      "===== DONOR & CONTROL ALIGNMENT =====\n",
      "Donor to index mapping - Old: {'Donor1': 0, 'Donor10': 9, 'Donor11': 10, 'Donor12': 11, 'Donor2': 1, 'Donor3': 2, 'Donor4': 3, 'Donor5': 4, 'Donor6': 5, 'Donor7': 6, 'Donor8': 7, 'Donor9': 8}\n",
      "Donor to index mapping - New: {'Donor1': 0, 'Donor10': 9, 'Donor11': 10, 'Donor12': 11, 'Donor2': 1, 'Donor3': 2, 'Donor4': 3, 'Donor5': 4, 'Donor6': 5, 'Donor7': 6, 'Donor8': 7, 'Donor9': 8}\n",
      "\n",
      "===== CONTROL CELL ASSIGNMENTS =====\n",
      "Sample of 10 control cells:\n",
      "Cell 15: Donor=Donor12, Old=11 (Expected: 11) ✓, New=11 (Expected: 11) ✓\n",
      "Cell 22: Donor=Donor11, Old=10 (Expected: 10) ✓, New=10 (Expected: 10) ✓\n",
      "Cell 119: Donor=Donor8, Old=7 (Expected: 7) ✓, New=7 (Expected: 7) ✓\n",
      "Cell 134: Donor=Donor6, Old=5 (Expected: 5) ✓, New=5 (Expected: 5) ✓\n",
      "Cell 137: Donor=Donor6, Old=5 (Expected: 5) ✓, New=5 (Expected: 5) ✓\n",
      "Cell 150: Donor=Donor6, Old=5 (Expected: 5) ✓, New=5 (Expected: 5) ✓\n",
      "Cell 159: Donor=Donor7, Old=6 (Expected: 6) ✓, New=6 (Expected: 6) ✓\n",
      "Cell 168: Donor=Donor11, Old=10 (Expected: 10) ✓, New=10 (Expected: 10) ✓\n",
      "Cell 169: Donor=Donor7, Old=6 (Expected: 6) ✓, New=6 (Expected: 6) ✓\n",
      "Cell 177: Donor=Donor6, Old=5 (Expected: 5) ✓, New=5 (Expected: 5) ✓\n",
      "\n",
      "===== IMPLEMENTATION DIFFERENCES =====\n",
      "Total cells: 479694\n",
      "Control cells assigned donor in old implementation: 31485\n",
      "Control cells assigned donor in new implementation: 31485\n",
      "Control cells assigned -1 in new implementation: 0\n"
     ]
    }
   ],
   "source": [
    "# 1. First, check how donor and control values align\n",
    "print(\"===== DONOR & CONTROL ALIGNMENT =====\")\n",
    "# Map donor values to split indices in both implementations\n",
    "donor_to_old_idx = {}\n",
    "donor_to_new_idx = {}\n",
    "\n",
    "# Check donor to index mapping in both implementations\n",
    "for donor in sorted(cf.data_manager.adata.obs[\"donor\"].unique()):\n",
    "    # Old implementation mapping\n",
    "    for old_idx, old_cov in o.split_idx_to_covariates.items():\n",
    "        if old_cov == (donor,):  # Single-value tuple\n",
    "            donor_to_old_idx[donor] = old_idx\n",
    "    \n",
    "    # New implementation mapping\n",
    "    for new_idx, new_cov in n.split_idx_to_covariates.items():\n",
    "        if new_cov == (donor,):\n",
    "            donor_to_new_idx[donor] = new_idx\n",
    "\n",
    "print(\"Donor to index mapping - Old:\", donor_to_old_idx)\n",
    "print(\"Donor to index mapping - New:\", donor_to_new_idx)\n",
    "\n",
    "# 2. Check if the mappings are applied consistently\n",
    "print(\"\\n===== CONTROL CELL ASSIGNMENTS =====\")\n",
    "control_indices = np.where(cf.data_manager.adata.obs[cf.data_manager._control_key])[0]\n",
    "sample_indices = control_indices[:10]  # Examine first 10 control cells\n",
    "\n",
    "print(f\"Sample of {len(sample_indices)} control cells:\")\n",
    "for idx in sample_indices:\n",
    "    donor = cf.data_manager.adata.obs.iloc[idx][\"donor\"]\n",
    "    expected_old_idx = donor_to_old_idx.get(donor, \"Not found\")\n",
    "    expected_new_idx = donor_to_new_idx.get(donor, \"Not found\")\n",
    "    actual_old = o.split_covariates_mask[idx]\n",
    "    actual_new = n.split_covariates_mask[idx]\n",
    "    \n",
    "    match_old = \"✓\" if actual_old == expected_old_idx else \"✗\"\n",
    "    match_new = \"✓\" if actual_new == expected_new_idx else \"✗\"\n",
    "    \n",
    "    print(f\"Cell {idx}: Donor={donor}, Old={actual_old} (Expected: {expected_old_idx}) {match_old}, \" +\n",
    "          f\"New={actual_new} (Expected: {expected_new_idx}) {match_new}\")\n",
    "\n",
    "# 3. Examine the specific code paths for control detection\n",
    "print(\"\\n===== IMPLEMENTATION DIFFERENCES =====\")\n",
    "# Print key stats about the assignments\n",
    "total_cells = len(cf.data_manager.adata)\n",
    "print(f\"Total cells: {total_cells}\")\n",
    "print(f\"Control cells assigned donor in old implementation: {np.sum(o.split_covariates_mask != -1)}\")\n",
    "print(f\"Control cells assigned donor in new implementation: {np.sum(n.split_covariates_mask != -1)}\")\n",
    "print(f\"Control cells assigned -1 in new implementation: {np.sum((n.split_covariates_mask == -1) & (cf.data_manager.adata.obs[cf.data_manager._control_key]))}\")"
   ]
  },
  {
   "cell_type": "code",
   "execution_count": null,
   "metadata": {},
   "outputs": [],
   "source": []
  }
 ],
 "metadata": {
  "kernelspec": {
   "display_name": "cellflow",
   "language": "python",
   "name": "python3"
  },
  "language_info": {
   "codemirror_mode": {
    "name": "ipython",
    "version": 3
   },
   "file_extension": ".py",
   "mimetype": "text/x-python",
   "name": "python",
   "nbconvert_exporter": "python",
   "pygments_lexer": "ipython3",
   "version": "3.11.11"
  }
 },
 "nbformat": 4,
 "nbformat_minor": 2
}
