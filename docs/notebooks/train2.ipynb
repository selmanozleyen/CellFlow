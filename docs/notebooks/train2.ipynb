{
 "cells": [
  {
   "cell_type": "code",
   "execution_count": 6,
   "metadata": {},
   "outputs": [
    {
     "name": "stdout",
     "output_type": "stream",
     "text": [
      "The autoreload extension is already loaded. To reload it, use:\n",
      "  %reload_ext autoreload\n"
     ]
    }
   ],
   "source": [
    "%load_ext autoreload\n",
    "%autoreload 2\n",
    "\n",
    "\n",
    "import numpy as np\n",
    "import pandas as pd\n",
    "import anndata as ad\n",
    "import numpy as np\n",
    "import pandas as pd\n",
    "import jax.numpy as jnp\n",
    "import jax\n",
    "import cellflow\n",
    "jax.config.update(\"jax_default_device\", jax.devices()[0])"
   ]
  },
  {
   "cell_type": "code",
   "execution_count": 7,
   "metadata": {},
   "outputs": [],
   "source": [
    "adata  = ad.read_h5ad('pbmc_cytokines_train.h5ad')"
   ]
  },
  {
   "cell_type": "code",
   "execution_count": 8,
   "metadata": {},
   "outputs": [
    {
     "data": {
      "text/plain": [
       "AnnData object with n_obs × n_vars = 9593880 × 2000\n",
       "    obs: 'sample', 'species', 'gene_count', 'tscp_count', 'mread_count', 'bc1_wind', 'bc2_wind', 'bc3_wind', 'bc1_well', 'bc2_well', 'bc3_well', 'log1p_n_genes_by_counts', 'log1p_total_counts', 'total_counts_MT', 'pct_counts_MT', 'log1p_total_counts_MT', 'donor', 'cytokine', 'treatment', 'cell_type', 'cytokine_family', 'condition', 'is_control'\n",
       "    var: 'n_cells', 'highly_variable', 'means', 'dispersions', 'dispersions_norm'\n",
       "    uns: 'donor_embeddings', 'esm2_embeddings', 'hvg', 'log1p', 'pca'\n",
       "    obsm: 'X_pca'\n",
       "    varm: 'PCs', 'X_mean'"
      ]
     },
     "execution_count": 8,
     "metadata": {},
     "output_type": "execute_result"
    }
   ],
   "source": [
    "adata"
   ]
  },
  {
   "cell_type": "code",
<<<<<<< HEAD
<<<<<<< HEAD
   "execution_count": 19,
=======
   "execution_count": 9,
>>>>>>> 0545b2b (fix attempt to duplicate label)
=======
   "execution_count": 19,
>>>>>>> 1daa3f2 (changes to fix the cellflow)
   "metadata": {},
   "outputs": [],
   "source": [
    "cf = cellflow.model.CellFlow(\n",
    "    adata=adata,\n",
    "    solver='otfm'\n",
    ")"
   ]
  },
  {
   "cell_type": "code",
<<<<<<< HEAD
   "execution_count": 15,
=======
   "execution_count": 10,
>>>>>>> 0545b2b (fix attempt to duplicate label)
   "metadata": {},
   "outputs": [
    {
     "name": "stdout",
     "output_type": "stream",
     "text": [
<<<<<<< HEAD
      "[########################################] | 100% Completed | 3.42 ss\n"
=======
      "[########################################] | 100% Completed | 2.32 sms\n"
>>>>>>> 0545b2b (fix attempt to duplicate label)
     ]
    },
    {
     "name": "stderr",
     "output_type": "stream",
     "text": [
<<<<<<< HEAD
      "/ictstr01/home/icb/selman.ozleyen/projects/cell_flow_perturbation/src/cellflow/data/_datamanager.py:753: UserWarning: Explicitly requested dtype <class 'jax.numpy.int64'> requested in asarray is not available, and will be truncated to dtype int32. To enable more dtypes, set the jax_enable_x64 configuration option or the JAX_ENABLE_X64 shell environment variable. See https://github.com/jax-ml/jax#current-gotchas for more.\n",
      "  split_covariates_mask = jnp.asarray(df[\"split_covariates_mask\"].values, dtype=jnp.int32)\n",
      "/home/icb/selman.ozleyen/miniforge3/envs/cellflow/lib/python3.11/site-packages/jax/_src/numpy/lax_numpy.py:5540: RuntimeWarning: invalid value encountered in cast\n",
      "  out = np.asarray(object, dtype=dtype)\n",
      "/ictstr01/home/icb/selman.ozleyen/projects/cell_flow_perturbation/src/cellflow/data/_datamanager.py:754: UserWarning: Explicitly requested dtype <class 'jax.numpy.int64'> requested in asarray is not available, and will be truncated to dtype int32. To enable more dtypes, set the jax_enable_x64 configuration option or the JAX_ENABLE_X64 shell environment variable. See https://github.com/jax-ml/jax#current-gotchas for more.\n",
      "  perturbation_covariates_mask = jnp.asarray(df[\"perturbation_covariates_mask\"].values, dtype=jnp.int32)\n"
=======
      "/home/icb/selman.ozleyen/miniforge3/envs/cellflow/lib/python3.11/site-packages/jax/_src/numpy/lax_numpy.py:5540: RuntimeWarning: invalid value encountered in cast\n",
      "  out = np.asarray(object, dtype=dtype)\n"
>>>>>>> 0545b2b (fix attempt to duplicate label)
     ]
    },
    {
     "name": "stdout",
     "output_type": "stream",
     "text": [
<<<<<<< HEAD
      "[########################################] | 100% Completed | 1.19 sms\n"
=======
      "[########################################] | 100% Completed | 933.38 ms\n"
>>>>>>> 0545b2b (fix attempt to duplicate label)
     ]
    }
   ],
   "source": [
    "cf.prepare_data(\n",
    "    sample_rep = \"X_pca\",\n",
    "    control_key = \"is_control\",\n",
    "    perturbation_covariates = {\"cytokine_treatment\": (\"cytokine\",)},\n",
    "    perturbation_covariate_reps = {\"cytokine_treatment\": \"esm2_embeddings\"},\n",
    "    sample_covariates = [\"donor\"],\n",
    "    sample_covariate_reps = {\"donor\": \"donor_embeddings\"},\n",
    "    split_covariates = [\"donor\"],\n",
    "    max_combination_length = 1,\n",
    "    null_value = 0.0,\n",
    ")"
   ]
  },
  {
   "cell_type": "code",
<<<<<<< HEAD
   "execution_count": 16,
=======
   "execution_count": 11,
>>>>>>> 0545b2b (fix attempt to duplicate label)
   "metadata": {},
   "outputs": [
    {
     "name": "stderr",
     "output_type": "stream",
     "text": [
      "/ictstr01/home/icb/selman.ozleyen/projects/cell_flow_perturbation/src/cellflow/data/_datamanager.py:344: SettingWithCopyWarning: \n",
      "A value is trying to be set on a copy of a slice from a DataFrame.\n",
      "Try using .loc[row_indexer,col_indexer] = value instead\n",
      "\n",
      "See the caveats in the documentation: https://pandas.pydata.org/pandas-docs/stable/user_guide/indexing.html#returning-a-view-versus-a-copy\n",
      "  _covariate_data[\"cell_index\"] = _covariate_data.index\n",
<<<<<<< HEAD
      "100%|██████████| 90/90 [00:46<00:00,  1.92it/s]\n",
      "100%|██████████| 90/90 [00:43<00:00,  2.05it/s]\n",
      "100%|██████████| 90/90 [00:41<00:00,  2.15it/s]\n",
      "100%|██████████| 90/90 [00:41<00:00,  2.16it/s]\n",
      "100%|██████████| 90/90 [00:42<00:00,  2.13it/s]\n",
      "100%|██████████| 90/90 [00:46<00:00,  1.93it/s]\n",
      "100%|██████████| 90/90 [00:42<00:00,  2.10it/s]\n",
      "100%|██████████| 91/91 [00:45<00:00,  1.98it/s]\n",
      "100%|██████████| 90/90 [00:45<00:00,  2.00it/s]\n",
      "100%|██████████| 90/90 [00:45<00:00,  1.97it/s]\n",
      "100%|██████████| 90/90 [00:44<00:00,  2.02it/s]\n",
      "100%|██████████| 90/90 [00:46<00:00,  1.94it/s]\n"
<<<<<<< HEAD
=======
      "100%|██████████| 90/90 [00:42<00:00,  2.11it/s]\n",
      "100%|██████████| 90/90 [00:43<00:00,  2.09it/s]\n",
      "100%|██████████| 90/90 [00:43<00:00,  2.08it/s]\n",
      " 86%|████████▌ | 77/90 [00:42<00:05,  2.19it/s]"
>>>>>>> 0545b2b (fix attempt to duplicate label)
=======
>>>>>>> 1daa3f2 (changes to fix the cellflow)
     ]
    }
   ],
   "source": [
    "split_cov_combs = cf.data_manager._get_split_cov_combs(covariate_data=cf.data_manager.adata.obs)\n",
    "o = cf.data_manager._get_condition_data_old(\n",
    "    adata=cf.data_manager.adata,\n",
    "    split_cov_combs=split_cov_combs,\n",
    ")"
   ]
  },
  {
   "cell_type": "code",
<<<<<<< HEAD
<<<<<<< HEAD
   "execution_count": 17,
=======
   "execution_count": null,
>>>>>>> 0545b2b (fix attempt to duplicate label)
=======
   "execution_count": 17,
>>>>>>> 1daa3f2 (changes to fix the cellflow)
   "metadata": {},
   "outputs": [
    {
     "name": "stdout",
     "output_type": "stream",
     "text": [
      "[########################################] | 100% Completed | 101.50 ms\n",
      "[########################################] | 100% Completed | 2.99 sms\n",
      "[########################################] | 100% Completed | 1.24 sms\n"
     ]
    }
   ],
   "source": [
    "n = cf.data_manager._get_condition_data(\n",
    "    adata=cf.data_manager.adata,\n",
    "    split_cov_combs=split_cov_combs,\n",
    ")"
   ]
  },
  {
   "cell_type": "code",
<<<<<<< HEAD
<<<<<<< HEAD
   "execution_count": 18,
=======
   "execution_count": null,
>>>>>>> 0545b2b (fix attempt to duplicate label)
=======
   "execution_count": 18,
>>>>>>> 1daa3f2 (changes to fix the cellflow)
   "metadata": {},
   "outputs": [
    {
     "name": "stdout",
     "output_type": "stream",
     "text": [
      "Passed split_idx_to_covariates check\n",
      "Passed perturbation_idx_to_covariates check\n",
      "Passed perturbation_idx_to_id check\n",
      "Passed condition_data check\n",
      "Passed control_to_perturbation check\n",
      "[-1 -1 -1 ... -1 -1 -1] [-1 -1 -1 ... -1 -1 -1]\n",
      "Passed split_covariates_mask check\n",
      "[802 802 802 ... 801 801 801] [802 802 802 ... 801 801 801]\n",
      "Passed perturbation_covariates_mask check\n"
     ]
    }
   ],
   "source": [
    "attrs=[\n",
    "    \"split_idx_to_covariates\",\n",
    "    \"perturbation_idx_to_covariates\",\n",
    "    \"perturbation_idx_to_id\",\n",
    "    \"condition_data\",  # type: ignore[arg-type]\n",
    "    \"control_to_perturbation\",\n",
    "    \"split_covariates_mask\",\n",
    "    \"perturbation_covariates_mask\",\n",
    "]\n",
    "for attr in attrs:\n",
    "    old_attr = getattr(o, attr)\n",
    "    new_attr = getattr(n, attr)\n",
    "    if attr  in {\"split_idx_to_covariates\"}:\n",
    "        assert set(old_attr.keys()) == set(new_attr.keys()), f\"Mismatch in {attr} keys, len old: {len(old_attr)}, len new: {len(new_attr)}, old: {old_attr.keys()}, new: {new_attr.keys()}\"\n",
    "        for key in old_attr.keys():\n",
    "            assert new_attr[key] == old_attr[key], f\"Mismatch in {attr} for key {key}, old: {old_attr[key]}, new: {new_attr[key]}\"\n",
    "\n",
    "    elif isinstance(old_attr, dict):\n",
    "        assert set(old_attr.keys()) == set(new_attr.keys()), f\"Mismatch in {attr} keys\"\n",
    "        for key in old_attr.keys():\n",
    "            old_ = np.array(old_attr[key])\n",
    "            new_ = np.array(new_attr[key])\n",
    "            assert np.array_equal(old_, new_), f\"Mismatch in {attr} for key {key}, old: {old_}, new: {new_}\"\n",
    "    else:\n",
    "        np_old = np.array(old_attr)\n",
    "        np_new = np.array(new_attr)\n",
    "        print(np_old, np_new)\n",
    "        assert np.array_equal(np_old, np_new), f\"Mismatch in {attr} values\"\n",
    "\n",
    "    print(f\"Passed {attr} check\")"
   ]
  },
  {
   "cell_type": "code",
   "execution_count": 9,
   "metadata": {},
   "outputs": [
    {
     "data": {
      "text/plain": [
       "{0: ('Donor1',),\n",
       " 1: ('Donor2',),\n",
       " 2: ('Donor3',),\n",
       " 3: ('Donor4',),\n",
       " 4: ('Donor5',),\n",
       " 5: ('Donor6',),\n",
       " 6: ('Donor7',),\n",
       " 7: ('Donor8',),\n",
       " 8: ('Donor9',),\n",
       " 9: ('Donor10',),\n",
       " 10: ('Donor11',),\n",
       " 11: ('Donor12',)}"
      ]
     },
     "execution_count": 9,
     "metadata": {},
     "output_type": "execute_result"
    }
   ],
   "source": [
    "o.split_idx_to_covariates"
   ]
  },
  {
   "cell_type": "code",
   "execution_count": null,
   "metadata": {},
   "outputs": [],
   "source": []
  }
 ],
 "metadata": {
  "kernelspec": {
   "display_name": "cellflow",
   "language": "python",
   "name": "python3"
  },
  "language_info": {
   "codemirror_mode": {
    "name": "ipython",
    "version": 3
   },
   "file_extension": ".py",
   "mimetype": "text/x-python",
   "name": "python",
   "nbconvert_exporter": "python",
   "pygments_lexer": "ipython3",
   "version": "3.11.11"
  }
 },
 "nbformat": 4,
 "nbformat_minor": 2
}
