{
 "cells": [
  {
   "cell_type": "markdown",
   "id": "b311ea14",
   "metadata": {},
   "source": [
    "# Neuron fate prediction from combinatorial morphogen treatment\n",
    "\n",
    "In this notebook, we show how CellFlow can be used to predict the outcome of neuron fate programming experiments. We use the "
   ]
  }
 ],
 "metadata": {
  "language_info": {
   "name": "python"
  }
 },
 "nbformat": 4,
 "nbformat_minor": 5
}
