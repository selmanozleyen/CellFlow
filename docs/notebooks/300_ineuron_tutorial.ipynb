{
 "cells": [
  {
   "cell_type": "markdown",
   "id": "b311ea14",
   "metadata": {},
   "source": [
    "# Neuron fate prediction from combinatorial morphogen treatment\n",
    "\n",
    "In this notebook, we show how CellFlow can be used to predict the outcome of neuron fate programming experiments. We use the the dataset from [Lin, Jansen et al.](https://www.biorxiv.org/content/10.1101/2023.12.12.571318v2), which contains scRNA-seq data from an morphogen screen in NGN2-induced neurons (iNeurons). The treatment conditions comprised combinations of modulators of anterior-posterior (AP) patterning (RA, CHIR99021, XAV-939, FGF8) with modulators of dorso-ventral (DV) patterning (BMP4, SHH), each applied in multiple concentrations. We use CellFlow to predict neuron distributions for held-out combinations of morphogens. \n",
    "\n",
    "## Preparing the data"
   ]
  },
  {
   "cell_type": "code",
   "execution_count": 14,
   "id": "9bcec502",
   "metadata": {},
   "outputs": [],
   "source": [
    "import warnings\n",
    "from functools import partial, reduce\n",
    "from typing import Literal\n",
    "\n",
    "import anndata as ad\n",
    "import flax.linen as nn\n",
    "import numpy as np\n",
    "import optax\n",
    "import pandas as pd\n",
    "import scanpy as sc\n",
    "import yaml\n",
    "from ott.solvers import utils as solver_utils\n",
    "from scipy.sparse import csr_matrix\n",
    "from sklearn.preprocessing import OneHotEncoder\n",
    "\n",
    "import cellflow\n",
    "import cellflow.preprocessing as cfpp"
   ]
  },
  {
   "cell_type": "code",
   "execution_count": 4,
   "id": "a8170631",
   "metadata": {},
   "outputs": [
    {
     "name": "stdout",
     "output_type": "stream",
     "text": [
      "AnnData object with n_obs × n_vars = 178437 × 4000\n",
      "    obs: 'sample', 'species', 'gene_count', 'tscp_count', 'mread_count', 'bc1_well', 'bc2_well', 'bc3_well', 'bc1_wind', 'bc2_wind', 'bc3_wind', 'plateID', 'n_genes_by_counts', 'log1p_n_genes_by_counts', 'total_counts', 'log1p_total_counts', 'pct_counts_in_top_20_genes', 'total_counts_mt', 'log1p_total_counts_mt', 'pct_counts_mt', 'total_counts_ribo', 'log1p_total_counts_ribo', 'pct_counts_ribo', 'n_genes', 'percent_mito', 'n_counts', 'outlier', 'mt_outlier', 'doublet_score', 'predicted_doublet', 'leiden_4', 'leiden_10', 'merged_clusters', 'final_clustering', 'final_clustering_reset', 'merged_clusters_from_10', 'M_XAV', 'M_CHIR', 'M_RA', 'M_FGF8', 'M_BMP4', 'M_SHH', 'M_PM', 'media', 'sample-CellID', 'Neuron_type', 'Division', 'Region', 'FGF8_conc', 'FGF8_start_time', 'FGF8_end_time', 'XAV_conc', 'XAV_start_time', 'XAV_end_time', 'RA_conc', 'RA_start_time', 'RA_end_time', 'CHIR_conc', 'CHIR_start_time', 'CHIR_end_time', 'SHH_conc', 'SHH_start_time', 'SHH_end_time', 'BMP4_conc', 'BMP4_start_time', 'BMP4_end_time', 'SAG_conc', 'SAG_start_time', 'SAG_end_time', 'PM_conc', 'PM_start_time', 'PM_end_time', 'CycA_conc', 'CycA_start_time', 'CycA_end_time', 'FGF2_conc', 'FGF2_start_time', 'FGF2_end_time', 'FGF4_conc', 'FGF4_start_time', 'FGF4_end_time', 'FGF17_conc', 'FGF17_start_time', 'FGF17_end_time', 'FGF19_conc', 'FGF19_start_time', 'FGF19_end_time', 'BMP7_conc', 'BMP7_start_time', 'BMP7_end_time', 'LDN_conc', 'LDN_start_time', 'LDN_end_time', 'Activin_conc', 'Activin_start_time', 'Activin_end_time', 'IWP2_conc', 'IWP2_start_time', 'IWP2_end_time', 'Rspondin2_conc', 'Rspondin2_start_time', 'Rspondin2_end_time', 'Rspondin3_conc', 'Rspondin3_start_time', 'Rspondin3_end_time', 'SR11237_conc', 'SR11237_start_time', 'SR11237_end_time', 'DAPT_conc', 'DAPT_start_time', 'DAPT_end_time', 'EGF_conc', 'EGF_start_time', 'EGF_end_time', 'Insulin_conc', 'Insulin_start_time', 'Insulin_end_time', 'condition', 'comb', 'dataset'\n",
      "    var: 'highly_variable', 'highly_variable_rank', 'means', 'variances', 'variances_norm'\n",
      "    uns: 'hvg', 'log1p', 'pca'\n",
      "    obsm: 'X_pca', 'X_pca_harmony', 'X_tsne', 'X_umap'\n",
      "    varm: 'PCs', 'X_mean'\n",
      "    layers: 'X_centered', 'counts'\n",
      "    obsp: 'connectivities', 'distances'\n"
     ]
    }
   ],
   "source": [
    "adata = cellflow.datasets.ineurons()\n",
    "print(adata)"
   ]
  },
  {
   "cell_type": "markdown",
   "id": "bf0748c5",
   "metadata": {},
   "source": [
    "Now we need to create representations for the perturbation conditions to be used by CellFlow. For this, we us a one-hot encoding of the morphogen multiplied by the concentration, which we store in `adata.uns[\"conditions\"]`. We also create columns in the adata object, indicating the treatment conditions for each cell."
   ]
  },
  {
   "cell_type": "code",
   "execution_count": 11,
   "id": "6982b1fd",
   "metadata": {},
   "outputs": [
    {
     "name": "stdout",
     "output_type": "stream",
     "text": [
      "AnnData object with n_obs × n_vars = 178437 × 4000\n",
      "    obs: 'sample', 'species', 'gene_count', 'tscp_count', 'mread_count', 'bc1_well', 'bc2_well', 'bc3_well', 'bc1_wind', 'bc2_wind', 'bc3_wind', 'plateID', 'n_genes_by_counts', 'log1p_n_genes_by_counts', 'total_counts', 'log1p_total_counts', 'pct_counts_in_top_20_genes', 'total_counts_mt', 'log1p_total_counts_mt', 'pct_counts_mt', 'total_counts_ribo', 'log1p_total_counts_ribo', 'pct_counts_ribo', 'n_genes', 'percent_mito', 'n_counts', 'outlier', 'mt_outlier', 'doublet_score', 'predicted_doublet', 'leiden_4', 'leiden_10', 'merged_clusters', 'final_clustering', 'final_clustering_reset', 'merged_clusters_from_10', 'M_XAV', 'M_CHIR', 'M_RA', 'M_FGF8', 'M_BMP4', 'M_SHH', 'M_PM', 'media', 'sample-CellID', 'Neuron_type', 'Division', 'Region', 'FGF8_conc', 'FGF8_start_time', 'FGF8_end_time', 'XAV_conc', 'XAV_start_time', 'XAV_end_time', 'RA_conc', 'RA_start_time', 'RA_end_time', 'CHIR_conc', 'CHIR_start_time', 'CHIR_end_time', 'SHH_conc', 'SHH_start_time', 'SHH_end_time', 'BMP4_conc', 'BMP4_start_time', 'BMP4_end_time', 'SAG_conc', 'SAG_start_time', 'SAG_end_time', 'PM_conc', 'PM_start_time', 'PM_end_time', 'CycA_conc', 'CycA_start_time', 'CycA_end_time', 'FGF2_conc', 'FGF2_start_time', 'FGF2_end_time', 'FGF4_conc', 'FGF4_start_time', 'FGF4_end_time', 'FGF17_conc', 'FGF17_start_time', 'FGF17_end_time', 'FGF19_conc', 'FGF19_start_time', 'FGF19_end_time', 'BMP7_conc', 'BMP7_start_time', 'BMP7_end_time', 'LDN_conc', 'LDN_start_time', 'LDN_end_time', 'Activin_conc', 'Activin_start_time', 'Activin_end_time', 'IWP2_conc', 'IWP2_start_time', 'IWP2_end_time', 'Rspondin2_conc', 'Rspondin2_start_time', 'Rspondin2_end_time', 'Rspondin3_conc', 'Rspondin3_start_time', 'Rspondin3_end_time', 'SR11237_conc', 'SR11237_start_time', 'SR11237_end_time', 'DAPT_conc', 'DAPT_start_time', 'DAPT_end_time', 'EGF_conc', 'EGF_start_time', 'EGF_end_time', 'Insulin_conc', 'Insulin_start_time', 'Insulin_end_time', 'condition', 'comb', 'dataset', 'FGF8_0', 'FGF8_10', 'FGF8_50', 'FGF8_100', 'FGF8_250', 'XAV_5.0', 'XAV_1.0', 'XAV_0.2', 'XAV_0.0', 'RA_0', 'RA_1000', 'RA_100', 'RA_10', 'RA_1', 'CHIR_0.0', 'CHIR_0.2', 'CHIR_0.7', 'CHIR_1.5', 'CHIR_3.0', 'SHH_0', 'SHH_15', 'SHH_50', 'SHH_150', 'SHH_500', 'BMP4_50', 'BMP4_15', 'BMP4_5', 'BMP4_0'\n",
      "    var: 'highly_variable', 'highly_variable_rank', 'means', 'variances', 'variances_norm'\n",
      "    uns: 'hvg', 'log1p', 'pca', 'conditions'\n",
      "    obsm: 'X_pca', 'X_pca_harmony', 'X_tsne', 'X_umap'\n",
      "    varm: 'PCs', 'X_mean'\n",
      "    layers: 'X_centered', 'counts'\n",
      "    obsp: 'connectivities', 'distances'\n"
     ]
    }
   ],
   "source": [
    "morphogens = [\"FGF8\", \"XAV\", \"RA\", \"CHIR\", \"SHH\", \"BMP4\"]\n",
    "dataset_enc = OneHotEncoder()\n",
    "dataset_enc.fit(np.array(morphogens).reshape(-1, 1))\n",
    "condition_dict = {}\n",
    "condition_keys = []\n",
    "\n",
    "for mol in morphogens:\n",
    "    mol_onehot = (\n",
    "        dataset_enc.transform(np.array([mol]).reshape(-1, 1)).toarray().flatten()\n",
    "    )\n",
    "    concs = adata.obs[mol + \"_conc\"].unique()\n",
    "    for conc in concs:\n",
    "        cond_cells = adata.obs[mol + \"_conc\"] == conc\n",
    "        cond_id = mol + \"_\" + str(conc)\n",
    "        if cond_id in condition_keys:\n",
    "            continue\n",
    "        condition_keys.append(cond_id)\n",
    "        adata.obs[cond_id] = cond_cells\n",
    "        condition_dict[cond_id] = mol_onehot * np.log1p(float(conc))\n",
    "\n",
    "adata.uns[\"conditions\"] = condition_dict\n",
    "print(adata)"
   ]
  },
  {
   "cell_type": "markdown",
   "id": "8b69dcea",
   "metadata": {},
   "source": [
    "Now we split the data into train in test set. In the original paper, the the combination of RA+BMP4 was highlighted as particularly interesting, as it resulted in new cell states that were not seen with any individual morphogen treatment. We now want to test wether CellFlow can predict these new cell states by holding out all conditions including the combination of RA+BMP4 from training. "
   ]
  },
  {
   "cell_type": "code",
   "execution_count": null,
   "id": "6e6f53a2",
   "metadata": {},
   "outputs": [],
   "source": [
    "exclude_combs = [\"RA+BMP4\", \"RA+CHIR+BMP4\"]\n",
    "adata_train = adata[\n",
    "    ~adata.obs[\"condition\"].isin(exclude_combs)\n",
    "]  # remove combinations from training\n",
    "adata_eval = adata[\n",
    "    adata.obs[\"condition\"].isin(exclude_combs)\n",
    "]  # evaluation on combinations and control"
   ]
  },
  {
   "cell_type": "markdown",
   "id": "033a9542",
   "metadata": {},
   "source": [
    "To prevent any leakage of nformation by having a latent space computed with the held-out conditions, we also we recompute PCA for the trainign set only and then project the test set into this space."
   ]
  },
  {
   "cell_type": "code",
   "execution_count": 15,
   "id": "39afda1a",
   "metadata": {},
   "outputs": [],
   "source": [
    "cfpp.centered_pca(adata_train, n_comps=30, method=\"rapids\")\n",
    "cfpp.project_pca(adata_eval, adata_train)"
   ]
  },
  {
   "cell_type": "markdown",
   "id": "7bc0f857",
   "metadata": {},
   "source": [
    "To train the model and generate predictions, we also need a **source distribution** to generate from. In most other use cases, we can just use the control condition for his. However, in this case, each condition (including the lack of morphogens) generates distinct cell state distributions. This means that the control condition cannot be viewed as an \"unpertrubed\" state and it therefore does not necessarily make sense to use it as a source distribution. Instead, we use a random distribution that is generated from subsamples means of the training data. As a result, the model will essentially act in a fully generative way, generating new cell distributions from a random source."
   ]
  },
  {
   "cell_type": "code",
   "execution_count": 17,
   "id": "73318f50",
   "metadata": {},
   "outputs": [],
   "source": [
    "n_src_cells = 10000\n",
    "n_samples = 1000\n",
    "sample_rep = \"X_pca\"\n",
    "samples = []\n",
    "for i in range(n_src_cells):\n",
    "    sample = adata_train.obsm[sample_rep][\n",
    "        np.random.choice(adata_train.n_obs, n_samples), :\n",
    "    ].mean(axis=0)\n",
    "    samples.append(sample)\n",
    "samples = np.array(samples)\n",
    "samples_obs = pd.DataFrame(\n",
    "    {col: 0.0 for col in [mol + \"_conc\" for mol in morphogens]},\n",
    "    index=range(samples.shape[0]),\n",
    ")\n",
    "samples_obs[\"dataset\"] = \"CTRL\"\n",
    "samples_obs[\"media\"] = \"CTRL\"\n",
    "samples_obs[\"condition\"] = \"CTRL\"\n",
    "adata_ctrl = sc.AnnData(\n",
    "    X=csr_matrix(np.zeros((samples.shape[0], adata_train.n_vars))), obs=samples_obs\n",
    ")\n",
    "adata_ctrl.obsm[sample_rep] = samples\n",
    "adata_ctrl.var_names = adata_train.var_names\n",
    "adata_train_full = ad.concat([adata_train, adata_ctrl], join=\"outer\")\n",
    "adata_train_full.obs[\"CTRL\"] = adata_train_full.obs[\"dataset\"] == \"CTRL\"\n",
    "adata_ctrl.obs[\"CTRL\"] = True\n",
    "adata_train_full.uns, adata_eval.uns = adata.uns, adata.uns"
   ]
  },
  {
   "cell_type": "markdown",
   "id": "bec462cb",
   "metadata": {},
   "source": [
    "## Running CellFlow\n",
    "Now we are ready to set up the `CellFlow` model. We use the default deterministic `otfm` solver for this task."
   ]
  },
  {
   "cell_type": "code",
   "execution_count": 21,
   "id": "4e216ee6",
   "metadata": {},
   "outputs": [],
   "source": [
    "cf = cellflow.model.CellFlow(adata_train_full, solver=\"otfm\")"
   ]
  },
  {
   "cell_type": "markdown",
   "id": "d8849016",
   "metadata": {},
   "source": [
    "### Preparing CellFlow’s data handling with prepare_data()\n",
    "We set up the data as follows:\n",
    "- We use `.obsm[\"X_pca\"]` as the cellular representation (`sample_rep`)\n",
    "- `\"CTRL\"` indicated the source distribution we constructed earlier\n",
    "- We use the previously constructed columns indicating morphogen concentrations as `perturbation_covariates`\n",
    "- As representations for the perturbation conditions, we use the one-hot encoded morphogen concentrations in `.uns[\"conditions\"]` (`perturbation_covariate_reps`)."
   ]
  },
  {
   "cell_type": "code",
   "execution_count": 22,
   "id": "f589a43b",
   "metadata": {},
   "outputs": [
    {
     "name": "stderr",
     "output_type": "stream",
     "text": [
      "100%|██████████| 193/193 [00:03<00:00, 50.83it/s]\n"
     ]
    }
   ],
   "source": [
    "cf.prepare_data(\n",
    "    sample_rep=sample_rep,\n",
    "    control_key=\"CTRL\",\n",
    "    perturbation_covariates={\"conditions\": condition_keys},\n",
    "    perturbation_covariate_reps={\"conditions\": \"conditions\"},\n",
    ")"
   ]
  },
  {
   "cell_type": "markdown",
   "id": "3cdd1103",
   "metadata": {},
   "source": [
    "### Preparing CellFlow’s model architecture with prepare_model()"
   ]
  },
  {
   "cell_type": "code",
   "execution_count": 28,
   "id": "800318fc",
   "metadata": {},
   "outputs": [],
   "source": [
    "layers_before_pool = [{\n",
    "    \"layer_type\": \"mlp\",\n",
    "    \"dims\": [2048] * 4,\n",
    "    \"dropout_rate\": 0.0,\n",
    "    \"act_fn\": nn.relu,\n",
    "}]\n",
    "layers_after_pool = [{\n",
    "    \"layer_type\": \"mlp\",\n",
    "    \"dims\": [],\n",
    "}]"
   ]
  },
  {
   "cell_type": "code",
   "execution_count": 23,
   "id": "d9c4ba83",
   "metadata": {},
   "outputs": [],
   "source": [
    "match_fn = partial(\n",
    "    solver_utils.match_linear,\n",
    "    epsilon=0.5,\n",
    "    scale_cost=\"mean\",\n",
    "    tau_a=0.99,\n",
    "    tau_b=0.99,\n",
    ")"
   ]
  },
  {
   "cell_type": "code",
   "execution_count": null,
   "id": "8cd14d17",
   "metadata": {},
   "outputs": [],
   "source": [
    "cf.prepare_model(\n",
    "    condition_embedding_dim=128,\n",
    "    time_encoder_dims=[1024] * 5,\n",
    "    time_encoder_dropout=0.1,\n",
    "    hidden_dims=[2048] * 2 + [128],\n",
    "    hidden_dropout=0.2,\n",
    "    decoder_dims=[512] * 2,\n",
    "    decoder_dropout=0.1,\n",
    "    pooling=\"mean\",\n",
    "    layers_before_pool=layers_before_pool,\n",
    "    layers_after_pool=layers_after_pool,\n",
    "    cond_output_dropout=0.3,\n",
    "    flow={\"constant_noise\": 0.0},\n",
    "    match_fn=match_fn\n",
    ")"
   ]
  },
  {
   "cell_type": "code",
   "execution_count": 30,
   "id": "7e034618",
   "metadata": {},
   "outputs": [
    {
     "name": "stderr",
     "output_type": "stream",
     "text": [
      "  2%|▏         | 12333/500000 [05:26<3:34:59, 37.81it/s, loss=2.55]\n"
     ]
    },
    {
     "ename": "KeyboardInterrupt",
     "evalue": "",
     "output_type": "error",
     "traceback": [
      "\u001b[0;31m---------------------------------------------------------------------------\u001b[0m",
      "\u001b[0;31mKeyboardInterrupt\u001b[0m                         Traceback (most recent call last)",
      "Cell \u001b[0;32mIn[30], line 1\u001b[0m\n\u001b[0;32m----> 1\u001b[0m \u001b[43mcf\u001b[49m\u001b[38;5;241;43m.\u001b[39;49m\u001b[43mtrain\u001b[49m\u001b[43m(\u001b[49m\u001b[43mnum_iterations\u001b[49m\u001b[38;5;241;43m=\u001b[39;49m\u001b[38;5;241;43m500000\u001b[39;49m\u001b[43m)\u001b[49m\n",
      "File \u001b[0;32m/projects/site/pred/organoid-atlas/projects/cellflow/CellFlow/src/cellflow/model/_cellflow.py:533\u001b[0m, in \u001b[0;36mCellFlow.train\u001b[0;34m(self, num_iterations, batch_size, valid_freq, callbacks, monitor_metrics)\u001b[0m\n\u001b[1;32m    530\u001b[0m \u001b[38;5;28mself\u001b[39m\u001b[38;5;241m.\u001b[39m_dataloader \u001b[38;5;241m=\u001b[39m TrainSampler(data\u001b[38;5;241m=\u001b[39m\u001b[38;5;28mself\u001b[39m\u001b[38;5;241m.\u001b[39mtrain_data, batch_size\u001b[38;5;241m=\u001b[39mbatch_size)\n\u001b[1;32m    531\u001b[0m validation_loaders \u001b[38;5;241m=\u001b[39m {k: ValidationSampler(v) \u001b[38;5;28;01mfor\u001b[39;00m k, v \u001b[38;5;129;01min\u001b[39;00m \u001b[38;5;28mself\u001b[39m\u001b[38;5;241m.\u001b[39mvalidation_data\u001b[38;5;241m.\u001b[39mitems()}\n\u001b[0;32m--> 533\u001b[0m \u001b[38;5;28mself\u001b[39m\u001b[38;5;241m.\u001b[39m_solver \u001b[38;5;241m=\u001b[39m \u001b[38;5;28;43mself\u001b[39;49m\u001b[38;5;241;43m.\u001b[39;49m\u001b[43mtrainer\u001b[49m\u001b[38;5;241;43m.\u001b[39;49m\u001b[43mtrain\u001b[49m\u001b[43m(\u001b[49m\n\u001b[1;32m    534\u001b[0m \u001b[43m    \u001b[49m\u001b[43mdataloader\u001b[49m\u001b[38;5;241;43m=\u001b[39;49m\u001b[38;5;28;43mself\u001b[39;49m\u001b[38;5;241;43m.\u001b[39;49m\u001b[43m_dataloader\u001b[49m\u001b[43m,\u001b[49m\n\u001b[1;32m    535\u001b[0m \u001b[43m    \u001b[49m\u001b[43mnum_iterations\u001b[49m\u001b[38;5;241;43m=\u001b[39;49m\u001b[43mnum_iterations\u001b[49m\u001b[43m,\u001b[49m\n\u001b[1;32m    536\u001b[0m \u001b[43m    \u001b[49m\u001b[43mvalid_freq\u001b[49m\u001b[38;5;241;43m=\u001b[39;49m\u001b[43mvalid_freq\u001b[49m\u001b[43m,\u001b[49m\n\u001b[1;32m    537\u001b[0m \u001b[43m    \u001b[49m\u001b[43mvalid_loaders\u001b[49m\u001b[38;5;241;43m=\u001b[39;49m\u001b[43mvalidation_loaders\u001b[49m\u001b[43m,\u001b[49m\n\u001b[1;32m    538\u001b[0m \u001b[43m    \u001b[49m\u001b[43mcallbacks\u001b[49m\u001b[38;5;241;43m=\u001b[39;49m\u001b[43mcallbacks\u001b[49m\u001b[43m,\u001b[49m\n\u001b[1;32m    539\u001b[0m \u001b[43m    \u001b[49m\u001b[43mmonitor_metrics\u001b[49m\u001b[38;5;241;43m=\u001b[39;49m\u001b[43mmonitor_metrics\u001b[49m\u001b[43m,\u001b[49m\n\u001b[1;32m    540\u001b[0m \u001b[43m\u001b[49m\u001b[43m)\u001b[49m\n",
      "File \u001b[0;32m/projects/site/pred/organoid-atlas/projects/cellflow/CellFlow/src/cellflow/training/_trainer.py:117\u001b[0m, in \u001b[0;36mCellFlowTrainer.train\u001b[0;34m(self, dataloader, num_iterations, valid_freq, valid_loaders, monitor_metrics, callbacks)\u001b[0m\n\u001b[1;32m    115\u001b[0m rng, rng_step_fn \u001b[38;5;241m=\u001b[39m jax\u001b[38;5;241m.\u001b[39mrandom\u001b[38;5;241m.\u001b[39msplit(rng, \u001b[38;5;241m2\u001b[39m)\n\u001b[1;32m    116\u001b[0m batch \u001b[38;5;241m=\u001b[39m dataloader\u001b[38;5;241m.\u001b[39msample(rng)\n\u001b[0;32m--> 117\u001b[0m loss \u001b[38;5;241m=\u001b[39m \u001b[38;5;28;43mself\u001b[39;49m\u001b[38;5;241;43m.\u001b[39;49m\u001b[43msolver\u001b[49m\u001b[38;5;241;43m.\u001b[39;49m\u001b[43mstep_fn\u001b[49m\u001b[43m(\u001b[49m\u001b[43mrng_step_fn\u001b[49m\u001b[43m,\u001b[49m\u001b[43m \u001b[49m\u001b[43mbatch\u001b[49m\u001b[43m)\u001b[49m\n\u001b[1;32m    118\u001b[0m \u001b[38;5;28mself\u001b[39m\u001b[38;5;241m.\u001b[39mtraining_logs[\u001b[38;5;124m\"\u001b[39m\u001b[38;5;124mloss\u001b[39m\u001b[38;5;124m\"\u001b[39m]\u001b[38;5;241m.\u001b[39mappend(\u001b[38;5;28mfloat\u001b[39m(loss))\n\u001b[1;32m    120\u001b[0m \u001b[38;5;28;01mif\u001b[39;00m ((it \u001b[38;5;241m-\u001b[39m \u001b[38;5;241m1\u001b[39m) \u001b[38;5;241m%\u001b[39m valid_freq \u001b[38;5;241m==\u001b[39m \u001b[38;5;241m0\u001b[39m) \u001b[38;5;129;01mand\u001b[39;00m (it \u001b[38;5;241m>\u001b[39m \u001b[38;5;241m1\u001b[39m):\n\u001b[1;32m    121\u001b[0m     \u001b[38;5;66;03m# Get predictions from validation data\u001b[39;00m\n",
      "File \u001b[0;32m/projects/site/pred/organoid-atlas/projects/cellflow/CellFlow/src/cellflow/solvers/_otfm.py:139\u001b[0m, in \u001b[0;36mOTFlowMatching.step_fn\u001b[0;34m(self, rng, batch)\u001b[0m\n\u001b[1;32m    136\u001b[0m \u001b[38;5;66;03m# TODO: test whether it's better to sample the same noise for all samples or different ones\u001b[39;00m\n\u001b[1;32m    138\u001b[0m \u001b[38;5;28;01mif\u001b[39;00m \u001b[38;5;28mself\u001b[39m\u001b[38;5;241m.\u001b[39mmatch_fn \u001b[38;5;129;01mis\u001b[39;00m \u001b[38;5;129;01mnot\u001b[39;00m \u001b[38;5;28;01mNone\u001b[39;00m:\n\u001b[0;32m--> 139\u001b[0m     tmat \u001b[38;5;241m=\u001b[39m \u001b[38;5;28;43mself\u001b[39;49m\u001b[38;5;241;43m.\u001b[39;49m\u001b[43mmatch_fn\u001b[49m\u001b[43m(\u001b[49m\u001b[43msrc\u001b[49m\u001b[43m,\u001b[49m\u001b[43m \u001b[49m\u001b[43mtgt\u001b[49m\u001b[43m)\u001b[49m\n\u001b[1;32m    140\u001b[0m     src_ixs, tgt_ixs \u001b[38;5;241m=\u001b[39m solver_utils\u001b[38;5;241m.\u001b[39msample_joint(rng_resample, tmat)\n\u001b[1;32m    141\u001b[0m     src, tgt \u001b[38;5;241m=\u001b[39m src[src_ixs], tgt[tgt_ixs]\n",
      "\u001b[0;31mKeyboardInterrupt\u001b[0m: "
     ]
    }
   ],
   "source": [
    "cf.train(num_iterations=500000)"
   ]
  }
 ],
 "metadata": {
  "kernelspec": {
   "display_name": "Python 3",
   "language": "python",
   "name": "python3"
  },
  "language_info": {
   "codemirror_mode": {
    "name": "ipython",
    "version": 3
   },
   "file_extension": ".py",
   "mimetype": "text/x-python",
   "name": "python",
   "nbconvert_exporter": "python",
   "pygments_lexer": "ipython3",
   "version": "3.10.11"
  }
 },
 "nbformat": 4,
 "nbformat_minor": 5
}
