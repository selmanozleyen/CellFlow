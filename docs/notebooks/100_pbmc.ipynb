{
 "cells": [
  {
   "cell_type": "markdown",
   "id": "c7a0b6f9-b392-49fe-afb6-7b227bf5a73d",
   "metadata": {},
   "source": [
    "# Predicting donor-specific cytokine effects on PBMCs"
   ]
  },
  {
   "cell_type": "markdown",
   "id": "bc061b8c-aaab-413f-8f20-a0f07c812dde",
   "metadata": {},
   "source": [
    "In this tutorial, we predict the donor-specific cytokine effect on PBMCs. The dataset comprises almost ten million cells from 12 different donors, whose samples were treated with 90 different cytokines. More information on the data can be found [here](https://www.parsebiosciences.com/datasets/10-million-human-pbmcs-in-a-single-experiment/). "
   ]
  },
  {
   "cell_type": "markdown",
   "id": "52cbffa5-7171-4c5e-8d21-c188af805502",
   "metadata": {},
   "source": [
    "## Preliminaries"
   ]
  },
  {
   "cell_type": "code",
   "execution_count": 1,
   "id": "b981afb7",
   "metadata": {},
   "outputs": [],
   "source": [
    "%load_ext autoreload\n",
    "%autoreload 2"
   ]
  },
  {
   "cell_type": "markdown",
   "id": "e44f0ce5-2981-4c5c-a8be-dc07de0b15ab",
   "metadata": {},
   "source": [
    "As the dataset is particularly large, we use [rapids-single-cell](https://rapids-singlecell.readthedocs.io/en/latest/index.html) which allows us to leverage GPU acceleration for preprocessing and downstream tasks. This notebook is executed on a A100 GPU with 80GB memory, as well as 500GB CPU memory. "
   ]
  },
  {
   "cell_type": "code",
   "execution_count": 2,
   "id": "07690e5c-523c-4a81-93c8-d57f89cabc07",
   "metadata": {},
   "outputs": [],
   "source": [
    "import warnings\n",
    "from pandas.errors import SettingWithCopyWarning\n",
    "\n",
    "warnings.simplefilter(\"ignore\", UserWarning)\n",
    "warnings.simplefilter(\"ignore\", FutureWarning)\n",
    "warnings.simplefilter(\"ignore\", SettingWithCopyWarning)\n",
    "\n",
    "import numpy as np\n",
    "import pandas as pd\n",
    "import seaborn as sns\n",
    "import jax\n",
    "import functools\n",
    "import matplotlib.pyplot as plt\n",
    "import anndata as ad\n",
    "import scanpy as sc\n",
    "import flax.linen as nn\n",
    "import optax\n",
    "import cellflow\n",
    "from cellflow.model import CellFlow\n",
    "from cellflow.utils import match_linear\n"
   ]
  },
  {
   "cell_type": "code",
   "execution_count": 3,
   "id": "78e1d194",
   "metadata": {},
   "outputs": [],
   "source": [
    "# adata_train.write_h5ad(\"pbmc_cytokines_train.h5ad\")\n",
    "# adata_test.write_h5ad(\"pbmc_cytokines_test.h5ad\")\n",
    "adata_train = ad.read_h5ad(\"pbmc_cytokines_train.h5ad\")\n",
    "adata_test = ad.read_h5ad(\"pbmc_cytokines_test.h5ad\")"
   ]
  },
  {
   "cell_type": "code",
   "execution_count": 4,
   "id": "439abf26-eda6-4f0f-991d-dc850f5bdefa",
   "metadata": {},
   "outputs": [],
   "source": [
    "cf = CellFlow(adata_train, solver=\"otfm\")"
   ]
  },
  {
   "cell_type": "code",
   "execution_count": 5,
   "id": "84d1797f-4671-4a41-aeb3-978d91a8b127",
   "metadata": {},
   "outputs": [
    {
     "name": "stdout",
     "output_type": "stream",
     "text": [
      "[########################################] | 100% Completed | 102.46 ms\n",
      "[########################################] | 100% Completed | 3.32 sms\n",
      "[########################################] | 100% Completed | 11.52 s\n"
     ]
    }
   ],
   "source": [
    "cf.prepare_data(\n",
    "    sample_rep = \"X_pca\",\n",
    "    control_key = \"is_control\",\n",
    "    perturbation_covariates = {\"cytokine_treatment\": (\"cytokine\",)},\n",
    "    perturbation_covariate_reps = {\"cytokine_treatment\": \"esm2_embeddings\"},\n",
    "    sample_covariates = [\"donor\"],\n",
    "    sample_covariate_reps = {\"donor\": \"donor_embeddings\"},\n",
    "    split_covariates = [\"donor\"],\n",
    "    max_combination_length = 1,\n",
    "    null_value = 0.0,\n",
    ")"
   ]
  },
  {
   "cell_type": "code",
   "execution_count": 6,
   "id": "ed10adef-6932-464c-b9b5-93b27a64f838",
   "metadata": {},
   "outputs": [],
   "source": [
    "adatas_train_subsampled = []\n",
    "for cond in adata_train.obs[\"condition\"].unique(): # as we have many conditions, this might take a few minutes\n",
    "    adatas_train_subsampled.append(sc.pp.subsample(adata_train[adata_train.obs[\"condition\"]==cond], n_obs=1000, copy=True))\n",
    "\n",
    "adata_train_for_validation = ad.concat(adatas_train_subsampled)\n",
    "\n",
    "adatas_test_subsampled = []\n",
    "for cond in adata_test.obs[\"condition\"].unique():\n",
    "    adatas_test_subsampled.append(sc.pp.subsample(adata_test[adata_test.obs[\"condition\"]==cond], n_obs=2000, copy=True))\n",
    "\n",
    "adata_test_for_validation = ad.concat(adatas_test_subsampled)\n"
   ]
  },
  {
   "cell_type": "code",
   "execution_count": 7,
   "id": "5a37f4b0-c165-4c45-b1f0-3b6c7755b26f",
   "metadata": {},
   "outputs": [
    {
     "name": "stdout",
     "output_type": "stream",
     "text": [
      "[########################################] | 100% Completed | 101.76 ms\n",
      "[########################################] | 100% Completed | 408.98 ms\n",
      "[########################################] | 100% Completed | 1.24 sms\n",
      "[########################################] | 100% Completed | 101.78 ms\n",
      "[########################################] | 100% Completed | 102.84 ms\n",
      "[########################################] | 100% Completed | 101.47 ms\n"
     ]
    }
   ],
   "source": [
    "adata_train_for_validation.uns = adata_train.uns.copy()\n",
    "adata_test_for_validation.uns = adata_test.uns.copy()\n",
    "\n",
    "cf.prepare_validation_data(\n",
    "    adata_train_for_validation,\n",
    "    name=\"train\",\n",
    "    n_conditions_on_log_iteration=10,\n",
    "    n_conditions_on_train_end=10,\n",
    ")\n",
    "\n",
    "cf.prepare_validation_data(\n",
    "    adata_test_for_validation,\n",
    "    name=\"test\",\n",
    "    n_conditions_on_log_iteration=None,\n",
    "    n_conditions_on_train_end=None,\n",
    ")"
   ]
  },
  {
<<<<<<< HEAD
=======
   "cell_type": "markdown",
   "id": "806d7551-1a1a-4080-abfc-d8839724d7a2",
   "metadata": {},
   "source": [
    "## Preparing {class}`~cellflow.model.CellFlow`'s model architecture with {meth}`~cellflow.model.CellFlow.prepare_model`"
   ]
  },
  {
   "cell_type": "markdown",
   "id": "93f0ed52-4cd9-45c6-af62-3b230a49903c",
   "metadata": {},
   "source": [
    "We are now ready to specify the architecture of {class}`~cellflow.model.CellFlow`.\n",
    "\n",
    "We walk through the parameters one by one:\n",
    "\n",
    "- `encode_conditions` specifies whether we want to process the embeddings. We recommend to always set it to `True`.\n",
    "- `condition_mode` defines the structure of the learnt condition embedding space. We will use `deterministic` mode with     `regularization=0.0`, which means we learn point estimates of the condition embedding. If we added `regularization>0.0`, this would mean we impose some regularization with respect to the L2-norm of the embeddings. `condition_mode=\"stochastic\"` parameterizes the embeddings space as like a decoder-free variational auto-encoder, i.e. we set a normal isotropic prior on the embeddings, this allows to learn a stochastic mapping and evaluate the uncertainty of predictions on a distributional level (rather than on a single-cell level which can be done with {class}`~cellflow.solvers.GENOT`).\n",
    "- `regularization`, as mentioned above, is a tradeoff between the flow matching loss (which also implicitly learns the condition embeddings space), and the regularization of the mean and potentially the variance of the embedding space. Here, we learn point-wise estimates without any prior on the embeddings space, thus setting `regularization` to 0.0.\n",
    "- `pooling` defines how we aggregate combinations of conditions, which doesn't apply here. Putting `\"mean\"` thus has no effect, while `\"attention_token\"` or `\"attention_seed\"` would reduce to self-attention.\n",
    "- `pooling_kwargs` specifies further keyword arguments for {class}`~cellflow.networks.TokenAttentionPooling` if `pooling` is\n",
    "  `\"attention_token\"` or {class}`~cellflow.networks.SeedAttentionPooling` if `pooling` is `\"attention_seed\"`.\n",
    "- `layers_before_pool` specifies the layers processing the perturbation variables, i.e. perturbations, perturbation covariates, and sample covariates. It must be a dictionary with keys corresponding to the keys we used in {meth}`~cellflow.model.CellFlow.prepare_data`. In this case, this means that we have keys `\"cytokine_treatment\"` and `\"donor_embeddings\"`, with values specifying the architecture, e.g. the type of the module (`\"mlp\"` or `\"self_attention\"`) and layer specifications like number of layers, width, and dropout rate.\n",
    "- `layers_before_pool` specifies the architecture of the module after the pooling has been performed.\n",
    "- `condition_embedding_dim` is the dimension of the latent space of the condition encoder. We set it to 64.\n",
    "- `cond_output_dropout` is the dropout applied to the condition embedding, we recommend to set it relatively high, especially if the `condition_embedding_dim` is large.\n",
    "- `condition_encoder_kwargs` specify the architecture of the {class}`~cellflow.networks.ConditionEncoder`. Here, we don't apply any more specifications.\n",
    "- `pool_sample_covariates` defines whether the concatenation of the sample covariates should happen before or after pooling, in our case indicating whether it's part of the self-attention or only appended afterwards. \n",
    "- `time_freqs` thus (deterministically) embeds the time component before being processed by a feed-forward neural network. This choice is relatively independent of the data. \n",
    "- `time_encoder_dims` specifies the architecture how to process the time embedding needed for the neural ODE. Note that we pre-encode the time with a sinusoidal embedding of dimension `time_freqs`. This choice is relatively independent of the data. \n",
    "- `time_encoder_dropout` denotes the dropout applied to the layers processing the time component. This choice is relatively independent of the data. \n",
    "- `hidden_dims` specifies the layers processing the control cells. The choice depends on the dimensionality of the cell embedding.\n",
    "- `hidden_dropout` specifies the dropout in the layers defined by `hidden_dims`.\n",
    "- `decoder_dims` specifies the layers processing the embedding of the condition, the embedding of the cell, and the embedding of the time. It depends on the dimensionality of the cell representation, i.e. the higher-dimensional the cell representation, the higher `decoder_dims` should be chosen.\n",
    "- `decoder_dropout` sets the dropout rate of the layers processing `decoder_dims`.\n",
    "- `vf_act_fn` sets the activation function in the {class}`~cellflow.networks._velocity_field.ConditionalVelocityField` if not specified otherwise.\n",
    "- `vf_kwargs` provides further keyword arguments when the solver is not `\"otfm\"`, e.g. it provides keywords for {class}`~cellflow.networks._velocity_field.GENOTConditionalVelocityField`, which we don't require for this use case.\n",
    "- `probability_path` defines the path between pairs of samples which the {class}`~cellflow.networks._velocity_field.ConditionalVelocityField` is regressed against. Here, we use `{\"constant_noise\": 0.5}`, which internally applies {class}`~ott.neural.methods.flows.dynamics.ConstantNoiseFlow`. This means that the paths are augmented with random normal noise. Note that the magnitude should depend on the support / variance of the cell embedding. The higher the noise, the more the data is augmented, but the less the marginal distributions are fitted. To maintain convergence on the marginals, one can use `{\"bridge\"}\n",
    "- `match_fn` defines how to sample pairs batch-wise. If we have largely heterogeneous populations (e.g. whole embryos), we should choose a small entropic regularisation, while for homoegeneous cell populations like cell lines, a large entropic regularisation parameter is sufficient. Moreover, we can select the hyperparameters `tau_a` and `tau_b` determining the extent of unbalancedness in the learnt coupling, see e.g. [moscot](moscot-tools.org) for an in-depth discussion of optimal transport parameters.\n",
    "- `optimizer` should be used with gradient averaging to have parameter updates after having seen also multiple conditions, not only multiple cells. We found 20 to be a good value, but we recommend to perform a hyperparameter search. \n",
    "- `solver_kwargs` is primarily necessary for using a different {attr}`~cellflow.model.CellFlow.solver` than {class}`~cellflow.solvers.OTFlowMatching`, e.g. when using {class}`~cellflow.solvers.GENOT`. So this doesn't apply here.\n",
    "- `layer_norm_before_concatenation` determines whether to apply a linear layer before concatenating the condition embedding, the time embedding, and the cell embedding. It can be hyperparameterized over, but we generally found it to not significantly help.\n",
    "- `linear_projection_before_concatenation` applies linear layers to the embeddings of the condition, the time, and the cell. It can be hyperparameterized over, but we generally found it to not significantly help.\n",
    "- `seed` sets the seed for solvers."
   ]
  },
  {
   "cell_type": "markdown",
   "id": "4c97455f-efd0-4b30-b6e5-70c82cf472fb",
   "metadata": {},
   "source": [
    "We start with defining the `layers_before_pool` and `layers_after_pool`. Note how similar the definitions are."
   ]
  },
  {
>>>>>>> c0b3140 (rename flow to probability_path)
   "cell_type": "code",
   "execution_count": 8,
   "id": "872cd261-882c-42d2-8f4f-f9eb81c7f85d",
   "metadata": {},
   "outputs": [],
   "source": [
    "layers_before_pool = {\n",
    "    \"cytokine_treatment\": {\"layer_type\": \"mlp\", \"dims\": [1024, 1024], \"dropout_rate\": 0.5},\n",
    "    \"donor\": {\"layer_type\": \"mlp\", \"dims\": [256, 256], \"dropout_rate\": 0.0},\n",
    "}\n",
    "\n",
    "layers_after_pool = {\n",
    "    \"layer_type\": \"mlp\", \"dims\": [1024, 1024], \"dropout_rate\": 0.0,\n",
    "}"
   ]
  },
  {
   "cell_type": "code",
   "execution_count": 9,
   "id": "95a8d037-1669-419a-80ba-d11d2b5768cc",
   "metadata": {},
   "outputs": [],
   "source": [
    "match_fn = functools.partial(match_linear, epsilon=0.5, tau_a=1.0, tau_b=1.0)"
   ]
  },
  {
   "cell_type": "code",
<<<<<<< HEAD
   "execution_count": 10,
=======
   "execution_count": null,
>>>>>>> c0b3140 (rename flow to probability_path)
   "id": "55e3d8ce-ce59-479a-9276-9c3432ddb2c2",
   "metadata": {},
   "outputs": [],
   "source": [
    "cf.prepare_model(\n",
    "    encode_conditions=True,\n",
    "    condition_mode=\"deterministic\",\n",
    "    regularization=0.0,\n",
    "    pooling=\"attention_token\",\n",
    "    pooling_kwargs={},\n",
    "    layers_before_pool=layers_before_pool,\n",
    "    layers_after_pool=layers_after_pool,\n",
    "    condition_embedding_dim=256,\n",
    "    cond_output_dropout=0.9,\n",
    "    condition_encoder_kwargs={},\n",
    "    pool_sample_covariates=True,\n",
    "    time_freqs=1024,\n",
    "    time_encoder_dims=[1024, 1024, 1024],\n",
    "    time_encoder_dropout=0.0,\n",
    "    hidden_dims=[2048, 2048, 2048],\n",
    "    hidden_dropout=0.0,\n",
    "    decoder_dims=[4096, 4096, 4096],\n",
    "    vf_act_fn=nn.silu,\n",
    "    vf_kwargs=None,\n",
    "    probability_path={\"constant_noise\": 0.5},\n",
    "    match_fn=match_fn,\n",
    "    optimizer=optax.MultiSteps(optax.adam(5e-5), 20),\n",
    "    solver_kwargs={},\n",
    "    layer_norm_before_concatenation=False,\n",
    "    linear_projection_before_concatenation=False,\n",
    ")"
   ]
  },
  {
   "cell_type": "code",
   "execution_count": 11,
   "id": "4134dbb8-dea3-41ff-ba5b-cba755aeb40c",
   "metadata": {},
   "outputs": [],
   "source": [
    "metrics_callback = cellflow.training.Metrics(metrics=[\"r_squared\", \"mmd\", \"e_distance\"])\n",
    "decoded_metrics_callback = cellflow.training.PCADecodedMetrics(ref_adata=adata_train, metrics=[\"r_squared\"])\n",
    "wandb_callback = cellflow.training.WandbLogger(project=\"cellflow_tutorials\", out_dir=\"~\", config={\"name\": \"100m_pbmc\"})\n",
    "\n",
    "# we don't pass the wandb_callback as it requires a user-specific account, but recommend setting it up\n",
    "callbacks = [metrics_callback, decoded_metrics_callback]\n"
   ]
  },
  {
   "cell_type": "code",
   "execution_count": 18,
   "id": "6086daf9-c4ec-4327-a28f-55b86aaa287e",
   "metadata": {},
   "outputs": [
    {
     "name": "stderr",
     "output_type": "stream",
     "text": [
      "  0%|          | 227/100000 [00:07<55:39, 29.87it/s] \n"
     ]
    },
    {
     "ename": "KeyboardInterrupt",
     "evalue": "",
     "output_type": "error",
     "traceback": [
      "\u001b[0;31m---------------------------------------------------------------------------\u001b[0m",
      "\u001b[0;31mKeyboardInterrupt\u001b[0m                         Traceback (most recent call last)",
      "\u001b[1;32m/home/icb/selman.ozleyen/projects/cell_flow_perturbation/docs/notebooks/100_pbmc.ipynb Cell 16\u001b[0m line \u001b[0;36m1\n\u001b[0;32m----> <a href='vscode-notebook-cell://127.0.0.1:8282/home/icb/selman.ozleyen/projects/cell_flow_perturbation/docs/notebooks/100_pbmc.ipynb#Y414sdnNjb2RlLXJlbW90ZQ%3D%3D?line=0'>1</a>\u001b[0m cf\u001b[39m.\u001b[39;49mtrain(\n\u001b[1;32m      <a href='vscode-notebook-cell://127.0.0.1:8282/home/icb/selman.ozleyen/projects/cell_flow_perturbation/docs/notebooks/100_pbmc.ipynb#Y414sdnNjb2RlLXJlbW90ZQ%3D%3D?line=1'>2</a>\u001b[0m     num_iterations\u001b[39m=\u001b[39;49m\u001b[39m100_000\u001b[39;49m,\n\u001b[1;32m      <a href='vscode-notebook-cell://127.0.0.1:8282/home/icb/selman.ozleyen/projects/cell_flow_perturbation/docs/notebooks/100_pbmc.ipynb#Y414sdnNjb2RlLXJlbW90ZQ%3D%3D?line=2'>3</a>\u001b[0m     batch_size\u001b[39m=\u001b[39;49m\u001b[39m1024\u001b[39;49m,\n\u001b[1;32m      <a href='vscode-notebook-cell://127.0.0.1:8282/home/icb/selman.ozleyen/projects/cell_flow_perturbation/docs/notebooks/100_pbmc.ipynb#Y414sdnNjb2RlLXJlbW90ZQ%3D%3D?line=3'>4</a>\u001b[0m     callbacks\u001b[39m=\u001b[39;49mcallbacks,\n\u001b[1;32m      <a href='vscode-notebook-cell://127.0.0.1:8282/home/icb/selman.ozleyen/projects/cell_flow_perturbation/docs/notebooks/100_pbmc.ipynb#Y414sdnNjb2RlLXJlbW90ZQ%3D%3D?line=4'>5</a>\u001b[0m     valid_freq\u001b[39m=\u001b[39;49m\u001b[39m25_000\u001b[39;49m,\n\u001b[1;32m      <a href='vscode-notebook-cell://127.0.0.1:8282/home/icb/selman.ozleyen/projects/cell_flow_perturbation/docs/notebooks/100_pbmc.ipynb#Y414sdnNjb2RlLXJlbW90ZQ%3D%3D?line=5'>6</a>\u001b[0m     prefetch_factor\u001b[39m=\u001b[39;49m\u001b[39m3\u001b[39;49m,\n\u001b[1;32m      <a href='vscode-notebook-cell://127.0.0.1:8282/home/icb/selman.ozleyen/projects/cell_flow_perturbation/docs/notebooks/100_pbmc.ipynb#Y414sdnNjb2RlLXJlbW90ZQ%3D%3D?line=6'>7</a>\u001b[0m     num_workers\u001b[39m=\u001b[39;49m\u001b[39m124\u001b[39;49m,\n\u001b[1;32m      <a href='vscode-notebook-cell://127.0.0.1:8282/home/icb/selman.ozleyen/projects/cell_flow_perturbation/docs/notebooks/100_pbmc.ipynb#Y414sdnNjb2RlLXJlbW90ZQ%3D%3D?line=7'>8</a>\u001b[0m )\n",
      "File \u001b[0;32m/ictstr01/home/icb/selman.ozleyen/projects/cell_flow_perturbation/src/cellflow/model/_cellflow.py:541\u001b[0m, in \u001b[0;36mCellFlow.train\u001b[0;34m(self, num_iterations, batch_size, valid_freq, callbacks, monitor_metrics, prefetch_factor, num_workers)\u001b[0m\n\u001b[1;32m    538\u001b[0m child_seeds \u001b[39m=\u001b[39m seq\u001b[39m.\u001b[39mspawn(\u001b[39mlen\u001b[39m(\u001b[39mself\u001b[39m\u001b[39m.\u001b[39m_validation_data))\n\u001b[1;32m    539\u001b[0m validation_loaders \u001b[39m=\u001b[39m {k: ValidationSampler(v, seed\u001b[39m=\u001b[39mchild_seeds[i], condition_keys\u001b[39m=\u001b[39m\u001b[39mself\u001b[39m\u001b[39m.\u001b[39mtrainer\u001b[39m.\u001b[39mcondition_keys) \u001b[39mfor\u001b[39;00m i, (k, v) \u001b[39min\u001b[39;00m \u001b[39menumerate\u001b[39m(\u001b[39mself\u001b[39m\u001b[39m.\u001b[39mvalidation_data\u001b[39m.\u001b[39mitems())}\n\u001b[0;32m--> 541\u001b[0m \u001b[39mself\u001b[39m\u001b[39m.\u001b[39m_solver \u001b[39m=\u001b[39m \u001b[39mself\u001b[39;49m\u001b[39m.\u001b[39;49mtrainer\u001b[39m.\u001b[39;49mtrain(\n\u001b[1;32m    542\u001b[0m     dataloader\u001b[39m=\u001b[39;49m\u001b[39mself\u001b[39;49m\u001b[39m.\u001b[39;49m_dataloader,\n\u001b[1;32m    543\u001b[0m     num_iterations\u001b[39m=\u001b[39;49mnum_iterations,\n\u001b[1;32m    544\u001b[0m     valid_freq\u001b[39m=\u001b[39;49mvalid_freq,\n\u001b[1;32m    545\u001b[0m     valid_loaders\u001b[39m=\u001b[39;49mvalidation_loaders,\n\u001b[1;32m    546\u001b[0m     callbacks\u001b[39m=\u001b[39;49mcallbacks,\n\u001b[1;32m    547\u001b[0m     monitor_metrics\u001b[39m=\u001b[39;49mmonitor_metrics,\n\u001b[1;32m    548\u001b[0m     prefetch_factor\u001b[39m=\u001b[39;49mprefetch_factor,\n\u001b[1;32m    549\u001b[0m     num_workers\u001b[39m=\u001b[39;49mnum_workers\n\u001b[1;32m    550\u001b[0m )\n",
      "File \u001b[0;32m/ictstr01/home/icb/selman.ozleyen/projects/cell_flow_perturbation/src/cellflow/training/_trainer.py:202\u001b[0m, in \u001b[0;36mCellFlowTrainer.train\u001b[0;34m(self, dataloader, num_iterations, valid_freq, valid_loaders, monitor_metrics, callbacks, num_workers, prefetch_factor)\u001b[0m\n\u001b[1;32m    200\u001b[0m t0 \u001b[39m=\u001b[39m time\u001b[39m.\u001b[39mtime()\n\u001b[1;32m    201\u001b[0m loss \u001b[39m=\u001b[39m \u001b[39mself\u001b[39m\u001b[39m.\u001b[39msolver\u001b[39m.\u001b[39mstep_fn(rng_step_fn, batch)\n\u001b[0;32m--> 202\u001b[0m \u001b[39mself\u001b[39m\u001b[39m.\u001b[39mtraining_logs[\u001b[39m\"\u001b[39m\u001b[39mloss\u001b[39m\u001b[39m\"\u001b[39m]\u001b[39m.\u001b[39mappend(\u001b[39mfloat\u001b[39m(loss))\n\u001b[1;32m    204\u001b[0m \u001b[39mif\u001b[39;00m ((it \u001b[39m-\u001b[39m \u001b[39m1\u001b[39m) \u001b[39m%\u001b[39m valid_freq \u001b[39m==\u001b[39m \u001b[39m0\u001b[39m) \u001b[39mand\u001b[39;00m (it \u001b[39m>\u001b[39m \u001b[39m1\u001b[39m):\n\u001b[1;32m    205\u001b[0m     \u001b[39m# Get predictions from validation data\u001b[39;00m\n\u001b[1;32m    206\u001b[0m     valid_true_data, valid_pred_data \u001b[39m=\u001b[39m \u001b[39mself\u001b[39m\u001b[39m.\u001b[39m_validation_step(valid_loaders, mode\u001b[39m=\u001b[39m\u001b[39m\"\u001b[39m\u001b[39mon_log_iteration\u001b[39m\u001b[39m\"\u001b[39m)\n",
      "File \u001b[0;32m~/miniforge3/envs/cellflow/lib/python3.11/site-packages/jax/_src/array.py:310\u001b[0m, in \u001b[0;36mArrayImpl.__float__\u001b[0;34m(self)\u001b[0m\n\u001b[1;32m    308\u001b[0m \u001b[39mdef\u001b[39;00m\u001b[39m \u001b[39m\u001b[39m__float__\u001b[39m(\u001b[39mself\u001b[39m):\n\u001b[1;32m    309\u001b[0m   core\u001b[39m.\u001b[39mcheck_scalar_conversion(\u001b[39mself\u001b[39m)\n\u001b[0;32m--> 310\u001b[0m   \u001b[39mreturn\u001b[39;00m \u001b[39mself\u001b[39;49m\u001b[39m.\u001b[39;49m_value\u001b[39m.\u001b[39m\u001b[39m__float__\u001b[39m()\n",
      "File \u001b[0;32m~/miniforge3/envs/cellflow/lib/python3.11/site-packages/jax/_src/profiler.py:334\u001b[0m, in \u001b[0;36mannotate_function.<locals>.wrapper\u001b[0;34m(*args, **kwargs)\u001b[0m\n\u001b[1;32m    331\u001b[0m \u001b[39m@wraps\u001b[39m(func)\n\u001b[1;32m    332\u001b[0m \u001b[39mdef\u001b[39;00m\u001b[39m \u001b[39m\u001b[39mwrapper\u001b[39m(\u001b[39m*\u001b[39margs, \u001b[39m*\u001b[39m\u001b[39m*\u001b[39mkwargs):\n\u001b[1;32m    333\u001b[0m   \u001b[39mwith\u001b[39;00m TraceAnnotation(name, \u001b[39m*\u001b[39m\u001b[39m*\u001b[39mdecorator_kwargs):\n\u001b[0;32m--> 334\u001b[0m     \u001b[39mreturn\u001b[39;00m func(\u001b[39m*\u001b[39;49margs, \u001b[39m*\u001b[39;49m\u001b[39m*\u001b[39;49mkwargs)\n\u001b[1;32m    335\u001b[0m   \u001b[39mreturn\u001b[39;00m wrapper\n",
      "File \u001b[0;32m~/miniforge3/envs/cellflow/lib/python3.11/site-packages/jax/_src/array.py:640\u001b[0m, in \u001b[0;36mArrayImpl._value\u001b[0;34m(self)\u001b[0m\n\u001b[1;32m    638\u001b[0m \u001b[39mif\u001b[39;00m \u001b[39mself\u001b[39m\u001b[39m.\u001b[39m_npy_value \u001b[39mis\u001b[39;00m \u001b[39mNone\u001b[39;00m:\n\u001b[1;32m    639\u001b[0m   \u001b[39mif\u001b[39;00m \u001b[39mself\u001b[39m\u001b[39m.\u001b[39mis_fully_replicated:\n\u001b[0;32m--> 640\u001b[0m     npy_value, did_copy \u001b[39m=\u001b[39m \u001b[39mself\u001b[39;49m\u001b[39m.\u001b[39;49m_single_device_array_to_np_array_did_copy()\n\u001b[1;32m    641\u001b[0m     npy_value\u001b[39m.\u001b[39mflags\u001b[39m.\u001b[39mwriteable \u001b[39m=\u001b[39m \u001b[39mFalse\u001b[39;00m\n\u001b[1;32m    642\u001b[0m     \u001b[39mif\u001b[39;00m did_copy:\n",
      "\u001b[0;31mKeyboardInterrupt\u001b[0m: "
     ]
    }
   ],
   "source": [
    "cf.train(\n",
    "    num_iterations=1,\n",
    "    batch_size=1024,\n",
    "    callbacks=callbacks,\n",
    "    valid_freq=25_000,\n",
    "    prefetch_factor=3,\n",
    "    num_workers=124,\n",
    ")"
   ]
  },
  {
   "cell_type": "code",
   "execution_count": 13,
   "id": "53e19a81",
   "metadata": {},
   "outputs": [
    {
     "data": {
      "text/plain": [
       "[np.float32(14.389837)]"
      ]
     },
     "execution_count": 13,
     "metadata": {},
     "output_type": "execute_result"
    }
   ],
   "source": [
    "cf.trainer.training_logs[\"train_e_distance_mean\"]"
   ]
  },
  {
   "cell_type": "code",
   "execution_count": 17,
   "id": "c97a1277",
   "metadata": {},
   "outputs": [
    {
     "data": {
      "text/plain": [
       "[np.float64(0.9482719709249943)]"
      ]
     },
     "execution_count": 17,
     "metadata": {},
     "output_type": "execute_result"
    }
   ],
   "source": [
    "cf.trainer.training_logs[\"pca_decoded_test_r_squared_mean\"]"
   ]
  },
  {
   "cell_type": "code",
   "execution_count": 15,
   "id": "81d0c4d1-f947-4cc4-8fc8-7a1257d24186",
   "metadata": {},
   "outputs": [
    {
     "data": {
      "image/png": "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",
      "text/plain": [
       "<Figure size 1800x600 with 3 Axes>"
      ]
     },
     "metadata": {},
     "output_type": "display_data"
    }
   ],
   "source": [
    "e_distances_train = cf.trainer.training_logs[\"train_e_distance_mean\"]\n",
    "e_distances_test = cf.trainer.training_logs[\"test_e_distance_mean\"]\n",
    "r_squared_test   = cf.trainer.training_logs[\"pca_decoded_test_r_squared_mean\"]\n",
    "\n",
    "iterations_train = np.arange(len(e_distances_train))\n",
    "iterations_test  = np.arange(len(e_distances_test))\n",
    "iterations_r2    = np.arange(len(r_squared_test))\n",
    "\n",
    "fig, axes = plt.subplots(1, 3, figsize=(18, 6))\n",
    "\n",
    "axes[0].plot(iterations_train, e_distances_train, linestyle='-', color='blue', label='Energy distance training data')\n",
    "axes[0].set_xlabel('Validation Iteration')\n",
    "axes[0].set_ylabel('Energy distance')\n",
    "axes[0].legend()\n",
    "axes[0].grid(True)\n",
    "\n",
    "axes[1].plot(iterations_test, e_distances_test, linestyle='-', color='red', label='Energy distance test data')\n",
    "axes[1].set_xlabel('Validation iteration')\n",
    "axes[1].set_ylabel('Energy distance')\n",
    "axes[1].legend()\n",
    "axes[1].grid(True)\n",
    "\n",
    "axes[2].plot(iterations_r2, r_squared_test, linestyle='-', color='green', label='Mean R squared on test data')\n",
    "axes[2].set_xlabel('Validation iteration')\n",
    "axes[2].set_ylabel('R squared')\n",
    "axes[2].legend()\n",
    "axes[2].grid(True)\n",
    "\n",
    "plt.tight_layout()\n",
    "plt.show()\n"
   ]
  },
  {
   "cell_type": "code",
   "execution_count": null,
   "id": "7b3054ad",
   "metadata": {},
   "outputs": [],
   "source": []
  }
 ],
 "metadata": {
  "kernelspec": {
   "display_name": "cellflow",
   "language": "python",
   "name": "python3"
  },
  "language_info": {
   "codemirror_mode": {
    "name": "ipython",
    "version": 3
   },
   "file_extension": ".py",
   "mimetype": "text/x-python",
   "name": "python",
   "nbconvert_exporter": "python",
   "pygments_lexer": "ipython3",
   "version": "3.11.11"
  }
 },
 "nbformat": 4,
 "nbformat_minor": 5
}
