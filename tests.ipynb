{
 "cells": [
  {
   "cell_type": "code",
   "execution_count": 1,
   "metadata": {},
   "outputs": [],
   "source": [
    "\n",
    "a = \"\"\"\n",
    "FAILED tests/data/test_old.py::TestDataManager::test_get_train_data[sample_covariates1-perturbation_covariate_reps0-perturbation_covariates0-split_covariates0-X] - AssertionError: perturbation_covariates_mask [ 6  1  1 -1  3  4  5  2  0 -1  3  0  3  8  4  3  2  2 ...\n",
    "FAILED tests/data/test_old.py::TestDataManager::test_get_train_data[sample_covariates1-perturbation_covariate_reps0-perturbation_covariates0-split_covariates0-X_pca] - AssertionError: perturbation_covariates_mask [ 8  7 -1 -1  6 -1  1  5  2  6  0  0  2  2  7  4  4  8 ...\n",
    "FAILED tests/data/test_old.py::TestDataManager::test_get_train_data[sample_covariates1-perturbation_covariate_reps0-perturbation_covariates0-split_covariates1-X] - AssertionError: perturbation_covariates_mask [13 10 20  1 17 16 20 20  8 17 -1  9 20 17 14  9 26  2 ...\n",
    "FAILED tests/data/test_old.py::TestDataManager::test_get_train_data[sample_covariates1-perturbation_covariate_reps0-perturbation_covariates0-split_covariates1-X_pca] - AssertionError: perturbation_covariates_mask [26 16 -1  2 13 -1  6 26 -1 15 10 12  0 25 26 19 17  8 ...\n",
    "FAILED tests/data/test_old.py::TestDataManager::test_get_train_data[sample_covariates1-perturbation_covariate_reps0-perturbation_covariates1-split_covariates0-X] - AssertionError: perturbation_covariates_mask [14 12  5  7 15 -1 22 17  1 15 14 24  4  7 25  8  2  9 ...\n",
    "FAILED tests/data/test_old.py::TestDataManager::test_get_train_data[sample_covariates1-perturbation_covariate_reps0-perturbation_covariates1-split_covariates0-X_pca] - AssertionError: perturbation_covariates_mask [11 17  8 17 10 17  4 -1 16 16 17  3  9  1 23  0 19 19 ...\n",
    "FAILED tests/data/test_old.py::TestDataManager::test_get_train_data[sample_covariates1-perturbation_covariate_reps0-perturbation_covariates1-split_covariates1-X] - AssertionError: perturbation_covariates_mask [18  0 23 32 61 15 28 75 50 63 29 62 78 36 46 11 15 75 ...\n",
    "FAILED tests/data/test_old.py::TestDataManager::test_get_train_data[sample_covariates1-perturbation_covariate_reps0-perturbation_covariates1-split_covariates1-X_pca] - AssertionError: perturbation_covariates_mask [57 32 12 61  6 -1 77 48 17 34 62 41 36  5 35 -1 61 20 ...\n",
    "FAILED tests/data/test_old.py::TestDataManager::test_get_train_data[sample_covariates1-perturbation_covariate_reps0-perturbation_covariates2-split_covariates0-X] - AssertionError: perturbation_covariates_mask [17 10 16 11 10  8 15 14 10 -1 -1  9  0 17 17 14  6 10 ...\n",
    "FAILED tests/data/test_old.py::TestDataManager::test_get_train_data[sample_covariates1-perturbation_covariate_reps0-perturbation_covariates2-split_covariates0-X_pca] - AssertionError: perturbation_covariates_mask [16 13 12  9  9 16 17 14 15 10 11  9 13 12 -1 16  5 -1 ...\n",
    "FAILED tests/data/test_old.py::TestDataManager::test_get_train_data[sample_covariates1-perturbation_covariate_reps0-perturbation_covariates2-split_covariates1-X] - AssertionError: perturbation_covariates_mask [45  5 49  1 22 13 53 45  0 48 18 50 29 15 27 47 20 12 ...\n",
    "FAILED tests/data/test_old.py::TestDataManager::test_get_train_data[sample_covariates1-perturbation_covariate_reps0-perturbation_covariates2-split_covariates1-X_pca] - AssertionError: perturbation_covariates_mask [35  2 34 -1 45 14 38 33 -1 41 53 25 50 30 15 36 47  7 ...\n",
    "FAILED tests/data/test_old.py::TestDataManager::test_get_train_data[sample_covariates1-perturbation_covariate_reps1-perturbation_covariates0-split_covariates0-X] - AssertionError: perturbation_covariates_mask [ 6  6  8  4  6  2  7 -1  2  5 -1  1  7  4  0  4  8  4 ...\n",
    "FAILED tests/data/test_old.py::TestDataManager::test_get_train_data[sample_covariates1-perturbation_covariate_reps1-perturbation_covariates0-split_covariates0-X_pca] - AssertionError: perturbation_covariates_mask [ 6  8  1  7  1  6  5  1  1 -1  3  0  2  0  7  3  4  8 ...\n",
    "FAILED tests/data/test_old.py::TestDataManager::test_get_train_data[sample_covariates1-perturbation_covariate_reps1-perturbation_covariates0-split_covariates1-X] - AssertionError: perturbation_covariates_mask [26 23 14 17 13 -1 13 12 18 11 23 19 10 20 -1  0  9  5 ...\n",
    "FAILED tests/data/test_old.py::TestDataManager::test_get_train_data[sample_covariates1-perturbation_covariate_reps1-perturbation_covariates0-split_covariates1-X_pca] - AssertionError: perturbation_covariates_mask [13 24 -1 13 24 18 16 25 -1 10  1 14 17 14  8 25 11 16 ...\n",
    "FAILED tests/data/test_old.py::TestDataManager::test_get_train_data[sample_covariates1-perturbation_covariate_reps1-perturbation_covariates1-split_covariates0-X] - AssertionError: perturbation_covariates_mask [25 22 26 11 -1 23  0 -1  9 17  9  6 17 22  2 24 26 -1 ...\n",
    "FAILED tests/data/test_old.py::TestDataManager::test_get_train_data[sample_covariates1-perturbation_covariate_reps1-perturbation_covariates1-split_covariates0-X_pca] - AssertionError: perturbation_covariates_mask [-1 -1  1 -1 23 18 10  8 -1  8  8 18  0 12 -1  2  1 13 ...\n",
    "FAILED tests/data/test_old.py::TestDataManager::test_get_train_data[sample_covariates1-perturbation_covariate_reps1-perturbation_covariates1-split_covariates1-X] - AssertionError: perturbation_covariates_mask [-1 26 72 57 53 57 68 37 -1 22 28 47 34 38 11 61  5  9 ...\n",
    "FAILED tests/data/test_old.py::TestDataManager::test_get_train_data[sample_covariates1-perturbation_covariate_reps1-perturbation_covariates1-split_covariates1-X_pca] - AssertionError: perturbation_covariates_mask [21 35 68 17 22 69 60 74 57 44 13 15  9 70 32 11 72 -1 ...\n",
    "FAILED tests/data/test_old.py::TestDataManager::test_get_train_data[sample_covariates1-perturbation_covariate_reps1-perturbation_covariates2-split_covariates0-X] - AssertionError: perturbation_covariates_mask [14  0  5  4 -1 15 16 -1  7 10  7  7  9 15  6 13  1 10 ...\n",
    "FAILED tests/data/test_old.py::TestDataManager::test_get_train_data[sample_covariates1-perturbation_covariate_reps1-perturbation_covariates2-split_covariates0-X_pca] - AssertionError: perturbation_covariates_mask [10 13 13  6  5  7 12 15  4 -1 11 10 11 12 11  7 11  9 ...\n",
    "FAILED tests/data/test_old.py::TestDataManager::test_get_train_data[sample_covariates1-perturbation_covariate_reps1-perturbation_covariates2-split_covariates1-X] - AssertionError: perturbation_covariates_mask [35 18 53 35 28 -1 19 12 52 13 51 33 -1 28 16 -1 -1 -1 ...\n",
    "FAILED tests/data/test_old.py::TestDataManager::test_get_train_data[sample_covariates1-perturbation_covariate_reps1-perturbation_covariates2-split_covariates1-X_pca] - AssertionError: perturbation_covariates_mask [29 48 36 52 31 49 53 41 28 47 45  5 29 14  3 -1 -1 52 ...\n",
    "FAILED tests/data/test_old.py::TestDataManager::test_get_train_data_with_combinations[perturbation_covariate_reps0-perturbation_covariates0-split_covariates0] - AssertionError: perturbation_covariates_mask [ 0 10 16  0  1 24 -1  3  3 11 26 15 22 23 22 12  3 23 ...\n",
    "FAILED tests/data/test_old.py::TestDataManager::test_get_train_data_with_combinations[perturbation_covariate_reps0-perturbation_covariates1-split_covariates0] - AssertionError: perturbation_covariates_mask [133  56 123  20  11 173  15 202  57  78  42  -1  76  -...\n",
    "FAILED tests/data/test_old.py::TestDataManager::test_get_train_data_with_combinations[perturbation_covariate_reps0-perturbation_covariates2-split_covariates0] - AssertionError: perturbation_covariates_mask [105  48 148   5 101 139  66 175 153  40  -1 195  -1 22...\n",
    "FAILED tests/data/test_old.py::TestDataManager::test_get_train_data_with_combinations[perturbation_covariate_reps1-perturbation_covariates0-split_covariates0] - AssertionError: perturbation_covariates_mask [-1 15 14 20 24  0 16 -1  5 21 16 14 23  9 21 10 23  4 ...\n",
    "FAILED tests/data/test_old.py::TestDataManager::test_get_train_data_with_combinations[perturbation_covariate_reps1-perturbation_covariates1-split_covariates0] - AssertionError: perturbation_covariates_mask [ -1  -1  -1 115  67 157  -1  73  59  12 197  -1  87 16...\n",
    "FAILED tests/data/test_old.py::TestDataManager::test_get_train_data_with_combinations[perturbation_covariate_reps1-perturbation_covariates2-split_covariates0] - AssertionError: perturbation_covariates_mask [256  -1 164 243  38 137  -1  54 206  -1 147 239  21 11...\n",
    "FAILED tests/data/test_old.py::TestDataManager::test_get_train_data_with_combinations[perturbation_covariate_reps1-perturbation_covariates2-split_covariates1] - AssertionError: condition_data[drug]\n",
    "FAILED tests/data/test_old.py::TestValidationData::test_get_validation_data[perturbation_covariate_reps0-perturbation_covariates0-split_covariates0-X] - AssertionError: perturbation_covariates_mask [-1 24 16  7  6  8 10 -1 17  8  1 12 15 21  1 22 16 22 ...\n",
    "FAILED tests/data/test_old.py::TestValidationData::test_get_validation_data[perturbation_covariate_reps0-perturbation_covariates0-split_covariates0-X_pca] - AssertionError: perturbation_covariates_mask [ 6 19 26 10  5 22 16 25 23 23  7  0 25  6  8 19  9  1 ...\n",
    "FAILED tests/data/test_old.py::TestValidationData::test_get_validation_data[perturbation_covariate_reps0-perturbation_covariates1-split_covariates0-X] - AssertionError: perturbation_covariates_mask [ 60  -1  85 150 145  42  61  32  52  74 195  73 189  -...\n",
    "FAILED tests/data/test_old.py::TestValidationData::test_get_validation_data[perturbation_covariate_reps0-perturbation_covariates1-split_covariates0-X_pca] - AssertionError: perturbation_covariates_mask [161  -1  79 178 128  -1 152  46  47  24  44  69  25 12...\n",
    "FAILED tests/data/test_old.py::TestValidationData::test_get_validation_data[perturbation_covariate_reps0-perturbation_covariates2-split_covariates0-X] - AssertionError: perturbation_covariates_mask [175 157 245 190 155  86  90 210  45 199 144 256 248  5...\n",
    "FAILED tests/data/test_old.py::TestValidationData::test_get_validation_data[perturbation_covariate_reps0-perturbation_covariates2-split_covariates0-X_pca] - AssertionError: perturbation_covariates_mask [ -1  32 227  40  12 208  -1 145 125  -1  32 145  48  -...\n",
    "FAILED tests/data/test_old.py::TestValidationData::test_get_validation_data[perturbation_covariate_reps1-perturbation_covariates0-split_covariates0-X] - AssertionError: perturbation_covariates_mask [ 8 26 11 21  7  1 -1  7 24 22 24  5  1  4 13  9  8  9 ...\n",
    "FAILED tests/data/test_old.py::TestValidationData::test_get_validation_data[perturbation_covariate_reps1-perturbation_covariates0-split_covariates0-X_pca] - AssertionError: perturbation_covariates_mask [ 1 25  2 25  6  9  9 -1 -1 -1  4  4 20 19 19 14  1  5 ...\n",
    "FAILED tests/data/test_old.py::TestValidationData::test_get_validation_data[perturbation_covariate_reps1-perturbation_covariates1-split_covariates0-X] - AssertionError: perturbation_covariates_mask [101  -1  -1 116 141  -1  -1 110 162 177  50 180  66 15...\n",
    "FAILED tests/data/test_old.py::TestValidationData::test_get_validation_data[perturbation_covariate_reps1-perturbation_covariates1-split_covariates0-X_pca] - AssertionError: perturbation_covariates_mask [ 37  29  24  54 138  -1  85  80  65  43  -1  56  50 17...\n",
    "FAILED tests/data/test_old.py::TestValidationData::test_get_validation_data[perturbation_covariate_reps1-perturbation_covariates2-split_covariates0-X] - AssertionError: perturbation_covariates_mask [ 97 180  -1  53 248  -1 175 110  81 246 241  61  26 23...\n",
    "FAILED tests/data/test_old.py::TestValidationData::test_get_validation_data[perturbation_covariate_reps1-perturbation_covariates2-split_covariates0-X_pca] - AssertionError: perturbation_covariates_mask [138  -1  -1  32 136 170  81  -1   7 133 225 219  34  9...\n",
    "FAILED tests/data/test_old.py::TestValidationData::test_get_validation_data[perturbation_covariate_reps1-perturbation_covariates2-split_covariates1-X] - AssertionError: condition_data[drug]\n",
    "FAILED tests/data/test_old.py::TestValidationData::test_get_validation_data[perturbation_covariate_reps1-perturbation_covariates2-split_covariates1-X_pca] - AssertionError: condition_data[drug]\n",
    "\"\"\"\n",
    "\n",
    "b = \"\"\"\n",
    "FAILED tests/data/test_old.py::TestDataManager::test_get_train_data[sample_covariates1-perturbation_covariate_reps0-perturbation_covariates0-split_covariates1-X] - AssertionError: perturbation_covariates_mask [14 15  8 21  7 14 23 25 11 -1 10  4 14  6 11  1 12 19 ...\n",
    "FAILED tests/data/test_old.py::TestDataManager::test_get_train_data[sample_covariates1-perturbation_covariate_reps0-perturbation_covariates0-split_covariates1-X_pca] - AssertionError: perturbation_covariates_mask [ 1 11 11  4 10  5 16  4 23 12 -1 -1 11 12 13 -1 -1  8 ...\n",
    "FAILED tests/data/test_old.py::TestDataManager::test_get_train_data[sample_covariates1-perturbation_covariate_reps0-perturbation_covariates1-split_covariates1-X] - AssertionError: perturbation_covariates_mask [13 60 58 46 35 -1 44 69 75 75 -1 72  6 49 19 11 -1  3 ...\n",
    "FAILED tests/data/test_old.py::TestDataManager::test_get_train_data[sample_covariates1-perturbation_covariate_reps0-perturbation_covariates1-split_covariates1-X_pca] - AssertionError: perturbation_covariates_mask [42 28 51 50 76 20 41 -1 52 57 36 42  0 59 66 71 48 38 ...\n",
    "FAILED tests/data/test_old.py::TestDataManager::test_get_train_data[sample_covariates1-perturbation_covariate_reps0-perturbation_covariates2-split_covariates1-X] - AssertionError: perturbation_covariates_mask [-1 49 13 12 -1 12 30 -1 42  9 28 29 48 17 47 21 17 15 ...\n",
    "FAILED tests/data/test_old.py::TestDataManager::test_get_train_data[sample_covariates1-perturbation_covariate_reps0-perturbation_covariates2-split_covariates1-X_pca] - AssertionError: perturbation_covariates_mask [43 32 17 13 13 29  4  6 47 22 20 19 50 37 14 24 -1 12 ...\n",
    "FAILED tests/data/test_old.py::TestDataManager::test_get_train_data[sample_covariates1-perturbation_covariate_reps1-perturbation_covariates0-split_covariates1-X] - AssertionError: perturbation_covariates_mask [ 7 24 21 25  7 26 21 18 26 -1 18  0 22  8 17 26  7 20 ...\n",
    "FAILED tests/data/test_old.py::TestDataManager::test_get_train_data[sample_covariates1-perturbation_covariate_reps1-perturbation_covariates0-split_covariates1-X_pca] - AssertionError: perturbation_covariates_mask [ 3  0 12 20 10 26 16  0 -1 16  4 10  5 -1 21  5 22 14 ...\n",
    "FAILED tests/data/test_old.py::TestDataManager::test_get_train_data[sample_covariates1-perturbation_covariate_reps1-perturbation_covariates1-split_covariates1-X] - AssertionError: perturbation_covariates_mask [32 72 68 25 35 40 37 -1 -1 68  0 24 39 59 30 20 52 59 ...\n",
    "FAILED tests/data/test_old.py::TestDataManager::test_get_train_data[sample_covariates1-perturbation_covariate_reps1-perturbation_covariates1-split_covariates1-X_pca] - AssertionError: perturbation_covariates_mask [50 54 20 26 -1 54 72 44 -1 -1 30 49 48 71 72 59 -1 40 ...\n",
    "FAILED tests/data/test_old.py::TestDataManager::test_get_train_data[sample_covariates1-perturbation_covariate_reps1-perturbation_covariates2-split_covariates1-X] - AssertionError: perturbation_covariates_mask [33 37 33 -1 12 43  8 12 27 11 19 37  9 21 53 30 51 10 ...\n",
    "FAILED tests/data/test_old.py::TestDataManager::test_get_train_data[sample_covariates1-perturbation_covariate_reps1-perturbation_covariates2-split_covariates1-X_pca] - AssertionError: perturbation_covariates_mask [47 43 13 30 28  9 15 51 32 50 21  0 -1 35 48  9 28 13 ...\n",
    "FAILED tests/data/test_old.py::TestDataManager::test_get_train_data_with_combinations[perturbation_covariate_reps1-perturbation_covariates2-split_covariates0] - AssertionError: condition_data[drug]\n",
    "FAILED tests/data/test_old.py::TestDataManager::test_get_train_data_with_combinations[perturbation_covariate_reps1-perturbation_covariates2-split_covariates1] - AssertionError: condition_data[drug]\n",
    "FAILED tests/data/test_old.py::TestValidationData::test_get_validation_data[perturbation_covariate_reps1-perturbation_covariates2-split_covariates0-X] - AssertionError: condition_data[drug]\n",
    "FAILED tests/data/test_old.py::TestValidationData::test_get_validation_data[perturbation_covariate_reps1-perturbation_covariates2-split_covariates0-X_pca] - AssertionError: condition_data[drug]\n",
    "FAILED tests/data/test_old.py::TestValidationData::test_get_validation_data[perturbation_covariate_reps1-perturbation_covariates2-split_covariates1-X] - AssertionError: condition_data[drug]\n",
    "FAILED tests/data/test_old.py::TestValidationData::test_get_validation_data[perturbation_covariate_reps1-perturbation_covariates2-split_covariates1-X_pca] - AssertionError: condition_data[drug]\n",
    "\"\"\""
   ]
  },
  {
   "cell_type": "code",
   "execution_count": 9,
   "metadata": {},
   "outputs": [
    {
     "data": {
      "text/plain": [
       "{'FAILED tests/data/test_old.py::TestDataManager::test_get_train_data[sample_covariates1-perturbation_covariate_reps0-perturbation_covariates0-split_covariates1-X] - ',\n",
       " 'FAILED tests/data/test_old.py::TestDataManager::test_get_train_data[sample_covariates1-perturbation_covariate_reps0-perturbation_covariates0-split_covariates1-X_pca] - ',\n",
       " 'FAILED tests/data/test_old.py::TestDataManager::test_get_train_data[sample_covariates1-perturbation_covariate_reps0-perturbation_covariates1-split_covariates1-X] - ',\n",
       " 'FAILED tests/data/test_old.py::TestDataManager::test_get_train_data[sample_covariates1-perturbation_covariate_reps0-perturbation_covariates1-split_covariates1-X_pca] - ',\n",
       " 'FAILED tests/data/test_old.py::TestDataManager::test_get_train_data[sample_covariates1-perturbation_covariate_reps0-perturbation_covariates2-split_covariates1-X] - ',\n",
       " 'FAILED tests/data/test_old.py::TestDataManager::test_get_train_data[sample_covariates1-perturbation_covariate_reps0-perturbation_covariates2-split_covariates1-X_pca] - ',\n",
       " 'FAILED tests/data/test_old.py::TestDataManager::test_get_train_data[sample_covariates1-perturbation_covariate_reps1-perturbation_covariates0-split_covariates1-X] - ',\n",
       " 'FAILED tests/data/test_old.py::TestDataManager::test_get_train_data[sample_covariates1-perturbation_covariate_reps1-perturbation_covariates0-split_covariates1-X_pca] - ',\n",
       " 'FAILED tests/data/test_old.py::TestDataManager::test_get_train_data[sample_covariates1-perturbation_covariate_reps1-perturbation_covariates1-split_covariates1-X] - ',\n",
       " 'FAILED tests/data/test_old.py::TestDataManager::test_get_train_data[sample_covariates1-perturbation_covariate_reps1-perturbation_covariates1-split_covariates1-X_pca] - ',\n",
       " 'FAILED tests/data/test_old.py::TestDataManager::test_get_train_data[sample_covariates1-perturbation_covariate_reps1-perturbation_covariates2-split_covariates1-X] - ',\n",
       " 'FAILED tests/data/test_old.py::TestDataManager::test_get_train_data[sample_covariates1-perturbation_covariate_reps1-perturbation_covariates2-split_covariates1-X_pca] - ',\n",
       " 'FAILED tests/data/test_old.py::TestDataManager::test_get_train_data_with_combinations[perturbation_covariate_reps1-perturbation_covariates2-split_covariates0] - ',\n",
       " 'FAILED tests/data/test_old.py::TestDataManager::test_get_train_data_with_combinations[perturbation_covariate_reps1-perturbation_covariates2-split_covariates1] - ',\n",
       " 'FAILED tests/data/test_old.py::TestValidationData::test_get_validation_data[perturbation_covariate_reps1-perturbation_covariates2-split_covariates0-X] - ',\n",
       " 'FAILED tests/data/test_old.py::TestValidationData::test_get_validation_data[perturbation_covariate_reps1-perturbation_covariates2-split_covariates0-X_pca] - ',\n",
       " 'FAILED tests/data/test_old.py::TestValidationData::test_get_validation_data[perturbation_covariate_reps1-perturbation_covariates2-split_covariates1-X] - ',\n",
       " 'FAILED tests/data/test_old.py::TestValidationData::test_get_validation_data[perturbation_covariate_reps1-perturbation_covariates2-split_covariates1-X_pca] - '}"
      ]
     },
     "execution_count": 9,
     "metadata": {},
     "output_type": "execute_result"
    }
   ],
   "source": [
    "a1 = a.split(\"\\n\")\n",
    "b1 = b.split(\"\\n\")\n",
    "a1 = [a1.split(\"AssertionError: \")[0] for a1 in a1 if a1 != \"\"]\n",
    "b1 = [b1.split(\"AssertionError: \")[0] for b1 in b1 if b1 != \"\"]\n",
    "a1 = set(a1); a1\n",
    "b1 = set(b1); b1\n"
   ]
  },
  {
   "cell_type": "code",
   "execution_count": 11,
   "metadata": {},
   "outputs": [
    {
     "data": {
      "text/plain": [
       "{'FAILED tests/data/test_old.py::TestDataManager::test_get_train_data[sample_covariates1-perturbation_covariate_reps0-perturbation_covariates0-split_covariates1-X] - ',\n",
       " 'FAILED tests/data/test_old.py::TestDataManager::test_get_train_data[sample_covariates1-perturbation_covariate_reps0-perturbation_covariates0-split_covariates1-X_pca] - ',\n",
       " 'FAILED tests/data/test_old.py::TestDataManager::test_get_train_data[sample_covariates1-perturbation_covariate_reps0-perturbation_covariates1-split_covariates1-X] - ',\n",
       " 'FAILED tests/data/test_old.py::TestDataManager::test_get_train_data[sample_covariates1-perturbation_covariate_reps0-perturbation_covariates1-split_covariates1-X_pca] - ',\n",
       " 'FAILED tests/data/test_old.py::TestDataManager::test_get_train_data[sample_covariates1-perturbation_covariate_reps0-perturbation_covariates2-split_covariates1-X] - ',\n",
       " 'FAILED tests/data/test_old.py::TestDataManager::test_get_train_data[sample_covariates1-perturbation_covariate_reps0-perturbation_covariates2-split_covariates1-X_pca] - ',\n",
       " 'FAILED tests/data/test_old.py::TestDataManager::test_get_train_data[sample_covariates1-perturbation_covariate_reps1-perturbation_covariates0-split_covariates1-X] - ',\n",
       " 'FAILED tests/data/test_old.py::TestDataManager::test_get_train_data[sample_covariates1-perturbation_covariate_reps1-perturbation_covariates0-split_covariates1-X_pca] - ',\n",
       " 'FAILED tests/data/test_old.py::TestDataManager::test_get_train_data[sample_covariates1-perturbation_covariate_reps1-perturbation_covariates1-split_covariates1-X] - ',\n",
       " 'FAILED tests/data/test_old.py::TestDataManager::test_get_train_data[sample_covariates1-perturbation_covariate_reps1-perturbation_covariates1-split_covariates1-X_pca] - ',\n",
       " 'FAILED tests/data/test_old.py::TestDataManager::test_get_train_data[sample_covariates1-perturbation_covariate_reps1-perturbation_covariates2-split_covariates1-X] - ',\n",
       " 'FAILED tests/data/test_old.py::TestDataManager::test_get_train_data[sample_covariates1-perturbation_covariate_reps1-perturbation_covariates2-split_covariates1-X_pca] - ',\n",
       " 'FAILED tests/data/test_old.py::TestDataManager::test_get_train_data_with_combinations[perturbation_covariate_reps1-perturbation_covariates2-split_covariates0] - ',\n",
       " 'FAILED tests/data/test_old.py::TestDataManager::test_get_train_data_with_combinations[perturbation_covariate_reps1-perturbation_covariates2-split_covariates1] - ',\n",
       " 'FAILED tests/data/test_old.py::TestValidationData::test_get_validation_data[perturbation_covariate_reps1-perturbation_covariates2-split_covariates0-X] - ',\n",
       " 'FAILED tests/data/test_old.py::TestValidationData::test_get_validation_data[perturbation_covariate_reps1-perturbation_covariates2-split_covariates0-X_pca] - ',\n",
       " 'FAILED tests/data/test_old.py::TestValidationData::test_get_validation_data[perturbation_covariate_reps1-perturbation_covariates2-split_covariates1-X] - ',\n",
       " 'FAILED tests/data/test_old.py::TestValidationData::test_get_validation_data[perturbation_covariate_reps1-perturbation_covariates2-split_covariates1-X_pca] - '}"
      ]
     },
     "execution_count": 11,
     "metadata": {},
     "output_type": "execute_result"
    }
   ],
   "source": [
    "a1.intersection(b1)"
   ]
  },
  {
   "cell_type": "code",
   "execution_count": 17,
   "metadata": {},
   "outputs": [
    {
     "data": {
      "text/plain": [
       "(27,\n",
       " {'FAILED tests/data/test_old.py::TestDataManager::test_get_train_data[sample_covariates1-perturbation_covariate_reps0-perturbation_covariates0-split_covariates0-X] - ',\n",
       "  'FAILED tests/data/test_old.py::TestDataManager::test_get_train_data[sample_covariates1-perturbation_covariate_reps0-perturbation_covariates0-split_covariates0-X_pca] - ',\n",
       "  'FAILED tests/data/test_old.py::TestDataManager::test_get_train_data[sample_covariates1-perturbation_covariate_reps0-perturbation_covariates1-split_covariates0-X] - ',\n",
       "  'FAILED tests/data/test_old.py::TestDataManager::test_get_train_data[sample_covariates1-perturbation_covariate_reps0-perturbation_covariates1-split_covariates0-X_pca] - ',\n",
       "  'FAILED tests/data/test_old.py::TestDataManager::test_get_train_data[sample_covariates1-perturbation_covariate_reps0-perturbation_covariates2-split_covariates0-X] - ',\n",
       "  'FAILED tests/data/test_old.py::TestDataManager::test_get_train_data[sample_covariates1-perturbation_covariate_reps0-perturbation_covariates2-split_covariates0-X_pca] - ',\n",
       "  'FAILED tests/data/test_old.py::TestDataManager::test_get_train_data[sample_covariates1-perturbation_covariate_reps1-perturbation_covariates0-split_covariates0-X] - ',\n",
       "  'FAILED tests/data/test_old.py::TestDataManager::test_get_train_data[sample_covariates1-perturbation_covariate_reps1-perturbation_covariates0-split_covariates0-X_pca] - ',\n",
       "  'FAILED tests/data/test_old.py::TestDataManager::test_get_train_data[sample_covariates1-perturbation_covariate_reps1-perturbation_covariates1-split_covariates0-X] - ',\n",
       "  'FAILED tests/data/test_old.py::TestDataManager::test_get_train_data[sample_covariates1-perturbation_covariate_reps1-perturbation_covariates1-split_covariates0-X_pca] - ',\n",
       "  'FAILED tests/data/test_old.py::TestDataManager::test_get_train_data[sample_covariates1-perturbation_covariate_reps1-perturbation_covariates2-split_covariates0-X] - ',\n",
       "  'FAILED tests/data/test_old.py::TestDataManager::test_get_train_data[sample_covariates1-perturbation_covariate_reps1-perturbation_covariates2-split_covariates0-X_pca] - ',\n",
       "  'FAILED tests/data/test_old.py::TestDataManager::test_get_train_data_with_combinations[perturbation_covariate_reps0-perturbation_covariates0-split_covariates0] - ',\n",
       "  'FAILED tests/data/test_old.py::TestDataManager::test_get_train_data_with_combinations[perturbation_covariate_reps0-perturbation_covariates1-split_covariates0] - ',\n",
       "  'FAILED tests/data/test_old.py::TestDataManager::test_get_train_data_with_combinations[perturbation_covariate_reps0-perturbation_covariates2-split_covariates0] - ',\n",
       "  'FAILED tests/data/test_old.py::TestDataManager::test_get_train_data_with_combinations[perturbation_covariate_reps1-perturbation_covariates0-split_covariates0] - ',\n",
       "  'FAILED tests/data/test_old.py::TestDataManager::test_get_train_data_with_combinations[perturbation_covariate_reps1-perturbation_covariates1-split_covariates0] - ',\n",
       "  'FAILED tests/data/test_old.py::TestValidationData::test_get_validation_data[perturbation_covariate_reps0-perturbation_covariates0-split_covariates0-X] - ',\n",
       "  'FAILED tests/data/test_old.py::TestValidationData::test_get_validation_data[perturbation_covariate_reps0-perturbation_covariates0-split_covariates0-X_pca] - ',\n",
       "  'FAILED tests/data/test_old.py::TestValidationData::test_get_validation_data[perturbation_covariate_reps0-perturbation_covariates1-split_covariates0-X] - ',\n",
       "  'FAILED tests/data/test_old.py::TestValidationData::test_get_validation_data[perturbation_covariate_reps0-perturbation_covariates1-split_covariates0-X_pca] - ',\n",
       "  'FAILED tests/data/test_old.py::TestValidationData::test_get_validation_data[perturbation_covariate_reps0-perturbation_covariates2-split_covariates0-X] - ',\n",
       "  'FAILED tests/data/test_old.py::TestValidationData::test_get_validation_data[perturbation_covariate_reps0-perturbation_covariates2-split_covariates0-X_pca] - ',\n",
       "  'FAILED tests/data/test_old.py::TestValidationData::test_get_validation_data[perturbation_covariate_reps1-perturbation_covariates0-split_covariates0-X] - ',\n",
       "  'FAILED tests/data/test_old.py::TestValidationData::test_get_validation_data[perturbation_covariate_reps1-perturbation_covariates0-split_covariates0-X_pca] - ',\n",
       "  'FAILED tests/data/test_old.py::TestValidationData::test_get_validation_data[perturbation_covariate_reps1-perturbation_covariates1-split_covariates0-X] - ',\n",
       "  'FAILED tests/data/test_old.py::TestValidationData::test_get_validation_data[perturbation_covariate_reps1-perturbation_covariates1-split_covariates0-X_pca] - '})"
      ]
     },
     "execution_count": 17,
     "metadata": {},
     "output_type": "execute_result"
    }
   ],
   "source": [
    "len(a1 - b1), a1 - b1"
   ]
  },
  {
   "cell_type": "code",
   "execution_count": 18,
   "metadata": {},
   "outputs": [
    {
     "data": {
      "text/plain": [
       "{'FAILED tests/data/test_old.py::TestDataManager::test_get_train_data[sample_covariates1-perturbation_covariate_reps0-perturbation_covariates0-split_covariates0-X] - ',\n",
       " 'FAILED tests/data/test_old.py::TestDataManager::test_get_train_data[sample_covariates1-perturbation_covariate_reps0-perturbation_covariates0-split_covariates0-X_pca] - ',\n",
       " 'FAILED tests/data/test_old.py::TestDataManager::test_get_train_data[sample_covariates1-perturbation_covariate_reps0-perturbation_covariates0-split_covariates1-X] - ',\n",
       " 'FAILED tests/data/test_old.py::TestDataManager::test_get_train_data[sample_covariates1-perturbation_covariate_reps0-perturbation_covariates0-split_covariates1-X_pca] - ',\n",
       " 'FAILED tests/data/test_old.py::TestDataManager::test_get_train_data[sample_covariates1-perturbation_covariate_reps0-perturbation_covariates1-split_covariates0-X] - ',\n",
       " 'FAILED tests/data/test_old.py::TestDataManager::test_get_train_data[sample_covariates1-perturbation_covariate_reps0-perturbation_covariates1-split_covariates0-X_pca] - ',\n",
       " 'FAILED tests/data/test_old.py::TestDataManager::test_get_train_data[sample_covariates1-perturbation_covariate_reps0-perturbation_covariates1-split_covariates1-X] - ',\n",
       " 'FAILED tests/data/test_old.py::TestDataManager::test_get_train_data[sample_covariates1-perturbation_covariate_reps0-perturbation_covariates1-split_covariates1-X_pca] - ',\n",
       " 'FAILED tests/data/test_old.py::TestDataManager::test_get_train_data[sample_covariates1-perturbation_covariate_reps0-perturbation_covariates2-split_covariates0-X] - ',\n",
       " 'FAILED tests/data/test_old.py::TestDataManager::test_get_train_data[sample_covariates1-perturbation_covariate_reps0-perturbation_covariates2-split_covariates0-X_pca] - ',\n",
       " 'FAILED tests/data/test_old.py::TestDataManager::test_get_train_data[sample_covariates1-perturbation_covariate_reps0-perturbation_covariates2-split_covariates1-X] - ',\n",
       " 'FAILED tests/data/test_old.py::TestDataManager::test_get_train_data[sample_covariates1-perturbation_covariate_reps0-perturbation_covariates2-split_covariates1-X_pca] - ',\n",
       " 'FAILED tests/data/test_old.py::TestDataManager::test_get_train_data[sample_covariates1-perturbation_covariate_reps1-perturbation_covariates0-split_covariates0-X] - ',\n",
       " 'FAILED tests/data/test_old.py::TestDataManager::test_get_train_data[sample_covariates1-perturbation_covariate_reps1-perturbation_covariates0-split_covariates0-X_pca] - ',\n",
       " 'FAILED tests/data/test_old.py::TestDataManager::test_get_train_data[sample_covariates1-perturbation_covariate_reps1-perturbation_covariates0-split_covariates1-X] - ',\n",
       " 'FAILED tests/data/test_old.py::TestDataManager::test_get_train_data[sample_covariates1-perturbation_covariate_reps1-perturbation_covariates0-split_covariates1-X_pca] - ',\n",
       " 'FAILED tests/data/test_old.py::TestDataManager::test_get_train_data[sample_covariates1-perturbation_covariate_reps1-perturbation_covariates1-split_covariates0-X] - ',\n",
       " 'FAILED tests/data/test_old.py::TestDataManager::test_get_train_data[sample_covariates1-perturbation_covariate_reps1-perturbation_covariates1-split_covariates0-X_pca] - ',\n",
       " 'FAILED tests/data/test_old.py::TestDataManager::test_get_train_data[sample_covariates1-perturbation_covariate_reps1-perturbation_covariates1-split_covariates1-X] - ',\n",
       " 'FAILED tests/data/test_old.py::TestDataManager::test_get_train_data[sample_covariates1-perturbation_covariate_reps1-perturbation_covariates1-split_covariates1-X_pca] - ',\n",
       " 'FAILED tests/data/test_old.py::TestDataManager::test_get_train_data[sample_covariates1-perturbation_covariate_reps1-perturbation_covariates2-split_covariates0-X] - ',\n",
       " 'FAILED tests/data/test_old.py::TestDataManager::test_get_train_data[sample_covariates1-perturbation_covariate_reps1-perturbation_covariates2-split_covariates0-X_pca] - ',\n",
       " 'FAILED tests/data/test_old.py::TestDataManager::test_get_train_data[sample_covariates1-perturbation_covariate_reps1-perturbation_covariates2-split_covariates1-X] - ',\n",
       " 'FAILED tests/data/test_old.py::TestDataManager::test_get_train_data[sample_covariates1-perturbation_covariate_reps1-perturbation_covariates2-split_covariates1-X_pca] - ',\n",
       " 'FAILED tests/data/test_old.py::TestDataManager::test_get_train_data_with_combinations[perturbation_covariate_reps0-perturbation_covariates0-split_covariates0] - ',\n",
       " 'FAILED tests/data/test_old.py::TestDataManager::test_get_train_data_with_combinations[perturbation_covariate_reps0-perturbation_covariates1-split_covariates0] - ',\n",
       " 'FAILED tests/data/test_old.py::TestDataManager::test_get_train_data_with_combinations[perturbation_covariate_reps0-perturbation_covariates2-split_covariates0] - ',\n",
       " 'FAILED tests/data/test_old.py::TestDataManager::test_get_train_data_with_combinations[perturbation_covariate_reps1-perturbation_covariates0-split_covariates0] - ',\n",
       " 'FAILED tests/data/test_old.py::TestDataManager::test_get_train_data_with_combinations[perturbation_covariate_reps1-perturbation_covariates1-split_covariates0] - ',\n",
       " 'FAILED tests/data/test_old.py::TestDataManager::test_get_train_data_with_combinations[perturbation_covariate_reps1-perturbation_covariates2-split_covariates0] - ',\n",
       " 'FAILED tests/data/test_old.py::TestDataManager::test_get_train_data_with_combinations[perturbation_covariate_reps1-perturbation_covariates2-split_covariates1] - ',\n",
       " 'FAILED tests/data/test_old.py::TestValidationData::test_get_validation_data[perturbation_covariate_reps0-perturbation_covariates0-split_covariates0-X] - ',\n",
       " 'FAILED tests/data/test_old.py::TestValidationData::test_get_validation_data[perturbation_covariate_reps0-perturbation_covariates0-split_covariates0-X_pca] - ',\n",
       " 'FAILED tests/data/test_old.py::TestValidationData::test_get_validation_data[perturbation_covariate_reps0-perturbation_covariates1-split_covariates0-X] - ',\n",
       " 'FAILED tests/data/test_old.py::TestValidationData::test_get_validation_data[perturbation_covariate_reps0-perturbation_covariates1-split_covariates0-X_pca] - ',\n",
       " 'FAILED tests/data/test_old.py::TestValidationData::test_get_validation_data[perturbation_covariate_reps0-perturbation_covariates2-split_covariates0-X] - ',\n",
       " 'FAILED tests/data/test_old.py::TestValidationData::test_get_validation_data[perturbation_covariate_reps0-perturbation_covariates2-split_covariates0-X_pca] - ',\n",
       " 'FAILED tests/data/test_old.py::TestValidationData::test_get_validation_data[perturbation_covariate_reps1-perturbation_covariates0-split_covariates0-X] - ',\n",
       " 'FAILED tests/data/test_old.py::TestValidationData::test_get_validation_data[perturbation_covariate_reps1-perturbation_covariates0-split_covariates0-X_pca] - ',\n",
       " 'FAILED tests/data/test_old.py::TestValidationData::test_get_validation_data[perturbation_covariate_reps1-perturbation_covariates1-split_covariates0-X] - ',\n",
       " 'FAILED tests/data/test_old.py::TestValidationData::test_get_validation_data[perturbation_covariate_reps1-perturbation_covariates1-split_covariates0-X_pca] - ',\n",
       " 'FAILED tests/data/test_old.py::TestValidationData::test_get_validation_data[perturbation_covariate_reps1-perturbation_covariates2-split_covariates0-X] - ',\n",
       " 'FAILED tests/data/test_old.py::TestValidationData::test_get_validation_data[perturbation_covariate_reps1-perturbation_covariates2-split_covariates0-X_pca] - ',\n",
       " 'FAILED tests/data/test_old.py::TestValidationData::test_get_validation_data[perturbation_covariate_reps1-perturbation_covariates2-split_covariates1-X] - ',\n",
       " 'FAILED tests/data/test_old.py::TestValidationData::test_get_validation_data[perturbation_covariate_reps1-perturbation_covariates2-split_covariates1-X_pca] - '}"
      ]
     },
     "execution_count": 18,
     "metadata": {},
     "output_type": "execute_result"
    }
   ],
   "source": [
    "a1"
   ]
  },
  {
   "cell_type": "code",
   "execution_count": 7,
   "metadata": {},
   "outputs": [
    {
     "data": {
      "text/plain": [
       "{'FAILED tests/data/test_old.py::TestDataManager::test_get_train_data_with_combinations[perturbation_covariate_reps1-perturbation_covariates2-split_covariates1] - AssertionError: condition_data[drug]',\n",
       " 'FAILED tests/data/test_old.py::TestValidationData::test_get_validation_data[perturbation_covariate_reps1-perturbation_covariates2-split_covariates1-X] - AssertionError: condition_data[drug]',\n",
       " 'FAILED tests/data/test_old.py::TestValidationData::test_get_validation_data[perturbation_covariate_reps1-perturbation_covariates2-split_covariates1-X_pca] - AssertionError: condition_data[drug]'}"
      ]
     },
     "execution_count": 7,
     "metadata": {},
     "output_type": "execute_result"
    }
   ],
   "source": [
    "a1.intersection(b1)"
   ]
  },
  {
   "cell_type": "code",
   "execution_count": 21,
   "metadata": {},
   "outputs": [
    {
     "data": {
      "text/plain": [
       "{'FAILED tests/data/test_old.py::TestDataManager::test_get_train_data[sample_covariates1-perturbation_covariate_reps0-perturbation_covariates0-split_covariates1-X] - ',\n",
       " 'FAILED tests/data/test_old.py::TestDataManager::test_get_train_data[sample_covariates1-perturbation_covariate_reps0-perturbation_covariates0-split_covariates1-X_pca] - ',\n",
       " 'FAILED tests/data/test_old.py::TestDataManager::test_get_train_data[sample_covariates1-perturbation_covariate_reps0-perturbation_covariates1-split_covariates1-X] - ',\n",
       " 'FAILED tests/data/test_old.py::TestDataManager::test_get_train_data[sample_covariates1-perturbation_covariate_reps0-perturbation_covariates1-split_covariates1-X_pca] - ',\n",
       " 'FAILED tests/data/test_old.py::TestDataManager::test_get_train_data[sample_covariates1-perturbation_covariate_reps0-perturbation_covariates2-split_covariates1-X] - ',\n",
       " 'FAILED tests/data/test_old.py::TestDataManager::test_get_train_data[sample_covariates1-perturbation_covariate_reps0-perturbation_covariates2-split_covariates1-X_pca] - ',\n",
       " 'FAILED tests/data/test_old.py::TestDataManager::test_get_train_data[sample_covariates1-perturbation_covariate_reps1-perturbation_covariates0-split_covariates1-X] - ',\n",
       " 'FAILED tests/data/test_old.py::TestDataManager::test_get_train_data[sample_covariates1-perturbation_covariate_reps1-perturbation_covariates0-split_covariates1-X_pca] - ',\n",
       " 'FAILED tests/data/test_old.py::TestDataManager::test_get_train_data[sample_covariates1-perturbation_covariate_reps1-perturbation_covariates1-split_covariates1-X] - ',\n",
       " 'FAILED tests/data/test_old.py::TestDataManager::test_get_train_data[sample_covariates1-perturbation_covariate_reps1-perturbation_covariates1-split_covariates1-X_pca] - ',\n",
       " 'FAILED tests/data/test_old.py::TestDataManager::test_get_train_data[sample_covariates1-perturbation_covariate_reps1-perturbation_covariates2-split_covariates1-X] - ',\n",
       " 'FAILED tests/data/test_old.py::TestDataManager::test_get_train_data[sample_covariates1-perturbation_covariate_reps1-perturbation_covariates2-split_covariates1-X_pca] - ',\n",
       " 'FAILED tests/data/test_old.py::TestDataManager::test_get_train_data_with_combinations[perturbation_covariate_reps1-perturbation_covariates2-split_covariates0] - ',\n",
       " 'FAILED tests/data/test_old.py::TestDataManager::test_get_train_data_with_combinations[perturbation_covariate_reps1-perturbation_covariates2-split_covariates1] - ',\n",
       " 'FAILED tests/data/test_old.py::TestValidationData::test_get_validation_data[perturbation_covariate_reps1-perturbation_covariates2-split_covariates0-X] - ',\n",
       " 'FAILED tests/data/test_old.py::TestValidationData::test_get_validation_data[perturbation_covariate_reps1-perturbation_covariates2-split_covariates0-X_pca] - ',\n",
       " 'FAILED tests/data/test_old.py::TestValidationData::test_get_validation_data[perturbation_covariate_reps1-perturbation_covariates2-split_covariates1-X] - ',\n",
       " 'FAILED tests/data/test_old.py::TestValidationData::test_get_validation_data[perturbation_covariate_reps1-perturbation_covariates2-split_covariates1-X_pca] - '}"
      ]
     },
     "execution_count": 21,
     "metadata": {},
     "output_type": "execute_result"
    }
   ],
   "source": [
    "b1"
   ]
  },
  {
   "cell_type": "code",
   "execution_count": null,
   "metadata": {},
   "outputs": [],
   "source": []
  }
 ],
 "metadata": {
  "kernelspec": {
   "display_name": "cellflow",
   "language": "python",
   "name": "python3"
  },
  "language_info": {
   "codemirror_mode": {
    "name": "ipython",
    "version": 3
   },
   "file_extension": ".py",
   "mimetype": "text/x-python",
   "name": "python",
   "nbconvert_exporter": "python",
   "pygments_lexer": "ipython3",
   "version": "3.11.12"
  }
 },
 "nbformat": 4,
 "nbformat_minor": 2
}
